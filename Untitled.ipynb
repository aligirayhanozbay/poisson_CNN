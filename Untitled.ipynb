{
 "cells": [
  {
   "cell_type": "code",
   "execution_count": 1,
   "metadata": {},
   "outputs": [],
   "source": [
    "import tensorflow as tf\n",
    "from Homogeneous_Poisson_NN import Homogeneous_Poisson_NN_2D#,Homogeneous_Poisson_NN\n",
    "#from generate_cholesky_soln import generate_dataset\n",
    "from generate_analytical_soln import generate_analytical_solution_homogeneous_bc\n",
    "import numpy as np\n",
    "import matplotlib.pyplot as plt\n",
    "tf.keras.backend.set_floatx('float64')"
   ]
  },
  {
   "cell_type": "code",
   "execution_count": null,
   "metadata": {},
   "outputs": [],
   "source": [
    "from generate_compressible_soln import generate_dataset\n",
    "Lx = 3.2\n",
    "Ly = 3.2\n",
    "nx = 24\n",
    "ny = 24\n",
    "dx = Lx/nx\n",
    "bndrs = {'top':np.zeros(nx),'bottom':np.zeros(nx),'left':np.zeros(ny),'right':np.zeros(ny)}\n",
    "soln, inp = generate_dataset(15, (nx,ny), bndrs, dx)"
   ]
  },
  {
   "cell_type": "code",
   "execution_count": 20,
   "metadata": {},
   "outputs": [],
   "source": [
    "'''\n",
    "u = exp(-(x-1)^2-(y-1)^2)\n",
    "rho = [sin(pi*x) + 3/2][sin(pi*y) + 3/2]\n",
    "'''\n",
    "from generate_compressible_soln import compressible_poisson_solve, poisson_matrix\n",
    "xmin, xmax = 0,2\n",
    "ymin, ymax = 0,2\n",
    "errors = []\n",
    "analytical_solns = []\n",
    "numerical_solns = []\n",
    "coords = []\n",
    "poisson_matrices = []\n",
    "rhos = []\n",
    "rhses = []\n",
    "for gridsize in np.arange(20,100,10):\n",
    "    nx = gridsize\n",
    "    ny = gridsize\n",
    "    dx = (xmax-xmin)/(nx-1)\n",
    "    X,Y = np.meshgrid(np.linspace(xmin,xmax,nx), np.linspace(ymin,ymax,ny), indexing = 'ij')\n",
    "    coords.append([X,Y])\n",
    "    analytical_soln = np.exp(-(X-1)**2-(Y-1)**2)\n",
    "    analytical_solns.append(analytical_soln)\n",
    "    rho = (np.sin(X*np.pi) + 1.5)*(np.sin(Y*np.pi) + 1.5)*(4/25)\n",
    "    rhos.append(rho)\n",
    "    rhs = (4*analytical_soln/rho)*((X-1)**2 + (Y-1)**2 - 1 + np.pi*(X-1)*np.cos(np.pi*X)/(2*(np.sin(np.pi*X)+3/2)) + np.pi*(Y-1)*np.cos(np.pi*Y)/(2*(np.sin(np.pi*Y)+3/2)))\n",
    "    rhses.append(rhs)\n",
    "    pm = poisson_matrix(tf.stack([rho]), dx)\n",
    "    poisson_matrices.append(pm)\n",
    "    boundaries = {'top': analytical_soln[:,0],'bottom': analytical_soln[:,-1],'right': analytical_soln[-1,:], 'left': analytical_soln[0,:]}\n",
    "    numerical_soln = compressible_poisson_solve(tf.stack([rho]), tf.stack([rhs]), boundaries, dx)\n",
    "    numerical_solns.append(numerical_soln)\n",
    "    errors.append(tf.reduce_mean((numerical_soln-analytical_soln)**2))"
   ]
  },
  {
   "cell_type": "code",
   "execution_count": 10,
   "metadata": {},
   "outputs": [],
   "source": [
    "'''\n",
    "u = sin(pi*x)sin(pi*y)\n",
    "rho = [cos(pi*x) + 3/2][cos(pi*y) + 3/2]\n",
    "'''\n",
    "from generate_compressible_soln import compressible_poisson_solve, poisson_matrix, poisson_RHS\n",
    "xmin, xmax = 0,2\n",
    "ymin, ymax = 0,2\n",
    "errors = []\n",
    "analytical_solns = []\n",
    "numerical_solns = []\n",
    "coords = []\n",
    "poisson_matrices = []\n",
    "rhos = []\n",
    "rhses = []\n",
    "rhs_vectors = []\n",
    "for gridsize in np.arange(4,100,10):\n",
    "    nx = gridsize\n",
    "    ny = gridsize\n",
    "    dx = (xmax-xmin)/(nx-1)\n",
    "    X,Y = np.meshgrid(np.linspace(xmin,xmax,nx), np.linspace(ymin,ymax,ny), indexing = 'ij')\n",
    "    coords.append([X,Y])\n",
    "    analytical_soln = np.sin(np.pi*X) * np.sin(np.pi*Y)\n",
    "    analytical_solns.append(analytical_soln)\n",
    "    rho = (np.cos(X*np.pi) + 1.5)*(np.cos(Y*np.pi) + 1.5)*(4/25)\n",
    "    rhos.append(rho)\n",
    "    rhs = -75*(np.pi**2)*np.sin(np.pi*X)*np.sin(np.pi*Y)*(2*np.cos(np.pi*X)+2*np.cos(np.pi*Y)+6)/((2*np.cos(np.pi*X)+3)**2 * (2*np.cos(np.pi*Y)+3)**2)\n",
    "    rhses.append(rhs)\n",
    "    pm = poisson_matrix(tf.stack([rho]), dx)\n",
    "    poisson_matrices.append(pm)\n",
    "    boundaries = {'top': analytical_soln[:,0],'bottom': analytical_soln[:,-1],'right': analytical_soln[-1,:], 'left': analytical_soln[0,:]}\n",
    "    rhs_vector = poisson_RHS(tf.expand_dims(rhs,axis=0), boundaries=boundaries, rho=rho)\n",
    "    rhs_vectors.append(rhs_vector)\n",
    "    numerical_soln = compressible_poisson_solve(tf.stack([rho]), tf.stack([rhs]), boundaries, dx)\n",
    "    numerical_solns.append(numerical_soln)\n",
    "    errors.append(tf.reduce_mean((numerical_soln-analytical_soln)**2))"
   ]
  },
  {
   "cell_type": "code",
   "execution_count": 19,
   "metadata": {},
   "outputs": [],
   "source": [
    "'''\n",
    "u = sin(pi*x)sin(pi*y)\n",
    "rho = 1\n",
    "'''\n",
    "from generate_compressible_soln import compressible_poisson_solve, poisson_matrix\n",
    "xmin, xmax = 0,2\n",
    "ymin, ymax = 0,2\n",
    "errors = []\n",
    "analytical_solns = []\n",
    "numerical_solns = []\n",
    "coords = []\n",
    "poisson_matrices = []\n",
    "rhos = []\n",
    "rhses = []\n",
    "for gridsize in np.arange(20,100,10):\n",
    "    nx = gridsize\n",
    "    ny = gridsize\n",
    "    dx = (xmax-xmin)/(nx-1)\n",
    "    X,Y = np.meshgrid(np.linspace(xmin,xmax,nx), np.linspace(ymin,ymax,ny), indexing = 'ij')\n",
    "    coords.append([X,Y])\n",
    "    analytical_soln = np.sin(np.pi*X) * np.sin(np.pi*Y)\n",
    "    analytical_solns.append(analytical_soln)\n",
    "    rho = np.ones(X.shape, dtype=tf.keras.backend.floatx())#(np.cos(X*np.pi) + 1.5)*(np.cos(Y*np.pi) + 1.5)*(4/25)\n",
    "    rhos.append(rho)\n",
    "    rhs = -2*(np.pi**2)*np.sin(X*np.pi)*np.sin(Y*np.pi)\n",
    "    rhses.append(rhs)\n",
    "    pm = poisson_matrix(tf.stack([rho]), dx)\n",
    "    poisson_matrices.append(pm)\n",
    "    boundaries = {'top': analytical_soln[:,0],'bottom': analytical_soln[:,-1],'right': analytical_soln[-1,:], 'left': analytical_soln[0,:]}\n",
    "    numerical_soln = compressible_poisson_solve(tf.stack([rho]), tf.stack([rhs]), boundaries, dx)\n",
    "    numerical_solns.append(numerical_soln)"
   ]
  },
  {
   "cell_type": "code",
   "execution_count": 20,
   "metadata": {},
   "outputs": [],
   "source": [
    "'''\n",
    "u = x^2+y^2+xy\n",
    "rho = 1+tanh(x+y)\n",
    "'''\n",
    "from generate_compressible_soln import compressible_poisson_solve, poisson_matrix\n",
    "xmin, xmax = 0,2\n",
    "ymin, ymax = 0,2\n",
    "errors = []\n",
    "analytical_solns = []\n",
    "numerical_solns = []\n",
    "coords = []\n",
    "poisson_matrices = []\n",
    "rhos = []\n",
    "rhses = []\n",
    "rhs_vectors = []\n",
    "for gridsize in np.arange(20,100,10):\n",
    "    nx = gridsize\n",
    "    ny = gridsize\n",
    "    dx = (xmax-xmin)/(nx-1)\n",
    "    X,Y = np.meshgrid(np.linspace(xmin,xmax,nx), np.linspace(ymin,ymax,ny), indexing = 'ij')\n",
    "    coords.append([X,Y])\n",
    "    analytical_soln = X**2/4 + Y**2/4 + X*Y\n",
    "    analytical_solns.append(analytical_soln)\n",
    "    rho = 1+np.tanh(X+Y)\n",
    "    rhos.append(rho)\n",
    "    rhs = (2*np.tanh(X+Y) - 3*(X+Y)/((np.cosh(X+Y))**2) + 2)/(2*(np.tanh(X+Y)+1)**2)\n",
    "    rhses.append(rhs)\n",
    "    pm = poisson_matrix(tf.stack([rho]), dx)\n",
    "    poisson_matrices.append(pm)\n",
    "    boundaries = {'top': analytical_soln[:,0],'bottom': analytical_soln[:,-1],'right': analytical_soln[-1,:], 'left': analytical_soln[0,:]}\n",
    "    rhs_vector = poisson_RHS(tf.expand_dims(rhs,axis=0), boundaries=boundaries, rho=rho)\n",
    "    rhs_vectors.append(rhs_vector)\n",
    "    numerical_soln = compressible_poisson_solve(tf.stack([rho]), tf.stack([rhs]), boundaries, dx)\n",
    "    numerical_solns.append(numerical_soln)\n",
    "    errors.append(tf.reduce_mean((numerical_soln-analytical_soln)**2))"
   ]
  },
  {
   "cell_type": "code",
   "execution_count": 9,
   "metadata": {},
   "outputs": [],
   "source": [
    "'''\n",
    "u = sin(pi*x)sin(pi*y)\n",
    "rho = 1\n",
    "'''\n",
    "from generate_compressible_soln import compressible_poisson_solve, poisson_matrix\n",
    "xmin, xmax = 0,2\n",
    "ymin, ymax = 0,2\n",
    "errors = []\n",
    "analytical_solns = []\n",
    "numerical_solns = []\n",
    "coords = []\n",
    "poisson_matrices = []\n",
    "rhos = []\n",
    "rhses = []\n",
    "dxes = []\n",
    "for gridsize in np.arange(20,150,10):\n",
    "    nx = gridsize\n",
    "    ny = gridsize\n",
    "    dx = (xmax-xmin)/(nx-1)\n",
    "    dxes.append(dx)\n",
    "    X,Y = np.meshgrid(np.linspace(xmin,xmax,nx), np.linspace(ymin,ymax,ny), indexing = 'ij')\n",
    "    coords.append([X,Y])\n",
    "    analytical_soln = np.sin(np.pi*X) * np.sin(np.pi*Y)\n",
    "    analytical_solns.append(analytical_soln)\n",
    "    rho = np.ones(X.shape, dtype=tf.keras.backend.floatx())#(np.cos(X*np.pi) + 1.5)*(np.cos(Y*np.pi) + 1.5)*(4/25)\n",
    "    rhos.append(rho)\n",
    "    rhs = -2*(np.pi**2)*np.sin(X*np.pi)*np.sin(Y*np.pi)\n",
    "    rhses.append(rhs)\n",
    "    pm = poisson_matrix(tf.stack([rho]), dx)\n",
    "    poisson_matrices.append(pm)\n",
    "    boundaries = {'top': analytical_soln[:,0],'bottom': analytical_soln[:,-1],'right': analytical_soln[-1,:], 'left': analytical_soln[0,:]}\n",
    "    numerical_soln = compressible_poisson_solve(tf.stack([rho]), tf.stack([rhs]), boundaries, dx)\n",
    "    numerical_solns.append(numerical_soln)\n",
    "    errors.append(tf.reduce_mean((numerical_soln-analytical_soln)**2))"
   ]
  },
  {
   "cell_type": "code",
   "execution_count": 8,
   "metadata": {},
   "outputs": [],
   "source": [
    "'''\n",
    "u = -2*pi^2*sin(pi*x)*sin(pi*y)\n",
    "incompressible solver\n",
    "'''\n",
    "from generate_cholesky_soln import cholesky_poisson_solve\n",
    "from generate_cholesky_soln import poisson_matrix as pm_incomp\n",
    "xmin, xmax = 0,2\n",
    "ymin, ymax = 0,2\n",
    "errors = []\n",
    "analytical_solns = []\n",
    "numerical_solns = []\n",
    "coords = []\n",
    "poisson_matrices = []\n",
    "rhos = []\n",
    "rhses = []\n",
    "dxes = []\n",
    "for gridsize in np.arange(20,150,10):\n",
    "    nx = gridsize\n",
    "    ny = gridsize\n",
    "    dx = (xmax-xmin)/(nx-1)\n",
    "    dxes.append(dx)\n",
    "    X,Y = np.meshgrid(np.linspace(xmin,xmax,nx), np.linspace(ymin,ymax,ny), indexing = 'ij')\n",
    "    coords.append([X,Y])\n",
    "    analytical_soln = np.sin(np.pi*X) * np.sin(np.pi*Y)\n",
    "    analytical_solns.append(analytical_soln)\n",
    "    rhs = -2*(np.pi**2)*np.sin(X*np.pi)*np.sin(Y*np.pi)\n",
    "    rhses.append(rhs)\n",
    "    pm = pm_incomp(nx,ny)\n",
    "    poisson_matrices.append(pm)\n",
    "    boundaries = {'top': analytical_soln[:,0],'bottom': analytical_soln[:,-1],'right': analytical_soln[-1,:], 'left': analytical_soln[0,:]}\n",
    "    numerical_soln = cholesky_poisson_solve(tf.stack([rhs]), boundaries, dx)\n",
    "    numerical_solns.append(numerical_soln)\n",
    "    errors.append(tf.reduce_mean((numerical_soln-analytical_soln)**2))"
   ]
  },
  {
   "cell_type": "code",
   "execution_count": 2,
   "metadata": {},
   "outputs": [],
   "source": [
    "'''\n",
    "u = x^2/4 + y^2/4 + xy\n",
    "incompressible solver\n",
    "'''\n",
    "from generate_cholesky_soln import cholesky_poisson_solve\n",
    "from generate_cholesky_soln import poisson_matrix as pm_incomp\n",
    "xmin, xmax = 0,2\n",
    "ymin, ymax = 0,2\n",
    "errors = []\n",
    "analytical_solns = []\n",
    "numerical_solns = []\n",
    "coords = []\n",
    "poisson_matrices = []\n",
    "rhos = []\n",
    "rhses = []\n",
    "dxes = []\n",
    "for gridsize in np.arange(20,150,10):\n",
    "    nx = gridsize\n",
    "    ny = gridsize\n",
    "    dx = (xmax-xmin)/(nx-1)\n",
    "    dxes.append(dx)\n",
    "    X,Y = np.meshgrid(np.linspace(xmin,xmax,nx), np.linspace(ymin,ymax,ny), indexing = 'ij')\n",
    "    coords.append([X,Y])\n",
    "    analytical_soln = X**2/4 + Y**2/4 + X*Y#np.sin(np.pi*X) * np.sin(np.pi*Y)\n",
    "    analytical_solns.append(analytical_soln)\n",
    "    rhs = np.ones(X.shape)/2#-2*np.pi*np.sin(X*np.pi)*np.sin(Y*np.pi)\n",
    "    rhses.append(rhs)\n",
    "    pm = pm_incomp(nx,ny)\n",
    "    poisson_matrices.append(pm)\n",
    "    boundaries = {'top': analytical_soln[:,0],'bottom': analytical_soln[:,-1],'right': analytical_soln[-1,:], 'left': analytical_soln[0,:]}\n",
    "    numerical_soln = cholesky_poisson_solve(tf.stack([rhs]), boundaries, dx)\n",
    "    numerical_solns.append(numerical_soln)\n",
    "    errors.append(tf.reduce_mean((numerical_soln-analytical_soln)**2))"
   ]
  },
  {
   "cell_type": "code",
   "execution_count": 23,
   "metadata": {},
   "outputs": [
    {
     "data": {
      "image/png": "[encoded data removed]",
      "text/plain": [
       "<Figure size 432x288 with 2 Axes>"
      ]
     },
     "metadata": {
      "needs_background": "light"
     },
     "output_type": "display_data"
    }
   ],
   "source": [
    "i = 5\n",
    "z = numerical_solns[i][0,0,...]\n",
    "#z = rhos[i]\n",
    "#z = np.zeros(coords[i][0].shape)\n",
    "#z[1:-1,1:-1] = e[i]\n",
    "z = analytical_solns[i][...]\n",
    "#z = rhses[i]\n",
    "z = (numerical_solns[i][0,0,...] - analytical_solns[i][...])\n",
    "z_min, z_max = -np.abs(z).max(), np.abs(z).max()\n",
    "fig, ax = plt.subplots()\n",
    "c = ax.pcolormesh(coords[i][0], coords[i][1], z, cmap='RdBu', vmin=z_min, vmax=z_max)\n",
    "ax.set_title('result')\n",
    "ax.axis([coords[i][0].min(), coords[i][0].max(), coords[i][1].min(), coords[i][1].max()])\n",
    "fig.colorbar(c, ax=ax)\n",
    "\n",
    "plt.show()\n",
    "\n",
    "\n",
    "# x, y = np.meshgrid(np.linspace(0, soln.shape[-2]*dx, soln.shape[-2]), np.linspace(0, soln.shape[-1]*dx, soln.shape[-1]), indexing = 'ij')\n",
    "# p_r = np.random.randint(0,soln.shape[0])\n",
    "# z = [p_r,0,...]\n",
    "# z = inp[p_r,0,...]\n",
    "# z = inp[p_r,1,...]\n",
    "# z = mod(inp)[p_r,0,...]\n",
    "# z_min, z_max = -np.abs(z).max(), np.abs(z).max()\n",
    "# fig, ax = plt.subplots()\n",
    "# c = ax.pcolormesh(x, y, z, cmap='RdBu', vmin=z_min, vmax=z_max)\n",
    "# ax.set_title('result')\n",
    "# ax.axis([x.min(), x.max(), y.min(), y.max()])\n",
    "# fig.colorbar(c, ax=ax)\n",
    "\n",
    "# plt.show()"
   ]
  },
  {
   "cell_type": "code",
   "execution_count": null,
   "metadata": {},
   "outputs": [],
   "source": [
    "inp = tf.keras.layers.Input((1,None,None))"
   ]
  },
  {
   "cell_type": "code",
   "execution_count": null,
   "metadata": {},
   "outputs": [],
   "source": [
    "s.set_weights"
   ]
  },
  {
   "cell_type": "code",
   "execution_count": null,
   "metadata": {},
   "outputs": [],
   "source": [
    "from conv_laplacian_loss import convolutional_poisson_loss"
   ]
  },
  {
   "cell_type": "code",
   "execution_count": null,
   "metadata": {},
   "outputs": [],
   "source": [
    "s = convolutional_poisson_loss(compressible=False, stencil='nine-point')"
   ]
  },
  {
   "cell_type": "code",
   "execution_count": null,
   "metadata": {},
   "outputs": [],
   "source": [
    "s.evaluate_loss(tf.stack([[analytical_soln]]), tf.stack([[rhs]]), (xmax-xmin)/(nx-1), rho = None)"
   ]
  },
  {
   "cell_type": "code",
   "execution_count": null,
   "metadata": {},
   "outputs": [],
   "source": [
    "xmin, xmax = 0,2\n",
    "ymin, ymax = 0,2\n",
    "nx = 400\n",
    "ny = 400\n",
    "X,Y = np.meshgrid(np.linspace(xmin,xmax,nx), np.linspace(ymin,ymax,ny), indexing = 'ij')\n",
    "u = np.exp(-(X+1)**2-(Y+1)**2)\n",
    "rho = (np.sin(X*np.pi) + 1.5)*(np.sin(Y*np.pi) + 1.5)/(25/4)\n",
    "rhs = u/rho * (4*(X+1)**2 + 4*(Y+1)**2 - 4 + 2*np.pi*((X+1)*np.cos(np.pi*X)/(1.5+np.sin(X*np.pi)) + (Y+1)*np.cos(np.pi*Y)/(1.5+np.sin(Y*np.pi))))\n",
    "s.evaluate_loss(tf.stack([[u]]), rhs, (xmax-xmin)/(nx-1), rho = tf.stack([[rho]]))"
   ]
  },
  {
   "cell_type": "code",
   "execution_count": null,
   "metadata": {},
   "outputs": [],
   "source": [
    "s.evaluate_loss(soln, tf.expand_dims(inp[:,0,...], axis = 1), dx, rho = tf.expand_dims(inp[:,1,...], axis = 1))"
   ]
  },
  {
   "cell_type": "code",
   "execution_count": null,
   "metadata": {},
   "outputs": [],
   "source": [
    "from generate_cholesky_soln import generate_dataset as incomp_generate_dataset"
   ]
  },
  {
   "cell_type": "code",
   "execution_count": null,
   "metadata": {},
   "outputs": [],
   "source": [
    "soln, inp = incomp_generate_dataset(15,(nx,ny), dx, bndrs)\n",
    "s = convolutional_poisson_loss(compressible=False, stencil='five-point')\n",
    "s.evaluate_loss(soln, inp, dx)"
   ]
  },
  {
   "cell_type": "code",
   "execution_count": null,
   "metadata": {},
   "outputs": [],
   "source": [
    "from generate_compressible_soln import compressible_poisson_solve, poisson_matrix\n",
    "xmin, xmax = 0,2\n",
    "ymin, ymax = 0,2\n",
    "errors = []\n",
    "analytical_solns = []\n",
    "numerical_solns = []\n",
    "coords = []\n",
    "poisson_matrices = []\n",
    "rhos = []\n",
    "rhses = []\n",
    "for gridsize in np.arange(20,100,10):\n",
    "    #gridsize = 60\n",
    "    nx = gridsize\n",
    "    ny = gridsize\n",
    "    dx = (xmax-xmin)/(nx-1)\n",
    "    X,Y = np.meshgrid(np.linspace(xmin,xmax,nx), np.linspace(ymin,ymax,ny), indexing = 'ij')\n",
    "    coords.append([X,Y])\n",
    "    analytical_soln = np.sin(np.pi*X) * np.sin(np.pi*Y)\n",
    "    analytical_solns.append(analytical_soln)\n",
    "    rho = (np.cos(X*np.pi) + 1.5)*(np.cos(Y*np.pi) + 1.5)*(4/25)\n",
    "    rhos.append(rho)\n",
    "    rhs = -75*(np.pi**2)*np.sin(np.pi*X)*np.sin(np.pi*Y)*(2*np.cos(np.pi*X)+2*np.cos(np.pi*Y)+6)/((2*np.cos(np.pi*X)+3)**2 * (2*np.cos(np.pi*Y)+3)**2)\n",
    "    rhses.append(rhs)\n",
    "    pm = poisson_matrix(tf.stack([rho]), dx)\n",
    "    poisson_matrices.append(pm)\n",
    "    boundaries = {'top': analytical_soln[:,0],'bottom': analytical_soln[:,-1],'right': analytical_soln[-1,:], 'left': analytical_soln[0,:]}\n",
    "    numerical_soln = compressible_poisson_solve(tf.stack([rho]), tf.stack([rhs]), boundaries, dx)\n",
    "    numerical_solns.append(numerical_soln)\n",
    "    print(numerical_soln.shape)\n",
    "    print(analytical_soln.shape)\n",
    "    errors.append(tf.reduce_mean((numerical_soln[0,0,...]-analytical_soln)**2))"
   ]
  },
  {
   "cell_type": "code",
   "execution_count": null,
   "metadata": {},
   "outputs": [],
   "source": [
    "clls"
   ]
  },
  {
   "cell_type": "code",
   "execution_count": null,
   "metadata": {},
   "outputs": [],
   "source": [
    "analytical_solns[4][15,25]"
   ]
  },
  {
   "cell_type": "code",
   "execution_count": null,
   "metadata": {},
   "outputs": [],
   "source": [
    " "
   ]
  },
  {
   "cell_type": "code",
   "execution_count": 4,
   "metadata": {},
   "outputs": [
    {
     "data": {
      "text/plain": [
       "[<matplotlib.lines.Line2D at 0x7f034efdb8d0>]"
      ]
     },
     "execution_count": 4,
     "metadata": {},
     "output_type": "execute_result"
    },
    {
     "data": {
      "image/png": "[encoded data removed]",
      "text/plain": [
       "<Figure size 432x288 with 1 Axes>"
      ]
     },
     "metadata": {
      "needs_background": "light"
     },
     "output_type": "display_data"
    }
   ],
   "source": [
    "plt.loglog(1/np.array(dxes), (lambda x: [tf.reduce_mean(i**2)**(1/2) for i in x])(e), marker = 'o')"
   ]
  },
  {
   "cell_type": "code",
   "execution_count": 26,
   "metadata": {},
   "outputs": [],
   "source": [
    "e = []\n",
    "for i in range(len(poisson_matrices)):\n",
    "    s = analytical_solns[i][1:-1,1:-1]\n",
    "    e.append(np.reshape((tf.matmul(tf.squeeze(poisson_matrices[i]), np.reshape(s, (np.prod(s.shape),1), order = 'f')) - np.reshape(rhses[i][1:-1,1:-1], (np.prod(s.shape),1), order = 'f')), s.shape, order = 'f'))"
   ]
  },
  {
   "cell_type": "code",
   "execution_count": 3,
   "metadata": {},
   "outputs": [],
   "source": [
    "e = []\n",
    "for i in range(len(analytical_solns)):\n",
    "    e.append(analytical_solns[i] - numerical_solns[i])"
   ]
  },
  {
   "cell_type": "code",
   "execution_count": 5,
   "metadata": {},
   "outputs": [
    {
     "data": {
      "text/plain": [
       "[<tf.Tensor: id=897, shape=(), dtype=float64, numpy=10.532301579781873>,\n",
       " <tf.Tensor: id=906, shape=(), dtype=float64, numpy=10.270519121443085>,\n",
       " <tf.Tensor: id=915, shape=(), dtype=float64, numpy=10.155911872545468>,\n",
       " <tf.Tensor: id=924, shape=(), dtype=float64, numpy=10.09198321455626>,\n",
       " <tf.Tensor: id=933, shape=(), dtype=float64, numpy=10.051295745508206>,\n",
       " <tf.Tensor: id=942, shape=(), dtype=float64, numpy=10.023153814791389>,\n",
       " <tf.Tensor: id=951, shape=(), dtype=float64, numpy=10.002541168227403>,\n",
       " <tf.Tensor: id=960, shape=(), dtype=float64, numpy=9.98679755931951>]"
      ]
     },
     "execution_count": 5,
     "metadata": {},
     "output_type": "execute_result"
    }
   ],
   "source": [
    "(lambda x: [tf.reduce_mean(i**2)**(1/2) for i in x])(e)"
   ]
  },
  {
   "cell_type": "code",
   "execution_count": 11,
   "metadata": {},
   "outputs": [
    {
     "data": {
      "text/plain": [
       "array([[ 0.      ,  0.      ,  0.      ,  0.      ],\n",
       "       [ 0.      , 16.171875,  0.      ,  0.      ],\n",
       "       [ 0.      ,  0.      , 16.171875,  0.      ],\n",
       "       [ 0.      ,  0.      ,  0.      ,  0.      ]])"
      ]
     },
     "execution_count": 11,
     "metadata": {},
     "output_type": "execute_result"
    }
   ],
   "source": [
    "#poisson_matrices[0][0,4:8,4:8]\n",
    "poisson_matrices[0][0,8:12,4:8]"
   ]
  },
  {
   "cell_type": "code",
   "execution_count": 24,
   "metadata": {},
   "outputs": [
    {
     "data": {
      "text/plain": [
       "array([[1.        , 0.77715923, 0.6209076 , 0.51399346, 0.44331545,\n",
       "        0.39896845, 0.37350224, 0.36134635, 0.35836484, 0.36151246,\n",
       "        0.36856952, 0.37793823, 0.38848655, 0.39942895, 0.41023564,\n",
       "        0.42056379, 0.43020562, 0.43904948, 0.44705086, 0.4542109 ],\n",
       "       [0.77715923, 0.6209076 , 0.51399346, 0.44331545, 0.39896845,\n",
       "        0.37350224, 0.36134635, 0.35836484, 0.36151246, 0.36856952,\n",
       "        0.37793823, 0.38848655, 0.39942895, 0.41023564, 0.42056379,\n",
       "        0.43020562, 0.43904948, 0.44705086, 0.4542109 , 0.46056068],\n",
       "       [0.6209076 , 0.51399346, 0.44331545, 0.39896845, 0.37350224,\n",
       "        0.36134635, 0.35836484, 0.36151246, 0.36856952, 0.37793823,\n",
       "        0.38848655, 0.39942895, 0.41023564, 0.42056379, 0.43020562,\n",
       "        0.43904948, 0.44705086, 0.4542109 , 0.46056068, 0.46614979],\n",
       "       [0.51399346, 0.44331545, 0.39896845, 0.37350224, 0.36134635,\n",
       "        0.35836484, 0.36151246, 0.36856952, 0.37793823, 0.38848655,\n",
       "        0.39942895, 0.41023564, 0.42056379, 0.43020562, 0.43904948,\n",
       "        0.44705086, 0.4542109 , 0.46056068, 0.46614979, 0.47103819],\n",
       "       [0.44331545, 0.39896845, 0.37350224, 0.36134635, 0.35836484,\n",
       "        0.36151246, 0.36856952, 0.37793823, 0.38848655, 0.39942895,\n",
       "        0.41023564, 0.42056379, 0.43020562, 0.43904948, 0.44705086,\n",
       "        0.4542109 , 0.46056068, 0.46614979, 0.47103819, 0.47529051],\n",
       "       [0.39896845, 0.37350224, 0.36134635, 0.35836484, 0.36151246,\n",
       "        0.36856952, 0.37793823, 0.38848655, 0.39942895, 0.41023564,\n",
       "        0.42056379, 0.43020562, 0.43904948, 0.44705086, 0.4542109 ,\n",
       "        0.46056068, 0.46614979, 0.47103819, 0.47529051, 0.47897208],\n",
       "       [0.37350224, 0.36134635, 0.35836484, 0.36151246, 0.36856952,\n",
       "        0.37793823, 0.38848655, 0.39942895, 0.41023564, 0.42056379,\n",
       "        0.43020562, 0.43904948, 0.44705086, 0.4542109 , 0.46056068,\n",
       "        0.46614979, 0.47103819, 0.47529051, 0.47897208, 0.48214634],\n",
       "       [0.36134635, 0.35836484, 0.36151246, 0.36856952, 0.37793823,\n",
       "        0.38848655, 0.39942895, 0.41023564, 0.42056379, 0.43020562,\n",
       "        0.43904948, 0.44705086, 0.4542109 , 0.46056068, 0.46614979,\n",
       "        0.47103819, 0.47529051, 0.47897208, 0.48214634, 0.48487323],\n",
       "       [0.35836484, 0.36151246, 0.36856952, 0.37793823, 0.38848655,\n",
       "        0.39942895, 0.41023564, 0.42056379, 0.43020562, 0.43904948,\n",
       "        0.44705086, 0.4542109 , 0.46056068, 0.46614979, 0.47103819,\n",
       "        0.47529051, 0.47897208, 0.48214634, 0.48487323, 0.48720821],\n",
       "       [0.36151246, 0.36856952, 0.37793823, 0.38848655, 0.39942895,\n",
       "        0.41023564, 0.42056379, 0.43020562, 0.43904948, 0.44705086,\n",
       "        0.4542109 , 0.46056068, 0.46614979, 0.47103819, 0.47529051,\n",
       "        0.47897208, 0.48214634, 0.48487323, 0.48720821, 0.48920181],\n",
       "       [0.36856952, 0.37793823, 0.38848655, 0.39942895, 0.41023564,\n",
       "        0.42056379, 0.43020562, 0.43904948, 0.44705086, 0.4542109 ,\n",
       "        0.46056068, 0.46614979, 0.47103819, 0.47529051, 0.47897208,\n",
       "        0.48214634, 0.48487323, 0.48720821, 0.48920181, 0.49089948],\n",
       "       [0.37793823, 0.38848655, 0.39942895, 0.41023564, 0.42056379,\n",
       "        0.43020562, 0.43904948, 0.44705086, 0.4542109 , 0.46056068,\n",
       "        0.46614979, 0.47103819, 0.47529051, 0.47897208, 0.48214634,\n",
       "        0.48487323, 0.48720821, 0.48920181, 0.49089948, 0.49234175],\n",
       "       [0.38848655, 0.39942895, 0.41023564, 0.42056379, 0.43020562,\n",
       "        0.43904948, 0.44705086, 0.4542109 , 0.46056068, 0.46614979,\n",
       "        0.47103819, 0.47529051, 0.47897208, 0.48214634, 0.48487323,\n",
       "        0.48720821, 0.48920181, 0.49089948, 0.49234175, 0.49356439],\n",
       "       [0.39942895, 0.41023564, 0.42056379, 0.43020562, 0.43904948,\n",
       "        0.44705086, 0.4542109 , 0.46056068, 0.46614979, 0.47103819,\n",
       "        0.47529051, 0.47897208, 0.48214634, 0.48487323, 0.48720821,\n",
       "        0.48920181, 0.49089948, 0.49234175, 0.49356439, 0.49459881],\n",
       "       [0.41023564, 0.42056379, 0.43020562, 0.43904948, 0.44705086,\n",
       "        0.4542109 , 0.46056068, 0.46614979, 0.47103819, 0.47529051,\n",
       "        0.47897208, 0.48214634, 0.48487323, 0.48720821, 0.48920181,\n",
       "        0.49089948, 0.49234175, 0.49356439, 0.49459881, 0.49547242],\n",
       "       [0.42056379, 0.43020562, 0.43904948, 0.44705086, 0.4542109 ,\n",
       "        0.46056068, 0.46614979, 0.47103819, 0.47529051, 0.47897208,\n",
       "        0.48214634, 0.48487323, 0.48720821, 0.48920181, 0.49089948,\n",
       "        0.49234175, 0.49356439, 0.49459881, 0.49547242, 0.496209  ],\n",
       "       [0.43020562, 0.43904948, 0.44705086, 0.4542109 , 0.46056068,\n",
       "        0.46614979, 0.47103819, 0.47529051, 0.47897208, 0.48214634,\n",
       "        0.48487323, 0.48720821, 0.48920181, 0.49089948, 0.49234175,\n",
       "        0.49356439, 0.49459881, 0.49547242, 0.496209  , 0.49682908],\n",
       "       [0.43904948, 0.44705086, 0.4542109 , 0.46056068, 0.46614979,\n",
       "        0.47103819, 0.47529051, 0.47897208, 0.48214634, 0.48487323,\n",
       "        0.48720821, 0.48920181, 0.49089948, 0.49234175, 0.49356439,\n",
       "        0.49459881, 0.49547242, 0.496209  , 0.49682908, 0.49735036],\n",
       "       [0.44705086, 0.4542109 , 0.46056068, 0.46614979, 0.47103819,\n",
       "        0.47529051, 0.47897208, 0.48214634, 0.48487323, 0.48720821,\n",
       "        0.48920181, 0.49089948, 0.49234175, 0.49356439, 0.49459881,\n",
       "        0.49547242, 0.496209  , 0.49682908, 0.49735036, 0.49778799],\n",
       "       [0.4542109 , 0.46056068, 0.46614979, 0.47103819, 0.47529051,\n",
       "        0.47897208, 0.48214634, 0.48487323, 0.48720821, 0.48920181,\n",
       "        0.49089948, 0.49234175, 0.49356439, 0.49459881, 0.49547242,\n",
       "        0.496209  , 0.49682908, 0.49735036, 0.49778799, 0.49815496]])"
      ]
     },
     "execution_count": 24,
     "metadata": {},
     "output_type": "execute_result"
    }
   ],
   "source": [
    "rhses[0]"
   ]
  },
  {
   "cell_type": "code",
   "execution_count": 23,
   "metadata": {},
   "outputs": [
    {
     "data": {
      "text/plain": [
       "array([[0.00000000e+00, 2.77008310e-03, 1.10803324e-02, 2.49307479e-02,\n",
       "        4.43213296e-02, 6.92520776e-02, 9.97229917e-02, 1.35734072e-01,\n",
       "        1.77285319e-01, 2.24376731e-01, 2.77008310e-01, 3.35180055e-01,\n",
       "        3.98891967e-01, 4.68144044e-01, 5.42936288e-01, 6.23268698e-01,\n",
       "        7.09141274e-01, 8.00554017e-01, 8.97506925e-01, 1.00000000e+00,\n",
       "        2.77008310e-03, 6.20907602e-01, 5.13993461e-01, 4.43315445e-01,\n",
       "        3.98968453e-01, 3.73502244e-01, 3.61346346e-01, 3.58364845e-01,\n",
       "        3.61512463e-01, 3.68569522e-01, 3.77938228e-01, 3.88486546e-01,\n",
       "        3.99428948e-01, 4.10235644e-01, 4.20563794e-01, 4.30205620e-01,\n",
       "        4.39049482e-01, 4.47050861e-01, 4.54210903e-01, 1.21329640e+00,\n",
       "        1.10803324e-02, 5.13993461e-01, 4.43315445e-01, 3.98968453e-01,\n",
       "        3.73502244e-01, 3.61346346e-01, 3.58364845e-01, 3.61512463e-01,\n",
       "        3.68569522e-01, 3.77938228e-01, 3.88486546e-01, 3.99428948e-01,\n",
       "        4.10235644e-01, 4.20563794e-01, 4.30205620e-01, 4.39049482e-01,\n",
       "        4.47050861e-01, 4.54210903e-01, 4.60560679e-01, 1.43213296e+00,\n",
       "        2.49307479e-02, 4.43315445e-01, 3.98968453e-01, 3.73502244e-01,\n",
       "        3.61346346e-01, 3.58364845e-01, 3.61512463e-01, 3.68569522e-01,\n",
       "        3.77938228e-01, 3.88486546e-01, 3.99428948e-01, 4.10235644e-01,\n",
       "        4.20563794e-01, 4.30205620e-01, 4.39049482e-01, 4.47050861e-01,\n",
       "        4.54210903e-01, 4.60560679e-01, 4.66149786e-01, 1.65650970e+00,\n",
       "        4.43213296e-02, 3.98968453e-01, 3.73502244e-01, 3.61346346e-01,\n",
       "        3.58364845e-01, 3.61512463e-01, 3.68569522e-01, 3.77938228e-01,\n",
       "        3.88486546e-01, 3.99428948e-01, 4.10235644e-01, 4.20563794e-01,\n",
       "        4.30205620e-01, 4.39049482e-01, 4.47050861e-01, 4.54210903e-01,\n",
       "        4.60560679e-01, 4.66149786e-01, 4.71038192e-01, 1.88642659e+00,\n",
       "        6.92520776e-02, 3.73502244e-01, 3.61346346e-01, 3.58364845e-01,\n",
       "        3.61512463e-01, 3.68569522e-01, 3.77938228e-01, 3.88486546e-01,\n",
       "        3.99428948e-01, 4.10235644e-01, 4.20563794e-01, 4.30205620e-01,\n",
       "        4.39049482e-01, 4.47050861e-01, 4.54210903e-01, 4.60560679e-01,\n",
       "        4.66149786e-01, 4.71038192e-01, 4.75290511e-01, 2.12188366e+00,\n",
       "        9.97229917e-02, 3.61346346e-01, 3.58364845e-01, 3.61512463e-01,\n",
       "        3.68569522e-01, 3.77938228e-01, 3.88486546e-01, 3.99428948e-01,\n",
       "        4.10235644e-01, 4.20563794e-01, 4.30205620e-01, 4.39049482e-01,\n",
       "        4.47050861e-01, 4.54210903e-01, 4.60560679e-01, 4.66149786e-01,\n",
       "        4.71038192e-01, 4.75290511e-01, 4.78972076e-01, 2.36288089e+00,\n",
       "        1.35734072e-01, 3.58364845e-01, 3.61512463e-01, 3.68569522e-01,\n",
       "        3.77938228e-01, 3.88486546e-01, 3.99428948e-01, 4.10235644e-01,\n",
       "        4.20563794e-01, 4.30205620e-01, 4.39049482e-01, 4.47050861e-01,\n",
       "        4.54210903e-01, 4.60560679e-01, 4.66149786e-01, 4.71038192e-01,\n",
       "        4.75290511e-01, 4.78972076e-01, 4.82146340e-01, 2.60941828e+00,\n",
       "        1.77285319e-01, 3.61512463e-01, 3.68569522e-01, 3.77938228e-01,\n",
       "        3.88486546e-01, 3.99428948e-01, 4.10235644e-01, 4.20563794e-01,\n",
       "        4.30205620e-01, 4.39049482e-01, 4.47050861e-01, 4.54210903e-01,\n",
       "        4.60560679e-01, 4.66149786e-01, 4.71038192e-01, 4.75290511e-01,\n",
       "        4.78972076e-01, 4.82146340e-01, 4.84873233e-01, 2.86149584e+00,\n",
       "        2.24376731e-01, 3.68569522e-01, 3.77938228e-01, 3.88486546e-01,\n",
       "        3.99428948e-01, 4.10235644e-01, 4.20563794e-01, 4.30205620e-01,\n",
       "        4.39049482e-01, 4.47050861e-01, 4.54210903e-01, 4.60560679e-01,\n",
       "        4.66149786e-01, 4.71038192e-01, 4.75290511e-01, 4.78972076e-01,\n",
       "        4.82146340e-01, 4.84873233e-01, 4.87208214e-01, 3.11911357e+00,\n",
       "        2.77008310e-01, 3.77938228e-01, 3.88486546e-01, 3.99428948e-01,\n",
       "        4.10235644e-01, 4.20563794e-01, 4.30205620e-01, 4.39049482e-01,\n",
       "        4.47050861e-01, 4.54210903e-01, 4.60560679e-01, 4.66149786e-01,\n",
       "        4.71038192e-01, 4.75290511e-01, 4.78972076e-01, 4.82146340e-01,\n",
       "        4.84873233e-01, 4.87208214e-01, 4.89201809e-01, 3.38227147e+00,\n",
       "        3.35180055e-01, 3.88486546e-01, 3.99428948e-01, 4.10235644e-01,\n",
       "        4.20563794e-01, 4.30205620e-01, 4.39049482e-01, 4.47050861e-01,\n",
       "        4.54210903e-01, 4.60560679e-01, 4.66149786e-01, 4.71038192e-01,\n",
       "        4.75290511e-01, 4.78972076e-01, 4.82146340e-01, 4.84873233e-01,\n",
       "        4.87208214e-01, 4.89201809e-01, 4.90899484e-01, 3.65096953e+00,\n",
       "        3.98891967e-01, 3.99428948e-01, 4.10235644e-01, 4.20563794e-01,\n",
       "        4.30205620e-01, 4.39049482e-01, 4.47050861e-01, 4.54210903e-01,\n",
       "        4.60560679e-01, 4.66149786e-01, 4.71038192e-01, 4.75290511e-01,\n",
       "        4.78972076e-01, 4.82146340e-01, 4.84873233e-01, 4.87208214e-01,\n",
       "        4.89201809e-01, 4.90899484e-01, 4.92341746e-01, 3.92520776e+00,\n",
       "        4.68144044e-01, 4.10235644e-01, 4.20563794e-01, 4.30205620e-01,\n",
       "        4.39049482e-01, 4.47050861e-01, 4.54210903e-01, 4.60560679e-01,\n",
       "        4.66149786e-01, 4.71038192e-01, 4.75290511e-01, 4.78972076e-01,\n",
       "        4.82146340e-01, 4.84873233e-01, 4.87208214e-01, 4.89201809e-01,\n",
       "        4.90899484e-01, 4.92341746e-01, 4.93564387e-01, 4.20498615e+00,\n",
       "        5.42936288e-01, 4.20563794e-01, 4.30205620e-01, 4.39049482e-01,\n",
       "        4.47050861e-01, 4.54210903e-01, 4.60560679e-01, 4.66149786e-01,\n",
       "        4.71038192e-01, 4.75290511e-01, 4.78972076e-01, 4.82146340e-01,\n",
       "        4.84873233e-01, 4.87208214e-01, 4.89201809e-01, 4.90899484e-01,\n",
       "        4.92341746e-01, 4.93564387e-01, 4.94598814e-01, 4.49030471e+00,\n",
       "        6.23268698e-01, 4.30205620e-01, 4.39049482e-01, 4.47050861e-01,\n",
       "        4.54210903e-01, 4.60560679e-01, 4.66149786e-01, 4.71038192e-01,\n",
       "        4.75290511e-01, 4.78972076e-01, 4.82146340e-01, 4.84873233e-01,\n",
       "        4.87208214e-01, 4.89201809e-01, 4.90899484e-01, 4.92341746e-01,\n",
       "        4.93564387e-01, 4.94598814e-01, 4.95472425e-01, 4.78116343e+00,\n",
       "        7.09141274e-01, 4.39049482e-01, 4.47050861e-01, 4.54210903e-01,\n",
       "        4.60560679e-01, 4.66149786e-01, 4.71038192e-01, 4.75290511e-01,\n",
       "        4.78972076e-01, 4.82146340e-01, 4.84873233e-01, 4.87208214e-01,\n",
       "        4.89201809e-01, 4.90899484e-01, 4.92341746e-01, 4.93564387e-01,\n",
       "        4.94598814e-01, 4.95472425e-01, 4.96208999e-01, 5.07756233e+00,\n",
       "        8.00554017e-01, 4.47050861e-01, 4.54210903e-01, 4.60560679e-01,\n",
       "        4.66149786e-01, 4.71038192e-01, 4.75290511e-01, 4.78972076e-01,\n",
       "        4.82146340e-01, 4.84873233e-01, 4.87208214e-01, 4.89201809e-01,\n",
       "        4.90899484e-01, 4.92341746e-01, 4.93564387e-01, 4.94598814e-01,\n",
       "        4.95472425e-01, 4.96208999e-01, 4.96829081e-01, 5.37950139e+00,\n",
       "        8.97506925e-01, 4.54210903e-01, 4.60560679e-01, 4.66149786e-01,\n",
       "        4.71038192e-01, 4.75290511e-01, 4.78972076e-01, 4.82146340e-01,\n",
       "        4.84873233e-01, 4.87208214e-01, 4.89201809e-01, 4.90899484e-01,\n",
       "        4.92341746e-01, 4.93564387e-01, 4.94598814e-01, 4.95472425e-01,\n",
       "        4.96208999e-01, 4.96829081e-01, 4.97350356e-01, 5.68698061e+00,\n",
       "        1.00000000e+00, 1.21329640e+00, 1.43213296e+00, 1.65650970e+00,\n",
       "        1.88642659e+00, 2.12188366e+00, 2.36288089e+00, 2.60941828e+00,\n",
       "        2.86149584e+00, 3.11911357e+00, 3.38227147e+00, 3.65096953e+00,\n",
       "        3.92520776e+00, 4.20498615e+00, 4.49030471e+00, 4.78116343e+00,\n",
       "        5.07756233e+00, 5.37950139e+00, 5.68698061e+00, 6.00000000e+00]])"
      ]
     },
     "execution_count": 23,
     "metadata": {},
     "output_type": "execute_result"
    }
   ],
   "source": [
    "rhs_vectors[0]"
   ]
  }
 ],
 "metadata": {
  "kernelspec": {
   "display_name": "Python 3",
   "language": "python",
   "name": "python3"
  },
  "language_info": {
   "codemirror_mode": {
    "name": "ipython",
    "version": 3
   },
   "file_extension": ".py",
   "mimetype": "text/x-python",
   "name": "python",
   "nbconvert_exporter": "python",
   "pygments_lexer": "ipython3",
   "version": "3.7.3"
  }
 },
 "nbformat": 4,
 "nbformat_minor": 2
}
