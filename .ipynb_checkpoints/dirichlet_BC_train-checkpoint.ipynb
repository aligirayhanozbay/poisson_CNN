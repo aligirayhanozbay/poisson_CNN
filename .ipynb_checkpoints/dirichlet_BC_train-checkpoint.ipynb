{
 "cells": [
  {
   "cell_type": "code",
   "execution_count": 1,
   "metadata": {},
   "outputs": [],
   "source": [
    "import tensorflow as tf\n",
    "from Dirichlet_BC_NN import *#Dirichlet_BC_NN, Dirichlet_BC_NN_2\n",
    "from Lp_integral_norm import Lp_integral_norm\n",
    "from generate_laplace_soln import generate_laplace_soln\n",
    "import numpy as np\n",
    "import matplotlib.pyplot as plt\n",
    "#tf.enable_eager_execution()\n",
    "tf.keras.backend.set_floatx('float64')"
   ]
  },
  {
   "cell_type": "code",
   "execution_count": 2,
   "metadata": {},
   "outputs": [],
   "source": [
    "#mod = Dirichlet_BC_NN()\n",
    "mod = Dirichlet_BC_NN_2B(data_format = 'channels_first')\n",
    "#mod = Dirichlet_BC_NN_3()"
   ]
  },
  {
   "cell_type": "code",
   "execution_count": 14,
   "metadata": {},
   "outputs": [],
   "source": [
    "optimizer = tf.keras.optimizers.Adam(learning_rate = 1e-5)"
   ]
  },
  {
   "cell_type": "code",
   "execution_count": 22,
   "metadata": {},
   "outputs": [
    {
     "name": "stdout",
     "output_type": "stream",
     "text": [
      "tf.Tensor(0.16291340447949848, shape=(), dtype=float64)\n",
      "tf.Tensor(0.17450081915524338, shape=(), dtype=float64)\n",
      "tf.Tensor(0.04757501517985793, shape=(), dtype=float64)\n",
      "tf.Tensor(0.3201990298500271, shape=(), dtype=float64)\n",
      "tf.Tensor(0.2555288371662241, shape=(), dtype=float64)\n",
      "tf.Tensor(0.20470620823920588, shape=(), dtype=float64)\n",
      "tf.Tensor(0.25292398147227235, shape=(), dtype=float64)\n",
      "tf.Tensor(0.08431287562014939, shape=(), dtype=float64)\n",
      "tf.Tensor(0.04520547719442157, shape=(), dtype=float64)\n",
      "tf.Tensor(0.13709899577747447, shape=(), dtype=float64)\n",
      "tf.Tensor(0.20042288007496334, shape=(), dtype=float64)\n",
      "tf.Tensor(0.1606290312265397, shape=(), dtype=float64)\n",
      "tf.Tensor(0.058053116498117716, shape=(), dtype=float64)\n",
      "tf.Tensor(0.13957630244748945, shape=(), dtype=float64)\n",
      "tf.Tensor(0.0733113508987194, shape=(), dtype=float64)\n",
      "tf.Tensor(0.1434346992048738, shape=(), dtype=float64)\n",
      "tf.Tensor(0.10234467203154687, shape=(), dtype=float64)\n",
      "tf.Tensor(0.3690399606741962, shape=(), dtype=float64)\n",
      "tf.Tensor(0.12341628906002682, shape=(), dtype=float64)\n",
      "tf.Tensor(0.1094349563021377, shape=(), dtype=float64)\n",
      "tf.Tensor(0.1756840451801325, shape=(), dtype=float64)\n",
      "tf.Tensor(0.16860421313717805, shape=(), dtype=float64)\n",
      "tf.Tensor(0.2862260831959453, shape=(), dtype=float64)\n",
      "tf.Tensor(0.22354787103109283, shape=(), dtype=float64)\n",
      "tf.Tensor(0.201513961861067, shape=(), dtype=float64)\n",
      "tf.Tensor(0.012405824287915021, shape=(), dtype=float64)\n",
      "tf.Tensor(0.20486659183074496, shape=(), dtype=float64)\n",
      "tf.Tensor(0.19859418228808917, shape=(), dtype=float64)\n",
      "tf.Tensor(0.27822067467342965, shape=(), dtype=float64)\n",
      "tf.Tensor(0.09842305734938707, shape=(), dtype=float64)\n",
      "tf.Tensor(0.20470399943747133, shape=(), dtype=float64)\n",
      "tf.Tensor(0.22777076204542018, shape=(), dtype=float64)\n",
      "tf.Tensor(0.1366563390836783, shape=(), dtype=float64)\n",
      "tf.Tensor(0.292932508153248, shape=(), dtype=float64)\n",
      "tf.Tensor(0.028350177651140514, shape=(), dtype=float64)\n",
      "tf.Tensor(0.06801387967466634, shape=(), dtype=float64)\n",
      "tf.Tensor(0.2403340910657641, shape=(), dtype=float64)\n",
      "tf.Tensor(0.12870427124301695, shape=(), dtype=float64)\n",
      "tf.Tensor(0.18281306847553586, shape=(), dtype=float64)\n",
      "tf.Tensor(0.04689383124097885, shape=(), dtype=float64)\n",
      "tf.Tensor(0.11903245806830079, shape=(), dtype=float64)\n",
      "tf.Tensor(0.01872598457155808, shape=(), dtype=float64)\n",
      "tf.Tensor(0.009013062421319499, shape=(), dtype=float64)\n",
      "tf.Tensor(0.11981958828984901, shape=(), dtype=float64)\n",
      "tf.Tensor(0.21237820302895638, shape=(), dtype=float64)\n",
      "tf.Tensor(0.23330980361501774, shape=(), dtype=float64)\n",
      "tf.Tensor(0.23514565050414934, shape=(), dtype=float64)\n",
      "tf.Tensor(0.07069061103380399, shape=(), dtype=float64)\n",
      "tf.Tensor(0.08051917969136523, shape=(), dtype=float64)\n",
      "tf.Tensor(0.28541767792045314, shape=(), dtype=float64)\n",
      "tf.Tensor(0.17343777682506376, shape=(), dtype=float64)\n",
      "tf.Tensor(0.07642420647028586, shape=(), dtype=float64)\n",
      "tf.Tensor(0.2602911041902291, shape=(), dtype=float64)\n",
      "tf.Tensor(0.23248206921002545, shape=(), dtype=float64)\n",
      "tf.Tensor(0.1419654713081309, shape=(), dtype=float64)\n",
      "tf.Tensor(0.1845829389868931, shape=(), dtype=float64)\n",
      "tf.Tensor(0.13547374990390962, shape=(), dtype=float64)\n",
      "tf.Tensor(0.28972248667146905, shape=(), dtype=float64)\n",
      "tf.Tensor(0.09273925986054084, shape=(), dtype=float64)\n",
      "tf.Tensor(0.1890657360875532, shape=(), dtype=float64)\n",
      "tf.Tensor(0.20082688213423477, shape=(), dtype=float64)\n",
      "tf.Tensor(0.04092187897396595, shape=(), dtype=float64)\n",
      "tf.Tensor(0.021904802545633914, shape=(), dtype=float64)\n",
      "tf.Tensor(0.05463378837127187, shape=(), dtype=float64)\n",
      "tf.Tensor(0.2602167507400538, shape=(), dtype=float64)\n",
      "tf.Tensor(0.26732071070128777, shape=(), dtype=float64)\n",
      "tf.Tensor(0.2224520475367974, shape=(), dtype=float64)\n",
      "tf.Tensor(0.08538442351125358, shape=(), dtype=float64)\n",
      "tf.Tensor(0.10964390672671866, shape=(), dtype=float64)\n",
      "tf.Tensor(0.1155262262376868, shape=(), dtype=float64)\n",
      "tf.Tensor(0.019800331937358227, shape=(), dtype=float64)\n",
      "tf.Tensor(0.12856732385110134, shape=(), dtype=float64)\n",
      "tf.Tensor(0.16677067885200644, shape=(), dtype=float64)\n",
      "tf.Tensor(0.33136810732036637, shape=(), dtype=float64)\n",
      "tf.Tensor(0.11011381577525703, shape=(), dtype=float64)\n",
      "tf.Tensor(0.21782031158474863, shape=(), dtype=float64)\n",
      "tf.Tensor(0.207115933468763, shape=(), dtype=float64)\n",
      "tf.Tensor(0.47087807134485704, shape=(), dtype=float64)\n",
      "tf.Tensor(0.01922121142945357, shape=(), dtype=float64)\n",
      "tf.Tensor(0.3833616845592763, shape=(), dtype=float64)\n",
      "tf.Tensor(0.14444086581335058, shape=(), dtype=float64)\n",
      "tf.Tensor(0.23210494177315777, shape=(), dtype=float64)\n",
      "tf.Tensor(0.06370785852691836, shape=(), dtype=float64)\n",
      "tf.Tensor(0.08902240011251254, shape=(), dtype=float64)\n",
      "tf.Tensor(0.13330118888937534, shape=(), dtype=float64)\n",
      "tf.Tensor(0.12922519580925912, shape=(), dtype=float64)\n",
      "tf.Tensor(0.2476037129908646, shape=(), dtype=float64)\n",
      "tf.Tensor(0.08781209702587445, shape=(), dtype=float64)\n",
      "tf.Tensor(0.27050791780360695, shape=(), dtype=float64)\n",
      "tf.Tensor(0.1407970074032505, shape=(), dtype=float64)\n",
      "tf.Tensor(0.04995932200778532, shape=(), dtype=float64)\n",
      "tf.Tensor(0.1844605954605617, shape=(), dtype=float64)\n",
      "tf.Tensor(0.11769951069533742, shape=(), dtype=float64)\n",
      "tf.Tensor(0.19348291126462017, shape=(), dtype=float64)\n",
      "tf.Tensor(0.051220059989947817, shape=(), dtype=float64)\n",
      "tf.Tensor(0.07550880881703993, shape=(), dtype=float64)\n",
      "tf.Tensor(0.20303635361170266, shape=(), dtype=float64)\n",
      "tf.Tensor(0.0351889829772774, shape=(), dtype=float64)\n",
      "tf.Tensor(0.11463689350304755, shape=(), dtype=float64)\n",
      "tf.Tensor(0.0815723561426585, shape=(), dtype=float64)\n",
      "tf.Tensor(0.04423498571279686, shape=(), dtype=float64)\n",
      "tf.Tensor(0.05910998253074246, shape=(), dtype=float64)\n",
      "tf.Tensor(0.29705290921265687, shape=(), dtype=float64)\n",
      "tf.Tensor(0.02985700188412872, shape=(), dtype=float64)\n",
      "tf.Tensor(0.02847637032214335, shape=(), dtype=float64)\n",
      "tf.Tensor(0.15139442589621557, shape=(), dtype=float64)\n",
      "tf.Tensor(0.197511027950561, shape=(), dtype=float64)\n",
      "tf.Tensor(0.07746029964774945, shape=(), dtype=float64)\n",
      "tf.Tensor(0.018362057671855794, shape=(), dtype=float64)\n",
      "tf.Tensor(0.31950076535336014, shape=(), dtype=float64)\n",
      "tf.Tensor(0.22000742970952675, shape=(), dtype=float64)\n",
      "tf.Tensor(0.21478935828507434, shape=(), dtype=float64)\n",
      "tf.Tensor(0.10825165795275538, shape=(), dtype=float64)\n",
      "tf.Tensor(0.1333121556376014, shape=(), dtype=float64)\n",
      "tf.Tensor(0.2231578953190791, shape=(), dtype=float64)\n",
      "tf.Tensor(0.06146998105614377, shape=(), dtype=float64)\n",
      "tf.Tensor(0.14291351461804835, shape=(), dtype=float64)\n",
      "tf.Tensor(0.06122095860706423, shape=(), dtype=float64)\n",
      "tf.Tensor(0.02674806157776379, shape=(), dtype=float64)\n",
      "tf.Tensor(0.224142390118913, shape=(), dtype=float64)\n",
      "tf.Tensor(0.11748779126894456, shape=(), dtype=float64)\n",
      "tf.Tensor(0.13487922584721562, shape=(), dtype=float64)\n",
      "tf.Tensor(0.17294447672722355, shape=(), dtype=float64)\n",
      "tf.Tensor(0.012395052724802841, shape=(), dtype=float64)\n",
      "tf.Tensor(0.14075025876927633, shape=(), dtype=float64)\n",
      "tf.Tensor(0.21491506385644515, shape=(), dtype=float64)\n",
      "tf.Tensor(0.26047640128761335, shape=(), dtype=float64)\n",
      "tf.Tensor(0.20724195074469087, shape=(), dtype=float64)\n",
      "tf.Tensor(0.09869229641309685, shape=(), dtype=float64)\n",
      "tf.Tensor(0.33940246503987526, shape=(), dtype=float64)\n",
      "tf.Tensor(0.07907286643711021, shape=(), dtype=float64)\n",
      "tf.Tensor(0.17673093025179928, shape=(), dtype=float64)\n",
      "tf.Tensor(0.0702087000080562, shape=(), dtype=float64)\n",
      "tf.Tensor(0.19275769559044162, shape=(), dtype=float64)\n",
      "tf.Tensor(0.29056345269214184, shape=(), dtype=float64)\n",
      "tf.Tensor(0.10006540085105814, shape=(), dtype=float64)\n",
      "tf.Tensor(0.05066138092162484, shape=(), dtype=float64)\n",
      "tf.Tensor(0.06411247599884962, shape=(), dtype=float64)\n",
      "tf.Tensor(0.035978315419781415, shape=(), dtype=float64)\n",
      "tf.Tensor(0.13805030709824034, shape=(), dtype=float64)\n",
      "tf.Tensor(0.16890446304576595, shape=(), dtype=float64)\n",
      "tf.Tensor(0.04491175054745356, shape=(), dtype=float64)\n",
      "tf.Tensor(0.009402841484692292, shape=(), dtype=float64)\n",
      "tf.Tensor(0.08191896384242893, shape=(), dtype=float64)\n",
      "tf.Tensor(0.20364372596369726, shape=(), dtype=float64)\n",
      "tf.Tensor(0.20814221973449187, shape=(), dtype=float64)\n",
      "tf.Tensor(0.33263963513650363, shape=(), dtype=float64)\n"
     ]
    },
    {
     "name": "stdout",
     "output_type": "stream",
     "text": [
      "tf.Tensor(0.21503352168682557, shape=(), dtype=float64)\n",
      "tf.Tensor(0.153767587318027, shape=(), dtype=float64)\n",
      "tf.Tensor(0.1969390667939443, shape=(), dtype=float64)\n",
      "tf.Tensor(0.13009854703265658, shape=(), dtype=float64)\n",
      "tf.Tensor(0.19624681771916241, shape=(), dtype=float64)\n",
      "tf.Tensor(0.2686505429249558, shape=(), dtype=float64)\n",
      "tf.Tensor(0.22425297358047386, shape=(), dtype=float64)\n",
      "tf.Tensor(0.15961445986683703, shape=(), dtype=float64)\n"
     ]
    },
    {
     "ename": "KeyboardInterrupt",
     "evalue": "",
     "output_type": "error",
     "traceback": [
      "\u001b[0;31m---------------------------------------------------------------------------\u001b[0m",
      "\u001b[0;31mKeyboardInterrupt\u001b[0m                         Traceback (most recent call last)",
      "\u001b[0;32m<ipython-input-22-2c3753403a2f>\u001b[0m in \u001b[0;36m<module>\u001b[0;34m\u001b[0m\n\u001b[1;32m     15\u001b[0m         \u001b[0;31m#loss = lf(soln, mod(tf.expand_dims(b['left'], axis = 1)))\u001b[0m\u001b[0;34m\u001b[0m\u001b[0;34m\u001b[0m\u001b[0;34m\u001b[0m\u001b[0m\n\u001b[1;32m     16\u001b[0m         \u001b[0;31m#loss = tf.reduce_sum(tf.losses.mean_squared_error(soln, mod(tf.expand_dims(b['left'], axis = 1))))\u001b[0m\u001b[0;34m\u001b[0m\u001b[0;34m\u001b[0m\u001b[0;34m\u001b[0m\u001b[0m\n\u001b[0;32m---> 17\u001b[0;31m     \u001b[0mgrads\u001b[0m \u001b[0;34m=\u001b[0m \u001b[0mtape\u001b[0m\u001b[0;34m.\u001b[0m\u001b[0mgradient\u001b[0m\u001b[0;34m(\u001b[0m\u001b[0mloss\u001b[0m\u001b[0;34m,\u001b[0m \u001b[0mmod\u001b[0m\u001b[0;34m.\u001b[0m\u001b[0mtrainable_variables\u001b[0m\u001b[0;34m)\u001b[0m\u001b[0;34m\u001b[0m\u001b[0;34m\u001b[0m\u001b[0m\n\u001b[0m\u001b[1;32m     18\u001b[0m     \u001b[0moptimizer\u001b[0m\u001b[0;34m.\u001b[0m\u001b[0mapply_gradients\u001b[0m\u001b[0;34m(\u001b[0m\u001b[0mzip\u001b[0m\u001b[0;34m(\u001b[0m\u001b[0mgrads\u001b[0m\u001b[0;34m,\u001b[0m \u001b[0mmod\u001b[0m\u001b[0;34m.\u001b[0m\u001b[0mtrainable_variables\u001b[0m\u001b[0;34m)\u001b[0m\u001b[0;34m)\u001b[0m\u001b[0;34m\u001b[0m\u001b[0;34m\u001b[0m\u001b[0m\n\u001b[1;32m     19\u001b[0m     \u001b[0mprint\u001b[0m\u001b[0;34m(\u001b[0m\u001b[0mloss\u001b[0m\u001b[0;34m)\u001b[0m\u001b[0;34m\u001b[0m\u001b[0;34m\u001b[0m\u001b[0m\n",
      "\u001b[0;32m~/.conda/envs/tf-nightly/lib/python3.7/site-packages/tensorflow/python/eager/backprop.py\u001b[0m in \u001b[0;36mgradient\u001b[0;34m(self, target, sources, output_gradients, unconnected_gradients)\u001b[0m\n\u001b[1;32m    954\u001b[0m         \u001b[0mflat_sources\u001b[0m\u001b[0;34m,\u001b[0m\u001b[0;34m\u001b[0m\u001b[0;34m\u001b[0m\u001b[0m\n\u001b[1;32m    955\u001b[0m         \u001b[0moutput_gradients\u001b[0m\u001b[0;34m=\u001b[0m\u001b[0moutput_gradients\u001b[0m\u001b[0;34m,\u001b[0m\u001b[0;34m\u001b[0m\u001b[0;34m\u001b[0m\u001b[0m\n\u001b[0;32m--> 956\u001b[0;31m         unconnected_gradients=unconnected_gradients)\n\u001b[0m\u001b[1;32m    957\u001b[0m \u001b[0;34m\u001b[0m\u001b[0m\n\u001b[1;32m    958\u001b[0m     \u001b[0;32mif\u001b[0m \u001b[0;32mnot\u001b[0m \u001b[0mself\u001b[0m\u001b[0;34m.\u001b[0m\u001b[0m_persistent\u001b[0m\u001b[0;34m:\u001b[0m\u001b[0;34m\u001b[0m\u001b[0;34m\u001b[0m\u001b[0m\n",
      "\u001b[0;32m~/.conda/envs/tf-nightly/lib/python3.7/site-packages/tensorflow/python/eager/imperative_grad.py\u001b[0m in \u001b[0;36mimperative_grad\u001b[0;34m(tape, target, sources, output_gradients, unconnected_gradients)\u001b[0m\n\u001b[1;32m     70\u001b[0m       \u001b[0msources\u001b[0m\u001b[0;34m,\u001b[0m\u001b[0;34m\u001b[0m\u001b[0;34m\u001b[0m\u001b[0m\n\u001b[1;32m     71\u001b[0m       \u001b[0moutput_gradients\u001b[0m\u001b[0;34m,\u001b[0m\u001b[0;34m\u001b[0m\u001b[0;34m\u001b[0m\u001b[0m\n\u001b[0;32m---> 72\u001b[0;31m       compat.as_str(unconnected_gradients.value))\n\u001b[0m",
      "\u001b[0;32m~/.conda/envs/tf-nightly/lib/python3.7/site-packages/tensorflow/python/eager/backprop.py\u001b[0m in \u001b[0;36m_gradient_function\u001b[0;34m(op_name, attr_tuple, num_inputs, inputs, outputs, out_grads)\u001b[0m\n\u001b[1;32m    131\u001b[0m     \u001b[0;32mreturn\u001b[0m \u001b[0;34m[\u001b[0m\u001b[0;32mNone\u001b[0m\u001b[0;34m]\u001b[0m \u001b[0;34m*\u001b[0m \u001b[0mnum_inputs\u001b[0m\u001b[0;34m\u001b[0m\u001b[0;34m\u001b[0m\u001b[0m\n\u001b[1;32m    132\u001b[0m \u001b[0;34m\u001b[0m\u001b[0m\n\u001b[0;32m--> 133\u001b[0;31m   \u001b[0;32mreturn\u001b[0m \u001b[0mgrad_fn\u001b[0m\u001b[0;34m(\u001b[0m\u001b[0mmock_op\u001b[0m\u001b[0;34m,\u001b[0m \u001b[0;34m*\u001b[0m\u001b[0mout_grads\u001b[0m\u001b[0;34m)\u001b[0m\u001b[0;34m\u001b[0m\u001b[0;34m\u001b[0m\u001b[0m\n\u001b[0m\u001b[1;32m    134\u001b[0m \u001b[0;34m\u001b[0m\u001b[0m\n\u001b[1;32m    135\u001b[0m \u001b[0;34m\u001b[0m\u001b[0m\n",
      "\u001b[0;32m~/.conda/envs/tf-nightly/lib/python3.7/site-packages/tensorflow/python/ops/nn_grad.py\u001b[0m in \u001b[0;36m_Conv2DGrad\u001b[0;34m(op, grad)\u001b[0m\n\u001b[1;32m    589\u001b[0m           \u001b[0mexplicit_paddings\u001b[0m\u001b[0;34m=\u001b[0m\u001b[0mexplicit_paddings\u001b[0m\u001b[0;34m,\u001b[0m\u001b[0;34m\u001b[0m\u001b[0;34m\u001b[0m\u001b[0m\n\u001b[1;32m    590\u001b[0m           \u001b[0muse_cudnn_on_gpu\u001b[0m\u001b[0;34m=\u001b[0m\u001b[0muse_cudnn_on_gpu\u001b[0m\u001b[0;34m,\u001b[0m\u001b[0;34m\u001b[0m\u001b[0;34m\u001b[0m\u001b[0m\n\u001b[0;32m--> 591\u001b[0;31m           data_format=data_format),\n\u001b[0m\u001b[1;32m    592\u001b[0m       gen_nn_ops.conv2d_backprop_filter(\n\u001b[1;32m    593\u001b[0m           \u001b[0mop\u001b[0m\u001b[0;34m.\u001b[0m\u001b[0minputs\u001b[0m\u001b[0;34m[\u001b[0m\u001b[0;36m0\u001b[0m\u001b[0;34m]\u001b[0m\u001b[0;34m,\u001b[0m\u001b[0;34m\u001b[0m\u001b[0;34m\u001b[0m\u001b[0m\n",
      "\u001b[0;32m~/.conda/envs/tf-nightly/lib/python3.7/site-packages/tensorflow/python/ops/gen_nn_ops.py\u001b[0m in \u001b[0;36mconv2d_backprop_input\u001b[0;34m(input_sizes, filter, out_backprop, strides, padding, use_cudnn_on_gpu, explicit_paddings, data_format, dilations, name)\u001b[0m\n\u001b[1;32m   1354\u001b[0m         \u001b[0;34m\"use_cudnn_on_gpu\"\u001b[0m\u001b[0;34m,\u001b[0m \u001b[0muse_cudnn_on_gpu\u001b[0m\u001b[0;34m,\u001b[0m \u001b[0;34m\"padding\"\u001b[0m\u001b[0;34m,\u001b[0m \u001b[0mpadding\u001b[0m\u001b[0;34m,\u001b[0m\u001b[0;34m\u001b[0m\u001b[0;34m\u001b[0m\u001b[0m\n\u001b[1;32m   1355\u001b[0m         \u001b[0;34m\"explicit_paddings\"\u001b[0m\u001b[0;34m,\u001b[0m \u001b[0mexplicit_paddings\u001b[0m\u001b[0;34m,\u001b[0m \u001b[0;34m\"data_format\"\u001b[0m\u001b[0;34m,\u001b[0m \u001b[0mdata_format\u001b[0m\u001b[0;34m,\u001b[0m\u001b[0;34m\u001b[0m\u001b[0;34m\u001b[0m\u001b[0m\n\u001b[0;32m-> 1356\u001b[0;31m         \"dilations\", dilations)\n\u001b[0m\u001b[1;32m   1357\u001b[0m       \u001b[0;32mreturn\u001b[0m \u001b[0m_result\u001b[0m\u001b[0;34m\u001b[0m\u001b[0;34m\u001b[0m\u001b[0m\n\u001b[1;32m   1358\u001b[0m     \u001b[0;32mexcept\u001b[0m \u001b[0m_core\u001b[0m\u001b[0;34m.\u001b[0m\u001b[0m_FallbackException\u001b[0m\u001b[0;34m:\u001b[0m\u001b[0;34m\u001b[0m\u001b[0;34m\u001b[0m\u001b[0m\n",
      "\u001b[0;31mKeyboardInterrupt\u001b[0m: "
     ]
    }
   ],
   "source": [
    "#from conv_laplacian_loss import conv_laplacian_loss\n",
    "while True:\n",
    "    b, soln, dx = generate_laplace_soln(batch_size=200, nonzero_boundaries=['left'], smoothness=np.random.randint(5,20), nx = np.random.randint(64,128), ny = np.random.randint(64,128))\n",
    "    mod.x_output_resolution = soln.shape[-2]\n",
    "    lf = Lp_integral_norm((soln.shape[-2], soln.shape[-1]), [0,soln.shape[-2] * dx, 0, soln.shape[-1] * dx], n_quadpts = 25, mse_component_weight = 5e+0)\n",
    "    #cll = conv_laplacian_loss((soln.shape[-2], soln.shape[-1]))\n",
    "    with tf.GradientTape() as tape:\n",
    "        tape.watch(mod.trainable_variables)\n",
    "        \n",
    "        #loss versions with dx arg\n",
    "        #loss = tf.reduce_sum(tf.losses.mean_squared_error(soln, mod([tf.expand_dims(b['left'], axis = 1),dx * tf.ones((soln.shape[0],1), dtype = 'float64')])))\n",
    "        loss = lf(soln, mod([tf.expand_dims(b['left'], axis = 1), dx * tf.ones((soln.shape[0],1), dtype = 'float64')]))\n",
    "        \n",
    "        #loss versions with no dx arg\n",
    "        #loss = lf(soln, mod(tf.expand_dims(b['left'], axis = 1)))\n",
    "        #loss = tf.reduce_sum(tf.losses.mean_squared_error(soln, mod(tf.expand_dims(b['left'], axis = 1))))\n",
    "    grads = tape.gradient(loss, mod.trainable_variables)\n",
    "    optimizer.apply_gradients(zip(grads, mod.trainable_variables))\n",
    "    print(loss)"
   ]
  },
  {
   "cell_type": "code",
   "execution_count": 13,
   "metadata": {},
   "outputs": [
    {
     "name": "stdout",
     "output_type": "stream",
     "text": [
      "Model: \"dirichlet_bc_nn_2b\"\n",
      "_________________________________________________________________\n",
      "Layer (type)                 Output Shape              Param #   \n",
      "=================================================================\n",
      "conv1d (Conv1D)              multiple                  24        \n",
      "_________________________________________________________________\n",
      "conv1d_1 (Conv1D)            multiple                  168       \n",
      "_________________________________________________________________\n",
      "conv1d_2 (Conv1D)            multiple                  10496     \n",
      "_________________________________________________________________\n",
      "sep_conv_block (SepConvBlock multiple                  2100      \n",
      "_________________________________________________________________\n",
      "sep_conv_block_1 (SepConvBlo multiple                  5964      \n",
      "_________________________________________________________________\n",
      "sep_conv_block_2 (SepConvBlo multiple                  5964      \n",
      "_________________________________________________________________\n",
      "sep_conv_block_3 (SepConvBlo multiple                  5964      \n",
      "_________________________________________________________________\n",
      "conv2d_4 (Conv2D)            multiple                  808       \n",
      "_________________________________________________________________\n",
      "upsample2 (Upsample2)        multiple                  0         \n",
      "_________________________________________________________________\n",
      "conv2d_5 (Conv2D)            multiple                  649       \n",
      "_________________________________________________________________\n",
      "dense (Dense)                multiple                  8         \n",
      "_________________________________________________________________\n",
      "dense_1 (Dense)              multiple                  80        \n",
      "_________________________________________________________________\n",
      "dense_2 (Dense)              multiple                  4352      \n",
      "=================================================================\n",
      "Total params: 36,577\n",
      "Trainable params: 36,577\n",
      "Non-trainable params: 0\n",
      "_________________________________________________________________\n"
     ]
    }
   ],
   "source": [
    "mod.summary()"
   ]
  },
  {
   "cell_type": "code",
   "execution_count": 15,
   "metadata": {},
   "outputs": [
    {
     "name": "stdout",
     "output_type": "stream",
     "text": [
      "(100, 1, 82, 117)\n",
      "(100, 117)\n"
     ]
    }
   ],
   "source": [
    "print(mod(tf.expand_dims(b['left'], axis = 1)).shape)\n",
    "print(b['left'].shape)"
   ]
  },
  {
   "cell_type": "code",
   "execution_count": 26,
   "metadata": {},
   "outputs": [
    {
     "name": "stdout",
     "output_type": "stream",
     "text": [
      "(118, 83)\n",
      "(118, 83)\n"
     ]
    },
    {
     "data": {
      "image/png": "[encoded data removed]",
      "text/plain": [
       "<Figure size 432x288 with 2 Axes>"
      ]
     },
     "metadata": {
      "needs_background": "light"
     },
     "output_type": "display_data"
    }
   ],
   "source": [
    "x, y = np.meshgrid(np.linspace(0, soln.shape[-2]*dx, soln.shape[-2]), np.linspace(0, soln.shape[-1]*dx, soln.shape[-1]), indexing = 'ij')\n",
    "p_r = np.random.randint(0,soln.shape[0])\n",
    "z = soln[p_r,0,...]\n",
    "print(z.shape)\n",
    "print(x.shape)\n",
    "#z = mod([tf.expand_dims(b['left'], axis = 1), dx * tf.ones((soln.shape[0],1), dtype = 'float64')])[p_r,0,...]\n",
    "#z = mod(tf.expand_dims(b['left'], axis = 1))[p_r,0,...]\n",
    "#z = mod(tf.expand_dims(b['left'], axis = 1))[p_r,0,...]-soln[p_r,0,...]\n",
    "z_min, z_max = -np.abs(z).max(), np.abs(z).max()\n",
    "fig, ax = plt.subplots()\n",
    "c = ax.pcolormesh(x, y, z, cmap='RdBu', vmin=z_min, vmax=z_max)\n",
    "ax.set_title('result')\n",
    "ax.axis([x.min(), x.max(), y.min(), y.max()])\n",
    "fig.colorbar(c, ax=ax)\n",
    "\n",
    "plt.show()"
   ]
  },
  {
   "cell_type": "code",
   "execution_count": 27,
   "metadata": {},
   "outputs": [
    {
     "name": "stdout",
     "output_type": "stream",
     "text": [
      "(118, 83)\n",
      "(118, 83)\n"
     ]
    },
    {
     "data": {
      "image/png": "[encoded data removed]",
      "text/plain": [
       "<Figure size 432x288 with 2 Axes>"
      ]
     },
     "metadata": {
      "needs_background": "light"
     },
     "output_type": "display_data"
    }
   ],
   "source": [
    "x, y = np.meshgrid(np.linspace(0, soln.shape[-2]*dx, soln.shape[-2]), np.linspace(0, soln.shape[-1]*dx, soln.shape[-1]), indexing = 'ij')\n",
    "#p_r = np.random.randint(0,soln.shape[0])\n",
    "#z = soln[p_r,0,...]\n",
    "print(z.shape)\n",
    "print(x.shape)\n",
    "z = mod([tf.expand_dims(b['left'], axis = 1), dx * tf.ones((soln.shape[0],1), dtype = 'float64')])[p_r,0,...]\n",
    "#z = mod(tf.expand_dims(b['left'], axis = 1))[p_r,0,...]\n",
    "#z = mod(tf.expand_dims(b['left'], axis = 1))[p_r,0,...]-soln[p_r,0,...]\n",
    "z_min, z_max = -np.abs(z).max(), np.abs(z).max()\n",
    "fig, ax = plt.subplots()\n",
    "c = ax.pcolormesh(x, y, z, cmap='RdBu', vmin=z_min, vmax=z_max)\n",
    "ax.set_title('result')\n",
    "ax.axis([x.min(), x.max(), y.min(), y.max()])\n",
    "fig.colorbar(c, ax=ax)\n",
    "\n",
    "plt.show()"
   ]
  },
  {
   "cell_type": "code",
   "execution_count": null,
   "metadata": {},
   "outputs": [],
   "source": [
    "b['left'].shape"
   ]
  },
  {
   "cell_type": "code",
   "execution_count": 28,
   "metadata": {},
   "outputs": [],
   "source": [
    "mod.save_weights('Dirichlet_BC_NN_2B.h5')"
   ]
  }
 ],
 "metadata": {
  "kernelspec": {
   "display_name": "Python 3",
   "language": "python",
   "name": "python3"
  },
  "language_info": {
   "codemirror_mode": {
    "name": "ipython",
    "version": 3
   },
   "file_extension": ".py",
   "mimetype": "text/x-python",
   "name": "python",
   "nbconvert_exporter": "python",
   "pygments_lexer": "ipython3",
   "version": "3.7.3"
  }
 },
 "nbformat": 4,
 "nbformat_minor": 2
}
