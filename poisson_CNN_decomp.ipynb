{
 "cells": [
  {
   "cell_type": "code",
   "execution_count": null,
   "metadata": {},
   "outputs": [],
   "source": [
    "import numpy as np\n",
    "import tensorflow as tf\n",
    "from tensorflow.keras.models import Model\n",
    "from tensorflow.keras.layers import Input, Dense, Conv2D, Flatten, Conv2DTranspose, AveragePooling2D, Add, Reshape\n",
    "from scipy.interpolate import RectBivariateSpline\n",
    "import tensorflow.contrib.eager as tfe\n",
    "import matplotlib.pyplot as plt\n",
    "from mpl_toolkits.mplot3d import Axes3D\n",
    "from Boundary import Boundary1D\n",
    "from MergeWithAttention import MergeWithAttention2\n",
    "from collections.abc import Iterable\n",
    "from conv_laplacian_loss import conv_laplacian_loss\n",
    "import itertools, h5py\n",
    "from multiprocessing import Pool as ThreadPool\n",
    "from Lp_integral_norm import Lp_integral_norm\n",
    "from Upsample import Upsample\n",
    "opts = tf.GPUOptions(per_process_gpu_memory_fraction=0.95)\n",
    "conf = tf.ConfigProto(gpu_options=opts)\n",
    "tfe.enable_eager_execution(config=conf)\n",
    "tf.keras.backend.set_floatx('float64')"
   ]
  },
  {
   "cell_type": "code",
   "execution_count": null,
   "metadata": {},
   "outputs": [],
   "source": [
    "ntest = 64\n",
    "h = 0.05\n",
    "folder = 'dataset_' + str(ntest)"
   ]
  },
  {
   "cell_type": "code",
   "execution_count": 3,
   "metadata": {},
   "outputs": [],
   "source": [
    "for i in range(0,5):\n",
    "    with h5py.File(folder + '/range_0_1/dataset' + str(i) + '_01.h5', 'r') as hf:\n",
    "        F = np.array(hf.get('F'), dtype = np.float64)\n",
    "        soln = np.array(hf.get('soln'), dtype = np.float64)\n",
    "        try:\n",
    "            train_data = train_data.concatenate(tf.data.Dataset.from_tensor_slices((F,soln)))\n",
    "        except:\n",
    "            train_data = tf.data.Dataset.from_tensor_slices((F,soln))"
   ]
  },
  {
   "cell_type": "code",
   "execution_count": null,
   "metadata": {},
   "outputs": [],
   "source": [
    "for i in range(5,6):\n",
    "    with h5py.File(folder + '/range_0_1/dataset' + str(i) + '_01.h5', 'r') as hf:\n",
    "        F = np.array(hf.get('F'), dtype = np.float64)\n",
    "        soln = np.array(hf.get('soln'), dtype = np.float64)\n",
    "        try:\n",
    "            valid_data = valid_data.concatenate(tf.data.Dataset.from_tensor_slices((F,soln)))\n",
    "        except:\n",
    "            valid_data = tf.data.Dataset.from_tensor_slices((F,soln))"
   ]
  },
  {
   "cell_type": "code",
   "execution_count": 3,
   "metadata": {},
   "outputs": [],
   "source": [
    "with h5py.File(folder + '/dataset0_-11_constant_alt.h5', 'r') as hf:\n",
    "    F = np.array(hf.get('F'), dtype = np.float64)\n",
    "    soln = np.array(hf.get('soln'), dtype = np.float64)\n",
    "    try:\n",
    "        train_data_const = train_data.concatenate(tf.data.Dataset.from_tensor_slices((F,soln)))\n",
    "    except:\n",
    "        train_data_const = tf.data.Dataset.from_tensor_slices((F,soln))"
   ]
  },
  {
   "cell_type": "code",
   "execution_count": null,
   "metadata": {},
   "outputs": [],
   "source": [
    "shuffle_size = 100000\n",
    "batch_size = 200\n",
    "#train_data = train_data.shuffle(shuffle_size).batch(batch_size)\n",
    "#train_data_const = train_data_const.shuffle(shuffle_size).batch(batch_size)\n",
    "valid_data = valid_data.shuffle(shuffle_size).batch(batch_size)\n",
    "#del F, soln, train_data_const"
   ]
  },
  {
   "cell_type": "code",
   "execution_count": 3,
   "metadata": {},
   "outputs": [],
   "source": [
    "from fluidnet_influenced_model import fluidnet_influenced\n",
    "#b_01 = fluidnet_influenced(np.array((ntest,ntest)), load_weights_from = folder + '/model_test_denseupscaling_decomp.h5', downsampling_layer = 'Conv2D', upsampling_layer = 'Dense', intermediate_channels = 4, final_activation = 'linear', dense_upscaling_max_flatten_size=64)\n",
    "#b_01 = fluidnet_influenced(np.array((ntest,ntest)), load_weights_from = folder + '/model_test_denseupscaling_decomp.h5', downsampling_layer = 'Conv2D', upsampling_layer = 'Dense', intermediate_channels = 4, final_activation = 'linear', dense_upscaling_max_flatten_size=64)\n",
    "#b_01.summary()"
   ]
  },
  {
   "cell_type": "code",
   "execution_count": 21,
   "metadata": {},
   "outputs": [],
   "source": [
    "b_01.compile(optimizer = tf.train.AdamOptimizer(learning_rate=1e-5), loss = Lp_integral_norm((64,64), domain = [0,ntest*h,0,ntest*h], n_quadpts = 20, quadpts_randomization = 2, mse_component_weight = 1e+0), metrics = ['mse','mae'])"
   ]
  },
  {
   "cell_type": "code",
   "execution_count": null,
   "metadata": {},
   "outputs": [],
   "source": [
    "b_01.fit(train_data, steps_per_epoch=50, epochs=20, validation_data=valid_data, validation_steps=3)"
   ]
  },
  {
   "cell_type": "code",
   "execution_count": 42,
   "metadata": {},
   "outputs": [],
   "source": [
    "b_01.save_weights(folder + '/model_test_denseupscaling_decomp.h5')"
   ]
  },
  {
   "cell_type": "code",
   "execution_count": 4,
   "metadata": {},
   "outputs": [],
   "source": [
    "from constant_rhs_to_soln_model import constant_rhs_to_soln_dense\n",
    "b_const = constant_rhs_to_soln_dense(np.array((ntest,ntest)), load_weights_from=folder + '/model_test_const_dense.h5')"
   ]
  },
  {
   "cell_type": "code",
   "execution_count": 18,
   "metadata": {},
   "outputs": [
    {
     "name": "stdout",
     "output_type": "stream",
     "text": [
      "_________________________________________________________________\n",
      "Layer (type)                 Output Shape              Param #   \n",
      "=================================================================\n",
      "input_1 (InputLayer)         (None, 1)                 0         \n",
      "_________________________________________________________________\n",
      "dense (Dense)                (None, 4096)              8192      \n",
      "_________________________________________________________________\n",
      "reshape (Reshape)            (None, 1, 64, 64)         0         \n",
      "_________________________________________________________________\n",
      "conv2d (Conv2D)              (None, 16, 64, 64)        160       \n",
      "_________________________________________________________________\n",
      "conv2d_1 (Conv2D)            (None, 8, 64, 64)         1160      \n",
      "_________________________________________________________________\n",
      "conv2d_2 (Conv2D)            (None, 1, 64, 64)         73        \n",
      "=================================================================\n",
      "Total params: 9,585\n",
      "Trainable params: 9,585\n",
      "Non-trainable params: 0\n",
      "_________________________________________________________________\n"
     ]
    }
   ],
   "source": [
    "b_const.compile(optimizer = tf.train.AdamOptimizer(learning_rate=1e-4), loss = 'mse')"
   ]
  },
  {
   "cell_type": "code",
   "execution_count": null,
   "metadata": {},
   "outputs": [],
   "source": [
    "while True:\n",
    "    b_const.fit(train_data_const, steps_per_epoch=20, epochs=10)"
   ]
  },
  {
   "cell_type": "code",
   "execution_count": 19,
   "metadata": {},
   "outputs": [],
   "source": [
    "b_const.save_weights(folder + '/model_test_const_dense.h5')"
   ]
  },
  {
   "cell_type": "code",
   "execution_count": 27,
   "metadata": {},
   "outputs": [
    {
     "data": {
      "image/png": "[encoded data removed]",
      "text/plain": [
       "<Figure size 432x288 with 2 Axes>"
      ]
     },
     "metadata": {
      "needs_background": "light"
     },
     "output_type": "display_data"
    }
   ],
   "source": [
    "#plotting\n",
    "#p = valid_data.make_one_shot_iterator().get_next()\n",
    "#p_r = np.random.randint(0,batch_size)\n",
    "y, x = np.meshgrid(np.linspace(0, ntest*h, ntest), np.linspace(0, ntest*h, ntest))\n",
    "#z = b_01.predict(tf.expand_dims(p[0][p_r,...], axis=0))[0,0,...]\n",
    "#z = p[1][p_r,0,...]\n",
    "z = batch[0][21,0,...]\n",
    "#z = b_01.predict(tf.expand_dims(p[0][p_r,...], axis=0))[0,0,...] - p[1][p_r,0,...]\n",
    "z_min, z_max = -np.abs(z).max(), np.abs(z).max()\n",
    "fig, ax = plt.subplots()\n",
    "c = ax.pcolormesh(x, y, z, cmap='RdBu', vmin=z_min, vmax=z_max)\n",
    "ax.set_title('error')\n",
    "ax.axis([x.min(), x.max(), y.min(), y.max()])\n",
    "fig.colorbar(c, ax=ax)\n",
    "\n",
    "plt.show()"
   ]
  },
  {
   "cell_type": "code",
   "execution_count": 27,
   "metadata": {},
   "outputs": [
    {
     "data": {
      "text/plain": [
       "<tf.Tensor: id=11985869, shape=(), dtype=float64, numpy=0.012471161810072>"
      ]
     },
     "execution_count": 27,
     "metadata": {},
     "output_type": "execute_result"
    }
   ],
   "source": [
    "#mean % error\n",
    "tf.reduce_mean(tf.abs(b_01.predict(p[0][...]) - p[1][...]))/tf.reduce_mean(tf.abs(p[1][...]))"
   ]
  },
  {
   "cell_type": "code",
   "execution_count": 34,
   "metadata": {},
   "outputs": [
    {
     "data": {
      "text/plain": [
       "<tf.Tensor: id=5410203, shape=(), dtype=float64, numpy=0.5258203600722624>"
      ]
     },
     "execution_count": 34,
     "metadata": {},
     "output_type": "execute_result"
    }
   ],
   "source": [
    "cll = conv_laplacian_loss((ntest,ntest),h)\n",
    "cll(b.predict(p[0]), p[1])\n",
    "#cll(b.predict(tf.ones((1,1,ntest,ntest), dtype=tf.keras.backend.floatx())),tf.ones((1,1,ntest,ntest), dtype=tf.keras.backend.floatx()))"
   ]
  },
  {
   "cell_type": "code",
   "execution_count": 5,
   "metadata": {},
   "outputs": [],
   "source": [
    "for i in range(0,5):\n",
    "    with h5py.File(folder + '/range_-1_1/dataset' + str(i) + '_-11.h5', 'r') as hf:\n",
    "        F = np.array(hf.get('F'), dtype = np.float64)\n",
    "        soln = np.array(hf.get('soln'), dtype = np.float64)\n",
    "        try:\n",
    "            train_data = train_data.concatenate(tf.data.Dataset.from_tensor_slices((F,soln)))\n",
    "        except:\n",
    "            train_data = tf.data.Dataset.from_tensor_slices((F,soln))"
   ]
  },
  {
   "cell_type": "code",
   "execution_count": 6,
   "metadata": {},
   "outputs": [],
   "source": [
    "for i in range(5,6):\n",
    "    with h5py.File(folder + '/range_-1_1/dataset' + str(i) + '_-11.h5', 'r') as hf:\n",
    "        F = np.array(hf.get('F'), dtype = np.float64)\n",
    "        soln = np.array(hf.get('soln'), dtype = np.float64)\n",
    "        try:\n",
    "            valid_data = train_data.concatenate(tf.data.Dataset.from_tensor_slices((F,soln)))\n",
    "        except:\n",
    "            valid_data = tf.data.Dataset.from_tensor_slices((F,soln))"
   ]
  },
  {
   "cell_type": "code",
   "execution_count": null,
   "metadata": {},
   "outputs": [],
   "source": [
    "@tfe.defun\n",
    "def batch_normalize(batch):\n",
    "    lower_bounds = tf.map_fn(tf.reduce_min,batch)\n",
    "    upper_bounds = tf.map_fn(tf.reduce_max,batch)\n",
    "    alpha = upper_bounds-lower_bounds\n",
    "    g = tf.map_fn(lambda x: (x[0]-x[1])/x[2], (batch, lower_bounds, alpha), dtype = tf.float64)#(f-d)/alpha\n",
    "    return g, lower_bounds, alpha"
   ]
  },
  {
   "cell_type": "code",
   "execution_count": 18,
   "metadata": {},
   "outputs": [
    {
     "name": "stdout",
     "output_type": "stream",
     "text": [
      "-----------------\n",
      "loss: tf.Tensor(0.27320203999523335, shape=(), dtype=float64)\n",
      "mse error: tf.Tensor(0.011345396, shape=(), dtype=float32)\n",
      "-----------------\n",
      "loss: tf.Tensor(0.24348165505864608, shape=(), dtype=float64)\n",
      "mse error: tf.Tensor(0.009324707, shape=(), dtype=float32)\n",
      "-----------------\n",
      "loss: tf.Tensor(0.15574794607405265, shape=(), dtype=float64)\n",
      "mse error: tf.Tensor(0.002779319, shape=(), dtype=float32)\n",
      "-----------------\n",
      "loss: tf.Tensor(0.2853555083196846, shape=(), dtype=float64)\n",
      "mse error: tf.Tensor(0.012810357, shape=(), dtype=float32)\n",
      "-----------------\n",
      "loss: tf.Tensor(0.14641662053437454, shape=(), dtype=float64)\n",
      "mse error: tf.Tensor(0.0022181466, shape=(), dtype=float32)\n",
      "-----------------\n",
      "loss: tf.Tensor(0.15403973020359568, shape=(), dtype=float64)\n",
      "mse error: tf.Tensor(0.002886753, shape=(), dtype=float32)\n",
      "-----------------\n",
      "loss: tf.Tensor(0.14950518397687793, shape=(), dtype=float64)\n",
      "mse error: tf.Tensor(0.0024825884, shape=(), dtype=float32)\n",
      "-----------------\n",
      "loss: tf.Tensor(0.18124365525466618, shape=(), dtype=float64)\n",
      "mse error: tf.Tensor(0.004514813, shape=(), dtype=float32)\n",
      "-----------------\n",
      "loss: tf.Tensor(0.18392095012863666, shape=(), dtype=float64)\n",
      "mse error: tf.Tensor(0.004250713, shape=(), dtype=float32)\n",
      "-----------------\n",
      "loss: tf.Tensor(0.16456364661853726, shape=(), dtype=float64)\n",
      "mse error: tf.Tensor(0.0031301372, shape=(), dtype=float32)\n",
      "-----------------\n",
      "loss: tf.Tensor(0.15927135648564553, shape=(), dtype=float64)\n",
      "mse error: tf.Tensor(0.00295107, shape=(), dtype=float32)\n",
      "-----------------\n",
      "loss: tf.Tensor(0.15992284825351763, shape=(), dtype=float64)\n",
      "mse error: tf.Tensor(0.0032089446, shape=(), dtype=float32)\n",
      "-----------------\n",
      "loss: tf.Tensor(0.18935406303507019, shape=(), dtype=float64)\n",
      "mse error: tf.Tensor(0.004395989, shape=(), dtype=float32)\n",
      "-----------------\n",
      "loss: tf.Tensor(0.21106405705111791, shape=(), dtype=float64)\n",
      "mse error: tf.Tensor(0.0067505883, shape=(), dtype=float32)\n",
      "-----------------\n",
      "loss: tf.Tensor(0.16420001915503435, shape=(), dtype=float64)\n",
      "mse error: tf.Tensor(0.003274011, shape=(), dtype=float32)\n",
      "-----------------\n",
      "loss: tf.Tensor(0.14080022948410964, shape=(), dtype=float64)\n",
      "mse error: tf.Tensor(0.0020891177, shape=(), dtype=float32)\n",
      "-----------------\n",
      "loss: tf.Tensor(0.1952889026892382, shape=(), dtype=float64)\n",
      "mse error: tf.Tensor(0.0053842445, shape=(), dtype=float32)\n",
      "-----------------\n",
      "loss: tf.Tensor(0.22982691116826054, shape=(), dtype=float64)\n",
      "mse error: tf.Tensor(0.0081936605, shape=(), dtype=float32)\n",
      "-----------------\n",
      "loss: tf.Tensor(0.15178454771143143, shape=(), dtype=float64)\n",
      "mse error: tf.Tensor(0.002761247, shape=(), dtype=float32)\n",
      "-----------------\n",
      "loss: tf.Tensor(0.14519093612655012, shape=(), dtype=float64)\n",
      "mse error: tf.Tensor(0.00220701, shape=(), dtype=float32)\n",
      "-----------------\n",
      "loss: tf.Tensor(0.22680435566541363, shape=(), dtype=float64)\n",
      "mse error: tf.Tensor(0.0077199335, shape=(), dtype=float32)\n",
      "-----------------\n",
      "loss: tf.Tensor(0.17832864711721969, shape=(), dtype=float64)\n",
      "mse error: tf.Tensor(0.0039117844, shape=(), dtype=float32)\n",
      "-----------------\n",
      "loss: tf.Tensor(0.1946614799317638, shape=(), dtype=float64)\n",
      "mse error: tf.Tensor(0.0056221853, shape=(), dtype=float32)\n",
      "-----------------\n",
      "loss: tf.Tensor(0.19995883778827367, shape=(), dtype=float64)\n",
      "mse error: tf.Tensor(0.0055018975, shape=(), dtype=float32)\n",
      "-----------------\n",
      "loss: tf.Tensor(0.2136531271050226, shape=(), dtype=float64)\n",
      "mse error: tf.Tensor(0.006950924, shape=(), dtype=float32)\n",
      "-----------------\n",
      "loss: tf.Tensor(0.19599475523122364, shape=(), dtype=float64)\n",
      "mse error: tf.Tensor(0.006520192, shape=(), dtype=float32)\n",
      "-----------------\n",
      "loss: tf.Tensor(0.22872840724222243, shape=(), dtype=float64)\n",
      "mse error: tf.Tensor(0.007733428, shape=(), dtype=float32)\n",
      "-----------------\n",
      "loss: tf.Tensor(0.158584440080628, shape=(), dtype=float64)\n",
      "mse error: tf.Tensor(0.002994435, shape=(), dtype=float32)\n",
      "-----------------\n",
      "loss: tf.Tensor(0.1482273252255975, shape=(), dtype=float64)\n",
      "mse error: tf.Tensor(0.0022950522, shape=(), dtype=float32)\n",
      "-----------------\n",
      "loss: tf.Tensor(0.2533884849878145, shape=(), dtype=float64)\n",
      "mse error: tf.Tensor(0.00916733, shape=(), dtype=float32)\n",
      "-----------------\n",
      "loss: tf.Tensor(0.15519662679788385, shape=(), dtype=float64)\n",
      "mse error: tf.Tensor(0.0027377605, shape=(), dtype=float32)\n",
      "-----------------\n",
      "loss: tf.Tensor(0.1764871667955646, shape=(), dtype=float64)\n",
      "mse error: tf.Tensor(0.0038790887, shape=(), dtype=float32)\n",
      "-----------------\n",
      "loss: tf.Tensor(0.18320231024577077, shape=(), dtype=float64)\n",
      "mse error: tf.Tensor(0.0042454475, shape=(), dtype=float32)\n",
      "-----------------\n",
      "loss: tf.Tensor(0.15369672773357895, shape=(), dtype=float64)\n",
      "mse error: tf.Tensor(0.0028337003, shape=(), dtype=float32)\n",
      "-----------------\n",
      "loss: tf.Tensor(0.21772777719946879, shape=(), dtype=float64)\n",
      "mse error: tf.Tensor(0.00685688, shape=(), dtype=float32)\n",
      "-----------------\n",
      "loss: tf.Tensor(0.14009933198258925, shape=(), dtype=float64)\n",
      "mse error: tf.Tensor(0.0021695425, shape=(), dtype=float32)\n",
      "-----------------\n",
      "loss: tf.Tensor(0.18812446755543427, shape=(), dtype=float64)\n",
      "mse error: tf.Tensor(0.0046826955, shape=(), dtype=float32)\n",
      "-----------------\n",
      "loss: tf.Tensor(0.21477674580798173, shape=(), dtype=float64)\n",
      "mse error: tf.Tensor(0.0066163596, shape=(), dtype=float32)\n",
      "-----------------\n",
      "loss: tf.Tensor(0.24218593653045972, shape=(), dtype=float64)\n",
      "mse error: tf.Tensor(0.008506824, shape=(), dtype=float32)\n",
      "-----------------\n",
      "loss: tf.Tensor(0.1920722643840591, shape=(), dtype=float64)\n",
      "mse error: tf.Tensor(0.005801978, shape=(), dtype=float32)\n",
      "-----------------\n",
      "loss: tf.Tensor(0.2755610634154922, shape=(), dtype=float64)\n",
      "mse error: tf.Tensor(0.011678377, shape=(), dtype=float32)\n",
      "-----------------\n",
      "loss: tf.Tensor(0.21312220497062584, shape=(), dtype=float64)\n",
      "mse error: tf.Tensor(0.008115308, shape=(), dtype=float32)\n",
      "-----------------\n",
      "loss: tf.Tensor(0.19724153836080988, shape=(), dtype=float64)\n",
      "mse error: tf.Tensor(0.0045784004, shape=(), dtype=float32)\n",
      "-----------------\n",
      "loss: tf.Tensor(0.1744047877141913, shape=(), dtype=float64)\n",
      "mse error: tf.Tensor(0.0038108854, shape=(), dtype=float32)\n",
      "-----------------\n",
      "loss: tf.Tensor(0.17812924004734362, shape=(), dtype=float64)\n",
      "mse error: tf.Tensor(0.004331302, shape=(), dtype=float32)\n",
      "-----------------\n",
      "loss: tf.Tensor(0.28160074453484263, shape=(), dtype=float64)\n",
      "mse error: tf.Tensor(0.013746241, shape=(), dtype=float32)\n",
      "-----------------\n",
      "loss: tf.Tensor(0.25283372675906474, shape=(), dtype=float64)\n",
      "mse error: tf.Tensor(0.010226496, shape=(), dtype=float32)\n",
      "-----------------\n",
      "loss: tf.Tensor(0.3099143629538396, shape=(), dtype=float64)\n",
      "mse error: tf.Tensor(0.013713038, shape=(), dtype=float32)\n",
      "-----------------\n",
      "loss: tf.Tensor(0.18497447750582258, shape=(), dtype=float64)\n",
      "mse error: tf.Tensor(0.0049960595, shape=(), dtype=float32)\n",
      "-----------------\n",
      "loss: tf.Tensor(0.22194893863236326, shape=(), dtype=float64)\n",
      "mse error: tf.Tensor(0.007171734, shape=(), dtype=float32)\n",
      "-----------------\n",
      "loss: tf.Tensor(0.3006248220529445, shape=(), dtype=float64)\n",
      "mse error: tf.Tensor(0.013795734, shape=(), dtype=float32)\n",
      "-----------------\n",
      "loss: tf.Tensor(0.1918840441288445, shape=(), dtype=float64)\n",
      "mse error: tf.Tensor(0.0048222383, shape=(), dtype=float32)\n",
      "-----------------\n",
      "loss: tf.Tensor(0.20426986525196372, shape=(), dtype=float64)\n",
      "mse error: tf.Tensor(0.0063462644, shape=(), dtype=float32)\n",
      "-----------------\n",
      "loss: tf.Tensor(0.19625226756203296, shape=(), dtype=float64)\n",
      "mse error: tf.Tensor(0.006247679, shape=(), dtype=float32)\n"
     ]
    },
    {
     "ename": "OutOfRangeError",
     "evalue": "End of sequence [Op:IteratorGetNextSync]",
     "output_type": "error",
     "traceback": [
      "\u001b[0;31m---------------------------------------------------------------------------\u001b[0m",
      "\u001b[0;31mOutOfRangeError\u001b[0m                           Traceback (most recent call last)",
      "\u001b[0;32m<ipython-input-18-57cdd6fe1c8c>\u001b[0m in \u001b[0;36m<module>\u001b[0;34m\u001b[0m\n\u001b[1;32m      4\u001b[0m \u001b[0;34m\u001b[0m\u001b[0m\n\u001b[1;32m      5\u001b[0m \u001b[0;32mfor\u001b[0m \u001b[0mi\u001b[0m \u001b[0;32min\u001b[0m \u001b[0mrange\u001b[0m\u001b[0;34m(\u001b[0m\u001b[0;36m2000\u001b[0m\u001b[0;34m)\u001b[0m\u001b[0;34m:\u001b[0m\u001b[0;34m\u001b[0m\u001b[0;34m\u001b[0m\u001b[0m\n\u001b[0;32m----> 6\u001b[0;31m     \u001b[0mbatch\u001b[0m \u001b[0;34m=\u001b[0m \u001b[0mp\u001b[0m\u001b[0;34m.\u001b[0m\u001b[0mget_next\u001b[0m\u001b[0;34m(\u001b[0m\u001b[0;34m)\u001b[0m\u001b[0;34m\u001b[0m\u001b[0;34m\u001b[0m\u001b[0m\n\u001b[0m\u001b[1;32m      7\u001b[0m     \u001b[0;32mwith\u001b[0m \u001b[0mtf\u001b[0m\u001b[0;34m.\u001b[0m\u001b[0mGradientTape\u001b[0m\u001b[0;34m(\u001b[0m\u001b[0mpersistent\u001b[0m\u001b[0;34m=\u001b[0m\u001b[0;32mTrue\u001b[0m\u001b[0;34m)\u001b[0m \u001b[0;32mas\u001b[0m \u001b[0mtape\u001b[0m\u001b[0;34m:\u001b[0m\u001b[0;34m\u001b[0m\u001b[0;34m\u001b[0m\u001b[0m\n\u001b[1;32m      8\u001b[0m         \u001b[0mg\u001b[0m\u001b[0;34m,\u001b[0m \u001b[0mlower_bounds\u001b[0m\u001b[0;34m,\u001b[0m \u001b[0malpha\u001b[0m \u001b[0;34m=\u001b[0m \u001b[0mbatch_normalize\u001b[0m\u001b[0;34m(\u001b[0m\u001b[0mbatch\u001b[0m\u001b[0;34m[\u001b[0m\u001b[0;36m0\u001b[0m\u001b[0;34m]\u001b[0m\u001b[0;34m)\u001b[0m\u001b[0;34m\u001b[0m\u001b[0;34m\u001b[0m\u001b[0m\n",
      "\u001b[0;32m~/anaconda3/envs/test1/lib/python3.6/site-packages/tensorflow/python/data/ops/iterator_ops.py\u001b[0m in \u001b[0;36mget_next\u001b[0;34m(***failed resolving arguments***)\u001b[0m\n\u001b[1;32m    621\u001b[0m     \"\"\"\n\u001b[1;32m    622\u001b[0m     \u001b[0;32mdel\u001b[0m \u001b[0mname\u001b[0m\u001b[0;34m\u001b[0m\u001b[0;34m\u001b[0m\u001b[0m\n\u001b[0;32m--> 623\u001b[0;31m     \u001b[0;32mreturn\u001b[0m \u001b[0mself\u001b[0m\u001b[0;34m.\u001b[0m\u001b[0m_next_internal\u001b[0m\u001b[0;34m(\u001b[0m\u001b[0;34m)\u001b[0m\u001b[0;34m\u001b[0m\u001b[0;34m\u001b[0m\u001b[0m\n\u001b[0m\u001b[1;32m    624\u001b[0m \u001b[0;34m\u001b[0m\u001b[0m\n\u001b[1;32m    625\u001b[0m   \u001b[0;32mdef\u001b[0m \u001b[0m_gather_saveables_for_checkpoint\u001b[0m\u001b[0;34m(\u001b[0m\u001b[0mself\u001b[0m\u001b[0;34m)\u001b[0m\u001b[0;34m:\u001b[0m\u001b[0;34m\u001b[0m\u001b[0;34m\u001b[0m\u001b[0m\n",
      "\u001b[0;32m~/anaconda3/envs/test1/lib/python3.6/site-packages/tensorflow/python/data/ops/iterator_ops.py\u001b[0m in \u001b[0;36m_next_internal\u001b[0;34m(self)\u001b[0m\n\u001b[1;32m    562\u001b[0m             \u001b[0mself\u001b[0m\u001b[0;34m.\u001b[0m\u001b[0m_resource\u001b[0m\u001b[0;34m,\u001b[0m\u001b[0;34m\u001b[0m\u001b[0;34m\u001b[0m\u001b[0m\n\u001b[1;32m    563\u001b[0m             \u001b[0moutput_types\u001b[0m\u001b[0;34m=\u001b[0m\u001b[0mself\u001b[0m\u001b[0;34m.\u001b[0m\u001b[0m_flat_output_types\u001b[0m\u001b[0;34m,\u001b[0m\u001b[0;34m\u001b[0m\u001b[0;34m\u001b[0m\u001b[0m\n\u001b[0;32m--> 564\u001b[0;31m             output_shapes=self._flat_output_shapes)\n\u001b[0m\u001b[1;32m    565\u001b[0m \u001b[0;34m\u001b[0m\u001b[0m\n\u001b[1;32m    566\u001b[0m       return sparse.deserialize_sparse_tensors(\n",
      "\u001b[0;32m~/anaconda3/envs/test1/lib/python3.6/site-packages/tensorflow/python/ops/gen_dataset_ops.py\u001b[0m in \u001b[0;36miterator_get_next_sync\u001b[0;34m(iterator, output_types, output_shapes, name)\u001b[0m\n\u001b[1;32m   2264\u001b[0m       \u001b[0;32melse\u001b[0m\u001b[0;34m:\u001b[0m\u001b[0;34m\u001b[0m\u001b[0;34m\u001b[0m\u001b[0m\n\u001b[1;32m   2265\u001b[0m         \u001b[0mmessage\u001b[0m \u001b[0;34m=\u001b[0m \u001b[0me\u001b[0m\u001b[0;34m.\u001b[0m\u001b[0mmessage\u001b[0m\u001b[0;34m\u001b[0m\u001b[0;34m\u001b[0m\u001b[0m\n\u001b[0;32m-> 2266\u001b[0;31m       \u001b[0m_six\u001b[0m\u001b[0;34m.\u001b[0m\u001b[0mraise_from\u001b[0m\u001b[0;34m(\u001b[0m\u001b[0m_core\u001b[0m\u001b[0;34m.\u001b[0m\u001b[0m_status_to_exception\u001b[0m\u001b[0;34m(\u001b[0m\u001b[0me\u001b[0m\u001b[0;34m.\u001b[0m\u001b[0mcode\u001b[0m\u001b[0;34m,\u001b[0m \u001b[0mmessage\u001b[0m\u001b[0;34m)\u001b[0m\u001b[0;34m,\u001b[0m \u001b[0;32mNone\u001b[0m\u001b[0;34m)\u001b[0m\u001b[0;34m\u001b[0m\u001b[0;34m\u001b[0m\u001b[0m\n\u001b[0m\u001b[1;32m   2267\u001b[0m \u001b[0;34m\u001b[0m\u001b[0m\n\u001b[1;32m   2268\u001b[0m \u001b[0;34m\u001b[0m\u001b[0m\n",
      "\u001b[0;32m~/anaconda3/envs/test1/lib/python3.6/site-packages/six.py\u001b[0m in \u001b[0;36mraise_from\u001b[0;34m(value, from_value)\u001b[0m\n",
      "\u001b[0;31mOutOfRangeError\u001b[0m: End of sequence [Op:IteratorGetNextSync]"
     ]
    }
   ],
   "source": [
    "#p = train_data.make_one_shot_iterator()\n",
    "#loss_function = Lp_integral_norm((64,64), domain = [0,ntest*h,0,ntest*h], n_quadpts = 20, quadpts_randomization = 2, mse_component_weight = 1e+1)\n",
    "optimizer = tf.train.AdamOptimizer(learning_rate=1e-8)\n",
    "\n",
    "for i in range(2000):\n",
    "    batch = p.get_next()\n",
    "    with tf.GradientTape(persistent=True) as tape:\n",
    "        g, lower_bounds, alpha = batch_normalize(batch[0])\n",
    "        s = b_01(g)\n",
    "        w = b_const(tf.expand_dims(lower_bounds, axis=1))\n",
    "        res = tf.einsum('ijkl,i->ijkl',s,alpha) + w\n",
    "        loss = loss_function(batch[1], res)\n",
    "    grads_01 = tape.gradient(loss,b_01.trainable_variables)\n",
    "    grads_const = tape.gradient(loss,b_const.trainable_variables)\n",
    "    optimizer.apply_gradients(zip(grads_01, b_01.trainable_variables))\n",
    "    optimizer.apply_gradients(zip(grads_const, b_const.trainable_variables))\n",
    "    if i%10 == 0:\n",
    "        print('-----------------')\n",
    "        print('loss: ' + str(loss))\n",
    "        print('mse error: ' + str(tf.losses.mean_squared_error(res, batch[1])))"
   ]
  },
  {
   "cell_type": "code",
   "execution_count": 16,
   "metadata": {},
   "outputs": [
    {
     "data": {
      "image/png": "[encoded data removed]",
      "text/plain": [
       "<Figure size 432x288 with 2 Axes>"
      ]
     },
     "metadata": {
      "needs_background": "light"
     },
     "output_type": "display_data"
    }
   ],
   "source": [
    "#p = test_data.make_one_shot_iterator().get_next()\n",
    "#p_r = np.random.randint(0,batch_size)\n",
    "\n",
    "y, x = np.meshgrid(np.linspace(0, ntest*h, ntest), np.linspace(0, ntest*h, ntest))\n",
    "z = batch[1][p_r,0,...]#p[1][p_r,0,...]\n",
    "z = res[p_r,0,...]\n",
    "#z = res[p_r,0,...] - batch[1][p_r,0,...]#alpha * s[0,0,...] + d * q[0,0,...] - p[1][p_r,0,...]\n",
    "z_min, z_max = -np.abs(z).max(), np.abs(z).max()\n",
    "fig, ax = plt.subplots()\n",
    "c = ax.pcolormesh(x, y, z, cmap='RdBu', vmin=z_min, vmax=z_max)\n",
    "ax.set_title('error')\n",
    "ax.axis([x.min(), x.max(), y.min(), y.max()])\n",
    "fig.colorbar(c, ax=ax)\n",
    "\n",
    "plt.show()"
   ]
  }
 ],
 "metadata": {
  "kernelspec": {
   "display_name": "py3.6",
   "language": "python",
   "name": "py3.6"
  },
  "language_info": {
   "codemirror_mode": {
    "name": "ipython",
    "version": 3
   },
   "file_extension": ".py",
   "mimetype": "text/x-python",
   "name": "python",
   "nbconvert_exporter": "python",
   "pygments_lexer": "ipython3",
   "version": "3.6.7"
  }
 },
 "nbformat": 4,
 "nbformat_minor": 2
}
