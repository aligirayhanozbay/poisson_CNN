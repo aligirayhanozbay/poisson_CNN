{
 "cells": [
  {
   "cell_type": "code",
   "execution_count": 1,
   "metadata": {},
   "outputs": [],
   "source": [
    "import tensorflow as tf\n",
    "from Dirichlet_BC_NN import *#Dirichlet_BC_NN, Dirichlet_BC_NN_2\n",
    "from Lp_integral_norm import Lp_integral_norm\n",
    "from generate_laplace_soln import generate_laplace_soln\n",
    "import numpy as np\n",
    "import matplotlib.pyplot as plt\n",
    "#tf.enable_eager_execution()\n",
    "tf.keras.backend.set_floatx('float64')"
   ]
  },
  {
   "cell_type": "code",
   "execution_count": 2,
   "metadata": {},
   "outputs": [],
   "source": [
    "#mod = Dirichlet_BC_NN()\n",
    "mod = Dirichlet_BC_NN_2(data_format = 'channels_first')\n",
    "#mod = Dirichlet_BC_NN_3()"
   ]
  },
  {
   "cell_type": "code",
   "execution_count": 31,
   "metadata": {},
   "outputs": [
    {
     "name": "stdout",
     "output_type": "stream",
     "text": [
      "tf.Tensor(0.26955151089152546, shape=(), dtype=float64)\n",
      "tf.Tensor(0.21613420321998614, shape=(), dtype=float64)\n",
      "tf.Tensor(0.07901436808473526, shape=(), dtype=float64)\n",
      "tf.Tensor(0.15782647626590818, shape=(), dtype=float64)\n",
      "tf.Tensor(0.32652531594857837, shape=(), dtype=float64)\n",
      "tf.Tensor(0.4256926577583309, shape=(), dtype=float64)\n",
      "tf.Tensor(0.2693661957121524, shape=(), dtype=float64)\n",
      "tf.Tensor(0.1863512095985057, shape=(), dtype=float64)\n",
      "tf.Tensor(0.22587400027487242, shape=(), dtype=float64)\n",
      "tf.Tensor(0.12988770847418482, shape=(), dtype=float64)\n",
      "tf.Tensor(0.07744979675755712, shape=(), dtype=float64)\n",
      "tf.Tensor(0.4619992625299967, shape=(), dtype=float64)\n",
      "tf.Tensor(0.08931051215243944, shape=(), dtype=float64)\n",
      "tf.Tensor(0.17557174834926284, shape=(), dtype=float64)\n",
      "tf.Tensor(0.2166634317068979, shape=(), dtype=float64)\n",
      "tf.Tensor(0.03001741413326453, shape=(), dtype=float64)\n",
      "tf.Tensor(0.245258006535124, shape=(), dtype=float64)\n",
      "tf.Tensor(0.10535493589649358, shape=(), dtype=float64)\n",
      "tf.Tensor(0.20714228345203853, shape=(), dtype=float64)\n",
      "tf.Tensor(0.3728446130184608, shape=(), dtype=float64)\n",
      "tf.Tensor(0.3481585092987067, shape=(), dtype=float64)\n",
      "tf.Tensor(0.31428563793873543, shape=(), dtype=float64)\n",
      "tf.Tensor(0.42949257774704885, shape=(), dtype=float64)\n",
      "tf.Tensor(0.34526665583674576, shape=(), dtype=float64)\n",
      "tf.Tensor(0.42373103771978804, shape=(), dtype=float64)\n",
      "tf.Tensor(0.10862754357776211, shape=(), dtype=float64)\n",
      "tf.Tensor(0.34499769293387905, shape=(), dtype=float64)\n",
      "tf.Tensor(0.29585641198889495, shape=(), dtype=float64)\n",
      "tf.Tensor(0.3225272354633183, shape=(), dtype=float64)\n",
      "tf.Tensor(0.3438629901267981, shape=(), dtype=float64)\n",
      "tf.Tensor(0.34083605204750905, shape=(), dtype=float64)\n",
      "tf.Tensor(0.37720899285535797, shape=(), dtype=float64)\n",
      "tf.Tensor(0.11598839949974137, shape=(), dtype=float64)\n",
      "tf.Tensor(0.08989221851427869, shape=(), dtype=float64)\n",
      "tf.Tensor(0.3459217471548893, shape=(), dtype=float64)\n",
      "tf.Tensor(0.14750839745788033, shape=(), dtype=float64)\n",
      "tf.Tensor(0.1873283524336332, shape=(), dtype=float64)\n",
      "tf.Tensor(0.05142456264779681, shape=(), dtype=float64)\n",
      "tf.Tensor(0.20030942743506464, shape=(), dtype=float64)\n",
      "tf.Tensor(0.3801462099757839, shape=(), dtype=float64)\n",
      "tf.Tensor(0.13265139722525587, shape=(), dtype=float64)\n",
      "tf.Tensor(0.3227976807807407, shape=(), dtype=float64)\n",
      "tf.Tensor(0.09231266890732327, shape=(), dtype=float64)\n",
      "tf.Tensor(0.26992721217819116, shape=(), dtype=float64)\n",
      "tf.Tensor(0.1887438915768018, shape=(), dtype=float64)\n",
      "tf.Tensor(0.17231259744029254, shape=(), dtype=float64)\n",
      "tf.Tensor(0.3818979972995121, shape=(), dtype=float64)\n",
      "tf.Tensor(0.19387410930570742, shape=(), dtype=float64)\n",
      "tf.Tensor(0.2101967190185754, shape=(), dtype=float64)\n",
      "tf.Tensor(0.055293712956734783, shape=(), dtype=float64)\n",
      "tf.Tensor(0.2641206542528543, shape=(), dtype=float64)\n",
      "tf.Tensor(0.2745483938078624, shape=(), dtype=float64)\n",
      "tf.Tensor(0.22953877114555613, shape=(), dtype=float64)\n",
      "tf.Tensor(0.3452417542400598, shape=(), dtype=float64)\n",
      "tf.Tensor(0.13608919213201925, shape=(), dtype=float64)\n",
      "tf.Tensor(0.4167666402310167, shape=(), dtype=float64)\n",
      "tf.Tensor(0.23146469205789605, shape=(), dtype=float64)\n",
      "tf.Tensor(0.04674462831846957, shape=(), dtype=float64)\n",
      "tf.Tensor(0.0468818195674527, shape=(), dtype=float64)\n",
      "tf.Tensor(0.1618666959117879, shape=(), dtype=float64)\n",
      "tf.Tensor(0.33491428305883764, shape=(), dtype=float64)\n",
      "tf.Tensor(0.12604986009271785, shape=(), dtype=float64)\n",
      "tf.Tensor(0.407800284321078, shape=(), dtype=float64)\n",
      "tf.Tensor(0.28195304039765845, shape=(), dtype=float64)\n",
      "tf.Tensor(0.49501491481475846, shape=(), dtype=float64)\n",
      "tf.Tensor(0.33838165884609533, shape=(), dtype=float64)\n",
      "tf.Tensor(0.12223558011171232, shape=(), dtype=float64)\n",
      "tf.Tensor(0.10923919069920243, shape=(), dtype=float64)\n",
      "tf.Tensor(0.28496917183526665, shape=(), dtype=float64)\n",
      "tf.Tensor(0.1006934209153497, shape=(), dtype=float64)\n",
      "tf.Tensor(0.08604972461445584, shape=(), dtype=float64)\n",
      "tf.Tensor(0.3552875284725818, shape=(), dtype=float64)\n",
      "tf.Tensor(0.41871314473515014, shape=(), dtype=float64)\n",
      "tf.Tensor(0.32125851480785067, shape=(), dtype=float64)\n",
      "tf.Tensor(0.09282089264910723, shape=(), dtype=float64)\n",
      "tf.Tensor(0.1824808470000627, shape=(), dtype=float64)\n",
      "tf.Tensor(0.24716820125987843, shape=(), dtype=float64)\n",
      "tf.Tensor(0.2839449624477262, shape=(), dtype=float64)\n",
      "tf.Tensor(0.37654540050471424, shape=(), dtype=float64)\n",
      "tf.Tensor(0.21558315981167703, shape=(), dtype=float64)\n",
      "tf.Tensor(0.024970009586829406, shape=(), dtype=float64)\n",
      "tf.Tensor(0.0815698155181893, shape=(), dtype=float64)\n",
      "tf.Tensor(0.1289713355796935, shape=(), dtype=float64)\n",
      "tf.Tensor(0.21158583698297131, shape=(), dtype=float64)\n",
      "tf.Tensor(0.2950443024505825, shape=(), dtype=float64)\n",
      "tf.Tensor(0.7635939027133729, shape=(), dtype=float64)\n",
      "tf.Tensor(0.3141329026992965, shape=(), dtype=float64)\n",
      "tf.Tensor(0.23736702841040994, shape=(), dtype=float64)\n",
      "tf.Tensor(0.3989392564776908, shape=(), dtype=float64)\n",
      "tf.Tensor(0.45919641059415806, shape=(), dtype=float64)\n",
      "tf.Tensor(0.2039155131506886, shape=(), dtype=float64)\n",
      "tf.Tensor(0.08075310635451743, shape=(), dtype=float64)\n",
      "tf.Tensor(0.2660445664665037, shape=(), dtype=float64)\n",
      "tf.Tensor(0.10173693829424638, shape=(), dtype=float64)\n",
      "tf.Tensor(0.40998773312521836, shape=(), dtype=float64)\n",
      "tf.Tensor(0.3661315807971088, shape=(), dtype=float64)\n",
      "tf.Tensor(0.32590689064556716, shape=(), dtype=float64)\n",
      "tf.Tensor(0.461220141140341, shape=(), dtype=float64)\n",
      "tf.Tensor(0.08476407899334035, shape=(), dtype=float64)\n",
      "tf.Tensor(0.03630031587625204, shape=(), dtype=float64)\n",
      "tf.Tensor(0.07208119222318249, shape=(), dtype=float64)\n",
      "tf.Tensor(0.32379593910688464, shape=(), dtype=float64)\n",
      "tf.Tensor(0.17873656176659422, shape=(), dtype=float64)\n",
      "tf.Tensor(0.17425606958047174, shape=(), dtype=float64)\n",
      "tf.Tensor(0.18503728629398794, shape=(), dtype=float64)\n",
      "tf.Tensor(0.0689380754378426, shape=(), dtype=float64)\n",
      "tf.Tensor(0.03485985929820536, shape=(), dtype=float64)\n",
      "tf.Tensor(0.1319355435831233, shape=(), dtype=float64)\n",
      "tf.Tensor(0.2338936117264368, shape=(), dtype=float64)\n",
      "tf.Tensor(0.2860050586815227, shape=(), dtype=float64)\n",
      "tf.Tensor(0.11963809971179737, shape=(), dtype=float64)\n",
      "tf.Tensor(0.4022678637348975, shape=(), dtype=float64)\n",
      "tf.Tensor(0.14096111732697447, shape=(), dtype=float64)\n",
      "tf.Tensor(0.41118398171667614, shape=(), dtype=float64)\n",
      "tf.Tensor(0.1181073453139561, shape=(), dtype=float64)\n",
      "tf.Tensor(0.08580373857361989, shape=(), dtype=float64)\n",
      "tf.Tensor(0.096078174401765, shape=(), dtype=float64)\n",
      "tf.Tensor(0.18725852762734907, shape=(), dtype=float64)\n",
      "tf.Tensor(0.08168038564214702, shape=(), dtype=float64)\n",
      "tf.Tensor(0.3495456749859668, shape=(), dtype=float64)\n",
      "tf.Tensor(0.4843948218473101, shape=(), dtype=float64)\n",
      "tf.Tensor(0.3336641480710097, shape=(), dtype=float64)\n",
      "tf.Tensor(0.3547334564777119, shape=(), dtype=float64)\n",
      "tf.Tensor(0.18565932336414404, shape=(), dtype=float64)\n",
      "tf.Tensor(0.16995511860560036, shape=(), dtype=float64)\n",
      "tf.Tensor(0.037261574923362475, shape=(), dtype=float64)\n",
      "tf.Tensor(0.28704255550693575, shape=(), dtype=float64)\n",
      "tf.Tensor(0.2639980523040982, shape=(), dtype=float64)\n",
      "tf.Tensor(0.4601838187548265, shape=(), dtype=float64)\n",
      "tf.Tensor(0.22123106339063736, shape=(), dtype=float64)\n",
      "tf.Tensor(0.2400021122777841, shape=(), dtype=float64)\n",
      "tf.Tensor(0.17883340588763447, shape=(), dtype=float64)\n",
      "tf.Tensor(0.38457560804593127, shape=(), dtype=float64)\n",
      "tf.Tensor(0.17613882851777538, shape=(), dtype=float64)\n",
      "tf.Tensor(0.07076866139381514, shape=(), dtype=float64)\n",
      "tf.Tensor(0.12565946970448566, shape=(), dtype=float64)\n",
      "tf.Tensor(0.25544338715649256, shape=(), dtype=float64)\n",
      "tf.Tensor(0.34381711349663013, shape=(), dtype=float64)\n",
      "tf.Tensor(0.22163405512075723, shape=(), dtype=float64)\n",
      "tf.Tensor(0.13831015873716873, shape=(), dtype=float64)\n",
      "tf.Tensor(0.14408850141462987, shape=(), dtype=float64)\n",
      "tf.Tensor(0.1742668824276117, shape=(), dtype=float64)\n",
      "tf.Tensor(0.08054438200043428, shape=(), dtype=float64)\n",
      "tf.Tensor(0.33223280606577504, shape=(), dtype=float64)\n",
      "tf.Tensor(0.14721512265137032, shape=(), dtype=float64)\n",
      "tf.Tensor(0.04680362469322885, shape=(), dtype=float64)\n",
      "tf.Tensor(0.34165233468942313, shape=(), dtype=float64)\n",
      "tf.Tensor(0.49238914543937917, shape=(), dtype=float64)\n"
     ]
    },
    {
     "name": "stdout",
     "output_type": "stream",
     "text": [
      "tf.Tensor(0.13749563967240264, shape=(), dtype=float64)\n",
      "tf.Tensor(0.17741931373032901, shape=(), dtype=float64)\n",
      "tf.Tensor(0.3590902325699415, shape=(), dtype=float64)\n",
      "tf.Tensor(0.6468209237427491, shape=(), dtype=float64)\n",
      "tf.Tensor(0.11736047472921687, shape=(), dtype=float64)\n",
      "tf.Tensor(0.06798084979164729, shape=(), dtype=float64)\n",
      "tf.Tensor(0.2046111559725314, shape=(), dtype=float64)\n",
      "tf.Tensor(0.2220756644701055, shape=(), dtype=float64)\n",
      "tf.Tensor(0.3582802199743934, shape=(), dtype=float64)\n",
      "tf.Tensor(0.059469356686726885, shape=(), dtype=float64)\n",
      "tf.Tensor(0.1680472930093026, shape=(), dtype=float64)\n",
      "tf.Tensor(0.3496229566997091, shape=(), dtype=float64)\n",
      "tf.Tensor(0.16737114636688727, shape=(), dtype=float64)\n",
      "tf.Tensor(0.23850385526873605, shape=(), dtype=float64)\n",
      "tf.Tensor(0.24221085260895783, shape=(), dtype=float64)\n",
      "tf.Tensor(0.35994600806440114, shape=(), dtype=float64)\n",
      "tf.Tensor(0.1895343546069456, shape=(), dtype=float64)\n",
      "tf.Tensor(0.16017005856606584, shape=(), dtype=float64)\n",
      "tf.Tensor(0.3873583768386263, shape=(), dtype=float64)\n",
      "tf.Tensor(0.17598237861492516, shape=(), dtype=float64)\n",
      "tf.Tensor(0.06017148459600373, shape=(), dtype=float64)\n",
      "tf.Tensor(0.17102897758413152, shape=(), dtype=float64)\n",
      "tf.Tensor(0.059609128336986415, shape=(), dtype=float64)\n",
      "tf.Tensor(0.4644750522395721, shape=(), dtype=float64)\n",
      "tf.Tensor(0.17584371930022927, shape=(), dtype=float64)\n",
      "tf.Tensor(0.17300872160499695, shape=(), dtype=float64)\n",
      "tf.Tensor(0.2837181768520791, shape=(), dtype=float64)\n",
      "tf.Tensor(0.3672536004519752, shape=(), dtype=float64)\n",
      "tf.Tensor(0.03293988458430195, shape=(), dtype=float64)\n",
      "tf.Tensor(0.32023004530399723, shape=(), dtype=float64)\n",
      "tf.Tensor(0.3866844786485909, shape=(), dtype=float64)\n",
      "tf.Tensor(0.24864151360989437, shape=(), dtype=float64)\n",
      "tf.Tensor(0.24147629633925227, shape=(), dtype=float64)\n",
      "tf.Tensor(0.3924810249993825, shape=(), dtype=float64)\n",
      "tf.Tensor(0.374989136519084, shape=(), dtype=float64)\n",
      "tf.Tensor(0.3329759967999721, shape=(), dtype=float64)\n",
      "tf.Tensor(0.15865979714292766, shape=(), dtype=float64)\n",
      "tf.Tensor(0.059133021019454036, shape=(), dtype=float64)\n",
      "tf.Tensor(0.23481863810546572, shape=(), dtype=float64)\n",
      "tf.Tensor(0.046313425440279374, shape=(), dtype=float64)\n",
      "tf.Tensor(0.12536842231402848, shape=(), dtype=float64)\n",
      "tf.Tensor(0.16939455931292366, shape=(), dtype=float64)\n",
      "tf.Tensor(0.28345578224023904, shape=(), dtype=float64)\n",
      "tf.Tensor(0.20813312155945043, shape=(), dtype=float64)\n"
     ]
    },
    {
     "ename": "KeyboardInterrupt",
     "evalue": "",
     "output_type": "error",
     "traceback": [
      "\u001b[0;31m---------------------------------------------------------------------------\u001b[0m",
      "\u001b[0;31mKeyboardInterrupt\u001b[0m                         Traceback (most recent call last)",
      "\u001b[0;32m<ipython-input-31-9f04488ff600>\u001b[0m in \u001b[0;36m<module>\u001b[0;34m\u001b[0m\n\u001b[1;32m     12\u001b[0m         \u001b[0;31m#loss = tf.reduce_sum(tf.losses.mean_squared_error(soln, mod(tf.expand_dims(b['left'], axis = 1))))\u001b[0m\u001b[0;34m\u001b[0m\u001b[0;34m\u001b[0m\u001b[0;34m\u001b[0m\u001b[0m\n\u001b[1;32m     13\u001b[0m     \u001b[0mgrads\u001b[0m \u001b[0;34m=\u001b[0m \u001b[0mtape\u001b[0m\u001b[0;34m.\u001b[0m\u001b[0mgradient\u001b[0m\u001b[0;34m(\u001b[0m\u001b[0mloss\u001b[0m\u001b[0;34m,\u001b[0m \u001b[0mmod\u001b[0m\u001b[0;34m.\u001b[0m\u001b[0mtrainable_variables\u001b[0m\u001b[0;34m)\u001b[0m\u001b[0;34m\u001b[0m\u001b[0;34m\u001b[0m\u001b[0m\n\u001b[0;32m---> 14\u001b[0;31m     \u001b[0moptimizer\u001b[0m\u001b[0;34m.\u001b[0m\u001b[0mapply_gradients\u001b[0m\u001b[0;34m(\u001b[0m\u001b[0mzip\u001b[0m\u001b[0;34m(\u001b[0m\u001b[0mgrads\u001b[0m\u001b[0;34m,\u001b[0m \u001b[0mmod\u001b[0m\u001b[0;34m.\u001b[0m\u001b[0mtrainable_variables\u001b[0m\u001b[0;34m)\u001b[0m\u001b[0;34m)\u001b[0m\u001b[0;34m\u001b[0m\u001b[0;34m\u001b[0m\u001b[0m\n\u001b[0m\u001b[1;32m     15\u001b[0m     \u001b[0mprint\u001b[0m\u001b[0;34m(\u001b[0m\u001b[0mloss\u001b[0m\u001b[0;34m)\u001b[0m\u001b[0;34m\u001b[0m\u001b[0;34m\u001b[0m\u001b[0m\n",
      "\u001b[0;32m~/.conda/envs/tf-nightly/lib/python3.7/site-packages/tensorflow/python/keras/optimizer_v2/optimizer_v2.py\u001b[0m in \u001b[0;36mapply_gradients\u001b[0;34m(self, grads_and_vars, name)\u001b[0m\n\u001b[1;32m    397\u001b[0m     \u001b[0mvar_list\u001b[0m \u001b[0;34m=\u001b[0m \u001b[0;34m[\u001b[0m\u001b[0mv\u001b[0m \u001b[0;32mfor\u001b[0m \u001b[0;34m(\u001b[0m\u001b[0m_\u001b[0m\u001b[0;34m,\u001b[0m \u001b[0mv\u001b[0m\u001b[0;34m)\u001b[0m \u001b[0;32min\u001b[0m \u001b[0mgrads_and_vars\u001b[0m\u001b[0;34m]\u001b[0m\u001b[0;34m\u001b[0m\u001b[0;34m\u001b[0m\u001b[0m\n\u001b[1;32m    398\u001b[0m \u001b[0;34m\u001b[0m\u001b[0m\n\u001b[0;32m--> 399\u001b[0;31m     \u001b[0mself\u001b[0m\u001b[0;34m.\u001b[0m\u001b[0m_create_hypers\u001b[0m\u001b[0;34m(\u001b[0m\u001b[0;34m)\u001b[0m\u001b[0;34m\u001b[0m\u001b[0;34m\u001b[0m\u001b[0m\n\u001b[0m\u001b[1;32m    400\u001b[0m     \u001b[0;32mwith\u001b[0m \u001b[0mops\u001b[0m\u001b[0;34m.\u001b[0m\u001b[0minit_scope\u001b[0m\u001b[0;34m(\u001b[0m\u001b[0;34m)\u001b[0m\u001b[0;34m:\u001b[0m\u001b[0;34m\u001b[0m\u001b[0;34m\u001b[0m\u001b[0m\n\u001b[1;32m    401\u001b[0m       \u001b[0mself\u001b[0m\u001b[0;34m.\u001b[0m\u001b[0m_create_slots\u001b[0m\u001b[0;34m(\u001b[0m\u001b[0mvar_list\u001b[0m\u001b[0;34m)\u001b[0m\u001b[0;34m\u001b[0m\u001b[0;34m\u001b[0m\u001b[0m\n",
      "\u001b[0;32m~/.conda/envs/tf-nightly/lib/python3.7/site-packages/tensorflow/python/keras/optimizer_v2/optimizer_v2.py\u001b[0m in \u001b[0;36m_create_hypers\u001b[0;34m(self)\u001b[0m\n\u001b[1;32m    567\u001b[0m             \u001b[0mtrainable\u001b[0m\u001b[0;34m=\u001b[0m\u001b[0;32mFalse\u001b[0m\u001b[0;34m,\u001b[0m\u001b[0;34m\u001b[0m\u001b[0;34m\u001b[0m\u001b[0m\n\u001b[1;32m    568\u001b[0m             \u001b[0minitializer\u001b[0m\u001b[0;34m=\u001b[0m\u001b[0mvalue\u001b[0m\u001b[0;34m,\u001b[0m\u001b[0;34m\u001b[0m\u001b[0;34m\u001b[0m\u001b[0m\n\u001b[0;32m--> 569\u001b[0;31m             aggregation=tf_variables.VariableAggregation.ONLY_FIRST_REPLICA)\n\u001b[0m\u001b[1;32m    570\u001b[0m     \u001b[0mself\u001b[0m\u001b[0;34m.\u001b[0m\u001b[0m_hypers_created\u001b[0m \u001b[0;34m=\u001b[0m \u001b[0;32mTrue\u001b[0m\u001b[0;34m\u001b[0m\u001b[0;34m\u001b[0m\u001b[0m\n\u001b[1;32m    571\u001b[0m \u001b[0;34m\u001b[0m\u001b[0m\n",
      "\u001b[0;32m~/.conda/envs/tf-nightly/lib/python3.7/site-packages/tensorflow/python/keras/optimizer_v2/optimizer_v2.py\u001b[0m in \u001b[0;36madd_weight\u001b[0;34m(self, name, shape, dtype, initializer, trainable, synchronization, aggregation)\u001b[0m\n\u001b[1;32m    725\u001b[0m         \u001b[0muse_resource\u001b[0m\u001b[0;34m=\u001b[0m\u001b[0;32mTrue\u001b[0m\u001b[0;34m,\u001b[0m\u001b[0;34m\u001b[0m\u001b[0;34m\u001b[0m\u001b[0m\n\u001b[1;32m    726\u001b[0m         \u001b[0msynchronization\u001b[0m\u001b[0;34m=\u001b[0m\u001b[0msynchronization\u001b[0m\u001b[0;34m,\u001b[0m\u001b[0;34m\u001b[0m\u001b[0;34m\u001b[0m\u001b[0m\n\u001b[0;32m--> 727\u001b[0;31m         aggregation=aggregation)\n\u001b[0m\u001b[1;32m    728\u001b[0m     \u001b[0mbackend\u001b[0m\u001b[0;34m.\u001b[0m\u001b[0mtrack_variable\u001b[0m\u001b[0;34m(\u001b[0m\u001b[0mvariable\u001b[0m\u001b[0;34m)\u001b[0m\u001b[0;34m\u001b[0m\u001b[0;34m\u001b[0m\u001b[0m\n\u001b[1;32m    729\u001b[0m \u001b[0;34m\u001b[0m\u001b[0m\n",
      "\u001b[0;32m~/.conda/envs/tf-nightly/lib/python3.7/site-packages/tensorflow/python/training/tracking/base.py\u001b[0m in \u001b[0;36m_add_variable_with_custom_getter\u001b[0;34m(self, name, shape, dtype, initializer, getter, overwrite, **kwargs_for_getter)\u001b[0m\n\u001b[1;32m    620\u001b[0m     new_variable = getter(\n\u001b[1;32m    621\u001b[0m         \u001b[0mname\u001b[0m\u001b[0;34m=\u001b[0m\u001b[0mname\u001b[0m\u001b[0;34m,\u001b[0m \u001b[0mshape\u001b[0m\u001b[0;34m=\u001b[0m\u001b[0mshape\u001b[0m\u001b[0;34m,\u001b[0m \u001b[0mdtype\u001b[0m\u001b[0;34m=\u001b[0m\u001b[0mdtype\u001b[0m\u001b[0;34m,\u001b[0m \u001b[0minitializer\u001b[0m\u001b[0;34m=\u001b[0m\u001b[0minitializer\u001b[0m\u001b[0;34m,\u001b[0m\u001b[0;34m\u001b[0m\u001b[0;34m\u001b[0m\u001b[0m\n\u001b[0;32m--> 622\u001b[0;31m         **kwargs_for_getter)\n\u001b[0m\u001b[1;32m    623\u001b[0m \u001b[0;34m\u001b[0m\u001b[0m\n\u001b[1;32m    624\u001b[0m     \u001b[0;31m# If we set an initializer and the variable processed it, tracking will not\u001b[0m\u001b[0;34m\u001b[0m\u001b[0;34m\u001b[0m\u001b[0;34m\u001b[0m\u001b[0m\n",
      "\u001b[0;32m~/.conda/envs/tf-nightly/lib/python3.7/site-packages/tensorflow/python/keras/engine/base_layer_utils.py\u001b[0m in \u001b[0;36mmake_variable\u001b[0;34m(name, shape, dtype, initializer, trainable, caching_device, validate_shape, constraint, use_resource, collections, synchronization, aggregation, partitioner)\u001b[0m\n\u001b[1;32m    150\u001b[0m       \u001b[0mcollections\u001b[0m\u001b[0;34m=\u001b[0m\u001b[0mcollections\u001b[0m\u001b[0;34m,\u001b[0m\u001b[0;34m\u001b[0m\u001b[0;34m\u001b[0m\u001b[0m\n\u001b[1;32m    151\u001b[0m       \u001b[0msynchronization\u001b[0m\u001b[0;34m=\u001b[0m\u001b[0msynchronization\u001b[0m\u001b[0;34m,\u001b[0m\u001b[0;34m\u001b[0m\u001b[0;34m\u001b[0m\u001b[0m\n\u001b[0;32m--> 152\u001b[0;31m       aggregation=aggregation)\n\u001b[0m\u001b[1;32m    153\u001b[0m   \u001b[0;32mreturn\u001b[0m \u001b[0mv\u001b[0m\u001b[0;34m\u001b[0m\u001b[0;34m\u001b[0m\u001b[0m\n\u001b[1;32m    154\u001b[0m \u001b[0;34m\u001b[0m\u001b[0m\n",
      "\u001b[0;32m~/.conda/envs/tf-nightly/lib/python3.7/site-packages/tensorflow/python/ops/variables.py\u001b[0m in \u001b[0;36m__call__\u001b[0;34m(cls, *args, **kwargs)\u001b[0m\n\u001b[1;32m    210\u001b[0m   \u001b[0;32mdef\u001b[0m \u001b[0m__call__\u001b[0m\u001b[0;34m(\u001b[0m\u001b[0mcls\u001b[0m\u001b[0;34m,\u001b[0m \u001b[0;34m*\u001b[0m\u001b[0margs\u001b[0m\u001b[0;34m,\u001b[0m \u001b[0;34m**\u001b[0m\u001b[0mkwargs\u001b[0m\u001b[0;34m)\u001b[0m\u001b[0;34m:\u001b[0m\u001b[0;34m\u001b[0m\u001b[0;34m\u001b[0m\u001b[0m\n\u001b[1;32m    211\u001b[0m     \u001b[0;32mif\u001b[0m \u001b[0mcls\u001b[0m \u001b[0;32mis\u001b[0m \u001b[0mVariableV1\u001b[0m\u001b[0;34m:\u001b[0m\u001b[0;34m\u001b[0m\u001b[0;34m\u001b[0m\u001b[0m\n\u001b[0;32m--> 212\u001b[0;31m       \u001b[0;32mreturn\u001b[0m \u001b[0mcls\u001b[0m\u001b[0;34m.\u001b[0m\u001b[0m_variable_v1_call\u001b[0m\u001b[0;34m(\u001b[0m\u001b[0;34m*\u001b[0m\u001b[0margs\u001b[0m\u001b[0;34m,\u001b[0m \u001b[0;34m**\u001b[0m\u001b[0mkwargs\u001b[0m\u001b[0;34m)\u001b[0m\u001b[0;34m\u001b[0m\u001b[0;34m\u001b[0m\u001b[0m\n\u001b[0m\u001b[1;32m    213\u001b[0m     \u001b[0;32melif\u001b[0m \u001b[0mcls\u001b[0m \u001b[0;32mis\u001b[0m \u001b[0mVariable\u001b[0m\u001b[0;34m:\u001b[0m\u001b[0;34m\u001b[0m\u001b[0;34m\u001b[0m\u001b[0m\n\u001b[1;32m    214\u001b[0m       \u001b[0;32mreturn\u001b[0m \u001b[0mcls\u001b[0m\u001b[0;34m.\u001b[0m\u001b[0m_variable_v2_call\u001b[0m\u001b[0;34m(\u001b[0m\u001b[0;34m*\u001b[0m\u001b[0margs\u001b[0m\u001b[0;34m,\u001b[0m \u001b[0;34m**\u001b[0m\u001b[0mkwargs\u001b[0m\u001b[0;34m)\u001b[0m\u001b[0;34m\u001b[0m\u001b[0;34m\u001b[0m\u001b[0m\n",
      "\u001b[0;32m~/.conda/envs/tf-nightly/lib/python3.7/site-packages/tensorflow/python/ops/variables.py\u001b[0m in \u001b[0;36m_variable_v1_call\u001b[0;34m(cls, initial_value, trainable, collections, validate_shape, caching_device, name, variable_def, dtype, expected_shape, import_scope, constraint, use_resource, synchronization, aggregation)\u001b[0m\n\u001b[1;32m    173\u001b[0m         \u001b[0muse_resource\u001b[0m\u001b[0;34m=\u001b[0m\u001b[0muse_resource\u001b[0m\u001b[0;34m,\u001b[0m\u001b[0;34m\u001b[0m\u001b[0;34m\u001b[0m\u001b[0m\n\u001b[1;32m    174\u001b[0m         \u001b[0msynchronization\u001b[0m\u001b[0;34m=\u001b[0m\u001b[0msynchronization\u001b[0m\u001b[0;34m,\u001b[0m\u001b[0;34m\u001b[0m\u001b[0;34m\u001b[0m\u001b[0m\n\u001b[0;32m--> 175\u001b[0;31m         aggregation=aggregation)\n\u001b[0m\u001b[1;32m    176\u001b[0m \u001b[0;34m\u001b[0m\u001b[0m\n\u001b[1;32m    177\u001b[0m   def _variable_v2_call(cls,\n",
      "\u001b[0;32m~/.conda/envs/tf-nightly/lib/python3.7/site-packages/tensorflow/python/ops/variables.py\u001b[0m in \u001b[0;36m<lambda>\u001b[0;34m(**kwargs)\u001b[0m\n\u001b[1;32m    152\u001b[0m                         aggregation=VariableAggregation.NONE):\n\u001b[1;32m    153\u001b[0m     \u001b[0;34m\"\"\"Call on Variable class. Useful to force the signature.\"\"\"\u001b[0m\u001b[0;34m\u001b[0m\u001b[0;34m\u001b[0m\u001b[0m\n\u001b[0;32m--> 154\u001b[0;31m     \u001b[0mprevious_getter\u001b[0m \u001b[0;34m=\u001b[0m \u001b[0;32mlambda\u001b[0m \u001b[0;34m**\u001b[0m\u001b[0mkwargs\u001b[0m\u001b[0;34m:\u001b[0m \u001b[0mdefault_variable_creator\u001b[0m\u001b[0;34m(\u001b[0m\u001b[0;32mNone\u001b[0m\u001b[0;34m,\u001b[0m \u001b[0;34m**\u001b[0m\u001b[0mkwargs\u001b[0m\u001b[0;34m)\u001b[0m\u001b[0;34m\u001b[0m\u001b[0;34m\u001b[0m\u001b[0m\n\u001b[0m\u001b[1;32m    155\u001b[0m     \u001b[0;32mfor\u001b[0m \u001b[0m_\u001b[0m\u001b[0;34m,\u001b[0m \u001b[0mgetter\u001b[0m \u001b[0;32min\u001b[0m \u001b[0mops\u001b[0m\u001b[0;34m.\u001b[0m\u001b[0mget_default_graph\u001b[0m\u001b[0;34m(\u001b[0m\u001b[0;34m)\u001b[0m\u001b[0;34m.\u001b[0m\u001b[0m_variable_creator_stack\u001b[0m\u001b[0;34m:\u001b[0m  \u001b[0;31m# pylint: disable=protected-access\u001b[0m\u001b[0;34m\u001b[0m\u001b[0;34m\u001b[0m\u001b[0m\n\u001b[1;32m    156\u001b[0m       \u001b[0mprevious_getter\u001b[0m \u001b[0;34m=\u001b[0m \u001b[0m_make_getter\u001b[0m\u001b[0;34m(\u001b[0m\u001b[0mgetter\u001b[0m\u001b[0;34m,\u001b[0m \u001b[0mprevious_getter\u001b[0m\u001b[0;34m)\u001b[0m\u001b[0;34m\u001b[0m\u001b[0;34m\u001b[0m\u001b[0m\n",
      "\u001b[0;32m~/.conda/envs/tf-nightly/lib/python3.7/site-packages/tensorflow/python/ops/variable_scope.py\u001b[0m in \u001b[0;36mdefault_variable_creator\u001b[0;34m(next_creator, **kwargs)\u001b[0m\n\u001b[1;32m   2490\u001b[0m         \u001b[0mcaching_device\u001b[0m\u001b[0;34m=\u001b[0m\u001b[0mcaching_device\u001b[0m\u001b[0;34m,\u001b[0m \u001b[0mname\u001b[0m\u001b[0;34m=\u001b[0m\u001b[0mname\u001b[0m\u001b[0;34m,\u001b[0m \u001b[0mdtype\u001b[0m\u001b[0;34m=\u001b[0m\u001b[0mdtype\u001b[0m\u001b[0;34m,\u001b[0m\u001b[0;34m\u001b[0m\u001b[0;34m\u001b[0m\u001b[0m\n\u001b[1;32m   2491\u001b[0m         \u001b[0mconstraint\u001b[0m\u001b[0;34m=\u001b[0m\u001b[0mconstraint\u001b[0m\u001b[0;34m,\u001b[0m \u001b[0mvariable_def\u001b[0m\u001b[0;34m=\u001b[0m\u001b[0mvariable_def\u001b[0m\u001b[0;34m,\u001b[0m\u001b[0;34m\u001b[0m\u001b[0;34m\u001b[0m\u001b[0m\n\u001b[0;32m-> 2492\u001b[0;31m         import_scope=import_scope, distribute_strategy=distribute_strategy)\n\u001b[0m\u001b[1;32m   2493\u001b[0m   \u001b[0;32melse\u001b[0m\u001b[0;34m:\u001b[0m\u001b[0;34m\u001b[0m\u001b[0;34m\u001b[0m\u001b[0m\n\u001b[1;32m   2494\u001b[0m     return variables.RefVariable(\n",
      "\u001b[0;32m~/.conda/envs/tf-nightly/lib/python3.7/site-packages/tensorflow/python/ops/variables.py\u001b[0m in \u001b[0;36m__call__\u001b[0;34m(cls, *args, **kwargs)\u001b[0m\n\u001b[1;32m    214\u001b[0m       \u001b[0;32mreturn\u001b[0m \u001b[0mcls\u001b[0m\u001b[0;34m.\u001b[0m\u001b[0m_variable_v2_call\u001b[0m\u001b[0;34m(\u001b[0m\u001b[0;34m*\u001b[0m\u001b[0margs\u001b[0m\u001b[0;34m,\u001b[0m \u001b[0;34m**\u001b[0m\u001b[0mkwargs\u001b[0m\u001b[0;34m)\u001b[0m\u001b[0;34m\u001b[0m\u001b[0;34m\u001b[0m\u001b[0m\n\u001b[1;32m    215\u001b[0m     \u001b[0;32melse\u001b[0m\u001b[0;34m:\u001b[0m\u001b[0;34m\u001b[0m\u001b[0;34m\u001b[0m\u001b[0m\n\u001b[0;32m--> 216\u001b[0;31m       \u001b[0;32mreturn\u001b[0m \u001b[0msuper\u001b[0m\u001b[0;34m(\u001b[0m\u001b[0mVariableMetaclass\u001b[0m\u001b[0;34m,\u001b[0m \u001b[0mcls\u001b[0m\u001b[0;34m)\u001b[0m\u001b[0;34m.\u001b[0m\u001b[0m__call__\u001b[0m\u001b[0;34m(\u001b[0m\u001b[0;34m*\u001b[0m\u001b[0margs\u001b[0m\u001b[0;34m,\u001b[0m \u001b[0;34m**\u001b[0m\u001b[0mkwargs\u001b[0m\u001b[0;34m)\u001b[0m\u001b[0;34m\u001b[0m\u001b[0;34m\u001b[0m\u001b[0m\n\u001b[0m\u001b[1;32m    217\u001b[0m \u001b[0;34m\u001b[0m\u001b[0m\n\u001b[1;32m    218\u001b[0m \u001b[0;34m\u001b[0m\u001b[0m\n",
      "\u001b[0;32m~/.conda/envs/tf-nightly/lib/python3.7/site-packages/tensorflow/python/ops/resource_variable_ops.py\u001b[0m in \u001b[0;36m__init__\u001b[0;34m(self, initial_value, trainable, collections, validate_shape, caching_device, name, dtype, variable_def, import_scope, constraint, distribute_strategy)\u001b[0m\n\u001b[1;32m    420\u001b[0m           \u001b[0mname\u001b[0m\u001b[0;34m=\u001b[0m\u001b[0mname\u001b[0m\u001b[0;34m,\u001b[0m\u001b[0;34m\u001b[0m\u001b[0;34m\u001b[0m\u001b[0m\n\u001b[1;32m    421\u001b[0m           \u001b[0mdtype\u001b[0m\u001b[0;34m=\u001b[0m\u001b[0mdtype\u001b[0m\u001b[0;34m,\u001b[0m\u001b[0;34m\u001b[0m\u001b[0;34m\u001b[0m\u001b[0m\n\u001b[0;32m--> 422\u001b[0;31m           constraint=constraint)\n\u001b[0m\u001b[1;32m    423\u001b[0m \u001b[0;34m\u001b[0m\u001b[0m\n\u001b[1;32m    424\u001b[0m   \u001b[0;32mdef\u001b[0m \u001b[0m__repr__\u001b[0m\u001b[0;34m(\u001b[0m\u001b[0mself\u001b[0m\u001b[0;34m)\u001b[0m\u001b[0;34m:\u001b[0m\u001b[0;34m\u001b[0m\u001b[0;34m\u001b[0m\u001b[0m\n",
      "\u001b[0;32m~/.conda/envs/tf-nightly/lib/python3.7/site-packages/tensorflow/python/ops/resource_variable_ops.py\u001b[0m in \u001b[0;36m_init_from_args\u001b[0;34m(self, initial_value, trainable, collections, caching_device, name, dtype, constraint)\u001b[0m\n\u001b[1;32m    602\u001b[0m         \u001b[0;32melse\u001b[0m\u001b[0;34m:\u001b[0m\u001b[0;34m\u001b[0m\u001b[0;34m\u001b[0m\u001b[0m\n\u001b[1;32m    603\u001b[0m           gen_resource_variable_ops.assign_variable_op(self._handle,\n\u001b[0;32m--> 604\u001b[0;31m                                                        initial_value)\n\u001b[0m\u001b[1;32m    605\u001b[0m           \u001b[0mself\u001b[0m\u001b[0;34m.\u001b[0m\u001b[0m_is_initialized_op\u001b[0m \u001b[0;34m=\u001b[0m \u001b[0;32mNone\u001b[0m\u001b[0;34m\u001b[0m\u001b[0;34m\u001b[0m\u001b[0m\n\u001b[1;32m    606\u001b[0m           \u001b[0mself\u001b[0m\u001b[0;34m.\u001b[0m\u001b[0m_initializer_op\u001b[0m \u001b[0;34m=\u001b[0m \u001b[0;32mNone\u001b[0m\u001b[0;34m\u001b[0m\u001b[0;34m\u001b[0m\u001b[0m\n",
      "\u001b[0;32m~/.conda/envs/tf-nightly/lib/python3.7/site-packages/tensorflow/python/ops/gen_resource_variable_ops.py\u001b[0m in \u001b[0;36massign_variable_op\u001b[0;34m(resource, value, name)\u001b[0m\n\u001b[1;32m    178\u001b[0m         \u001b[0m_ctx\u001b[0m\u001b[0;34m.\u001b[0m\u001b[0m_context_handle\u001b[0m\u001b[0;34m,\u001b[0m \u001b[0m_ctx\u001b[0m\u001b[0;34m.\u001b[0m\u001b[0m_thread_local_data\u001b[0m\u001b[0;34m.\u001b[0m\u001b[0mdevice_name\u001b[0m\u001b[0;34m,\u001b[0m\u001b[0;34m\u001b[0m\u001b[0;34m\u001b[0m\u001b[0m\n\u001b[1;32m    179\u001b[0m         \u001b[0;34m\"AssignVariableOp\"\u001b[0m\u001b[0;34m,\u001b[0m \u001b[0mname\u001b[0m\u001b[0;34m,\u001b[0m \u001b[0m_ctx\u001b[0m\u001b[0;34m.\u001b[0m\u001b[0m_post_execution_callbacks\u001b[0m\u001b[0;34m,\u001b[0m \u001b[0mresource\u001b[0m\u001b[0;34m,\u001b[0m\u001b[0;34m\u001b[0m\u001b[0;34m\u001b[0m\u001b[0m\n\u001b[0;32m--> 180\u001b[0;31m         value)\n\u001b[0m\u001b[1;32m    181\u001b[0m       \u001b[0;32mreturn\u001b[0m \u001b[0m_result\u001b[0m\u001b[0;34m\u001b[0m\u001b[0;34m\u001b[0m\u001b[0m\n\u001b[1;32m    182\u001b[0m     \u001b[0;32mexcept\u001b[0m \u001b[0m_core\u001b[0m\u001b[0;34m.\u001b[0m\u001b[0m_FallbackException\u001b[0m\u001b[0;34m:\u001b[0m\u001b[0;34m\u001b[0m\u001b[0;34m\u001b[0m\u001b[0m\n",
      "\u001b[0;31mKeyboardInterrupt\u001b[0m: "
     ]
    }
   ],
   "source": [
    "#from conv_laplacian_loss import conv_laplacian_loss\n",
    "while True:\n",
    "    b, soln, dx = generate_laplace_soln(batch_size=200, nonzero_boundaries=['left'], smoothness=np.random.randint(5,20), nx = np.random.randint(64,128), ny = np.random.randint(64,128))\n",
    "    mod.x_output_resolution = soln.shape[-2]\n",
    "    optimizer = tf.keras.optimizers.Adam(learning_rate = 1e-5)\n",
    "    lf = Lp_integral_norm((soln.shape[-2], soln.shape[-1]), [0,soln.shape[-2] * dx, 0, soln.shape[-1] * dx], n_quadpts = 20, mse_component_weight = 1e+1)\n",
    "    #cll = conv_laplacian_loss((soln.shape[-2], soln.shape[-1]))\n",
    "    with tf.GradientTape() as tape:\n",
    "        tape.watch(mod.trainable_variables)\n",
    "        #loss = tf.reduce_sum(tf.losses.mean_squared_error(soln, mod([tf.expand_dims(b['left'], axis = 1),dx * tf.ones((soln.shape[0],1), dtype = 'float64')])))\n",
    "        loss = lf(soln, mod(tf.expand_dims(b['left'], axis = 1)))\n",
    "        #loss = tf.reduce_sum(tf.losses.mean_squared_error(soln, mod(tf.expand_dims(b['left'], axis = 1))))\n",
    "    grads = tape.gradient(loss, mod.trainable_variables)\n",
    "    optimizer.apply_gradients(zip(grads, mod.trainable_variables))\n",
    "    print(loss)"
   ]
  },
  {
   "cell_type": "code",
   "execution_count": 4,
   "metadata": {},
   "outputs": [
    {
     "name": "stdout",
     "output_type": "stream",
     "text": [
      "Model: \"dirichlet_bc_nn_4\"\n",
      "_________________________________________________________________\n",
      "Layer (type)                 Output Shape              Param #   \n",
      "=================================================================\n",
      "upsample2 (Upsample2)        multiple                  0         \n",
      "_________________________________________________________________\n",
      "dense (Dense)                multiple                  51000     \n",
      "_________________________________________________________________\n",
      "dense_1 (Dense)              multiple                  501000    \n",
      "_________________________________________________________________\n",
      "dense_2 (Dense)              multiple                  10010000  \n",
      "_________________________________________________________________\n",
      "upsample2_1 (Upsample2)      multiple                  0         \n",
      "=================================================================\n",
      "Total params: 10,562,000\n",
      "Trainable params: 10,562,000\n",
      "Non-trainable params: 0\n",
      "_________________________________________________________________\n"
     ]
    }
   ],
   "source": [
    "mod.summary()"
   ]
  },
  {
   "cell_type": "code",
   "execution_count": 15,
   "metadata": {},
   "outputs": [
    {
     "name": "stdout",
     "output_type": "stream",
     "text": [
      "(100, 1, 82, 117)\n",
      "(100, 117)\n"
     ]
    }
   ],
   "source": [
    "print(mod(tf.expand_dims(b['left'], axis = 1)).shape)\n",
    "print(b['left'].shape)"
   ]
  },
  {
   "cell_type": "code",
   "execution_count": 34,
   "metadata": {},
   "outputs": [
    {
     "name": "stdout",
     "output_type": "stream",
     "text": [
      "(82, 107)\n",
      "(82, 107)\n"
     ]
    },
    {
     "data": {
      "image/png": "[encoded data removed]",
      "text/plain": [
       "<Figure size 432x288 with 2 Axes>"
      ]
     },
     "metadata": {
      "needs_background": "light"
     },
     "output_type": "display_data"
    }
   ],
   "source": [
    "x, y = np.meshgrid(np.linspace(0, soln.shape[-2]*dx, soln.shape[-2]), np.linspace(0, soln.shape[-1]*dx, soln.shape[-1]), indexing = 'ij')\n",
    "#p_r = np.random.randint(0,soln.shape[0])\n",
    "z = soln[p_r,0,...]\n",
    "print(z.shape)\n",
    "print(x.shape)\n",
    "#z = mod([tf.expand_dims(b['left'], axis = 1), dx * tf.ones((soln.shape[0],1), dtype = 'float64')])[p_r,0,...]\n",
    "#z = mod(tf.expand_dims(b['left'], axis = 1))[p_r,0,...]\n",
    "#z = mod(tf.expand_dims(b['left'], axis = 1))[p_r,0,...]-soln[p_r,0,...]\n",
    "z_min, z_max = -np.abs(z).max(), np.abs(z).max()\n",
    "fig, ax = plt.subplots()\n",
    "c = ax.pcolormesh(x, y, z, cmap='RdBu', vmin=z_min, vmax=z_max)\n",
    "ax.set_title('result')\n",
    "ax.axis([x.min(), x.max(), y.min(), y.max()])\n",
    "fig.colorbar(c, ax=ax)\n",
    "\n",
    "plt.show()"
   ]
  },
  {
   "cell_type": "code",
   "execution_count": 35,
   "metadata": {},
   "outputs": [
    {
     "name": "stdout",
     "output_type": "stream",
     "text": [
      "(82, 107)\n",
      "(82, 107)\n"
     ]
    },
    {
     "data": {
      "image/png": "[encoded data removed]",
      "text/plain": [
       "<Figure size 432x288 with 2 Axes>"
      ]
     },
     "metadata": {
      "needs_background": "light"
     },
     "output_type": "display_data"
    }
   ],
   "source": [
    "x, y = np.meshgrid(np.linspace(0, soln.shape[-2]*dx, soln.shape[-2]), np.linspace(0, soln.shape[-1]*dx, soln.shape[-1]), indexing = 'ij')\n",
    "#p_r = np.random.randint(0,soln.shape[0])\n",
    "z = soln[p_r,0,...]\n",
    "print(z.shape)\n",
    "print(x.shape)\n",
    "#z = mod([tf.expand_dims(b['left'], axis = 1), dx * tf.ones((soln.shape[0],1), dtype = 'float64')])[p_r,0,...]\n",
    "z = mod(tf.expand_dims(b['left'], axis = 1))[p_r,0,...]\n",
    "#z = mod(tf.expand_dims(b['left'], axis = 1))[p_r,0,...]-soln[p_r,0,...]\n",
    "z_min, z_max = -np.abs(z).max(), np.abs(z).max()\n",
    "fig, ax = plt.subplots()\n",
    "c = ax.pcolormesh(x, y, z, cmap='RdBu', vmin=z_min, vmax=z_max)\n",
    "ax.set_title('result')\n",
    "ax.axis([x.min(), x.max(), y.min(), y.max()])\n",
    "fig.colorbar(c, ax=ax)\n",
    "\n",
    "plt.show()"
   ]
  },
  {
   "cell_type": "code",
   "execution_count": null,
   "metadata": {},
   "outputs": [],
   "source": [
    "b['left'].shape"
   ]
  },
  {
   "cell_type": "code",
   "execution_count": 36,
   "metadata": {},
   "outputs": [],
   "source": [
    "mod.save_weights('Dirichlet_BC_NN_2.h5')"
   ]
  }
 ],
 "metadata": {
  "kernelspec": {
   "display_name": "Python 3",
   "language": "python",
   "name": "python3"
  },
  "language_info": {
   "codemirror_mode": {
    "name": "ipython",
    "version": 3
   },
   "file_extension": ".py",
   "mimetype": "text/x-python",
   "name": "python",
   "nbconvert_exporter": "python",
   "pygments_lexer": "ipython3",
   "version": "3.7.3"
  }
 },
 "nbformat": 4,
 "nbformat_minor": 2
}
