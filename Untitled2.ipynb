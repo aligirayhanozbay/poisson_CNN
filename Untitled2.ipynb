{
 "cells": [
  {
   "cell_type": "code",
   "execution_count": 1,
   "metadata": {},
   "outputs": [],
   "source": [
    "import numpy as np\n",
    "import tensorflow as tf\n",
    "from tensorflow.keras.models import Model\n",
    "from tensorflow.keras.layers import Input, Dense, Conv2D, Flatten, Conv2DTranspose, AveragePooling2D, Add, Reshape\n",
    "from scipy.interpolate import RectBivariateSpline\n",
    "#import tensorflow.contrib.eager as tfe\n",
    "import matplotlib.pyplot as plt\n",
    "from mpl_toolkits.mplot3d import Axes3D\n",
    "from Boundary import Boundary1D\n",
    "from MergeWithAttention import MergeWithAttention2\n",
    "#from Upsample import Upsample\n",
    "from collections.abc import Iterable\n",
    "import itertools, h5py\n",
    "from multiprocessing import Pool as ThreadPool\n",
    "from Lp_integral_norm import Lp_integral_norm\n",
    "#opts = tf.GPUOptions(per_process_gpu_memory_fraction=0.95)\n",
    "#conf = tf.ConfigProto(gpu_options=opts)\n",
    "#tfe.enable_eager_execution(config=conf)\n",
    "tf.keras.backend.set_floatx('float32')"
   ]
  },
  {
   "cell_type": "code",
   "execution_count": 2,
   "metadata": {},
   "outputs": [],
   "source": [
    "from Dirichlet_BC_NN import Dirichlet_BC_NN_3"
   ]
  },
  {
   "cell_type": "code",
   "execution_count": 3,
   "metadata": {},
   "outputs": [],
   "source": [
    "mod = Dirichlet_BC_NN_3()"
   ]
  },
  {
   "cell_type": "code",
   "execution_count": null,
   "metadata": {},
   "outputs": [],
   "source": [
    "mod(tf.random.uniform((100,1,64), dtype = tf.float32))"
   ]
  },
  {
   "cell_type": "code",
   "execution_count": 5,
   "metadata": {},
   "outputs": [
    {
     "name": "stdout",
     "output_type": "stream",
     "text": [
      "Model: \"dirichlet_bc_nn_3\"\n",
      "_________________________________________________________________\n",
      "Layer (type)                 Output Shape              Param #   \n",
      "=================================================================\n",
      "upsample2 (Upsample2)        multiple                  0         \n",
      "_________________________________________________________________\n",
      "dense (Dense)                multiple                  7575      \n",
      "_________________________________________________________________\n",
      "dense_1 (Dense)              multiple                  1900      \n",
      "_________________________________________________________________\n",
      "dense_2 (Dense)              multiple                  130       \n",
      "_________________________________________________________________\n",
      "dense_3 (Dense)              multiple                  9600      \n",
      "_________________________________________________________________\n",
      "conv2d_transpose (Conv2DTran multiple                  12808     \n",
      "_________________________________________________________________\n",
      "conv2d_transpose_1 (Conv2DTr multiple                  808       \n",
      "_________________________________________________________________\n",
      "conv2d_transpose_2 (Conv2DTr multiple                  808       \n",
      "_________________________________________________________________\n",
      "conv2d_transpose_3 (Conv2DTr multiple                  808       \n",
      "_________________________________________________________________\n",
      "sep_conv_block (SepConvBlock multiple                  13676     \n",
      "_________________________________________________________________\n",
      "sep_conv_block_1 (SepConvBlo multiple                  13676     \n",
      "_________________________________________________________________\n",
      "sep_conv_block_2 (SepConvBlo multiple                  13676     \n",
      "_________________________________________________________________\n",
      "sep_conv_block_3 (SepConvBlo multiple                  13676     \n",
      "_________________________________________________________________\n",
      "conv2d_4 (Conv2D)            multiple                  485       \n",
      "_________________________________________________________________\n",
      "upsample2_1 (Upsample2)      multiple                  0         \n",
      "=================================================================\n",
      "Total params: 89,626\n",
      "Trainable params: 89,626\n",
      "Non-trainable params: 0\n",
      "_________________________________________________________________\n"
     ]
    }
   ],
   "source": [
    "mod.summary()"
   ]
  },
  {
   "cell_type": "code",
   "execution_count": 16,
   "metadata": {},
   "outputs": [],
   "source": [
    "from generate_cholesky_soln import poisson_RHS\n",
    "from Boundary import Boundary1D\n",
    "m = 7\n",
    "n = 9\n",
    "dx = 0.05\n",
    "boundary_top = Boundary1D('Dirichlet', [(0,n*dx),(m*dx,n*dx)], orientation='clockwise', RHS_function=lambda t: t-t, boundary_rhs_is_parametric=True)\n",
    "boundary_right = Boundary1D('Dirichlet', [(m*dx,n*dx),(m*dx,0)], orientation='clockwise', RHS_function=lambda t: t-t, boundary_rhs_is_parametric=True)\n",
    "boundary_bottom = Boundary1D('Dirichlet', [(m*dx,0),(0,0)], orientation='clockwise', RHS_function=lambda t: t-t, boundary_rhs_is_parametric=True)\n",
    "boundary_left = Boundary1D('Dirichlet', [(0,0),(0,n*dx)], orientation='clockwise', RHS_function=lambda t: t + tf.random.uniform(t.shape, dtype = tf.keras.backend.floatx()), boundary_rhs_is_parametric=True)\n",
    "\n",
    "bndrs = [{'top': boundary_top.RHS_evaluate(np.linspace(boundary_top.t.min(),boundary_top.t.max(),m)), 'right': boundary_right.RHS_evaluate(np.linspace(boundary_right.t.min(),boundary_right.t.max(),n)), 'bottom': boundary_bottom.RHS_evaluate(np.linspace(boundary_bottom.t.min(),boundary_bottom.t.max(),m)), 'left': boundary_left.RHS_evaluate(np.linspace(boundary_left.t.min(),boundary_left.t.max(),n))} for i in range(15)]\n",
    "#bndrs = {'top': boundary_top.RHS_evaluate(np.linspace(boundary_top.t.min(),boundary_top.t.max(),m)), 'right': boundary_right.RHS_evaluate(np.linspace(boundary_right.t.min(),boundary_right.t.max(),n)), 'bottom': boundary_bottom.RHS_evaluate(np.linspace(boundary_bottom.t.min(),boundary_bottom.t.max(),m)), 'left': boundary_left.RHS_evaluate(np.linspace(boundary_left.t.min(),boundary_left.t.max(),n))}"
   ]
  },
  {
   "cell_type": "code",
   "execution_count": 17,
   "metadata": {},
   "outputs": [
    {
     "name": "stdout",
     "output_type": "stream",
     "text": [
      "[[[-1.61936205e-04 -8.66388835e-04 -5.37235161e-05 -2.00200513e-03\n",
      "   -9.58292167e-04 -2.42516227e-03 -1.75461905e-03 -2.21087456e-04\n",
      "   -1.42087382e-03]\n",
      "  [-8.54914982e-04  9.82312073e-01  2.00036473e-01  4.39154533e-01\n",
      "    1.20889547e+00  1.23747666e+00  1.22474255e+00  6.17487813e-01\n",
      "   -1.67786640e-03]\n",
      "  [-1.53551133e-03 -3.04007576e-04 -2.02305063e-03 -1.97703444e-03\n",
      "   -1.49105076e-03 -2.36185684e-03 -2.00725547e-03 -1.01606912e-03\n",
      "   -3.94412259e-05]\n",
      "  [-5.95836248e-04 -6.98737631e-04 -2.40620998e-03 -1.39313007e-03\n",
      "   -9.81797542e-04 -3.16999246e-04 -7.64000252e-04 -2.85180613e-04\n",
      "   -1.06559294e-03]\n",
      "  [-1.05865139e-03 -2.46176845e-03 -1.75575256e-03 -2.32245335e-03\n",
      "   -1.13304844e-04 -9.44218247e-04 -1.32069857e-03 -9.89683643e-04\n",
      "   -9.35611453e-04]\n",
      "  [-5.46774613e-06 -1.44215736e-03 -1.14034688e-03 -9.81269088e-04\n",
      "   -8.14154871e-04 -1.15864177e-03 -1.63949082e-03 -2.18603863e-03\n",
      "   -1.27523163e-06]\n",
      "  [-1.44033873e-03 -9.51026366e-04 -2.15404773e-03 -1.11790916e-03\n",
      "   -2.28188212e-03 -1.27352153e-03 -8.50469192e-05 -8.22553053e-05\n",
      "   -1.59241381e-03]]]\n",
      "[[[-1.61936205e-04 -8.66388835e-04 -5.37235161e-05 -2.00200513e-03\n",
      "   -9.58292167e-04 -2.42516227e-03 -1.75461905e-03 -2.21087456e-04\n",
      "   -1.42087382e-03]\n",
      "  [-8.54914982e-04  9.82312073e-01  2.00036473e-01  4.39154533e-01\n",
      "    1.20889547e+00  1.23747666e+00  1.22474255e+00  6.17487813e-01\n",
      "   -1.67786640e-03]\n",
      "  [-1.53551133e-03 -3.04007576e-04 -2.02305063e-03 -1.97703444e-03\n",
      "   -1.49105076e-03 -2.36185684e-03 -2.00725547e-03 -1.01606912e-03\n",
      "   -3.94412259e-05]\n",
      "  [-5.95836248e-04 -6.98737631e-04 -2.40620998e-03 -1.39313007e-03\n",
      "   -9.81797542e-04 -3.16999246e-04 -7.64000252e-04 -2.85180613e-04\n",
      "   -1.06559294e-03]\n",
      "  [-1.05865139e-03 -2.46176845e-03 -1.75575256e-03 -2.32245335e-03\n",
      "   -1.13304844e-04 -9.44218247e-04 -1.32069857e-03 -9.89683643e-04\n",
      "   -9.35611453e-04]\n",
      "  [-5.46774613e-06 -1.44215736e-03 -1.14034688e-03 -9.81269088e-04\n",
      "   -8.14154871e-04 -1.15864177e-03 -1.63949082e-03 -2.18603863e-03\n",
      "   -1.27523163e-06]\n",
      "  [-1.44033873e-03 -9.51026366e-04 -2.15404773e-03 -1.11790916e-03\n",
      "   -2.28188212e-03 -1.27352153e-03 -8.50469192e-05 -8.22553053e-05\n",
      "   -1.59241381e-03]]]\n"
     ]
    },
    {
     "ename": "TypeError",
     "evalue": "list indices must be integers or slices, not str",
     "output_type": "error",
     "traceback": [
      "\u001b[0;31m---------------------------------------------------------------------------\u001b[0m",
      "\u001b[0;31mTypeError\u001b[0m                                 Traceback (most recent call last)",
      "\u001b[0;32m<ipython-input-17-91265c00642a>\u001b[0m in \u001b[0;36m<module>\u001b[0;34m\u001b[0m\n\u001b[1;32m      1\u001b[0m \u001b[0;32mfrom\u001b[0m \u001b[0mgenerate_cholesky_soln\u001b[0m \u001b[0;32mimport\u001b[0m \u001b[0mcholesky_poisson_solve\u001b[0m\u001b[0;34m\u001b[0m\u001b[0;34m\u001b[0m\u001b[0m\n\u001b[1;32m      2\u001b[0m \u001b[0;34m\u001b[0m\u001b[0m\n\u001b[0;32m----> 3\u001b[0;31m \u001b[0mcholesky_poisson_solve\u001b[0m\u001b[0;34m(\u001b[0m\u001b[0mtf\u001b[0m\u001b[0;34m.\u001b[0m\u001b[0mrandom\u001b[0m\u001b[0;34m.\u001b[0m\u001b[0muniform\u001b[0m\u001b[0;34m(\u001b[0m\u001b[0;34m(\u001b[0m\u001b[0;36m15\u001b[0m\u001b[0;34m,\u001b[0m\u001b[0;36m1\u001b[0m\u001b[0;34m,\u001b[0m\u001b[0mm\u001b[0m\u001b[0;34m,\u001b[0m\u001b[0mn\u001b[0m\u001b[0;34m)\u001b[0m\u001b[0;34m,\u001b[0m \u001b[0mdtype\u001b[0m \u001b[0;34m=\u001b[0m \u001b[0mtf\u001b[0m\u001b[0;34m.\u001b[0m\u001b[0mkeras\u001b[0m\u001b[0;34m.\u001b[0m\u001b[0mbackend\u001b[0m\u001b[0;34m.\u001b[0m\u001b[0mfloatx\u001b[0m\u001b[0;34m(\u001b[0m\u001b[0;34m)\u001b[0m\u001b[0;34m)\u001b[0m\u001b[0;34m,\u001b[0m \u001b[0mboundaries\u001b[0m\u001b[0;34m=\u001b[0m\u001b[0mbndrs\u001b[0m\u001b[0;34m,\u001b[0m \u001b[0mh\u001b[0m\u001b[0;34m=\u001b[0m\u001b[0mdx\u001b[0m\u001b[0;34m)\u001b[0m\u001b[0;34m\u001b[0m\u001b[0;34m\u001b[0m\u001b[0m\n\u001b[0m",
      "\u001b[0;32m/media/DATA1/ali/poisson_CNN/generate_cholesky_soln.py\u001b[0m in \u001b[0;36mcholesky_poisson_solve\u001b[0;34m(rhses, boundaries, h, system_matrix, system_matrix_is_decomposed)\u001b[0m\n\u001b[1;32m    180\u001b[0m \u001b[0;34m\u001b[0m\u001b[0m\n\u001b[1;32m    181\u001b[0m     \u001b[0msoln\u001b[0m \u001b[0;34m=\u001b[0m \u001b[0mnp\u001b[0m\u001b[0;34m.\u001b[0m\u001b[0mzeros\u001b[0m\u001b[0;34m(\u001b[0m\u001b[0mrhses\u001b[0m\u001b[0;34m.\u001b[0m\u001b[0mshape\u001b[0m\u001b[0;34m,\u001b[0m \u001b[0mdtype\u001b[0m \u001b[0;34m=\u001b[0m \u001b[0mnp\u001b[0m\u001b[0;34m.\u001b[0m\u001b[0mfloat64\u001b[0m\u001b[0;34m)\u001b[0m\u001b[0;34m\u001b[0m\u001b[0;34m\u001b[0m\u001b[0m\n\u001b[0;32m--> 182\u001b[0;31m     \u001b[0msoln\u001b[0m\u001b[0;34m[\u001b[0m\u001b[0;34m...\u001b[0m\u001b[0;34m,\u001b[0m\u001b[0;34m:\u001b[0m\u001b[0;34m,\u001b[0m\u001b[0;36m0\u001b[0m\u001b[0;34m]\u001b[0m \u001b[0;34m=\u001b[0m \u001b[0mboundaries\u001b[0m\u001b[0;34m[\u001b[0m\u001b[0;34m'top'\u001b[0m\u001b[0;34m]\u001b[0m\u001b[0;34m\u001b[0m\u001b[0;34m\u001b[0m\u001b[0m\n\u001b[0m\u001b[1;32m    183\u001b[0m     \u001b[0msoln\u001b[0m\u001b[0;34m[\u001b[0m\u001b[0;34m...\u001b[0m\u001b[0;34m,\u001b[0m\u001b[0;34m:\u001b[0m\u001b[0;34m,\u001b[0m\u001b[0;34m-\u001b[0m\u001b[0;36m1\u001b[0m\u001b[0;34m]\u001b[0m \u001b[0;34m=\u001b[0m \u001b[0mboundaries\u001b[0m\u001b[0;34m[\u001b[0m\u001b[0;34m'bottom'\u001b[0m\u001b[0;34m]\u001b[0m\u001b[0;34m\u001b[0m\u001b[0;34m\u001b[0m\u001b[0m\n\u001b[1;32m    184\u001b[0m     \u001b[0msoln\u001b[0m\u001b[0;34m[\u001b[0m\u001b[0;34m...\u001b[0m\u001b[0;34m,\u001b[0m\u001b[0;36m0\u001b[0m\u001b[0;34m,\u001b[0m\u001b[0;34m:\u001b[0m\u001b[0;34m]\u001b[0m \u001b[0;34m=\u001b[0m \u001b[0mboundaries\u001b[0m\u001b[0;34m[\u001b[0m\u001b[0;34m'left'\u001b[0m\u001b[0;34m]\u001b[0m\u001b[0;34m\u001b[0m\u001b[0;34m\u001b[0m\u001b[0m\n",
      "\u001b[0;31mTypeError\u001b[0m: list indices must be integers or slices, not str"
     ]
    }
   ],
   "source": [
    "from generate_cholesky_soln import cholesky_poisson_solve\n",
    "\n",
    "cholesky_poisson_solve(tf.random.uniform((15,1,m,n), dtype = tf.keras.backend.floatx()), boundaries=bndrs, h=dx)"
   ]
  }
 ],
 "metadata": {
  "kernelspec": {
   "display_name": "Python 3",
   "language": "python",
   "name": "python3"
  },
  "language_info": {
   "codemirror_mode": {
    "name": "ipython",
    "version": 3
   },
   "file_extension": ".py",
   "mimetype": "text/x-python",
   "name": "python",
   "nbconvert_exporter": "python",
   "pygments_lexer": "ipython3",
   "version": "3.7.3"
  }
 },
 "nbformat": 4,
 "nbformat_minor": 2
}
