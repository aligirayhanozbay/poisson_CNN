{
 "cells": [
  {
   "cell_type": "code",
   "execution_count": 1,
   "metadata": {},
   "outputs": [],
   "source": [
    "import numpy as np\n",
    "import tensorflow as tf\n",
    "from tensorflow.keras.models import Model\n",
    "from tensorflow.keras.layers import Input, Dense, Conv2D, Flatten, Conv2DTranspose, AveragePooling2D, Add\n",
    "from scipy.interpolate import RectBivariateSpline\n",
    "import tensorflow.contrib.eager as tfe\n",
    "import matplotlib.pyplot as plt\n",
    "from mpl_toolkits.mplot3d import Axes3D\n",
    "from Boundary import Boundary1D\n",
    "from collections.abc import Iterable\n",
    "import itertools, h5py\n",
    "from multiprocessing import Pool as ThreadPool\n",
    "opts = tf.GPUOptions(per_process_gpu_memory_fraction=0.95)\n",
    "conf = tf.ConfigProto(gpu_options=opts)\n",
    "tfe.enable_eager_execution(config=conf)"
   ]
  },
  {
   "cell_type": "code",
   "execution_count": 2,
   "metadata": {},
   "outputs": [],
   "source": [
    "class Upsample(tf.keras.layers.Layer):\n",
    "    def __init__(self, upsample_ratio = (2,2), output_dtype = tf.float32, data_format = 'channels_first', resize_method = tf.image.ResizeMethod.BICUBIC, **kwargs):\n",
    "        super(Upsample, self).__init__(**kwargs)\n",
    "        self.output_dtype = output_dtype\n",
    "        self.data_format = data_format\n",
    "        self.resize_method = resize_method\n",
    "        if not isinstance(upsample_ratio, Iterable):\n",
    "            self.upsample_ratio = (upsample_ratio, upsample_ratio)\n",
    "        else:\n",
    "            self.upsample_ratio = upsample_ratio\n",
    "            \n",
    "    def build(self, input_shape):\n",
    "        super(Upsample, self).build(input_shape)\n",
    "        \n",
    "    def compute_output_shape(self, input_shape):\n",
    "        if self.data_format == 'channels_first':\n",
    "            return tf.TensorShape(list(input_shape)[0:2] + [self.upsample_ratio[0] * input_shape[-2], self.upsample_ratio[1] * input_shape[-1]])\n",
    "        else:\n",
    "            return tf.TensorShape([input_shape[0], self.upsample_ratio[0] * input_shape[-3], self.upsample_ratio[1] * input_shape[-2], input_shape[-1]])\n",
    "    \n",
    "#     def upsample(self, inp):\n",
    "#         dummy_coords_inp = (np.linspace(0,1,int(inp.shape[-2])), np.linspace(0,1,int(inp.shape[-1])))\n",
    "#         dummy_coords_out = (np.linspace(0,1,int(self.compute_output_shape(inp.shape)[-2])),np.linspace(0,1,int(self.compute_output_shape(inp.shape)[-1])))\n",
    "#         #pdb.set_trace()\n",
    "#         res = []\n",
    "#         for i in range(inp.shape[0]):\n",
    "#             spl = RectBivariateSpline(dummy_coords_inp[0], dummy_coords_inp[1], np.array(inp[i,...]))\n",
    "#             res.append(spl(dummy_coords_out[0], dummy_coords_out[1]))\n",
    "#         return tf.dtypes.cast(np.array(res), dtype=self.output_dtype)\n",
    "    \n",
    "#     @tf.contrib.eager.defun\n",
    "#     def upsample_wrap(self,inp):\n",
    "#         return tf.map_fn(self.upsample, inp)\n",
    "        \n",
    "    def call(self, inputs):\n",
    "#         return self.upsample_wrap(inputs)\n",
    "        if self.data_format == 'channels_first':\n",
    "            return tf.transpose(tf.image.resize_images(tf.transpose(inputs, (0,2,3,1)), tf.multiply(self.upsample_ratio, inputs.shape[2:]), align_corners=True, method=self.resize_method), (0,3,1,2))\n",
    "        else:\n",
    "            return tf.image.resize_images(inputs, tf.multiply(self.upsample_ratio, inputs.shape[1:-1]), align_corners=True, method=self.resize_method)\n",
    "        "
   ]
  },
  {
   "cell_type": "code",
   "execution_count": 3,
   "metadata": {},
   "outputs": [],
   "source": [
    "def poisson_matrix(m,n):\n",
    "    '''\n",
    "    Generates the matrix A to express the Poisson equation in the form Ax=b for an m-by-n grid\n",
    "    \n",
    "    Them matrix returned shall be (m-2)*(n-2)-by-(m-2)*(n-2) in size\n",
    "    \n",
    "    CURRENTLY ONLY WORKS FOR SQUARE DOMAINS!!!!\n",
    "    '''\n",
    "    m = m-2\n",
    "    n = n-2\n",
    "    \n",
    "    D = np.zeros((m,m), dtype = np.float64)\n",
    "    i,j = np.indices(D.shape)\n",
    "    D[i==j] = 4.0\n",
    "    D[i==j-1] = -1.0\n",
    "    D[i==j+1] = -1.0\n",
    "    \n",
    "    S = -np.eye(D.shape[0], dtype = np.float64)\n",
    "    \n",
    "    P = np.zeros((m*n,m*n), dtype = np.float64)\n",
    "    ind = np.arange(0,m*(n+1), m)\n",
    "    \n",
    "    for i in range(len(ind)-1):\n",
    "        P[ind[i]:ind[i+1], ind[i]:ind[i+1]] = D\n",
    "        try:\n",
    "            P[ind[i+1]:ind[i+2], ind[i]:ind[i+1]] = S\n",
    "        except:\n",
    "            pass\n",
    "        try:\n",
    "            P[ind[i-1]:ind[i], ind[i]:ind[i+1]] = S\n",
    "        except:\n",
    "            pass\n",
    "    return P\n",
    "\n",
    "def generate_random_RHS(n, n_controlpts = None, n_outputpts = None, s = 5, domain = [0,1,0,1]):\n",
    "    \n",
    "    '''\n",
    "    This function generates random smooth RHS 'functions' defined pointwise using bivariate splines. \n",
    "    n: no. of random RHSes to generate\n",
    "    n_controlpts: no. of control pts of the spline. Smaller values lead to 'smoother' results\n",
    "    n_outputpts: no. of gridpoints in each direction of the output \n",
    "    s: see parameter s in scipy.interpolate.RectBivariateSpline\n",
    "    domain: [x_min, x_max, y_min, y_max]\n",
    "    '''\n",
    "    \n",
    "    \n",
    "    if isinstance(n, Iterable):\n",
    "        n_controlpts = n[1]\n",
    "        n_outputpts = n[2]\n",
    "        try:\n",
    "            s = n[3]\n",
    "        except:\n",
    "            pass\n",
    "        try:\n",
    "            domain = n[4]\n",
    "        except:\n",
    "            pass\n",
    "        n = n[0]\n",
    "    \n",
    "    x = np.linspace(domain[0], domain[1], n_controlpts)\n",
    "    y = np.linspace(domain[2], domain[3], n_controlpts)\n",
    "    if n_controlpts != n_outputpts:\n",
    "        x_out = np.linspace(domain[0], domain[1], n_outputpts)\n",
    "        y_out = np.linspace(domain[2], domain[3], n_outputpts)\n",
    "    else:\n",
    "        x_out = x\n",
    "        y_out = y\n",
    "            \n",
    "    out = []\n",
    "    for i in range(n):\n",
    "        spl = RectBivariateSpline(x,y,2*np.random.rand(len(x), len(y))-1, s=s)\n",
    "        out.append(spl(x_out,y_out))\n",
    "    return np.array(out)\n",
    "    \n",
    "\n",
    "def poisson_RHS(F, boundaries = None, h = None):\n",
    "    '''\n",
    "    Generates the RHS vector b of a discretized Poisson problem in the form Ax=b.\n",
    "    h = grid spacing\n",
    "    boundaries = dict containing entries 'top', 'bottom', 'right' and 'left' which correspond to the Dirichlet BCs at these boundaries. Each entry must be a vector of length m or n, where m and n are defined as in te function poisson_matrix\n",
    "    F = an m by n matrix containing the RHS values of the Poisson equation\n",
    "    \n",
    "    (i.e. this function merely takes the BC information and the array from generate_random_RHS to provide the RHS for the matrix eq. form)\n",
    "    '''\n",
    "    \n",
    "    if isinstance(F, Iterable):\n",
    "        boundaries = F[1]\n",
    "        h = F[2]\n",
    "        F = F[0]\n",
    "    \n",
    "    F = -h**2 * F\n",
    "    F[...,1:-1,1] = F[...,1:-1,1] + np.array(boundaries['top'])[1:-1]\n",
    "    F[...,1:-1,-2] = F[...,1:-1,-2] + np.array(boundaries['bottom'])[1:-1]\n",
    "    F[...,1,1:-1] = F[...,1,1:-1] + np.array(boundaries['left'])[1:-1]\n",
    "    F[...,-2,1:-1] = F[...,-2,1:-1] + np.array(boundaries['right'])[1:-1]\n",
    "    \n",
    "    return F[...,1:-1,1:-1].reshape(list(F[...,1:-1,1:-1].shape[:-2]) + [np.prod(F[...,1:-1,1:-1].shape[-2:])])\n",
    " \n",
    "def generate_dataset(batch_size, n, h, boundaries, n_batches = 1, rhs_range = [-1,1]):\n",
    "    lhs = tf.constant(poisson_matrix(n,n), dtype=tf.float64)\n",
    "    lhs_chol = tf.linalg.cholesky(lhs)\n",
    "    \n",
    "    def chol(r):\n",
    "        return tf.linalg.cholesky_solve(lhs_chol, tf.transpose(tf.stack([r])))\n",
    "    \n",
    "    @tf.contrib.eager.defun\n",
    "    def chol_solve(rhs_arr):\n",
    "        return tf.map_fn(chol, rhs)\n",
    "    \n",
    "    #pdb.set_trace()\n",
    "    pool = ThreadPool(n_batches)\n",
    "    F = pool.map(generate_random_RHS, zip(itertools.repeat(batch_size, n_batches), itertools.repeat(10), itertools.repeat(n), itertools.repeat(5), itertools.repeat([0,n*h,0,n*h])))\n",
    "    rhs = tf.concat(pool.map(poisson_RHS, zip(F, itertools.repeat(boundaries), itertools.repeat(h))), axis=0)\n",
    "    \n",
    "    soln = np.zeros((n_batches * batch_size, n, n), dtype = np.float64)\n",
    "    soln[...,:,0] = boundaries['top']\n",
    "    soln[...,:,-1] = boundaries['bottom']\n",
    "    soln[...,0,:] = boundaries['left']\n",
    "    soln[...,-1,:] = boundaries['right']\n",
    "    soln[:,1:-1,1:-1] = tf.reshape(chol_solve(rhs), (n_batches * batch_size, n-2, n-2))\n",
    "    #soln = chol_solve(rhs)\n",
    "    \n",
    "    #return tf.reshape(soln, (n_batches, batch_size, lhs_chol.shape[0])), tf.reshape(F, (n_batches, batch_size, F.shape[-2], F.shape[-1]))\n",
    "    return tf.reshape(soln, (n_batches*batch_size, 1, soln.shape[-2], soln.shape[-1])), tf.reshape(tf.concat(F, axis = 0), (n_batches*batch_size, 1, F[0].shape[-2], F[0].shape[-1]))\n"
   ]
  },
  {
   "cell_type": "code",
   "execution_count": 4,
   "metadata": {},
   "outputs": [],
   "source": [
    "ntest = 64\n",
    "h = 0.05\n",
    "boundary_top = Boundary1D('Dirichlet', [(0,ntest*h),(ntest*h,ntest*h)], orientation='clockwise', RHS_function=lambda t: t-t, boundary_rhs_is_parametric=True)\n",
    "boundary_right = Boundary1D('Dirichlet', [(ntest*h,ntest*h),(ntest*h,0)], orientation='clockwise', RHS_function=lambda t: t-t, boundary_rhs_is_parametric=True)\n",
    "boundary_bottom = Boundary1D('Dirichlet', [(ntest*h,0),(0,0)], orientation='clockwise', RHS_function=lambda t: t-t, boundary_rhs_is_parametric=True)\n",
    "boundary_left = Boundary1D('Dirichlet', [(0,0),(0,ntest*h)], orientation='clockwise', RHS_function=lambda t: t-t, boundary_rhs_is_parametric=True)"
   ]
  },
  {
   "cell_type": "code",
   "execution_count": 41,
   "metadata": {},
   "outputs": [
    {
     "name": "stdout",
     "output_type": "stream",
     "text": [
      "Generation of training data took 717.9840817451477 seconds\n"
     ]
    }
   ],
   "source": [
    "import time\n",
    "t0 = time.time()\n",
    "soln,F = generate_dataset(batch_size=2000, n = ntest, h = h, n_batches=20, boundaries={'top': boundary_top.RHS_evaluate(np.linspace(boundary_top.t.min(),boundary_top.t.max(),ntest)), 'right': boundary_right.RHS_evaluate(np.linspace(boundary_right.t.min(),boundary_right.t.max(),ntest)), 'bottom': boundary_bottom.RHS_evaluate(np.linspace(boundary_bottom.t.min(),boundary_bottom.t.max(),ntest)), 'left': boundary_left.RHS_evaluate(np.linspace(boundary_left.t.min(),boundary_left.t.max(),ntest))})\n",
    "t1 = time.time()\n",
    "print('Generation of training data took ' + str(t1-t0) + ' seconds')\n",
    "with h5py.File('dataset8.h5', 'w') as hf:\n",
    "    hf.create_dataset('soln', data=soln)\n",
    "    hf.create_dataset('F', data=F)"
   ]
  },
  {
   "cell_type": "code",
   "execution_count": 5,
   "metadata": {},
   "outputs": [],
   "source": [
    "for i in range(6,9):\n",
    "    with h5py.File('dataset' + str(i) + '.h5', 'r') as hf:\n",
    "        F = np.array(hf.get('F'), dtype = np.float64)\n",
    "        soln = np.array(hf.get('soln'), dtype = np.float64)\n",
    "        try:\n",
    "            train_data = train_data.concatenate(tf.data.Dataset.from_tensor_slices((F,soln)))\n",
    "        except:\n",
    "            train_data = tf.data.Dataset.from_tensor_slices((F,soln))"
   ]
  },
  {
   "cell_type": "code",
   "execution_count": 6,
   "metadata": {},
   "outputs": [
    {
     "name": "stdout",
     "output_type": "stream",
     "text": [
      "Generation of validation data took 38.78255367279053 seconds\n"
     ]
    }
   ],
   "source": [
    "import time\n",
    "t0 = time.time()\n",
    "soln_valid,F_valid = generate_dataset(batch_size=1000, n = ntest, h = h, n_batches=2, boundaries={'top': boundary_top.RHS_evaluate(np.linspace(boundary_top.t.min(),boundary_top.t.max(),ntest)), 'right': boundary_right.RHS_evaluate(np.linspace(boundary_right.t.min(),boundary_right.t.max(),ntest)), 'bottom': boundary_bottom.RHS_evaluate(np.linspace(boundary_bottom.t.min(),boundary_bottom.t.max(),ntest)), 'left': boundary_left.RHS_evaluate(np.linspace(boundary_left.t.min(),boundary_left.t.max(),ntest))})\n",
    "t1 = time.time()\n",
    "print('Generation of validation data took ' + str(t1-t0) + ' seconds')"
   ]
  },
  {
   "cell_type": "code",
   "execution_count": 5,
   "metadata": {},
   "outputs": [],
   "source": [
    "# with h5py.File('dataset' + str(4) + '.h5', 'r') as hf:\n",
    "#         F_valid = np.array(hf.get('F'), dtype = np.float64)\n",
    "#         soln_valid = np.array(hf.get('soln'), dtype = np.float64)"
   ]
  },
  {
   "cell_type": "code",
   "execution_count": 7,
   "metadata": {},
   "outputs": [],
   "source": [
    "shuffle_size = 100000\n",
    "batch_size = 2000\n",
    "train_data = train_data.shuffle(shuffle_size).batch(batch_size)\n",
    "dataset_validation = tf.data.Dataset.from_tensor_slices((F_valid, soln_valid)).shuffle(shuffle_size).batch(100)\n",
    "#del F, soln#, F_valid, soln_valid"
   ]
  },
  {
   "cell_type": "code",
   "execution_count": 8,
   "metadata": {},
   "outputs": [],
   "source": [
    "input_0 = Input(shape=(1,ntest,ntest,))\n",
    "conv_1_0 = Conv2D(filters = 5, kernel_size = 3, activation=tf.nn.relu, data_format='channels_first', padding='same')(input_0)\n",
    "\n",
    "conv_2_0 = Conv2D(filters = 8, kernel_size = 3, activation=tf.nn.relu, data_format='channels_first', padding='same')(conv_1_0)\n",
    "pool_2_0 = AveragePooling2D(data_format = 'channels_first')(conv_2_0)\n",
    "pool_2_1 = AveragePooling2D(data_format = 'channels_first')(pool_2_0)\n",
    "\n",
    "conv_3_0 = Conv2D(filters = 8, kernel_size = 3, activation=tf.nn.relu, data_format = 'channels_first', padding='same')(conv_2_0)\n",
    "conv_3_1 = Conv2D(filters = 8, kernel_size = 3, activation=tf.nn.relu, data_format = 'channels_first', padding='same')(pool_2_0)\n",
    "conv_3_2 = Conv2D(filters = 8, kernel_size = 3, activation=tf.nn.relu, data_format = 'channels_first', padding='same')(pool_2_1)\n",
    "#transposeconv_3_1 = Conv2DTranspose(filters = 8, kernel_size = 3, strides = 2, activation = tf.nn.relu, data_format = 'channels_first', padding='same')(conv_3_1)\n",
    "#transposeconv_3_2 = Conv2DTranspose(filters = 8, kernel_size = 3, strides = 4, activation = tf.nn.relu, data_format = 'channels_first', padding='same')(conv_3_2)\n",
    "#upsample_3_1 = UpSampling2D(size=(2,2), data_format = 'channels_first', interpolation = 'bilinear')(conv_3_1)\n",
    "#upsample_3_2= UpSampling2D(size=(4,4), data_format = 'channels_first', interpolation = 'bilinear')(conv_3_2)\n",
    "upsample_3_1 = Upsample()(conv_3_1)\n",
    "upsample_3_2 = Upsample(4)(conv_3_2)\n",
    "#merge_3_0 = Add()([conv_3_0, transposeconv_3_1, transposeconv_3_2])\n",
    "merge_3_0 = Add()([conv_3_0, upsample_3_1, upsample_3_2])\n",
    "\n",
    "conv_4_0 = Conv2D(filters = 8, kernel_size = 1, activation = tf.nn.relu, data_format = 'channels_first', padding='same')(merge_3_0)\n",
    "\n",
    "conv_5_0 = Conv2D(filters = 1, kernel_size = 1, activation = 'linear', data_format = 'channels_first', padding='same')(conv_4_0)\n",
    "final_activation = tf.keras.layers.PReLU()(conv_5_0)\n",
    "a = Model(input_0, final_activation)"
   ]
  },
  {
   "cell_type": "code",
   "execution_count": 12,
   "metadata": {},
   "outputs": [
    {
     "name": "stdout",
     "output_type": "stream",
     "text": [
      "__________________________________________________________________________________________________\n",
      "Layer (type)                    Output Shape         Param #     Connected to                     \n",
      "==================================================================================================\n",
      "input_1 (InputLayer)            (None, 1, 64, 64)    0                                            \n",
      "__________________________________________________________________________________________________\n",
      "conv2d (Conv2D)                 (None, 5, 64, 64)    50          input_1[0][0]                    \n",
      "__________________________________________________________________________________________________\n",
      "conv2d_1 (Conv2D)               (None, 8, 64, 64)    368         conv2d[0][0]                     \n",
      "__________________________________________________________________________________________________\n",
      "average_pooling2d (AveragePooli (None, 8, 32, 32)    0           conv2d_1[0][0]                   \n",
      "__________________________________________________________________________________________________\n",
      "average_pooling2d_1 (AveragePoo (None, 8, 16, 16)    0           average_pooling2d[0][0]          \n",
      "__________________________________________________________________________________________________\n",
      "conv2d_3 (Conv2D)               (None, 8, 32, 32)    584         average_pooling2d[0][0]          \n",
      "__________________________________________________________________________________________________\n",
      "conv2d_4 (Conv2D)               (None, 8, 16, 16)    584         average_pooling2d_1[0][0]        \n",
      "__________________________________________________________________________________________________\n",
      "conv2d_2 (Conv2D)               (None, 8, 64, 64)    584         conv2d_1[0][0]                   \n",
      "__________________________________________________________________________________________________\n",
      "upsample (Upsample)             (None, 8, 64, 64)    0           conv2d_3[0][0]                   \n",
      "__________________________________________________________________________________________________\n",
      "upsample_1 (Upsample)           (None, 8, 64, 64)    0           conv2d_4[0][0]                   \n",
      "__________________________________________________________________________________________________\n",
      "add (Add)                       (None, 8, 64, 64)    0           conv2d_2[0][0]                   \n",
      "                                                                 upsample[0][0]                   \n",
      "                                                                 upsample_1[0][0]                 \n",
      "__________________________________________________________________________________________________\n",
      "conv2d_5 (Conv2D)               (None, 8, 64, 64)    72          add[0][0]                        \n",
      "__________________________________________________________________________________________________\n",
      "conv2d_6 (Conv2D)               (None, 1, 64, 64)    9           conv2d_5[0][0]                   \n",
      "__________________________________________________________________________________________________\n",
      "p_re_lu (PReLU)                 (None, 1, 64, 64)    4096        conv2d_6[0][0]                   \n",
      "==================================================================================================\n",
      "Total params: 6,347\n",
      "Trainable params: 6,347\n",
      "Non-trainable params: 0\n",
      "__________________________________________________________________________________________________\n"
     ]
    }
   ],
   "source": [
    "a.compile(optimizer = tf.train.AdamOptimizer(learning_rate=1e-3), loss = tf.losses.mean_squared_error, metrics = ['accuracy'])\n",
    "a.summary()"
   ]
  },
  {
   "cell_type": "code",
   "execution_count": 14,
   "metadata": {},
   "outputs": [
    {
     "name": "stdout",
     "output_type": "stream",
     "text": [
      "Epoch 1/7\n",
      "8/8 [==============================] - 29s 4s/step - loss: 2.2234e-04 - acc: 0.9998 - val_loss: 0.0400 - val_acc: 0.1400\n",
      "Epoch 2/7\n",
      "8/8 [==============================] - 26s 3s/step - loss: 2.1176e-04 - acc: 0.9998 - val_loss: 0.0348 - val_acc: 0.1409\n",
      "Epoch 3/7\n",
      "8/8 [==============================] - 26s 3s/step - loss: 2.0222e-04 - acc: 0.9998 - val_loss: 0.0295 - val_acc: 0.1465\n",
      "Epoch 4/7\n",
      "8/8 [==============================] - 26s 3s/step - loss: 1.9463e-04 - acc: 0.9999 - val_loss: 0.0365 - val_acc: 0.1677\n",
      "Epoch 5/7\n",
      "8/8 [==============================] - 26s 3s/step - loss: 1.8627e-04 - acc: 0.9999 - val_loss: 0.0322 - val_acc: 0.1334\n",
      "Epoch 6/7\n",
      "8/8 [==============================] - 26s 3s/step - loss: 1.7986e-04 - acc: 0.9998 - val_loss: 0.0377 - val_acc: 0.1459\n",
      "Epoch 7/7\n",
      "8/8 [==============================] - 26s 3s/step - loss: 1.7993e-04 - acc: 0.9998 - val_loss: 0.0316 - val_acc: 0.1215\n"
     ]
    },
    {
     "data": {
      "text/plain": [
       "<tensorflow.python.keras.callbacks.History at 0x2afa7230fbe0>"
      ]
     },
     "execution_count": 14,
     "metadata": {},
     "output_type": "execute_result"
    }
   ],
   "source": [
    "a.fit(train_data, steps_per_epoch=8, epochs=7, validation_data=dataset_validation, validation_steps=2)"
   ]
  },
  {
   "cell_type": "code",
   "execution_count": 205,
   "metadata": {},
   "outputs": [],
   "source": [
    "# a.save_weights('model.h5')"
   ]
  },
  {
   "cell_type": "code",
   "execution_count": 15,
   "metadata": {},
   "outputs": [
    {
     "data": {
      "image/png": "[encoded data removed]",
      "text/plain": [
       "<Figure size 432x288 with 2 Axes>"
      ]
     },
     "metadata": {
      "needs_background": "light"
     },
     "output_type": "display_data"
    }
   ],
   "source": [
    "p = np.random.randint(0,F_valid.shape[0])\n",
    "y, x = np.meshgrid(np.linspace(0, ntest*h, ntest), np.linspace(0, ntest*h, ntest))\n",
    "z = a.predict(tf.expand_dims(F[p,...], axis=0))[0,0,...]\n",
    "#z = soln[p,0,...]\n",
    "#z = generate_random_RHS(10, n_controlpts=10, n_outputpts=64)[4,:,:]\n",
    "#z = a.predict(tf.expand_dims(F_valid[p,...], axis=0))[0,0,...] - soln_valid[p,0,...]\n",
    "z_min, z_max = -np.abs(z).max(), np.abs(z).max()\n",
    "fig, ax = plt.subplots()\n",
    "c = ax.pcolormesh(x, y, z, cmap='RdBu', vmin=z_min, vmax=z_max)\n",
    "ax.set_title('pcolormesh')\n",
    "ax.axis([x.min(), x.max(), y.min(), y.max()])\n",
    "fig.colorbar(c, ax=ax)\n",
    "\n",
    "plt.show()"
   ]
  },
  {
   "cell_type": "code",
   "execution_count": 17,
   "metadata": {},
   "outputs": [
    {
     "data": {
      "image/png": "[encoded data removed]",
      "text/plain": [
       "<Figure size 432x288 with 2 Axes>"
      ]
     },
     "metadata": {
      "needs_background": "light"
     },
     "output_type": "display_data"
    }
   ],
   "source": [
    "#soln_valid,F_valid = generate_dataset(batch_size=50, n = ntest, h = h, n_batches=1, boundaries={'top': boundary_top.RHS_evaluate(np.linspace(boundary_top.t.min(),boundary_top.t.max(),ntest)), 'right': boundary_right.RHS_evaluate(np.linspace(boundary_right.t.min(),boundary_right.t.max(),ntest)), 'bottom': boundary_bottom.RHS_evaluate(np.linspace(boundary_bottom.t.min(),boundary_bottom.t.max(),ntest)), 'left': boundary_left.RHS_evaluate(np.linspace(boundary_left.t.min(),boundary_left.t.max(),ntest))})\n",
    "#p = np.random.randint(0,F_valid.shape[0])\n",
    "y, x = np.meshgrid(np.linspace(0, ntest*h, ntest), np.linspace(0, ntest*h, ntest))\n",
    "z = F[p,0,...]\n",
    "#z = soln[p,0,...]\n",
    "z_min, z_max = -np.abs(z).max(), np.abs(z).max()\n",
    "fig, ax = plt.subplots()\n",
    "c = ax.pcolormesh(x, y, z, cmap='RdBu', vmin=z_min, vmax=z_max)\n",
    "ax.set_title('pcolormesh')\n",
    "ax.axis([x.min(), x.max(), y.min(), y.max()])\n",
    "fig.colorbar(c, ax=ax)\n",
    "\n",
    "plt.show()"
   ]
  },
  {
   "cell_type": "code",
   "execution_count": 186,
   "metadata": {},
   "outputs": [
    {
     "name": "stdout",
     "output_type": "stream",
     "text": [
      "tf.Tensor(0.5087829935637943, shape=(), dtype=float64)\n",
      "0.3638863563537597\n",
      "tf.Tensor(0.5087829935638285, shape=(), dtype=float64)\n",
      "tf.Tensor(-0.1960798744723582, shape=(), dtype=float64)\n"
     ]
    }
   ],
   "source": [
    "i = np.random.randint(1,ntest-2)\n",
    "j = np.random.randint(1,ntest-2)\n",
    "p = np.random.randint(0,soln_valid.shape[0]-1)\n",
    "print((-4 * soln_valid[p,0,i,j] + soln_valid[p,0,i,j-1] + soln_valid[p,0,i-1,j] + soln_valid[p,0,i+1,j] + soln_valid[p,0,i,j+1])/(h**2))\n",
    "example_soln = a.predict(tf.expand_dims(F_valid[p,...], axis=0))\n",
    "print((-4 * example_soln[0,0,i,j] + example_soln[0,0,i,j-1] + example_soln[0,0,i-1,j] + example_soln[0,0,i+1,j] + example_soln[0,0,i,j+1])/(h**2))\n",
    "print(F_valid[p,0,i,j])\n",
    "print(soln_valid[p,0,i,j])"
   ]
  },
  {
   "cell_type": "code",
   "execution_count": 201,
   "metadata": {},
   "outputs": [],
   "source": [
    "X,Y = np.meshgrid(np.linspace(0,1,20),np.linspace(0,1,20))\n",
    "Z_m = np.array([[np.sin(np.pi*(X+Y)), np.cos(np.pi * (X+Y))] , [np.exp(-X**2 * Y**2), np.tan(np.multiply(X,Y))]])\n",
    "#Z_m = tf.expand_dims(Z, axis = 0)\n",
    "ur = 3\n",
    "b = BilinearUpsample(ur)(input_0)\n",
    "model1 = Model(input_0, b)"
   ]
  },
  {
   "cell_type": "code",
   "execution_count": 32,
   "metadata": {},
   "outputs": [
    {
     "data": {
      "text/plain": [
       "TensorShape([Dimension(2), Dimension(1), Dimension(20), Dimension(20)])"
      ]
     },
     "execution_count": 32,
     "metadata": {},
     "output_type": "execute_result"
    }
   ],
   "source": [
    "Z_m.shape"
   ]
  },
  {
   "cell_type": "code",
   "execution_count": 202,
   "metadata": {},
   "outputs": [
    {
     "data": {
      "image/png": "[encoded data removed]",
      "text/plain": [
       "<Figure size 432x288 with 1 Axes>"
      ]
     },
     "metadata": {
      "needs_background": "light"
     },
     "output_type": "display_data"
    }
   ],
   "source": [
    "X0, Y0 = np.meshgrid(np.linspace(0,1,X.shape[0]*ur),np.linspace(0,1,X.shape[0]*ur))\n",
    "fig, ax = plt.subplots()\n",
    "c = ax.pcolormesh(X0, Y0, model1(Z_m)[0,0,...], cmap='RdBu')"
   ]
  },
  {
   "cell_type": "code",
   "execution_count": 24,
   "metadata": {},
   "outputs": [
    {
     "data": {
      "image/png": "[encoded data removed]",
      "text/plain": [
       "<Figure size 432x288 with 1 Axes>"
      ]
     },
     "metadata": {
      "needs_background": "light"
     },
     "output_type": "display_data"
    }
   ],
   "source": [
    "fig, ax = plt.subplots()\n",
    "c = ax.pcolormesh(X, Y, Z_m[0,0,...], cmap='RdBu')"
   ]
  },
  {
   "cell_type": "code",
   "execution_count": 27,
   "metadata": {},
   "outputs": [
    {
     "data": {
      "text/plain": [
       "0.008573481361783628"
      ]
     },
     "execution_count": 27,
     "metadata": {},
     "output_type": "execute_result"
    }
   ],
   "source": [
    "np.mean(np.abs(a.predict(F_valid) - soln_valid))"
   ]
  },
  {
   "cell_type": "code",
   "execution_count": 160,
   "metadata": {},
   "outputs": [
    {
     "name": "stdout",
     "output_type": "stream",
     "text": [
      "10.9 ms ± 364 µs per loop (mean ± std. dev. of 7 runs, 100 loops each)\n"
     ]
    }
   ],
   "source": [
    "timeit a.predict(tf.expand_dims(F_valid[0,...], axis=0))"
   ]
  },
  {
   "cell_type": "code",
   "execution_count": 187,
   "metadata": {},
   "outputs": [
    {
     "name": "stdout",
     "output_type": "stream",
     "text": [
      "673 ms ± 87.4 ms per loop (mean ± std. dev. of 7 runs, 1 loop each)\n"
     ]
    }
   ],
   "source": [
    "timeit a.predict(F_valid[0:1000,...])"
   ]
  },
  {
   "cell_type": "code",
   "execution_count": 192,
   "metadata": {},
   "outputs": [
    {
     "name": "stdout",
     "output_type": "stream",
     "text": [
      "(3844, 3844)\n",
      "(3844, 1000)\n"
     ]
    }
   ],
   "source": [
    "lhs = poisson_matrix(64,64)\n",
    "lhs_chol = tf.to_float(tf.linalg.cholesky(lhs))\n",
    "print(lhs_chol.shape)\n",
    "rhs = tf.constant(np.random.rand((64-2)**2,1000ur), dtype=tf.float32)\n",
    "print(rhs.shape)"
   ]
  },
  {
   "cell_type": "code",
   "execution_count": 193,
   "metadata": {},
   "outputs": [
    {
     "name": "stdout",
     "output_type": "stream",
     "text": [
      "31 ms ± 1.82 ms per loop (mean ± std. dev. of 7 runs, 10 loops each)\n"
     ]
    }
   ],
   "source": [
    "timeit tf.linalg.cholesky_solve(lhs_chol,rhs)"
   ]
  },
  {
   "cell_type": "code",
   "execution_count": null,
   "metadata": {},
   "outputs": [],
   "source": [
    "\n",
    "b."
   ]
  },
  {
   "cell_type": "code",
   "execution_count": null,
   "metadata": {},
   "outputs": [],
   "source": []
  }
 ],
 "metadata": {
  "kernelspec": {
   "display_name": "py3.6",
   "language": "python",
   "name": "py3.6"
  },
  "language_info": {
   "codemirror_mode": {
    "name": "ipython",
    "version": 3
   },
   "file_extension": ".py",
   "mimetype": "text/x-python",
   "name": "python",
   "nbconvert_exporter": "python",
   "pygments_lexer": "ipython3",
   "version": "3.6.7"
  }
 },
 "nbformat": 4,
 "nbformat_minor": 2
}
