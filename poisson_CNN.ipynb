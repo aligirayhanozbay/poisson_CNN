{
 "cells": [
  {
   "cell_type": "code",
   "execution_count": 1,
   "metadata": {},
   "outputs": [],
   "source": [
    "import numpy as np\n",
    "import tensorflow as tf\n",
    "from tensorflow.keras.models import Model\n",
    "from tensorflow.keras.layers import Input, Dense, Conv2D, Flatten, Conv2DTranspose, AveragePooling2D, Add, Reshape\n",
    "from scipy.interpolate import RectBivariateSpline\n",
    "import tensorflow.contrib.eager as tfe\n",
    "import matplotlib.pyplot as plt\n",
    "from mpl_toolkits.mplot3d import Axes3D\n",
    "from Boundary import Boundary1D\n",
    "from MergeWithAttention import MergeWithAttention2\n",
    "from Upsample import Upsample\n",
    "from collections.abc import Iterable\n",
    "import itertools, h5py\n",
    "from multiprocessing import Pool as ThreadPool\n",
    "from Lp_integral_norm import Lp_integral_norm\n",
    "opts = tf.GPUOptions(per_process_gpu_memory_fraction=0.95)\n",
    "conf = tf.ConfigProto(gpu_options=opts)\n",
    "tfe.enable_eager_execution(config=conf)\n",
    "tf.keras.backend.set_floatx('float64')"
   ]
  },
  {
   "cell_type": "code",
   "execution_count": 67,
   "metadata": {},
   "outputs": [],
   "source": [
    "ntest = 64\n",
    "h = 0.05\n",
    "folder = 'dataset_' + str(ntest)\n",
    "boundary_top = Boundary1D('Dirichlet', [(0,ntest*h),(ntest*h,ntest*h)], orientation='clockwise', RHS_function=lambda t: t-t, boundary_rhs_is_parametric=True)\n",
    "boundary_right = Boundary1D('Dirichlet', [(ntest*h,ntest*h),(ntest*h,0)], orientation='clockwise', RHS_function=lambda t: t-t, boundary_rhs_is_parametric=True)\n",
    "boundary_bottom = Boundary1D('Dirichlet', [(ntest*h,0),(0,0)], orientation='clockwise', RHS_function=lambda t: t-t, boundary_rhs_is_parametric=True)\n",
    "boundary_left = Boundary1D('Dirichlet', [(0,0),(0,ntest*h)], orientation='clockwise', RHS_function=lambda t: t-t, boundary_rhs_is_parametric=True)"
   ]
  },
  {
   "cell_type": "code",
   "execution_count": 3,
   "metadata": {},
   "outputs": [],
   "source": [
    "for i in range(0,5):\n",
    "    with h5py.File(folder + '/range_-1_1/dataset' + str(i) + '_-11.h5', 'r') as hf:\n",
    "        F = np.array(hf.get('F'), dtype = np.float64)\n",
    "        soln = np.array(hf.get('soln'), dtype = np.float64)\n",
    "        try:\n",
    "            train_data = train_data.concatenate(tf.data.Dataset.from_tensor_slices((F,soln)))\n",
    "        except:\n",
    "            train_data = tf.data.Dataset.from_tensor_slices((F,soln))"
   ]
  },
  {
   "cell_type": "code",
   "execution_count": 4,
   "metadata": {},
   "outputs": [],
   "source": [
    "for i in range(5,6):\n",
    "    with h5py.File(folder + '/range_-1_1/dataset' + str(i) + '_-11.h5', 'r') as hf:\n",
    "        F = np.array(hf.get('F'), dtype = np.float64)\n",
    "        soln = np.array(hf.get('soln'), dtype = np.float64)\n",
    "        try:\n",
    "            valid_data = valid_data.concatenate(tf.data.Dataset.from_tensor_slices((F,soln)))\n",
    "        except:\n",
    "            valid_data = tf.data.Dataset.from_tensor_slices((F,soln))"
   ]
  },
  {
   "cell_type": "code",
   "execution_count": null,
   "metadata": {},
   "outputs": [],
   "source": [
    "# with h5py.File('dataset' + str(8) + '.h5', 'r') as hf:\n",
    "#         F_valid = np.array(hf.get('F'), dtype = np.float64)\n",
    "#         soln_valid = np.array(hf.get('soln'), dtype = np.float64)"
   ]
  },
  {
   "cell_type": "code",
   "execution_count": 5,
   "metadata": {},
   "outputs": [],
   "source": [
    "shuffle_size = 100000\n",
    "batch_size = 200\n",
    "train_data = train_data.shuffle(shuffle_size).batch(batch_size)\n",
    "valid_data = valid_data.shuffle(shuffle_size).batch(batch_size)\n",
    "del F, soln"
   ]
  },
  {
   "cell_type": "code",
   "execution_count": null,
   "metadata": {},
   "outputs": [],
   "source": [
    "#stable model\n",
    "input_0 = Input(shape=(1,ntest,ntest,))\n",
    "conv_1_0 = Conv2D(filters = 5, kernel_size = 3, activation=tf.nn.leaky_relu, data_format='channels_first', padding='same')(input_0)\n",
    "\n",
    "conv_2_0 = Conv2D(filters = 16, kernel_size = 3, activation=tf.nn.leaky_relu, data_format='channels_first', padding='same')(conv_1_0)\n",
    "pool_2_0 = AveragePooling2D(data_format = 'channels_first')(conv_2_0)\n",
    "pool_2_1 = AveragePooling2D(data_format = 'channels_first')(pool_2_0)\n",
    "pool_2_2 = AveragePooling2D(data_format = 'channels_first')(pool_2_1)\n",
    "pool_2_3 = AveragePooling2D(data_format = 'channels_first')(pool_2_2)\n",
    "pool_2_4 = AveragePooling2D(data_format = 'channels_first')(pool_2_3)\n",
    "pool_2_5 = AveragePooling2D(data_format = 'channels_first')(pool_2_4)\n",
    "pool_2_6 = AveragePooling2D(data_format = 'channels_first')(pool_2_5)\n",
    "\n",
    "conv_3_0 = Conv2D(filters = 8, kernel_size = 3, activation=tf.nn.leaky_relu, data_format = 'channels_first', padding='same')(conv_2_0)\n",
    "conv_3_1 = Conv2D(filters = 8, kernel_size = 3, activation=tf.nn.leaky_relu, data_format = 'channels_first', padding='same')(pool_2_0)\n",
    "conv_3_2 = Conv2D(filters = 8, kernel_size = 3, activation=tf.nn.leaky_relu, data_format = 'channels_first', padding='same')(pool_2_1)\n",
    "conv_3_3 = Conv2D(filters = 8, kernel_size = 3, activation=tf.nn.leaky_relu, data_format = 'channels_first', padding='same')(pool_2_2)\n",
    "conv_3_4 = Conv2D(filters = 8, kernel_size = 3, activation=tf.nn.leaky_relu, data_format = 'channels_first', padding='same')(pool_2_3)\n",
    "conv_3_5 = Conv2D(filters = 8, kernel_size = 1, activation=tf.nn.leaky_relu, data_format = 'channels_first', padding='same')(pool_2_4)\n",
    "conv_3_6 = Conv2D(filters = 8, kernel_size = 1, activation=tf.nn.leaky_relu, data_format = 'channels_first', padding='same')(pool_2_5)\n",
    "#conv_3_7 = Conv2D(filters = 8, kernel_size = 1, activation=tf.nn.leaky_relu, data_format = 'channels_first', padding='same')(pool_2_6)\n",
    "\n",
    "upsample_3_1 = Upsample(resize_method=tf.image.ResizeMethod.BICUBIC)(conv_3_1)\n",
    "upsample_3_2 = Upsample(4, resize_method=tf.image.ResizeMethod.BICUBIC)(conv_3_2)\n",
    "upsample_3_3 = Upsample(8, resize_method=tf.image.ResizeMethod.BICUBIC)(conv_3_3)\n",
    "upsample_3_4 = Upsample(16, resize_method=tf.image.ResizeMethod.BICUBIC)(conv_3_4)\n",
    "upsample_3_5 = Upsample(32, resize_method=tf.image.ResizeMethod.BILINEAR)(conv_3_5)\n",
    "upsample_3_6 = Upsample(64, resize_method=tf.image.ResizeMethod.NEAREST_NEIGHBOR)(conv_3_6)\n",
    "#upsample_3_7 = Upsample(128, resize_method=tf.image.ResizeMethod.NEAREST_NEIGHBOR)(conv_3_7)\n",
    "\n",
    "conv_4_0 = Conv2D(filters = 8, kernel_size = 3, activation=tf.nn.leaky_relu, data_format = 'channels_first', padding='same')(conv_3_0)\n",
    "conv_4_1 = Conv2D(filters = 8, kernel_size = 3, activation=tf.nn.leaky_relu, data_format = 'channels_first', padding='same')(upsample_3_1)\n",
    "conv_4_2 = Conv2D(filters = 8, kernel_size = 3, activation=tf.nn.leaky_relu, data_format = 'channels_first', padding='same')(upsample_3_2)\n",
    "conv_4_3 = Conv2D(filters = 8, kernel_size = 3, activation=tf.nn.leaky_relu, data_format = 'channels_first', padding='same')(upsample_3_3)\n",
    "conv_4_4 = Conv2D(filters = 8, kernel_size = 3, activation=tf.nn.leaky_relu, data_format = 'channels_first', padding='same')(upsample_3_4)\n",
    "conv_4_5 = Conv2D(filters = 8, kernel_size = 3, activation=tf.nn.leaky_relu, data_format = 'channels_first', padding='same')(upsample_3_5)\n",
    "#conv_4_6 = Conv2D(filters = 8, kernel_size = 3, activation=tf.nn.leaky_relu, data_format = 'channels_first', padding='same')(upsample_3_6)\n",
    "\n",
    "#merge_4_0 = MergeWithAttention2()([conv_4_0, conv_4_1, conv_4_2, conv_4_3, conv_4_4, conv_4_5, conv_4_6, upsample_3_7])\n",
    "merge_4_0 = MergeWithAttention2()([conv_4_0, conv_4_1, conv_4_2, conv_4_3, conv_4_4, conv_4_5, upsample_3_6])#, upsample_3_7])\n",
    "\n",
    "conv_5_0 = Conv2D(filters = 16, kernel_size = 3, activation = tf.nn.leaky_relu, data_format = 'channels_first', padding='same')(merge_4_0)\n",
    "\n",
    "conv_5_1 = Conv2D(filters = 5, kernel_size = 3, activation = tf.nn.leaky_relu, data_format = 'channels_first', padding='same')(conv_5_0)\n",
    "#final_activation = tf.keras.layers.PReLU()(conv_5_1)\n",
    "conv_6_0 = Conv2D(filters = 1, kernel_size = 3, activation='linear', data_format = 'channels_first', padding='same')(conv_5_1)#(final_activation)\n",
    "\n",
    "a = Model(input_0, conv_6_0)\n",
    "#a.load_weights(folder + '/model_stable.h5') - for [0,1] - 1.3% mae\n",
    "#a.load_weights(folder + '/model_stable_-11.h5') - 4% mae"
   ]
  },
  {
   "cell_type": "code",
   "execution_count": 37,
   "metadata": {},
   "outputs": [
    {
     "ename": "NameError",
     "evalue": "name 'a' is not defined",
     "output_type": "error",
     "traceback": [
      "\u001b[0;31m---------------------------------------------------------------------------\u001b[0m",
      "\u001b[0;31mNameError\u001b[0m                                 Traceback (most recent call last)",
      "\u001b[0;32m<ipython-input-37-dc740d129467>\u001b[0m in \u001b[0;36m<module>\u001b[0;34m\u001b[0m\n\u001b[1;32m      1\u001b[0m \u001b[0;31m#how to train this - start with lr = 1e-2, switch to lr = 1e-4/1e-5 later on, keep mse component to 1e+1. use large no. of steps per epoch.\u001b[0m\u001b[0;34m\u001b[0m\u001b[0;34m\u001b[0m\u001b[0;34m\u001b[0m\u001b[0m\n\u001b[0;32m----> 2\u001b[0;31m \u001b[0ma\u001b[0m\u001b[0;34m.\u001b[0m\u001b[0mcompile\u001b[0m\u001b[0;34m(\u001b[0m\u001b[0moptimizer\u001b[0m \u001b[0;34m=\u001b[0m \u001b[0mtf\u001b[0m\u001b[0;34m.\u001b[0m\u001b[0mtrain\u001b[0m\u001b[0;34m.\u001b[0m\u001b[0mAdamOptimizer\u001b[0m\u001b[0;34m(\u001b[0m\u001b[0mlearning_rate\u001b[0m\u001b[0;34m=\u001b[0m\u001b[0;36m5e-5\u001b[0m\u001b[0;34m)\u001b[0m\u001b[0;34m,\u001b[0m \u001b[0mloss\u001b[0m \u001b[0;34m=\u001b[0m \u001b[0mLp_integral_norm\u001b[0m\u001b[0;34m(\u001b[0m\u001b[0;34m(\u001b[0m\u001b[0mntest\u001b[0m\u001b[0;34m,\u001b[0m\u001b[0mntest\u001b[0m\u001b[0;34m)\u001b[0m\u001b[0;34m,\u001b[0m \u001b[0;34m[\u001b[0m\u001b[0;36m0\u001b[0m\u001b[0;34m,\u001b[0m\u001b[0mntest\u001b[0m\u001b[0;34m*\u001b[0m\u001b[0mh\u001b[0m\u001b[0;34m,\u001b[0m\u001b[0;36m0\u001b[0m\u001b[0;34m,\u001b[0m\u001b[0mntest\u001b[0m\u001b[0;34m*\u001b[0m\u001b[0mh\u001b[0m\u001b[0;34m]\u001b[0m\u001b[0;34m,\u001b[0m \u001b[0mn_quadpts\u001b[0m\u001b[0;34m=\u001b[0m\u001b[0;36m20\u001b[0m\u001b[0;34m,\u001b[0m \u001b[0mquadpts_randomization\u001b[0m\u001b[0;34m=\u001b[0m\u001b[0;36m2\u001b[0m\u001b[0;34m,\u001b[0m \u001b[0mp\u001b[0m\u001b[0;34m=\u001b[0m\u001b[0;36m2\u001b[0m\u001b[0;34m,\u001b[0m \u001b[0mmse_component_weight\u001b[0m \u001b[0;34m=\u001b[0m \u001b[0;36m1e+1\u001b[0m\u001b[0;34m)\u001b[0m\u001b[0;34m,\u001b[0m \u001b[0mmetrics\u001b[0m \u001b[0;34m=\u001b[0m \u001b[0;34m[\u001b[0m\u001b[0;34m'mse'\u001b[0m\u001b[0;34m,\u001b[0m\u001b[0;34m'mae'\u001b[0m\u001b[0;34m]\u001b[0m\u001b[0;34m)\u001b[0m\u001b[0;34m\u001b[0m\u001b[0;34m\u001b[0m\u001b[0m\n\u001b[0m\u001b[1;32m      3\u001b[0m \u001b[0;31m#a.compile(optimizer = tf.train.AdamOptimizer(learning_rate=1e-2), loss = 'mse', metrics = ['mae'])\u001b[0m\u001b[0;34m\u001b[0m\u001b[0;34m\u001b[0m\u001b[0;34m\u001b[0m\u001b[0m\n\u001b[1;32m      4\u001b[0m \u001b[0;34m\u001b[0m\u001b[0m\n\u001b[1;32m      5\u001b[0m \u001b[0ma\u001b[0m\u001b[0;34m.\u001b[0m\u001b[0msummary\u001b[0m\u001b[0;34m(\u001b[0m\u001b[0;34m)\u001b[0m\u001b[0;34m\u001b[0m\u001b[0;34m\u001b[0m\u001b[0m\n",
      "\u001b[0;31mNameError\u001b[0m: name 'a' is not defined"
     ]
    }
   ],
   "source": [
    "#how to train this - start with lr = 1e-2, switch to lr = 1e-4/1e-5 later on, keep mse component to 1e+1. use large no. of steps per epoch.\n",
    "a.compile(optimizer = tf.train.AdamOptimizer(learning_rate=1e-4), loss = Lp_integral_norm((ntest,ntest), [0,ntest*h,0,ntest*h], n_quadpts=20, quadpts_randomization=2, p=2, mse_component_weight = 1e+1), metrics = ['mse','mae'])\n",
    "#a.compile(optimizer = tf.train.AdamOptimizer(learning_rate=1e-2), loss = 'mse', metrics = ['mae'])\n",
    "\n",
    "a.summary()"
   ]
  },
  {
   "cell_type": "code",
   "execution_count": null,
   "metadata": {},
   "outputs": [],
   "source": [
    "while True:\n",
    "    a.fit(train_data, steps_per_epoch=50, epochs=20, validation_data=valid_data, validation_steps=2)"
   ]
  },
  {
   "cell_type": "code",
   "execution_count": null,
   "metadata": {},
   "outputs": [],
   "source": [
    "a.save_weights(folder + '/model_stable_-11.h5')"
   ]
  },
  {
   "cell_type": "code",
   "execution_count": 6,
   "metadata": {},
   "outputs": [],
   "source": [
    "#testing model\n",
    "input_0 = Input(shape=(1,ntest,ntest,))\n",
    "conv_1_0 = Conv2D(filters = 5, kernel_size = 3, activation=tf.nn.leaky_relu, data_format='channels_first', padding='same')(input_0)\n",
    "\n",
    "conv_2_0 = Conv2D(filters = 16, kernel_size = 3, activation=tf.nn.leaky_relu, data_format='channels_first', padding='same')(conv_1_0)\n",
    "pool_2_0 = AveragePooling2D(data_format = 'channels_first')(conv_2_0)\n",
    "pool_2_1 = AveragePooling2D(data_format = 'channels_first')(pool_2_0)\n",
    "pool_2_2 = AveragePooling2D(data_format = 'channels_first')(pool_2_1)\n",
    "pool_2_3 = AveragePooling2D(data_format = 'channels_first')(pool_2_2)\n",
    "pool_2_4 = AveragePooling2D(data_format = 'channels_first')(pool_2_3)\n",
    "pool_2_5 = AveragePooling2D(data_format = 'channels_first')(pool_2_4)\n",
    "pool_2_6 = AveragePooling2D(data_format = 'channels_first')(pool_2_5)\n",
    "\n",
    "conv_3_0 = Conv2D(filters = 8, kernel_size = 3, activation=tf.nn.leaky_relu, data_format = 'channels_first', padding='same')(conv_2_0)\n",
    "conv_3_1 = Conv2D(filters = 8, kernel_size = 3, activation=tf.nn.leaky_relu, data_format = 'channels_first', padding='same')(pool_2_0)\n",
    "conv_3_2 = Conv2D(filters = 8, kernel_size = 3, activation=tf.nn.leaky_relu, data_format = 'channels_first', padding='same')(pool_2_1)\n",
    "conv_3_3 = Conv2D(filters = 8, kernel_size = 3, activation=tf.nn.leaky_relu, data_format = 'channels_first', padding='same')(pool_2_2)\n",
    "conv_3_4 = Conv2D(filters = 8, kernel_size = 3, activation=tf.nn.leaky_relu, data_format = 'channels_first', padding='same')(pool_2_3)\n",
    "conv_3_5 = Conv2D(filters = 8, kernel_size = 1, activation=tf.nn.leaky_relu, data_format = 'channels_first', padding='same')(pool_2_4)\n",
    "conv_3_6 = Conv2D(filters = 8, kernel_size = 1, activation=tf.nn.leaky_relu, data_format = 'channels_first', padding='same')(pool_2_5)\n",
    "#conv_3_7 = Conv2D(filters = 8, kernel_size = 1, activation=tf.nn.leaky_relu, data_format = 'channels_first', padding='same')(pool_2_6)\n",
    "\n",
    "upsample_3_1 = Upsample(2, resize_method=tf.image.ResizeMethod.BILINEAR)(conv_3_1)\n",
    "upsample_3_2 = Upsample(4, resize_method=tf.image.ResizeMethod.BILINEAR)(conv_3_2)\n",
    "upsample_3_3 = Upsample(8, resize_method=tf.image.ResizeMethod.BILINEAR)(conv_3_3)\n",
    "upsample_3_4 = Upsample(16, resize_method=tf.image.ResizeMethod.BILINEAR)(conv_3_4)\n",
    "upsample_3_5 = Upsample(32, resize_method=tf.image.ResizeMethod.BILINEAR)(conv_3_5)\n",
    "upsample_3_6 = Upsample(64, resize_method=tf.image.ResizeMethod.NEAREST_NEIGHBOR)(conv_3_6)\n",
    "\n",
    "\n",
    "conv_4_0 = Conv2D(filters = 8, kernel_size = 3, activation=tf.nn.leaky_relu, data_format = 'channels_first', padding='same')(conv_3_0)\n",
    "conv_4_1 = Conv2D(filters = 8, kernel_size = 3, activation=tf.nn.leaky_relu, data_format = 'channels_first', padding='same')(upsample_3_1)\n",
    "conv_4_2 = Conv2D(filters = 8, kernel_size = 3, activation=tf.nn.leaky_relu, data_format = 'channels_first', padding='same')(upsample_3_2)\n",
    "conv_4_3 = Conv2D(filters = 8, kernel_size = 3, activation=tf.nn.leaky_relu, data_format = 'channels_first', padding='same')(upsample_3_3)\n",
    "conv_4_4 = Conv2D(filters = 8, kernel_size = 3, activation=tf.nn.leaky_relu, data_format = 'channels_first', padding='same')(upsample_3_4)\n",
    "conv_4_5 = Conv2D(filters = 8, kernel_size = 3, activation=tf.nn.leaky_relu, data_format = 'channels_first', padding='same')(upsample_3_5)\n",
    "#conv_4_6 = Conv2D(filters = 8, kernel_size = 3, activation=tf.nn.leaky_relu, data_format = 'channels_first', padding='same')(upsample_3_6)\n",
    "\n",
    "\n",
    "#merge_4_0 = MergeWithAttention2()([conv_4_0, conv_4_1, conv_4_2, conv_4_3, conv_4_4, conv_4_5, conv_4_6, upsample_3_7])\n",
    "merge_4_0 = MergeWithAttention2()([conv_4_0, conv_4_1, conv_4_2, conv_4_3, conv_4_4, conv_4_5, upsample_3_6])#, upsample_3_7])\n",
    "\n",
    "conv_5_0 = Conv2D(filters = 16, kernel_size = 3, activation = tf.nn.leaky_relu, data_format = 'channels_first', padding='same')(merge_4_0)\n",
    "\n",
    "conv_5_1 = Conv2D(filters = 5, kernel_size = 3, activation = tf.nn.leaky_relu, data_format = 'channels_first', padding='same')(conv_5_0)\n",
    "#final_activation = tf.keras.layers.PReLU()(conv_5_1)\n",
    "conv_6_0 = Conv2D(filters = 1, kernel_size = 3, activation='linear', data_format = 'channels_first', padding='same')(conv_5_1)\n",
    "\n",
    "conv_7_0 = Conv2D(filters = 1, kernel_size = 1, activation=tf.nn.tanh, data_format = 'channels_first', padding = 'same')(conv_5_1)\n",
    "prelu_7_0 = tf.keras.layers.PReLU()(conv_6_0)\n",
    "merge_7_0 = tf.keras.layers.Multiply()([conv_7_0, prelu_7_0])\n",
    "\n",
    "b = Model(input_0, merge_7_0)"
   ]
  },
  {
   "cell_type": "code",
   "execution_count": 62,
   "metadata": {},
   "outputs": [],
   "source": [
    "b.compile(optimizer = tf.train.AdamOptimizer(learning_rate=5e-6), loss = Lp_integral_norm((64,64), domain = [0,ntest*h,0,ntest*h], n_quadpts = 20, quadpts_randomization = 2, mse_component_weight = 1e+1), metrics = ['mse','mae'])\n",
    "#b.summary()"
   ]
  },
  {
   "cell_type": "code",
   "execution_count": null,
   "metadata": {},
   "outputs": [],
   "source": [
    "from IPython.display import clear_output\n",
    "while True:\n",
    "    b.fit(train_data, steps_per_epoch=50, epochs=20, validation_data=valid_data, validation_steps=3)\n",
    "    clear_output(wait = True)"
   ]
  },
  {
   "cell_type": "code",
   "execution_count": 59,
   "metadata": {},
   "outputs": [],
   "source": [
    "b.save_weights(folder + '/model_test_prelutanh_-11.h5')"
   ]
  },
  {
   "cell_type": "code",
   "execution_count": 50,
   "metadata": {},
   "outputs": [
    {
     "data": {
      "image/png": "[encoded data removed]",
      "text/plain": [
       "<Figure size 432x288 with 2 Axes>"
      ]
     },
     "metadata": {
      "needs_background": "light"
     },
     "output_type": "display_data"
    }
   ],
   "source": [
    "#plotting\n",
    "#p = valid_data.make_one_shot_iterator().get_next()\n",
    "#p_r = np.random.randint(0,batch_size)\n",
    "y, x = np.meshgrid(np.linspace(0, ntest*h, ntest), np.linspace(0, ntest*h, ntest))\n",
    "z = b.predict(tf.expand_dims(p[0][p_r,...], axis=0))[0,0,...]\n",
    "#z = p[1][p_r,0,...]\n",
    "#z = generate_random_RHS(10, n_controlpts=10, n_outputpts=64)[4,:,:]\n",
    "#z = b.predict(tf.expand_dims(p[0][p_r,...], axis=0))[0,0,...] - p[1][p_r,0,...]\n",
    "z_min, z_max = -np.abs(z).max(), np.abs(z).max()\n",
    "fig, ax = plt.subplots()\n",
    "c = ax.pcolormesh(x, y, z, cmap='RdBu', vmin=z_min, vmax=z_max)\n",
    "ax.set_title('neural network')\n",
    "ax.axis([x.min(), x.max(), y.min(), y.max()])\n",
    "fig.colorbar(c, ax=ax)\n",
    "\n",
    "plt.show()"
   ]
  },
  {
   "cell_type": "code",
   "execution_count": 46,
   "metadata": {},
   "outputs": [
    {
     "data": {
      "text/plain": [
       "<tf.Tensor: id=28314835, shape=(), dtype=float64, numpy=0.046065522199080174>"
      ]
     },
     "execution_count": 46,
     "metadata": {},
     "output_type": "execute_result"
    }
   ],
   "source": [
    "#mean % error\n",
    "tf.reduce_mean(tf.abs(b.predict(p[0][...]) - p[1][...]))/tf.reduce_mean(tf.abs(p[1][...]))"
   ]
  },
  {
   "cell_type": "code",
   "execution_count": null,
   "metadata": {},
   "outputs": [],
   "source": [
    "#dummy model to test memory/compute time scaling when doing inference\n",
    "ntest2 = 160\n",
    "input_0 = Input(shape=(1,ntest2,ntest2,))\n",
    "conv_1_0 = Conv2D(filters = 5, kernel_size = 3, activation=tf.nn.leaky_relu, data_format='channels_first', padding='same')(input_0)\n",
    "\n",
    "conv_2_0 = Conv2D(filters = 8, kernel_size = 3, activation=tf.nn.leaky_relu, data_format='channels_first', padding='same')(conv_1_0)\n",
    "pool_2_0 = AveragePooling2D(data_format = 'channels_first')(conv_2_0)\n",
    "pool_2_1 = AveragePooling2D(data_format = 'channels_first')(pool_2_0)\n",
    "pool_2_2 = AveragePooling2D(data_format = 'channels_first')(pool_2_1)\n",
    "pool_2_3 = AveragePooling2D(pool_size=(4,4), data_format = 'channels_first')(pool_2_2)\n",
    "\n",
    "conv_3_0 = Conv2D(filters = 8, kernel_size = 3, activation=tf.nn.leaky_relu, data_format = 'channels_first', padding='same')(conv_2_0)\n",
    "conv_3_1 = Conv2D(filters = 8, kernel_size = 3, activation=tf.nn.leaky_relu, data_format = 'channels_first', padding='same')(pool_2_0)\n",
    "conv_3_2 = Conv2D(filters = 8, kernel_size = 3, activation=tf.nn.leaky_relu, data_format = 'channels_first', padding='same')(pool_2_1)\n",
    "conv_3_3 = Conv2D(filters = 8, kernel_size = 3, activation=tf.nn.leaky_relu, data_format = 'channels_first', padding='same')(pool_2_2)\n",
    "conv_3_4 = Conv2D(filters = 8, kernel_size = 1, activation=tf.nn.leaky_relu, data_format = 'channels_first', padding='same')(pool_2_3)\n",
    "upsample_3_1 = Upsample()(conv_3_1)\n",
    "upsample_3_2 = Upsample(4)(conv_3_2)\n",
    "upsample_3_3 = Upsample(8)(conv_3_3)\n",
    "upsample_3_4 = Upsample(32)(conv_3_4)\n",
    "merge_3_0 = Add()([conv_3_0, upsample_3_1, upsample_3_2, upsample_3_3, upsample_3_4])\n",
    "\n",
    "conv_4_0 = Conv2D(filters = 8, kernel_size = 1, activation = tf.nn.leaky_relu, data_format = 'channels_first', padding='same')(merge_3_0)\n",
    "\n",
    "conv_5_0 = Conv2D(filters = 1, kernel_size = 1, activation = tf.nn.leaky_relu, data_format = 'channels_first', padding='same')(conv_4_0)\n",
    "final_activation = tf.keras.layers.PReLU()(conv_5_0)\n",
    "c = Model(input_0, final_activation)"
   ]
  },
  {
   "cell_type": "code",
   "execution_count": null,
   "metadata": {},
   "outputs": [],
   "source": [
    "#neural network computation time\n",
    "import time\n",
    "g = tf.random.uniform((1,1,ntest2,ntest2),dtype=tf.float64)\n",
    "t0 = time.time()\n",
    "c.predict_on_batch(g)\n",
    "t1 = time.time()\n",
    "print(t1-t0)"
   ]
  },
  {
   "cell_type": "code",
   "execution_count": 72,
   "metadata": {},
   "outputs": [
    {
     "ename": "InvalidArgumentError",
     "evalue": "All input tensors must have the same outer dimensions. [Op:MatrixTriangularSolve]",
     "output_type": "error",
     "traceback": [
      "\u001b[0;31m---------------------------------------------------------------------------\u001b[0m",
      "\u001b[0;31mInvalidArgumentError\u001b[0m                      Traceback (most recent call last)",
      "\u001b[0;32m<ipython-input-72-4153146196e4>\u001b[0m in \u001b[0;36m<module>\u001b[0;34m\u001b[0m\n\u001b[1;32m      7\u001b[0m \u001b[0mt0\u001b[0m \u001b[0;34m=\u001b[0m \u001b[0mtime\u001b[0m\u001b[0;34m.\u001b[0m\u001b[0mtime\u001b[0m\u001b[0;34m(\u001b[0m\u001b[0;34m)\u001b[0m\u001b[0;34m\u001b[0m\u001b[0;34m\u001b[0m\u001b[0m\n\u001b[1;32m      8\u001b[0m \u001b[0mrhs\u001b[0m \u001b[0;34m=\u001b[0m \u001b[0mtf\u001b[0m\u001b[0;34m.\u001b[0m\u001b[0mtranspose\u001b[0m\u001b[0;34m(\u001b[0m\u001b[0mpoisson_RHS\u001b[0m\u001b[0;34m(\u001b[0m\u001b[0;34m(\u001b[0m\u001b[0mf\u001b[0m\u001b[0;34m,\u001b[0m\u001b[0mboundaries\u001b[0m\u001b[0;34m,\u001b[0m\u001b[0mh\u001b[0m\u001b[0;34m)\u001b[0m\u001b[0;34m)\u001b[0m\u001b[0;34m,\u001b[0m\u001b[0;34m(\u001b[0m\u001b[0;36m0\u001b[0m\u001b[0;34m,\u001b[0m\u001b[0;36m2\u001b[0m\u001b[0;34m,\u001b[0m\u001b[0;36m1\u001b[0m\u001b[0;34m)\u001b[0m\u001b[0;34m)\u001b[0m\u001b[0;34m\u001b[0m\u001b[0;34m\u001b[0m\u001b[0m\n\u001b[0;32m----> 9\u001b[0;31m \u001b[0mtf\u001b[0m\u001b[0;34m.\u001b[0m\u001b[0mlinalg\u001b[0m\u001b[0;34m.\u001b[0m\u001b[0mcholesky_solve\u001b[0m\u001b[0;34m(\u001b[0m\u001b[0mlhs_chol\u001b[0m\u001b[0;34m,\u001b[0m \u001b[0mrhs\u001b[0m\u001b[0;34m)\u001b[0m\u001b[0;34m\u001b[0m\u001b[0;34m\u001b[0m\u001b[0m\n\u001b[0m\u001b[1;32m     10\u001b[0m \u001b[0mt1\u001b[0m \u001b[0;34m=\u001b[0m \u001b[0mtime\u001b[0m\u001b[0;34m.\u001b[0m\u001b[0mtime\u001b[0m\u001b[0;34m(\u001b[0m\u001b[0;34m)\u001b[0m\u001b[0;34m\u001b[0m\u001b[0;34m\u001b[0m\u001b[0m\n\u001b[1;32m     11\u001b[0m \u001b[0mprint\u001b[0m\u001b[0;34m(\u001b[0m\u001b[0mt1\u001b[0m\u001b[0;34m-\u001b[0m\u001b[0mt0\u001b[0m\u001b[0;34m)\u001b[0m\u001b[0;34m\u001b[0m\u001b[0;34m\u001b[0m\u001b[0m\n",
      "\u001b[0;32m~/anaconda3/envs/test1/lib/python3.6/site-packages/tensorflow/python/ops/linalg_ops.py\u001b[0m in \u001b[0;36mcholesky_solve\u001b[0;34m(chol, rhs, name)\u001b[0m\n\u001b[1;32m    118\u001b[0m   \u001b[0;32mwith\u001b[0m \u001b[0mops\u001b[0m\u001b[0;34m.\u001b[0m\u001b[0mname_scope\u001b[0m\u001b[0;34m(\u001b[0m\u001b[0mname\u001b[0m\u001b[0;34m,\u001b[0m \u001b[0;34m'cholesky_solve'\u001b[0m\u001b[0;34m,\u001b[0m \u001b[0;34m[\u001b[0m\u001b[0mchol\u001b[0m\u001b[0;34m,\u001b[0m \u001b[0mrhs\u001b[0m\u001b[0;34m]\u001b[0m\u001b[0;34m)\u001b[0m\u001b[0;34m:\u001b[0m\u001b[0;34m\u001b[0m\u001b[0;34m\u001b[0m\u001b[0m\n\u001b[1;32m    119\u001b[0m     y = gen_linalg_ops.matrix_triangular_solve(\n\u001b[0;32m--> 120\u001b[0;31m         chol, rhs, adjoint=False, lower=True)\n\u001b[0m\u001b[1;32m    121\u001b[0m     x = gen_linalg_ops.matrix_triangular_solve(\n\u001b[1;32m    122\u001b[0m         chol, y, adjoint=True, lower=True)\n",
      "\u001b[0;32m~/anaconda3/envs/test1/lib/python3.6/site-packages/tensorflow/python/ops/gen_linalg_ops.py\u001b[0m in \u001b[0;36mmatrix_triangular_solve\u001b[0;34m(matrix, rhs, lower, adjoint, name)\u001b[0m\n\u001b[1;32m   1419\u001b[0m       \u001b[0;32melse\u001b[0m\u001b[0;34m:\u001b[0m\u001b[0;34m\u001b[0m\u001b[0;34m\u001b[0m\u001b[0m\n\u001b[1;32m   1420\u001b[0m         \u001b[0mmessage\u001b[0m \u001b[0;34m=\u001b[0m \u001b[0me\u001b[0m\u001b[0;34m.\u001b[0m\u001b[0mmessage\u001b[0m\u001b[0;34m\u001b[0m\u001b[0;34m\u001b[0m\u001b[0m\n\u001b[0;32m-> 1421\u001b[0;31m       \u001b[0m_six\u001b[0m\u001b[0;34m.\u001b[0m\u001b[0mraise_from\u001b[0m\u001b[0;34m(\u001b[0m\u001b[0m_core\u001b[0m\u001b[0;34m.\u001b[0m\u001b[0m_status_to_exception\u001b[0m\u001b[0;34m(\u001b[0m\u001b[0me\u001b[0m\u001b[0;34m.\u001b[0m\u001b[0mcode\u001b[0m\u001b[0;34m,\u001b[0m \u001b[0mmessage\u001b[0m\u001b[0;34m)\u001b[0m\u001b[0;34m,\u001b[0m \u001b[0;32mNone\u001b[0m\u001b[0;34m)\u001b[0m\u001b[0;34m\u001b[0m\u001b[0;34m\u001b[0m\u001b[0m\n\u001b[0m\u001b[1;32m   1422\u001b[0m \u001b[0;34m\u001b[0m\u001b[0m\n\u001b[1;32m   1423\u001b[0m \u001b[0;34m\u001b[0m\u001b[0m\n",
      "\u001b[0;32m~/anaconda3/envs/test1/lib/python3.6/site-packages/six.py\u001b[0m in \u001b[0;36mraise_from\u001b[0;34m(value, from_value)\u001b[0m\n",
      "\u001b[0;31mInvalidArgumentError\u001b[0m: All input tensors must have the same outer dimensions. [Op:MatrixTriangularSolve]"
     ]
    }
   ],
   "source": [
    "#Cholesky decomposition computation time (time taken to do the decomposition not incl.)\n",
    "import time\n",
    "f = np.random.rand(1,1,ntest,ntest)\n",
    "lhs = tf.constant(poisson_matrix(ntest,ntest), dtype=tf.float64)\n",
    "lhs_chol = tf.expand_dims(tf.linalg.cholesky(lhs), axis=0)\n",
    "boundaries = {'top': boundary_top.RHS_evaluate(np.linspace(boundary_top.t.min(),boundary_top.t.max(),ntest)), 'right': boundary_right.RHS_evaluate(np.linspace(boundary_right.t.min(),boundary_right.t.max(),ntest)), 'bottom': boundary_bottom.RHS_evaluate(np.linspace(boundary_bottom.t.min(),boundary_bottom.t.max(),ntest)), 'left': boundary_left.RHS_evaluate(np.linspace(boundary_left.t.min(),boundary_left.t.max(),ntest))}\n",
    "t0 = time.time()\n",
    "rhs = tf.transpose(poisson_RHS((f,boundaries,h)),(0,2,1))\n",
    "tf.linalg.cholesky_solve(lhs_chol, rhs)\n",
    "t1 = time.time()\n",
    "print(t1-t0)"
   ]
  },
  {
   "cell_type": "code",
   "execution_count": null,
   "metadata": {},
   "outputs": [],
   "source": [
    "#successive overrelaxation\n",
    "f = np.random.rand(1,1,ntest2,ntest2)\n",
    "lhs = poisson_matrix(ntest2,ntest2)\n",
    "L = np.tril(lhs, k=1)\n",
    "D = np.diag(lhs) * np.eye(L.shape[0])\n",
    "Dinv = (np.diag(lhs)**-1) * np.eye(L.shape[0])\n",
    "U = np.triu(lhs, k=1)\n",
    "omega = 1.85\n",
    "gamma = 1\n",
    "P = tf.linalg.inv(tf.matmul(tf.matmul((D/omega + L),1/(2-omega) * Dinv),(D/omega + U)))\n",
    "xk = tf.random.uniform([L.shape[0],1], dtype=tf.float64)\n",
    "t0 = time.time()\n",
    "b = tf.squeeze(tf.transpose(poisson_RHS((f,boundaries,h)),(2,0,1)),axis = 2)\n",
    "eq_lhs = tf.matmul(lhs,xk)\n",
    "residual = eq_lhs - b\n",
    "while tf.reduce_sum(residual**2)>1e-3:\n",
    "    #print('Residual: ' + str(tf.reduce_sum(residual**2)))\n",
    "    xk = xk - gamma * tf.matmul(P,residual)\n",
    "    eq_lhs = tf.matmul(lhs,xk)\n",
    "    residual = eq_lhs - b\n",
    "t1 = time.time()\n",
    "print(t1-t0)"
   ]
  },
  {
   "cell_type": "code",
   "execution_count": null,
   "metadata": {},
   "outputs": [],
   "source": [
    "mod1 = Model(input_0, merge_3_0)\n",
    "mod2 = Model(input_0, merge_test)"
   ]
  },
  {
   "cell_type": "code",
   "execution_count": null,
   "metadata": {},
   "outputs": [],
   "source": [
    "timeit mod2.predict_on_batch(p[0])"
   ]
  },
  {
   "cell_type": "code",
   "execution_count": null,
   "metadata": {},
   "outputs": [],
   "source": [
    "timeit b.predict_on_batch(tf.expand_dims(p[0][0,...],axis=0))"
   ]
  },
  {
   "cell_type": "code",
   "execution_count": null,
   "metadata": {},
   "outputs": [],
   "source": [
    "ex = generate_random_RHS(1, n_controlpts = 10, n_outputpts = 64, s = 5, domain = [0,ntest*h,0,ntest*h])\n",
    "print(tf.reduce_min(ex))"
   ]
  },
  {
   "cell_type": "code",
   "execution_count": null,
   "metadata": {},
   "outputs": [],
   "source": [
    "#cll = conv_laplacian_loss((ntest,ntest),h)\n",
    "cll(b.predict(tf.ones((1,1,ntest,ntest), dtype=tf.keras.backend.floatx())),tf.ones((1,1,ntest,ntest), dtype=tf.keras.backend.floatx()))"
   ]
  },
  {
   "cell_type": "code",
   "execution_count": null,
   "metadata": {},
   "outputs": [],
   "source": [
    "#p = valid_data.make_one_shot_iterator().get_next()\n",
    "p_r = np.random.randint(0,batch_size)\n",
    "f = p[0][p_r,0,...]\n",
    "lower_bound = tf.reduce_min(f)\n",
    "upper_bound = tf.reduce_max(f)\n",
    "alpha = upper_bound-lower_bound\n",
    "d = lower_bound\n",
    "g = (f-d)/alpha\n",
    "print(tf.reduce_max(g))\n",
    "\n",
    "q = b.predict(tf.ones((1,1,ntest,ntest), dtype=tf.keras.backend.floatx()))\n",
    "s = b.predict(tf.expand_dims(tf.expand_dims(g, axis=0),axis=0))\n",
    "#alpha * s[0,0,...] + d * q[0,0,...]"
   ]
  },
  {
   "cell_type": "code",
   "execution_count": null,
   "metadata": {},
   "outputs": [],
   "source": [
    "#plotting\n",
    "# p = valid_data.make_one_shot_iterator().get_next()\n",
    "# p_r = np.random.randint(0,batch_size)\n",
    "y, x = np.meshgrid(np.linspace(0, ntest*h, ntest), np.linspace(0, ntest*h, ntest))\n",
    "z = p[1][p_r,0,...]\n",
    "z = alpha * s[0,0,...] + d * q[0,0,...]\n",
    "#z = q[0,0,...]\n",
    "#z = generate_random_RHS(10, n_controlpts=10, n_outputpts=64)[4,:,:]\n",
    "#z = alpha * s[0,0,...] + d * q[0,0,...] - p[1][p_r,0,...]\n",
    "z_min, z_max = -np.abs(z).max(), np.abs(z).max()\n",
    "fig, ax = plt.subplots()\n",
    "c = ax.pcolormesh(x, y, z, cmap='RdBu', vmin=z_min, vmax=z_max)\n",
    "ax.set_title('error')\n",
    "ax.axis([x.min(), x.max(), y.min(), y.max()])\n",
    "fig.colorbar(c, ax=ax)\n",
    "\n",
    "plt.show()"
   ]
  },
  {
   "cell_type": "code",
   "execution_count": 70,
   "metadata": {},
   "outputs": [],
   "source": [
    "def poisson_matrix(m,n):\n",
    "    '''\n",
    "    Generates the matrix A to express the Poisson equation in the form Ax=b for an m-by-n grid\n",
    "    \n",
    "    Them matrix returned shall be (m-2)*(n-2)-by-(m-2)*(n-2) in size\n",
    "    \n",
    "    CURRENTLY ONLY WORKS FOR SQUARE DOMAINS!!!!\n",
    "    '''\n",
    "    m = m-2\n",
    "    n = n-2\n",
    "    \n",
    "    D = np.zeros((m,m), dtype = np.float64)\n",
    "    i,j = np.indices(D.shape)\n",
    "    D[i==j] = 4.0\n",
    "    D[i==j-1] = -1.0\n",
    "    D[i==j+1] = -1.0\n",
    "    \n",
    "    S = -np.eye(D.shape[0], dtype = np.float64)\n",
    "    \n",
    "    P = np.zeros((m*n,m*n), dtype = np.float64)\n",
    "    ind = np.arange(0,m*(n+1), m)\n",
    "    \n",
    "    for i in range(len(ind)-1):\n",
    "        P[ind[i]:ind[i+1], ind[i]:ind[i+1]] = D\n",
    "        try:\n",
    "            P[ind[i+1]:ind[i+2], ind[i]:ind[i+1]] = S\n",
    "        except:\n",
    "            pass\n",
    "        try:\n",
    "            P[ind[i-1]:ind[i], ind[i]:ind[i+1]] = S\n",
    "        except:\n",
    "            pass\n",
    "    return P\n",
    "\n",
    "def poisson_RHS(F, boundaries = None, h = None):\n",
    "    '''\n",
    "    Generates the RHS vector b of a discretized Poisson problem in the form Ax=b.\n",
    "    h = grid spacing\n",
    "    boundaries = dict containing entries 'top', 'bottom', 'right' and 'left' which correspond to the Dirichlet BCs at these boundaries. Each entry must be a vector of length m or n, where m and n are defined as in te function poisson_matrix\n",
    "    F = an m by n matrix containing the RHS values of the Poisson equation\n",
    "    \n",
    "    (i.e. this function merely takes the BC information and the array from generate_random_RHS to provide the RHS for the matrix eq. form)\n",
    "    '''\n",
    "    \n",
    "    if isinstance(F, Iterable):\n",
    "        boundaries = F[1]\n",
    "        h = F[2]\n",
    "        F = F[0]\n",
    "    \n",
    "    F = -h**2 * F\n",
    "    F[...,1:-1,1] = F[...,1:-1,1] + np.array(boundaries['top'])[1:-1]\n",
    "    F[...,1:-1,-2] = F[...,1:-1,-2] + np.array(boundaries['bottom'])[1:-1]\n",
    "    F[...,1,1:-1] = F[...,1,1:-1] + np.array(boundaries['left'])[1:-1]\n",
    "    F[...,-2,1:-1] = F[...,-2,1:-1] + np.array(boundaries['right'])[1:-1]\n",
    "    \n",
    "    return F[...,1:-1,1:-1].reshape(list(F[...,1:-1,1:-1].shape[:-2]) + [np.prod(F[...,1:-1,1:-1].shape[-2:])])\n",
    "\n",
    "pm = poisson_matrix(ntest,ntest)"
   ]
  },
  {
   "cell_type": "code",
   "execution_count": 47,
   "metadata": {},
   "outputs": [
    {
     "name": "stdout",
     "output_type": "stream",
     "text": [
      "---neural network L2---\n",
      "tf.Tensor(0.004813364608939819, shape=(), dtype=float64)\n",
      "---actual solution L2---\n",
      "tf.Tensor(0.0053763791007919665, shape=(), dtype=float64)\n"
     ]
    }
   ],
   "source": [
    "print('---neural network L2---')\n",
    "print(tf.reduce_mean(tf.map_fn(lambda x: tf.sqrt(tf.reduce_sum(tf.square(tf.matmul(pm, tf.reshape(x[0][0,1:-1,1:-1], [tf.reduce_prod(x[0][0,1:-1,1:-1].shape),1])) - tf.reshape(x[1][0,1:-1,1:-1], [tf.reduce_prod(x[1][0,1:-1,1:-1].shape),1])))), (b.predict(newarr),newarr), dtype = tf.float64))/(ntest**2))\n",
    "print('---actual solution L2---')\n",
    "print(tf.reduce_mean(tf.sqrt(tf.reduce_sum(tf.square(tf.einsum('ij,mj->m', tf.constant(pm, dtype = tf.float64), tf.reshape(p[1][...,1:-1,1:-1],(p[1][...,1:-1,1:-1].shape[0], tf.reduce_prod(p[1][...,1:-1,1:-1].shape[1:]))))))))/(ntest**2))"
   ]
  },
  {
   "cell_type": "code",
   "execution_count": 35,
   "metadata": {},
   "outputs": [
    {
     "data": {
      "text/plain": [
       "TensorShape([Dimension(200), Dimension(1), Dimension(64), Dimension(64)])"
      ]
     },
     "execution_count": 35,
     "metadata": {},
     "output_type": "execute_result"
    }
   ],
   "source": [
    "newarr = []\n",
    "for s in p[0]:\n",
    "    if tf.reduce_max(s) < 5:\n",
    "        newarr.append(s)\n",
    "newarr = tf.stack(newarr)\n",
    "newarr.shape"
   ]
  },
  {
   "cell_type": "code",
   "execution_count": 58,
   "metadata": {},
   "outputs": [
    {
     "data": {
      "text/plain": [
       "<tf.Variable 'conv2d_17/kernel:0' shape=(3, 3, 5, 1) dtype=float64, numpy=\n",
       "array([[[[ 0.00452739],\n",
       "         [ 0.27654304],\n",
       "         [-0.51260009],\n",
       "         [-0.06300173],\n",
       "         [-0.14127615]],\n",
       "\n",
       "        [[-0.23629379],\n",
       "         [-0.21266488],\n",
       "         [-0.23487439],\n",
       "         [ 0.22489142],\n",
       "         [-0.18411195]],\n",
       "\n",
       "        [[ 0.17950273],\n",
       "         [-0.17660833],\n",
       "         [-0.00238145],\n",
       "         [ 0.27628567],\n",
       "         [-0.38231409]]],\n",
       "\n",
       "\n",
       "       [[[ 0.16599249],\n",
       "         [ 0.35777131],\n",
       "         [-0.15432535],\n",
       "         [-0.15066282],\n",
       "         [ 0.03496873]],\n",
       "\n",
       "        [[ 0.17854216],\n",
       "         [-0.06308212],\n",
       "         [ 0.27545268],\n",
       "         [-0.15739582],\n",
       "         [ 0.17186593]],\n",
       "\n",
       "        [[ 0.00831405],\n",
       "         [ 0.23059074],\n",
       "         [ 0.27537152],\n",
       "         [-0.22220239],\n",
       "         [-0.20687742]]],\n",
       "\n",
       "\n",
       "       [[[ 0.09416139],\n",
       "         [-0.17070014],\n",
       "         [-0.11822256],\n",
       "         [ 0.01994908],\n",
       "         [ 0.35607147]],\n",
       "\n",
       "        [[-0.13380312],\n",
       "         [-0.02229577],\n",
       "         [ 0.32424943],\n",
       "         [ 0.05411226],\n",
       "         [ 0.32754887]],\n",
       "\n",
       "        [[ 0.19781706],\n",
       "         [ 0.06539689],\n",
       "         [ 0.24561756],\n",
       "         [ 0.38199116],\n",
       "         [-0.02747231]]]])>"
      ]
     },
     "execution_count": 58,
     "metadata": {},
     "output_type": "execute_result"
    }
   ],
   "source": []
  }
 ],
 "metadata": {
  "kernelspec": {
   "display_name": "py3.6",
   "language": "python",
   "name": "py3.6"
  },
  "language_info": {
   "codemirror_mode": {
    "name": "ipython",
    "version": 3
   },
   "file_extension": ".py",
   "mimetype": "text/x-python",
   "name": "python",
   "nbconvert_exporter": "python",
   "pygments_lexer": "ipython3",
   "version": "3.6.7"
  }
 },
 "nbformat": 4,
 "nbformat_minor": 2
}
