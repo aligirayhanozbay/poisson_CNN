{
 "cells": [
  {
   "cell_type": "code",
   "execution_count": 1,
   "metadata": {},
   "outputs": [],
   "source": [
    "import numpy as np\n",
    "import tensorflow as tf\n",
    "from tensorflow.keras.models import Model\n",
    "from tensorflow.keras.layers import Input, Dense, Conv2D, Flatten, Conv2DTranspose, AveragePooling2D, Add, Reshape\n",
    "from scipy.interpolate import RectBivariateSpline\n",
    "try:\n",
    "    import tensorflow.contrib.eager as tfe\n",
    "    opts = tf.GPUOptions(per_process_gpu_memory_fraction=0.95)\n",
    "    conf = tf.ConfigProto(gpu_options=opts)\n",
    "    tfe.enable_eager_execution(config=conf)\n",
    "except:\n",
    "    pass\n",
    "import matplotlib.pyplot as plt\n",
    "from mpl_toolkits.mplot3d import Axes3D\n",
    "from Boundary import Boundary1D\n",
    "from MergeWithAttention import MergeWithAttention2\n",
    "from Upsample import Upsample\n",
    "from collections.abc import Iterable\n",
    "import itertools, h5py\n",
    "from multiprocessing import Pool as ThreadPool\n",
    "from Lp_integral_norm import Lp_integral_norm\n",
    "tf.keras.backend.set_floatx('float64')"
   ]
  },
  {
   "cell_type": "code",
   "execution_count": 2,
   "metadata": {},
   "outputs": [],
   "source": [
    "ntest = 64\n",
    "h = 0.05\n",
    "folder = 'dataset_' + str(ntest)\n",
    "boundary_top = Boundary1D('Dirichlet', [(0,ntest*h),(ntest*h,ntest*h)], orientation='clockwise', RHS_function=lambda t: t-t, boundary_rhs_is_parametric=True)\n",
    "boundary_right = Boundary1D('Dirichlet', [(ntest*h,ntest*h),(ntest*h,0)], orientation='clockwise', RHS_function=lambda t: t-t, boundary_rhs_is_parametric=True)\n",
    "boundary_bottom = Boundary1D('Dirichlet', [(ntest*h,0),(0,0)], orientation='clockwise', RHS_function=lambda t: t-t, boundary_rhs_is_parametric=True)\n",
    "boundary_left = Boundary1D('Dirichlet', [(0,0),(0,ntest*h)], orientation='clockwise', RHS_function=lambda t: t-t, boundary_rhs_is_parametric=True)"
   ]
  },
  {
   "cell_type": "code",
   "execution_count": 3,
   "metadata": {},
   "outputs": [],
   "source": [
    "for i in range(0,3):\n",
    "    with h5py.File(folder + '/range_-1_1/dataset' + str(i) + '_-11.h5', 'r') as hf:\n",
    "        F = np.array(hf.get('F'), dtype = np.float64)\n",
    "        soln = np.array(hf.get('soln'), dtype = np.float64)\n",
    "        try:\n",
    "            train_data = train_data.concatenate(tf.data.Dataset.from_tensor_slices((F,soln)))\n",
    "        except:\n",
    "            train_data = tf.data.Dataset.from_tensor_slices((F,soln))\n",
    "for i in range(0,3):\n",
    "    with h5py.File(folder + '/range_-1_1/analyticdataset' + str(i) + '_-11.h5', 'r') as hf:\n",
    "        F = np.array(hf.get('F'), dtype = np.float64)\n",
    "        soln = np.array(hf.get('soln'), dtype = np.float64)\n",
    "        try:\n",
    "            train_data = train_data.concatenate(tf.data.Dataset.from_tensor_slices((F,soln)))\n",
    "        except:\n",
    "            train_data = tf.data.Dataset.from_tensor_slices((F,soln))"
   ]
  },
  {
   "cell_type": "code",
   "execution_count": 4,
   "metadata": {},
   "outputs": [],
   "source": [
    "for i in range(5,6):\n",
    "    with h5py.File(folder + '/range_-1_1/dataset' + str(i) + '_-11.h5', 'r') as hf:\n",
    "        F = np.array(hf.get('F'), dtype = np.float64)\n",
    "        soln = np.array(hf.get('soln'), dtype = np.float64)\n",
    "        try:\n",
    "            valid_data = valid_data.concatenate(tf.data.Dataset.from_tensor_slices((F,soln)))\n",
    "        except:\n",
    "            valid_data = tf.data.Dataset.from_tensor_slices((F,soln))\n",
    "            \n",
    "for i in range(5,6):\n",
    "    with h5py.File(folder + '/range_-1_1/analyticdataset' + str(i) + '_-11.h5', 'r') as hf:\n",
    "        F = np.array(hf.get('F'), dtype = np.float64)\n",
    "        soln = np.array(hf.get('soln'), dtype = np.float64)\n",
    "        try:\n",
    "            valid_data = valid_data.concatenate(tf.data.Dataset.from_tensor_slices((F,soln)))\n",
    "        except:\n",
    "            valid_data = tf.data.Dataset.from_tensor_slices((F,soln))"
   ]
  },
  {
   "cell_type": "code",
   "execution_count": null,
   "metadata": {},
   "outputs": [],
   "source": [
    "# with h5py.File('dataset' + str(8) + '.h5', 'r') as hf:\n",
    "#         F_valid = np.array(hf.get('F'), dtype = np.float64)\n",
    "#         soln_valid = np.array(hf.get('soln'), dtype = np.float64)"
   ]
  },
  {
   "cell_type": "code",
   "execution_count": 5,
   "metadata": {},
   "outputs": [],
   "source": [
    "shuffle_size = 100000\n",
    "batch_size = 200\n",
    "train_data = train_data.shuffle(shuffle_size).batch(batch_size)\n",
    "valid_data = valid_data.shuffle(shuffle_size).batch(batch_size)\n",
    "del F, soln"
   ]
  },
  {
   "cell_type": "code",
   "execution_count": 6,
   "metadata": {},
   "outputs": [],
   "source": [
    "#stable model\n",
    "input_0 = Input(shape=(1,ntest,ntest,))\n",
    "conv_1_0 = Conv2D(filters = 5, kernel_size = 3, activation=tf.nn.leaky_relu, data_format='channels_first', padding='same')(input_0)\n",
    "\n",
    "conv_2_0 = Conv2D(filters = 16, kernel_size = 3, activation=tf.nn.leaky_relu, data_format='channels_first', padding='same')(conv_1_0)\n",
    "pool_2_0 = AveragePooling2D(data_format = 'channels_first')(conv_2_0)\n",
    "pool_2_1 = AveragePooling2D(data_format = 'channels_first')(pool_2_0)\n",
    "pool_2_2 = AveragePooling2D(data_format = 'channels_first')(pool_2_1)\n",
    "pool_2_3 = AveragePooling2D(data_format = 'channels_first')(pool_2_2)\n",
    "pool_2_4 = AveragePooling2D(data_format = 'channels_first')(pool_2_3)\n",
    "pool_2_5 = AveragePooling2D(data_format = 'channels_first')(pool_2_4)\n",
    "#pool_2_6 = AveragePooling2D(data_format = 'channels_first')(pool_2_5)\n",
    "\n",
    "conv_3_0 = Conv2D(filters = 8, kernel_size = 3, activation=tf.nn.leaky_relu, data_format = 'channels_first', padding='same')(conv_2_0)\n",
    "conv_3_1 = Conv2D(filters = 8, kernel_size = 3, activation=tf.nn.leaky_relu, data_format = 'channels_first', padding='same')(pool_2_0)\n",
    "conv_3_2 = Conv2D(filters = 8, kernel_size = 3, activation=tf.nn.leaky_relu, data_format = 'channels_first', padding='same')(pool_2_1)\n",
    "conv_3_3 = Conv2D(filters = 8, kernel_size = 3, activation=tf.nn.leaky_relu, data_format = 'channels_first', padding='same')(pool_2_2)\n",
    "conv_3_4 = Conv2D(filters = 8, kernel_size = 3, activation=tf.nn.leaky_relu, data_format = 'channels_first', padding='same')(pool_2_3)\n",
    "conv_3_5 = Conv2D(filters = 8, kernel_size = 1, activation=tf.nn.leaky_relu, data_format = 'channels_first', padding='same')(pool_2_4)\n",
    "conv_3_6 = Conv2D(filters = 8, kernel_size = 1, activation=tf.nn.leaky_relu, data_format = 'channels_first', padding='same')(pool_2_5)\n",
    "#conv_3_7 = Conv2D(filters = 8, kernel_size = 1, activation=tf.nn.leaky_relu, data_format = 'channels_first', padding='same')(pool_2_6)\n",
    "\n",
    "upsample_3_1 = Upsample(resize_method=tf.image.ResizeMethod.BICUBIC)(conv_3_1)\n",
    "upsample_3_2 = Upsample(4, resize_method=tf.image.ResizeMethod.BICUBIC)(conv_3_2)\n",
    "upsample_3_3 = Upsample(8, resize_method=tf.image.ResizeMethod.BICUBIC)(conv_3_3)\n",
    "upsample_3_4 = Upsample(16, resize_method=tf.image.ResizeMethod.BICUBIC)(conv_3_4)\n",
    "#upsample_3_1 = Upsample(resize_method=tf.image.ResizeMethod.BILINEAR)(conv_3_1)\n",
    "#upsample_3_2 = Upsample(4, resize_method=tf.image.ResizeMethod.BILINEAR)(conv_3_2)\n",
    "#upsample_3_3 = Upsample(8, resize_method=tf.image.ResizeMethod.BILINEAR)(conv_3_3)\n",
    "#upsample_3_4 = Upsample(16, resize_method=tf.image.ResizeMethod.BILINEAR)(conv_3_4)\n",
    "upsample_3_5 = Upsample(32, resize_method=tf.image.ResizeMethod.BILINEAR)(conv_3_5)\n",
    "upsample_3_6 = Upsample(64, resize_method=tf.image.ResizeMethod.NEAREST_NEIGHBOR)(conv_3_6)\n",
    "#upsample_3_7 = Upsample(128, resize_method=tf.image.ResizeMethod.NEAREST_NEIGHBOR)(conv_3_7)\n",
    "\n",
    "conv_4_0 = Conv2D(filters = 8, kernel_size = 3, activation=tf.nn.leaky_relu, data_format = 'channels_first', padding='same')(conv_3_0)\n",
    "conv_4_1 = Conv2D(filters = 8, kernel_size = 3, activation=tf.nn.leaky_relu, data_format = 'channels_first', padding='same')(upsample_3_1)\n",
    "conv_4_2 = Conv2D(filters = 8, kernel_size = 3, activation=tf.nn.leaky_relu, data_format = 'channels_first', padding='same')(upsample_3_2)\n",
    "conv_4_3 = Conv2D(filters = 8, kernel_size = 3, activation=tf.nn.leaky_relu, data_format = 'channels_first', padding='same')(upsample_3_3)\n",
    "conv_4_4 = Conv2D(filters = 8, kernel_size = 3, activation=tf.nn.leaky_relu, data_format = 'channels_first', padding='same')(upsample_3_4)\n",
    "conv_4_5 = Conv2D(filters = 8, kernel_size = 3, activation=tf.nn.leaky_relu, data_format = 'channels_first', padding='same')(upsample_3_5)\n",
    "#conv_4_6 = Conv2D(filters = 8, kernel_size = 3, activation=tf.nn.leaky_relu, data_format = 'channels_first', padding='same')(upsample_3_6)\n",
    "\n",
    "#merge_4_0 = MergeWithAttention2()([conv_4_0, conv_4_1, conv_4_2, conv_4_3, conv_4_4, conv_4_5, conv_4_6, upsample_3_7])\n",
    "merge_4_0 = MergeWithAttention2()([conv_4_0, conv_4_1, conv_4_2, conv_4_3, conv_4_4, conv_4_5, upsample_3_6])#, upsample_3_7])\n",
    "\n",
    "conv_5_0 = Conv2D(filters = 16, kernel_size = 3, activation = tf.nn.leaky_relu, data_format = 'channels_first', padding='same')(merge_4_0)\n",
    "\n",
    "conv_5_1 = Conv2D(filters = 5, kernel_size = 3, activation = tf.nn.leaky_relu, data_format = 'channels_first', padding='same')(conv_5_0)\n",
    "#final_activation = tf.keras.layers.PReLU()(conv_5_1)\n",
    "conv_6_0 = Conv2D(filters = 1, kernel_size = 3, activation='linear', data_format = 'channels_first', padding='same')(conv_5_1)#(final_activation)\n",
    "\n",
    "a = Model(input_0, conv_6_0)\n",
    "#a.load_weights(folder + '/model_stable.h5') - for [0,1]# - 1.3% mae\n",
    "#a.load_weights(folder + '/model_stable_-11.h5')# - 4% mae\n",
    "#a.load_weights(folder + '/model_stable_analyticaugmented_-11.h5')\n",
    "a.load_weights(folder + '/modelbicubic_stable_analyticaugmented_-11.h5')"
   ]
  },
  {
   "cell_type": "code",
   "execution_count": 7,
   "metadata": {},
   "outputs": [
    {
     "ename": "AttributeError",
     "evalue": "module 'tensorflow._api.v2.train' has no attribute 'AdamOptimizer'",
     "output_type": "error",
     "traceback": [
      "\u001b[0;31m---------------------------------------------------------------------------\u001b[0m",
      "\u001b[0;31mAttributeError\u001b[0m                            Traceback (most recent call last)",
      "\u001b[0;32m<ipython-input-7-ae2a8d5d478c>\u001b[0m in \u001b[0;36m<module>\u001b[0;34m\u001b[0m\n\u001b[1;32m      1\u001b[0m \u001b[0;31m#how to train this - start with lr = 1e-2, switch to lr = 1e-4/1e-5 later on, keep mse component to 1e+1. use large no. of steps per epoch.\u001b[0m\u001b[0;34m\u001b[0m\u001b[0;34m\u001b[0m\u001b[0;34m\u001b[0m\u001b[0m\n\u001b[0;32m----> 2\u001b[0;31m \u001b[0ma\u001b[0m\u001b[0;34m.\u001b[0m\u001b[0mcompile\u001b[0m\u001b[0;34m(\u001b[0m\u001b[0moptimizer\u001b[0m \u001b[0;34m=\u001b[0m \u001b[0mtf\u001b[0m\u001b[0;34m.\u001b[0m\u001b[0mtrain\u001b[0m\u001b[0;34m.\u001b[0m\u001b[0mAdamOptimizer\u001b[0m\u001b[0;34m(\u001b[0m\u001b[0mlearning_rate\u001b[0m\u001b[0;34m=\u001b[0m\u001b[0;36m5e-6\u001b[0m\u001b[0;34m)\u001b[0m\u001b[0;34m,\u001b[0m \u001b[0mloss\u001b[0m \u001b[0;34m=\u001b[0m \u001b[0mLp_integral_norm\u001b[0m\u001b[0;34m(\u001b[0m\u001b[0;34m(\u001b[0m\u001b[0mntest\u001b[0m\u001b[0;34m,\u001b[0m\u001b[0mntest\u001b[0m\u001b[0;34m)\u001b[0m\u001b[0;34m,\u001b[0m \u001b[0;34m[\u001b[0m\u001b[0;36m0\u001b[0m\u001b[0;34m,\u001b[0m\u001b[0mntest\u001b[0m\u001b[0;34m*\u001b[0m\u001b[0mh\u001b[0m\u001b[0;34m,\u001b[0m\u001b[0;36m0\u001b[0m\u001b[0;34m,\u001b[0m\u001b[0mntest\u001b[0m\u001b[0;34m*\u001b[0m\u001b[0mh\u001b[0m\u001b[0;34m]\u001b[0m\u001b[0;34m,\u001b[0m \u001b[0mn_quadpts\u001b[0m\u001b[0;34m=\u001b[0m\u001b[0;36m20\u001b[0m\u001b[0;34m,\u001b[0m \u001b[0mquadpts_randomization\u001b[0m\u001b[0;34m=\u001b[0m\u001b[0;36m2\u001b[0m\u001b[0;34m,\u001b[0m \u001b[0mp\u001b[0m\u001b[0;34m=\u001b[0m\u001b[0;36m2\u001b[0m\u001b[0;34m,\u001b[0m \u001b[0mmse_component_weight\u001b[0m \u001b[0;34m=\u001b[0m \u001b[0;36m1e+2\u001b[0m\u001b[0;34m)\u001b[0m\u001b[0;34m,\u001b[0m \u001b[0mmetrics\u001b[0m \u001b[0;34m=\u001b[0m \u001b[0;34m[\u001b[0m\u001b[0;34m'mse'\u001b[0m\u001b[0;34m,\u001b[0m\u001b[0;34m'mae'\u001b[0m\u001b[0;34m]\u001b[0m\u001b[0;34m)\u001b[0m\u001b[0;34m\u001b[0m\u001b[0;34m\u001b[0m\u001b[0m\n\u001b[0m\u001b[1;32m      3\u001b[0m \u001b[0;31m#a.compile(optimizer = tf.train.AdamOptimizer(learning_rate=1e-2), loss = 'mse', metrics = ['mae'])\u001b[0m\u001b[0;34m\u001b[0m\u001b[0;34m\u001b[0m\u001b[0;34m\u001b[0m\u001b[0m\n\u001b[1;32m      4\u001b[0m \u001b[0;34m\u001b[0m\u001b[0m\n\u001b[1;32m      5\u001b[0m \u001b[0;31m#a.summary()\u001b[0m\u001b[0;34m\u001b[0m\u001b[0;34m\u001b[0m\u001b[0;34m\u001b[0m\u001b[0m\n",
      "\u001b[0;31mAttributeError\u001b[0m: module 'tensorflow._api.v2.train' has no attribute 'AdamOptimizer'"
     ]
    }
   ],
   "source": [
    "#how to train this - start with lr = 1e-2, switch to lr = 1e-4/1e-5 later on, keep mse component to 1e+1. use large no. of steps per epoch.\n",
    "a.compile(optimizer = tf.train.AdamOptimizer(learning_rate=5e-6), loss = Lp_integral_norm((ntest,ntest), [0,ntest*h,0,ntest*h], n_quadpts=20, quadpts_randomization=2, p=2, mse_component_weight = 1e+2), metrics = ['mse','mae'])\n",
    "#a.compile(optimizer = tf.train.AdamOptimizer(learning_rate=1e-2), loss = 'mse', metrics = ['mae'])\n",
    "\n",
    "#a.summary()"
   ]
  },
  {
   "cell_type": "code",
   "execution_count": 8,
   "metadata": {},
   "outputs": [
    {
     "name": "stdout",
     "output_type": "stream",
     "text": [
      "Epoch 1/20\n",
      "60/60 [==============================] - 72s 1s/step - loss: 0.0152 - mean_squared_error: 2.0352e-05 - mean_absolute_error: 0.0032 - val_loss: 0.0137 - val_mean_squared_error: 1.6326e-05 - val_mean_absolute_error: 0.0030\n",
      "Epoch 2/20\n",
      "60/60 [==============================] - 57s 955ms/step - loss: 0.0148 - mean_squared_error: 1.9327e-05 - mean_absolute_error: 0.0032 - val_loss: 0.0140 - val_mean_squared_error: 1.7419e-05 - val_mean_absolute_error: 0.0031\n",
      "Epoch 3/20\n",
      "60/60 [==============================] - 61s 1s/step - loss: 0.0144 - mean_squared_error: 1.8394e-05 - mean_absolute_error: 0.0031 - val_loss: 0.0133 - val_mean_squared_error: 1.5910e-05 - val_mean_absolute_error: 0.0029\n",
      "Epoch 4/20\n",
      "60/60 [==============================] - 61s 1s/step - loss: 0.0140 - mean_squared_error: 1.7537e-05 - mean_absolute_error: 0.0030 - val_loss: 0.0133 - val_mean_squared_error: 1.6559e-05 - val_mean_absolute_error: 0.0029\n",
      "Epoch 5/20\n",
      "60/60 [==============================] - 61s 1s/step - loss: 0.0136 - mean_squared_error: 1.6866e-05 - mean_absolute_error: 0.0030 - val_loss: 0.0130 - val_mean_squared_error: 1.5298e-05 - val_mean_absolute_error: 0.0029\n",
      "Epoch 6/20\n",
      "60/60 [==============================] - 60s 1s/step - loss: 0.0133 - mean_squared_error: 1.6109e-05 - mean_absolute_error: 0.0029 - val_loss: 0.0127 - val_mean_squared_error: 1.5057e-05 - val_mean_absolute_error: 0.0028\n",
      "Epoch 7/20\n",
      "60/60 [==============================] - 59s 982ms/step - loss: 0.0130 - mean_squared_error: 1.5489e-05 - mean_absolute_error: 0.0029 - val_loss: 0.0126 - val_mean_squared_error: 1.4875e-05 - val_mean_absolute_error: 0.0028\n",
      "Epoch 8/20\n",
      "60/60 [==============================] - 60s 993ms/step - loss: 0.0127 - mean_squared_error: 1.4804e-05 - mean_absolute_error: 0.0028 - val_loss: 0.0127 - val_mean_squared_error: 1.4646e-05 - val_mean_absolute_error: 0.0028\n",
      "Epoch 9/20\n",
      "60/60 [==============================] - 60s 995ms/step - loss: 0.0125 - mean_squared_error: 1.4385e-05 - mean_absolute_error: 0.0028 - val_loss: 0.0128 - val_mean_squared_error: 1.5006e-05 - val_mean_absolute_error: 0.0028\n",
      "Epoch 10/20\n",
      "60/60 [==============================] - 59s 989ms/step - loss: 0.0123 - mean_squared_error: 1.3936e-05 - mean_absolute_error: 0.0027 - val_loss: 0.0124 - val_mean_squared_error: 1.4328e-05 - val_mean_absolute_error: 0.0028\n",
      "Epoch 11/20\n",
      "60/60 [==============================] - 60s 997ms/step - loss: 0.0120 - mean_squared_error: 1.3507e-05 - mean_absolute_error: 0.0027 - val_loss: 0.0129 - val_mean_squared_error: 1.5500e-05 - val_mean_absolute_error: 0.0028\n",
      "Epoch 12/20\n",
      "60/60 [==============================] - 59s 980ms/step - loss: 0.0119 - mean_squared_error: 1.3267e-05 - mean_absolute_error: 0.0027 - val_loss: 0.0124 - val_mean_squared_error: 1.4169e-05 - val_mean_absolute_error: 0.0027\n",
      "Epoch 13/20\n",
      "60/60 [==============================] - 58s 964ms/step - loss: 0.0118 - mean_squared_error: 1.2959e-05 - mean_absolute_error: 0.0026 - val_loss: 0.0125 - val_mean_squared_error: 1.4547e-05 - val_mean_absolute_error: 0.0028\n",
      "Epoch 14/20\n",
      "60/60 [==============================] - 58s 961ms/step - loss: 0.0118 - mean_squared_error: 1.3158e-05 - mean_absolute_error: 0.0027 - val_loss: 0.0129 - val_mean_squared_error: 1.5354e-05 - val_mean_absolute_error: 0.0028\n",
      "Epoch 15/20\n",
      "60/60 [==============================] - 58s 971ms/step - loss: 0.0119 - mean_squared_error: 1.3152e-05 - mean_absolute_error: 0.0027 - val_loss: 0.0125 - val_mean_squared_error: 1.4549e-05 - val_mean_absolute_error: 0.0028\n",
      "Epoch 16/20\n",
      "60/60 [==============================] - 59s 977ms/step - loss: 0.0118 - mean_squared_error: 1.3031e-05 - mean_absolute_error: 0.0026 - val_loss: 0.0128 - val_mean_squared_error: 1.5343e-05 - val_mean_absolute_error: 0.0028\n",
      "Epoch 17/20\n",
      "60/60 [==============================] - 58s 971ms/step - loss: 0.0119 - mean_squared_error: 1.3185e-05 - mean_absolute_error: 0.0027 - val_loss: 0.0131 - val_mean_squared_error: 1.5887e-05 - val_mean_absolute_error: 0.0029\n",
      "Epoch 18/20\n",
      "60/60 [==============================] - 57s 957ms/step - loss: 0.0118 - mean_squared_error: 1.3036e-05 - mean_absolute_error: 0.0026 - val_loss: 0.0130 - val_mean_squared_error: 1.5653e-05 - val_mean_absolute_error: 0.0029\n",
      "Epoch 19/20\n",
      "60/60 [==============================] - 56s 937ms/step - loss: 0.0118 - mean_squared_error: 1.3095e-05 - mean_absolute_error: 0.0026 - val_loss: 0.0127 - val_mean_squared_error: 1.5116e-05 - val_mean_absolute_error: 0.0028\n",
      "Epoch 20/20\n",
      "60/60 [==============================] - 58s 969ms/step - loss: 0.0118 - mean_squared_error: 1.3104e-05 - mean_absolute_error: 0.0027 - val_loss: 0.0127 - val_mean_squared_error: 1.4953e-05 - val_mean_absolute_error: 0.0028\n"
     ]
    }
   ],
   "source": [
    "from IPython.display import clear_output\n",
    "for i in range(1):\n",
    "#while True:\n",
    "    a.fit(train_data, steps_per_epoch=60, epochs=20, validation_data=valid_data, validation_steps=2)\n",
    "    clear_output(wait=True)"
   ]
  },
  {
   "cell_type": "code",
   "execution_count": 24,
   "metadata": {},
   "outputs": [],
   "source": [
    "a.save_weights(folder + '/modelbicubic_stable_analyticaugmented_-11.h5')"
   ]
  },
  {
   "cell_type": "code",
   "execution_count": 6,
   "metadata": {},
   "outputs": [],
   "source": [
    "#testing model\n",
    "input_0 = Input(shape=(1,ntest,ntest,))\n",
    "conv_1_0 = Conv2D(filters = 5, kernel_size = 3, activation=tf.nn.leaky_relu, data_format='channels_first', padding='same')(input_0)\n",
    "\n",
    "conv_2_0 = Conv2D(filters = 16, kernel_size = 3, activation=tf.nn.leaky_relu, data_format='channels_first', padding='same')(conv_1_0)\n",
    "pool_2_0 = AveragePooling2D(data_format = 'channels_first')(conv_2_0)\n",
    "pool_2_1 = AveragePooling2D(data_format = 'channels_first')(pool_2_0)\n",
    "pool_2_2 = AveragePooling2D(data_format = 'channels_first')(pool_2_1)\n",
    "pool_2_3 = AveragePooling2D(data_format = 'channels_first')(pool_2_2)\n",
    "pool_2_4 = AveragePooling2D(data_format = 'channels_first')(pool_2_3)\n",
    "pool_2_5 = AveragePooling2D(data_format = 'channels_first')(pool_2_4)\n",
    "pool_2_6 = AveragePooling2D(data_format = 'channels_first')(pool_2_5)\n",
    "\n",
    "conv_3_0 = Conv2D(filters = 8, kernel_size = 3, activation=tf.nn.leaky_relu, data_format = 'channels_first', padding='same')(conv_2_0)\n",
    "conv_3_1 = Conv2D(filters = 8, kernel_size = 3, activation=tf.nn.leaky_relu, data_format = 'channels_first', padding='same')(pool_2_0)\n",
    "conv_3_2 = Conv2D(filters = 8, kernel_size = 3, activation=tf.nn.leaky_relu, data_format = 'channels_first', padding='same')(pool_2_1)\n",
    "conv_3_3 = Conv2D(filters = 8, kernel_size = 3, activation=tf.nn.leaky_relu, data_format = 'channels_first', padding='same')(pool_2_2)\n",
    "conv_3_4 = Conv2D(filters = 8, kernel_size = 3, activation=tf.nn.leaky_relu, data_format = 'channels_first', padding='same')(pool_2_3)\n",
    "conv_3_5 = Conv2D(filters = 8, kernel_size = 1, activation=tf.nn.leaky_relu, data_format = 'channels_first', padding='same')(pool_2_4)\n",
    "conv_3_6 = Conv2D(filters = 8, kernel_size = 1, activation=tf.nn.leaky_relu, data_format = 'channels_first', padding='same')(pool_2_5)\n",
    "#conv_3_7 = Conv2D(filters = 8, kernel_size = 1, activation=tf.nn.leaky_relu, data_format = 'channels_first', padding='same')(pool_2_6)\n",
    "\n",
    "upsample_3_1 = Upsample(2, resize_method=tf.image.ResizeMethod.BILINEAR)(conv_3_1)\n",
    "upsample_3_2 = Upsample(4, resize_method=tf.image.ResizeMethod.BILINEAR)(conv_3_2)\n",
    "upsample_3_3 = Upsample(8, resize_method=tf.image.ResizeMethod.BILINEAR)(conv_3_3)\n",
    "upsample_3_4 = Upsample(16, resize_method=tf.image.ResizeMethod.BILINEAR)(conv_3_4)\n",
    "upsample_3_5 = Upsample(32, resize_method=tf.image.ResizeMethod.BILINEAR)(conv_3_5)\n",
    "upsample_3_6 = Upsample(64, resize_method=tf.image.ResizeMethod.NEAREST_NEIGHBOR)(conv_3_6)\n",
    "\n",
    "\n",
    "conv_4_0 = Conv2D(filters = 8, kernel_size = 3, activation=tf.nn.leaky_relu, data_format = 'channels_first', padding='same')(conv_3_0)\n",
    "conv_4_1 = Conv2D(filters = 8, kernel_size = 3, activation=tf.nn.leaky_relu, data_format = 'channels_first', padding='same')(upsample_3_1)\n",
    "conv_4_2 = Conv2D(filters = 8, kernel_size = 3, activation=tf.nn.leaky_relu, data_format = 'channels_first', padding='same')(upsample_3_2)\n",
    "conv_4_3 = Conv2D(filters = 8, kernel_size = 3, activation=tf.nn.leaky_relu, data_format = 'channels_first', padding='same')(upsample_3_3)\n",
    "conv_4_4 = Conv2D(filters = 8, kernel_size = 3, activation=tf.nn.leaky_relu, data_format = 'channels_first', padding='same')(upsample_3_4)\n",
    "conv_4_5 = Conv2D(filters = 8, kernel_size = 3, activation=tf.nn.leaky_relu, data_format = 'channels_first', padding='same')(upsample_3_5)\n",
    "#conv_4_6 = Conv2D(filters = 8, kernel_size = 3, activation=tf.nn.leaky_relu, data_format = 'channels_first', padding='same')(upsample_3_6)\n",
    "\n",
    "\n",
    "#merge_4_0 = MergeWithAttention2()([conv_4_0, conv_4_1, conv_4_2, conv_4_3, conv_4_4, conv_4_5, conv_4_6, upsample_3_7])\n",
    "merge_4_0 = MergeWithAttention2()([conv_4_0, conv_4_1, conv_4_2, conv_4_3, conv_4_4, conv_4_5, upsample_3_6])#, upsample_3_7])\n",
    "\n",
    "conv_5_0 = Conv2D(filters = 16, kernel_size = 3, activation = tf.nn.leaky_relu, data_format = 'channels_first', padding='same')(merge_4_0)\n",
    "\n",
    "conv_5_1 = Conv2D(filters = 5, kernel_size = 3, activation = tf.nn.leaky_relu, data_format = 'channels_first', padding='same')(conv_5_0)\n",
    "#final_activation = tf.keras.layers.PReLU()(conv_5_1)\n",
    "conv_6_0 = Conv2D(filters = 1, kernel_size = 3, activation='linear', data_format = 'channels_first', padding='same')(conv_5_1)\n",
    "\n",
    "conv_7_0 = Conv2D(filters = 1, kernel_size = 1, activation=tf.nn.tanh, data_format = 'channels_first', padding = 'same')(conv_5_1)\n",
    "prelu_7_0 = tf.keras.layers.PReLU()(conv_6_0)\n",
    "merge_7_0 = tf.keras.layers.Multiply()([conv_7_0, prelu_7_0])\n",
    "\n",
    "b = Model(input_0, merge_7_0)"
   ]
  },
  {
   "cell_type": "code",
   "execution_count": 62,
   "metadata": {},
   "outputs": [],
   "source": [
    "b.compile(optimizer = tf.train.AdamOptimizer(learning_rate=5e-6), loss = Lp_integral_norm((64,64), domain = [0,ntest*h,0,ntest*h], n_quadpts = 20, quadpts_randomization = 2, mse_component_weight = 1e+1), metrics = ['mse','mae'])\n",
    "#b.summary()"
   ]
  },
  {
   "cell_type": "code",
   "execution_count": null,
   "metadata": {},
   "outputs": [],
   "source": [
    "from IPython.display import clear_output\n",
    "while True:\n",
    "    b.fit(train_data, steps_per_epoch=50, epochs=20, validation_data=valid_data, validation_steps=3)\n",
    "    clear_output(wait = True)"
   ]
  },
  {
   "cell_type": "code",
   "execution_count": 59,
   "metadata": {},
   "outputs": [],
   "source": [
    "b.save_weights(folder + '/model_test_prelutanh_-11.h5')"
   ]
  },
  {
   "cell_type": "code",
   "execution_count": 17,
   "metadata": {},
   "outputs": [
    {
     "data": {
      "image/png": "[encoded data removed]",
      "text/plain": [
       "<Figure size 432x288 with 2 Axes>"
      ]
     },
     "metadata": {
      "needs_background": "light"
     },
     "output_type": "display_data"
    }
   ],
   "source": [
    "#plotting\n",
    "# try:\n",
    "#     p = valid_data.make_one_shot_iterator().get_next()\n",
    "# except:\n",
    "#     p = valid_data.__iter__().next()\n",
    "#p = [rhses,solns]\n",
    "#p_r = np.random.randint(0,batch_size)\n",
    "y, x = np.meshgrid(np.linspace(0, ntest*h, ntest), np.linspace(0, ntest*h, ntest))\n",
    "z = a.predict(tf.expand_dims(p[0][p_r,...], axis=0))[0,0,...]\n",
    "#z = p[1][p_r,0,...]\n",
    "#z = soln_chol[p_r,0,...]\n",
    "#z = generate_random_RHS(10, n_controlpts=10, n_outputpts=64)[4,:,:]\n",
    "#z = a.predict(tf.expand_dims(p[0][p_r,...], axis=0))[0,0,...] - p[1][p_r,0,...]\n",
    "z_min, z_max = -np.abs(z).max(), np.abs(z).max()\n",
    "fig, ax = plt.subplots()\n",
    "c = ax.pcolormesh(x, y, z, cmap='RdBu', vmin=z_min, vmax=z_max)\n",
    "ax.set_title('neural network')\n",
    "ax.axis([x.min(), x.max(), y.min(), y.max()])\n",
    "fig.colorbar(c, ax=ax)\n",
    "\n",
    "plt.show()"
   ]
  },
  {
   "cell_type": "code",
   "execution_count": 8,
   "metadata": {},
   "outputs": [
    {
     "data": {
      "text/plain": [
       "<tf.Tensor: id=3175, shape=(), dtype=float64, numpy=0.04554283009035297>"
      ]
     },
     "execution_count": 8,
     "metadata": {},
     "output_type": "execute_result"
    }
   ],
   "source": [
    "#mean % error\n",
    "tf.reduce_mean(tf.abs(a.predict(p[0][...]) - p[1][...]))/tf.reduce_mean(tf.abs(p[1][...]))"
   ]
  },
  {
   "cell_type": "code",
   "execution_count": null,
   "metadata": {},
   "outputs": [],
   "source": [
    "#dummy model to test memory/compute time scaling when doing inference\n",
    "ntest2 = 160\n",
    "input_0 = Input(shape=(1,ntest2,ntest2,))\n",
    "conv_1_0 = Conv2D(filters = 5, kernel_size = 3, activation=tf.nn.leaky_relu, data_format='channels_first', padding='same')(input_0)\n",
    "\n",
    "conv_2_0 = Conv2D(filters = 8, kernel_size = 3, activation=tf.nn.leaky_relu, data_format='channels_first', padding='same')(conv_1_0)\n",
    "pool_2_0 = AveragePooling2D(data_format = 'channels_first')(conv_2_0)\n",
    "pool_2_1 = AveragePooling2D(data_format = 'channels_first')(pool_2_0)\n",
    "pool_2_2 = AveragePooling2D(data_format = 'channels_first')(pool_2_1)\n",
    "pool_2_3 = AveragePooling2D(pool_size=(4,4), data_format = 'channels_first')(pool_2_2)\n",
    "\n",
    "conv_3_0 = Conv2D(filters = 8, kernel_size = 3, activation=tf.nn.leaky_relu, data_format = 'channels_first', padding='same')(conv_2_0)\n",
    "conv_3_1 = Conv2D(filters = 8, kernel_size = 3, activation=tf.nn.leaky_relu, data_format = 'channels_first', padding='same')(pool_2_0)\n",
    "conv_3_2 = Conv2D(filters = 8, kernel_size = 3, activation=tf.nn.leaky_relu, data_format = 'channels_first', padding='same')(pool_2_1)\n",
    "conv_3_3 = Conv2D(filters = 8, kernel_size = 3, activation=tf.nn.leaky_relu, data_format = 'channels_first', padding='same')(pool_2_2)\n",
    "conv_3_4 = Conv2D(filters = 8, kernel_size = 1, activation=tf.nn.leaky_relu, data_format = 'channels_first', padding='same')(pool_2_3)\n",
    "upsample_3_1 = Upsample()(conv_3_1)\n",
    "upsample_3_2 = Upsample(4)(conv_3_2)\n",
    "upsample_3_3 = Upsample(8)(conv_3_3)\n",
    "upsample_3_4 = Upsample(32)(conv_3_4)\n",
    "merge_3_0 = Add()([conv_3_0, upsample_3_1, upsample_3_2, upsample_3_3, upsample_3_4])\n",
    "\n",
    "conv_4_0 = Conv2D(filters = 8, kernel_size = 1, activation = tf.nn.leaky_relu, data_format = 'channels_first', padding='same')(merge_3_0)\n",
    "\n",
    "conv_5_0 = Conv2D(filters = 1, kernel_size = 1, activation = tf.nn.leaky_relu, data_format = 'channels_first', padding='same')(conv_4_0)\n",
    "final_activation = tf.keras.layers.PReLU()(conv_5_0)\n",
    "c = Model(input_0, final_activation)"
   ]
  },
  {
   "cell_type": "code",
   "execution_count": null,
   "metadata": {},
   "outputs": [],
   "source": [
    "#neural network computation time\n",
    "import time\n",
    "g = tf.random.uniform((1,1,ntest2,ntest2),dtype=tf.float64)\n",
    "t0 = time.time()\n",
    "c.predict_on_batch(g)\n",
    "t1 = time.time()\n",
    "print(t1-t0)"
   ]
  },
  {
   "cell_type": "code",
   "execution_count": null,
   "metadata": {},
   "outputs": [],
   "source": [
    "#Cholesky decomposition computation time (time taken to do the decomposition not incl.)\n",
    "import time\n",
    "f = np.random.rand(1,1,ntest,ntest)\n",
    "lhs = tf.constant(poisson_matrix(ntest,ntest), dtype=tf.float64)\n",
    "lhs_chol = tf.expand_dims(tf.linalg.cholesky(lhs), axis=0)\n",
    "boundaries = {'top': boundary_top.RHS_evaluate(np.linspace(boundary_top.t.min(),boundary_top.t.max(),ntest)), 'right': boundary_right.RHS_evaluate(np.linspace(boundary_right.t.min(),boundary_right.t.max(),ntest)), 'bottom': boundary_bottom.RHS_evaluate(np.linspace(boundary_bottom.t.min(),boundary_bottom.t.max(),ntest)), 'left': boundary_left.RHS_evaluate(np.linspace(boundary_left.t.min(),boundary_left.t.max(),ntest))}\n",
    "t0 = time.time()\n",
    "rhs = tf.transpose(poisson_RHS((f,boundaries,h)),(0,2,1))\n",
    "tf.linalg.cholesky_solve(lhs_chol, rhs)\n",
    "t1 = time.time()\n",
    "print(t1-t0)"
   ]
  },
  {
   "cell_type": "code",
   "execution_count": null,
   "metadata": {},
   "outputs": [],
   "source": [
    "#successive overrelaxation\n",
    "f = np.random.rand(1,1,ntest2,ntest2)\n",
    "lhs = poisson_matrix(ntest2,ntest2)\n",
    "L = np.tril(lhs, k=1)\n",
    "D = np.diag(lhs) * np.eye(L.shape[0])\n",
    "Dinv = (np.diag(lhs)**-1) * np.eye(L.shape[0])\n",
    "U = np.triu(lhs, k=1)\n",
    "omega = 1.85\n",
    "gamma = 1\n",
    "P = tf.linalg.inv(tf.matmul(tf.matmul((D/omega + L),1/(2-omega) * Dinv),(D/omega + U)))\n",
    "xk = tf.random.uniform([L.shape[0],1], dtype=tf.float64)\n",
    "t0 = time.time()\n",
    "b = tf.squeeze(tf.transpose(poisson_RHS((f,boundaries,h)),(2,0,1)),axis = 2)\n",
    "eq_lhs = tf.matmul(lhs,xk)\n",
    "residual = eq_lhs - b\n",
    "while tf.reduce_sum(residual**2)>1e-3:\n",
    "    #print('Residual: ' + str(tf.reduce_sum(residual**2)))\n",
    "    xk = xk - gamma * tf.matmul(P,residual)\n",
    "    eq_lhs = tf.matmul(lhs,xk)\n",
    "    residual = eq_lhs - b\n",
    "t1 = time.time()\n",
    "print(t1-t0)"
   ]
  },
  {
   "cell_type": "code",
   "execution_count": null,
   "metadata": {},
   "outputs": [],
   "source": [
    "mod1 = Model(input_0, merge_3_0)\n",
    "mod2 = Model(input_0, merge_test)"
   ]
  },
  {
   "cell_type": "code",
   "execution_count": null,
   "metadata": {},
   "outputs": [],
   "source": [
    "timeit mod2.predict_on_batch(p[0])"
   ]
  },
  {
   "cell_type": "code",
   "execution_count": null,
   "metadata": {},
   "outputs": [],
   "source": [
    "timeit b.predict_on_batch(tf.expand_dims(p[0][0,...],axis=0))"
   ]
  },
  {
   "cell_type": "code",
   "execution_count": null,
   "metadata": {},
   "outputs": [],
   "source": [
    "ex = generate_random_RHS(1, n_controlpts = 10, n_outputpts = 64, s = 5, domain = [0,ntest*h,0,ntest*h])\n",
    "print(tf.reduce_min(ex))"
   ]
  },
  {
   "cell_type": "code",
   "execution_count": null,
   "metadata": {},
   "outputs": [],
   "source": [
    "#cll = conv_laplacian_loss((ntest,ntest),h)\n",
    "cll(b.predict(tf.ones((1,1,ntest,ntest), dtype=tf.keras.backend.floatx())),tf.ones((1,1,ntest,ntest), dtype=tf.keras.backend.floatx()))"
   ]
  },
  {
   "cell_type": "code",
   "execution_count": null,
   "metadata": {},
   "outputs": [],
   "source": [
    "#p = valid_data.make_one_shot_iterator().get_next()\n",
    "p_r = np.random.randint(0,batch_size)\n",
    "f = p[0][p_r,0,...]\n",
    "lower_bound = tf.reduce_min(f)\n",
    "upper_bound = tf.reduce_max(f)\n",
    "alpha = upper_bound-lower_bound\n",
    "d = lower_bound\n",
    "g = (f-d)/alpha\n",
    "print(tf.reduce_max(g))\n",
    "\n",
    "q = b.predict(tf.ones((1,1,ntest,ntest), dtype=tf.keras.backend.floatx()))\n",
    "s = b.predict(tf.expand_dims(tf.expand_dims(g, axis=0),axis=0))\n",
    "#alpha * s[0,0,...] + d * q[0,0,...]"
   ]
  },
  {
   "cell_type": "code",
   "execution_count": null,
   "metadata": {},
   "outputs": [],
   "source": [
    "#plotting\n",
    "# p = valid_data.make_one_shot_iterator().get_next()\n",
    "# p_r = np.random.randint(0,batch_size)\n",
    "y, x = np.meshgrid(np.linspace(0, ntest*h, ntest), np.linspace(0, ntest*h, ntest))\n",
    "z = p[1][p_r,0,...]\n",
    "z = alpha * s[0,0,...] + d * q[0,0,...]\n",
    "#z = q[0,0,...]\n",
    "#z = generate_random_RHS(10, n_controlpts=10, n_outputpts=64)[4,:,:]\n",
    "#z = alpha * s[0,0,...] + d * q[0,0,...] - p[1][p_r,0,...]\n",
    "z_min, z_max = -np.abs(z).max(), np.abs(z).max()\n",
    "fig, ax = plt.subplots()\n",
    "c = ax.pcolormesh(x, y, z, cmap='RdBu', vmin=z_min, vmax=z_max)\n",
    "ax.set_title('error')\n",
    "ax.axis([x.min(), x.max(), y.min(), y.max()])\n",
    "fig.colorbar(c, ax=ax)\n",
    "\n",
    "plt.show()"
   ]
  },
  {
   "cell_type": "code",
   "execution_count": 70,
   "metadata": {},
   "outputs": [],
   "source": []
  },
  {
   "cell_type": "code",
   "execution_count": null,
   "metadata": {},
   "outputs": [],
   "source": [
    "from generate_analytical_soln import generate_analytical_solution_homogeneous_bc"
   ]
  },
  {
   "cell_type": "code",
   "execution_count": null,
   "metadata": {},
   "outputs": [],
   "source": [
    "#s = tf.stack([generate_analytical_solution_homogeneous_bc(rhs = 'random', domain = [ntest*h,ntest*h], nmodes=(16,16), output_shape=(64,64), max_random_magnitude=1.0) for n in range(200)])\n",
    "#rhses = s[:,0,...]\n",
    "#solns = s[:,1,...]\n",
    "import scipy\n",
    "def fex(x,y):\n",
    "    return tf.sin(2*np.pi*tf.math.atan(tf.divide(y,1e-6 + x))) * tf.exp(-x-y) #tf.sin(tf.multiply(x,y)) - tf.tanh(x + y) * tf.math.bessel_i0e(tf.divide(x**2,(1+y)))\n",
    "q = tf.stack([generate_analytical_solution_homogeneous_bc(rhs = fex, domain = [ntest * h, ntest * h], nmodes = (16,16), output_shape = (64,64))])\n",
    "#rhses = s[:,0,...]\n",
    "#solns = s[:,1,...]\n",
    "rhses = tf.expand_dims(q[:,0,...],axis=1)\n",
    "solns = tf.expand_dims(q[:,1,...],axis=1)"
   ]
  },
  {
   "cell_type": "code",
   "execution_count": 141,
   "metadata": {},
   "outputs": [],
   "source": [
    "from generate_dataset import poisson_matrix, poisson_RHS\n",
    "pm = poisson_matrix(ntest,ntest)\n",
    "pm_chol = tf.linalg.cholesky(pm)\n",
    "boundaries = {'top': boundary_top.RHS_evaluate(np.linspace(boundary_top.t.min(),boundary_top.t.max(),ntest)), 'right': boundary_right.RHS_evaluate(np.linspace(boundary_right.t.min(),boundary_right.t.max(),ntest)), 'bottom': boundary_bottom.RHS_evaluate(np.linspace(boundary_bottom.t.min(),boundary_bottom.t.max(),ntest)), 'left': boundary_left.RHS_evaluate(np.linspace(boundary_left.t.min(),boundary_left.t.max(),ntest))}\n",
    "try:\n",
    "    rhs_vectors = tf.transpose(tf.squeeze(poisson_RHS([np.array(rhses), boundaries, h])), (1,0))\n",
    "except:\n",
    "    rhs_vectors = tf.expand_dims(tf.squeeze(poisson_RHS([np.array(rhses), boundaries, h])),axis=1)\n",
    "from scipy.linalg import cho_solve\n",
    "soln_chol = np.zeros((1, 1, ntest, ntest), dtype = np.float64)\n",
    "soln_chol[...,:,0] = boundaries['top']\n",
    "soln_chol[...,:,-1] = boundaries['bottom']\n",
    "soln_chol[...,0,:] = boundaries['left']\n",
    "soln_chol[...,-1,:] = boundaries['right']\n",
    "soln_chol[...,1:-1,1:-1] = tf.expand_dims(tf.transpose(tf.reshape(cho_solve((np.array(pm_chol),True), rhs_vectors), (ntest-2, ntest-2, rhs_vectors.shape[-1])),(2,0,1)),axis=1)"
   ]
  },
  {
   "cell_type": "code",
   "execution_count": 142,
   "metadata": {},
   "outputs": [
    {
     "name": "stdout",
     "output_type": "stream",
     "text": [
      "--MSE--\n",
      "Neural network: tf.Tensor(6.891621e-06, shape=(), dtype=float32)\n",
      "Cholesky: tf.Tensor(3.1971243e-08, shape=(), dtype=float32)\n",
      "--MAE--\n",
      "Neural network: tf.Tensor(0.001985257654563244, shape=(), dtype=float64)\n",
      "Cholesky: tf.Tensor(0.00011828357555281117, shape=(), dtype=float64)\n",
      "--Max error--\n",
      "Neural network: tf.Tensor(0.010419511929168313, shape=(), dtype=float64)\n",
      "Cholesky: tf.Tensor(0.0012888932674247006, shape=(), dtype=float64)\n"
     ]
    }
   ],
   "source": [
    "print('--MSE--')\n",
    "print('Neural network: ' + str(tf.losses.mean_squared_error(solns/tf.reduce_max(tf.abs(rhses)), a(rhses/tf.reduce_max(tf.abs(rhses))))))\n",
    "print('Cholesky: ' + str(tf.losses.mean_squared_error(solns/tf.reduce_max(tf.abs(rhses)), soln_chol/tf.reduce_max(tf.abs(rhses)))))\n",
    "\n",
    "print('--MAE--')\n",
    "print('Neural network: ' + str(tf.reduce_mean(tf.keras.losses.mean_absolute_error(solns/tf.reduce_max(tf.abs(rhses)), a(rhses/tf.reduce_max(tf.abs(rhses)))))))\n",
    "print('Cholesky: ' + str(tf.reduce_mean(tf.keras.losses.mean_absolute_error(solns/tf.reduce_max(tf.abs(rhses)), soln_chol/tf.reduce_max(tf.abs(rhses))))))\n",
    "\n",
    "print('--Max error--')\n",
    "print('Neural network: ' + str(tf.reduce_max(tf.abs(solns/tf.reduce_max(tf.abs(rhses))- a(rhses/tf.reduce_max(tf.abs(rhses)))))))\n",
    "print('Cholesky: ' + str(tf.reduce_max(tf.abs(solns/tf.reduce_max(tf.abs(rhses))- soln_chol/tf.reduce_max(tf.abs(rhses))))))"
   ]
  },
  {
   "cell_type": "code",
   "execution_count": 55,
   "metadata": {},
   "outputs": [
    {
     "data": {
      "text/plain": [
       "<tf.Tensor: id=1934350, shape=(), dtype=float64, numpy=0.3149317917923431>"
      ]
     },
     "execution_count": 55,
     "metadata": {},
     "output_type": "execute_result"
    }
   ],
   "source": [
    "tf.reduce_max(solns)"
   ]
  },
  {
   "cell_type": "code",
   "execution_count": 57,
   "metadata": {},
   "outputs": [
    {
     "data": {
      "text/plain": [
       "<tf.Tensor: id=1934356, shape=(), dtype=float64, numpy=0.8425063001884305>"
      ]
     },
     "execution_count": 57,
     "metadata": {},
     "output_type": "execute_result"
    }
   ],
   "source": [
    "tf.reduce_max(rhses)"
   ]
  },
  {
   "cell_type": "code",
   "execution_count": 144,
   "metadata": {},
   "outputs": [
    {
     "data": {
      "image/png": "[encoded data removed]",
      "text/plain": [
       "<Figure size 432x288 with 2 Axes>"
      ]
     },
     "metadata": {
      "needs_background": "light"
     },
     "output_type": "display_data"
    }
   ],
   "source": [
    "y, x = np.meshgrid(np.linspace(0, ntest*h, soln_chol.shape[-2]), np.linspace(0, ntest*h, soln_chol.shape[-1]))\n",
    "z = (soln_chol/tf.reduce_max(tf.abs(rhses)))[0,0,...] #cholesky soln\n",
    "#z = rhses[0,0,...]\n",
    "#z = (solns/tf.reduce_max(tf.abs(rhses)))[0,0,...] #analytical soln\n",
    "z = a.predict(tf.expand_dims((rhses/tf.reduce_max(tf.abs(rhses)))[0,...], axis=0))[0,0,...] #nn\n",
    "#z = a.predict(tf.expand_dims((rhses/tf.reduce_max(tf.abs(rhses)))[0,...], axis=0))[0,0,...] - (solns/tf.reduce_max(tf.abs(rhses)))[0,0,...] #nn - analytical\n",
    "#z = (soln_chol/tf.reduce_max(tf.abs(rhses)))[0,0,...] - (solns/tf.reduce_max(tf.abs(rhses)))[0,0,...] #chol - analytical\n",
    "z_min, z_max = -np.abs(z).max(), np.abs(z).max()\n",
    "fig, ax = plt.subplots()\n",
    "c = ax.pcolormesh(x, y, z, cmap='RdBu', vmin=z_min, vmax=z_max)\n",
    "ax.set_title('neural network')\n",
    "ax.axis([x.min(), x.max(), y.min(), y.max()])\n",
    "fig.colorbar(c, ax=ax)\n",
    "\n",
    "plt.show()"
   ]
  },
  {
   "cell_type": "code",
   "execution_count": 31,
   "metadata": {},
   "outputs": [],
   "source": [
    "import sys\n",
    "sys.modules['__main__'].__file__ = 'ipython'"
   ]
  },
  {
   "cell_type": "code",
   "execution_count": 6,
   "metadata": {},
   "outputs": [
    {
     "name": "stdout",
     "output_type": "stream",
     "text": [
      "Model: \"model\"\n",
      "__________________________________________________________________________________________________\n",
      "Layer (type)                    Output Shape         Param #     Connected to                     \n",
      "==================================================================================================\n",
      "input_2 (InputLayer)            [(None, 1, 64, 64)]  0                                            \n",
      "__________________________________________________________________________________________________\n",
      "conv2d_2 (Conv2D)               (None, 5, 64, 64)    50          input_2[0][0]                    \n",
      "__________________________________________________________________________________________________\n",
      "conv2d_3 (Conv2D)               (None, 16, 64, 64)   736         conv2d_2[0][0]                   \n",
      "__________________________________________________________________________________________________\n",
      "average_pooling2d_7 (AveragePoo (None, 16, 32, 32)   0           conv2d_3[0][0]                   \n",
      "__________________________________________________________________________________________________\n",
      "average_pooling2d_8 (AveragePoo (None, 16, 16, 16)   0           average_pooling2d_7[0][0]        \n",
      "__________________________________________________________________________________________________\n",
      "average_pooling2d_9 (AveragePoo (None, 16, 8, 8)     0           average_pooling2d_8[0][0]        \n",
      "__________________________________________________________________________________________________\n",
      "average_pooling2d_10 (AveragePo (None, 16, 4, 4)     0           average_pooling2d_9[0][0]        \n",
      "__________________________________________________________________________________________________\n",
      "average_pooling2d_11 (AveragePo (None, 16, 2, 2)     0           average_pooling2d_10[0][0]       \n",
      "__________________________________________________________________________________________________\n",
      "conv2d_5 (Conv2D)               (None, 8, 32, 32)    1160        average_pooling2d_7[0][0]        \n",
      "__________________________________________________________________________________________________\n",
      "conv2d_6 (Conv2D)               (None, 8, 16, 16)    1160        average_pooling2d_8[0][0]        \n",
      "__________________________________________________________________________________________________\n",
      "conv2d_7 (Conv2D)               (None, 8, 8, 8)      1160        average_pooling2d_9[0][0]        \n",
      "__________________________________________________________________________________________________\n",
      "conv2d_8 (Conv2D)               (None, 8, 4, 4)      1160        average_pooling2d_10[0][0]       \n",
      "__________________________________________________________________________________________________\n",
      "conv2d_9 (Conv2D)               (None, 8, 2, 2)      136         average_pooling2d_11[0][0]       \n",
      "__________________________________________________________________________________________________\n",
      "average_pooling2d_12 (AveragePo (None, 16, 1, 1)     0           average_pooling2d_11[0][0]       \n",
      "__________________________________________________________________________________________________\n",
      "conv2d_4 (Conv2D)               (None, 8, 64, 64)    1160        conv2d_3[0][0]                   \n",
      "__________________________________________________________________________________________________\n",
      "upsample (Upsample)             (None, 8, 64, 64)    0           conv2d_5[0][0]                   \n",
      "__________________________________________________________________________________________________\n",
      "upsample_1 (Upsample)           (None, 8, 64, 64)    0           conv2d_6[0][0]                   \n",
      "__________________________________________________________________________________________________\n",
      "upsample_2 (Upsample)           (None, 8, 64, 64)    0           conv2d_7[0][0]                   \n",
      "__________________________________________________________________________________________________\n",
      "upsample_3 (Upsample)           (None, 8, 64, 64)    0           conv2d_8[0][0]                   \n",
      "__________________________________________________________________________________________________\n",
      "upsample_4 (Upsample)           (None, 8, 64, 64)    0           conv2d_9[0][0]                   \n",
      "__________________________________________________________________________________________________\n",
      "conv2d_10 (Conv2D)              (None, 8, 1, 1)      136         average_pooling2d_12[0][0]       \n",
      "__________________________________________________________________________________________________\n",
      "conv2d_11 (Conv2D)              (None, 8, 64, 64)    584         conv2d_4[0][0]                   \n",
      "__________________________________________________________________________________________________\n",
      "conv2d_12 (Conv2D)              (None, 8, 64, 64)    584         upsample[0][0]                   \n",
      "__________________________________________________________________________________________________\n",
      "conv2d_13 (Conv2D)              (None, 8, 64, 64)    584         upsample_1[0][0]                 \n",
      "__________________________________________________________________________________________________\n",
      "conv2d_14 (Conv2D)              (None, 8, 64, 64)    584         upsample_2[0][0]                 \n",
      "__________________________________________________________________________________________________\n",
      "conv2d_15 (Conv2D)              (None, 8, 64, 64)    584         upsample_3[0][0]                 \n",
      "__________________________________________________________________________________________________\n",
      "conv2d_16 (Conv2D)              (None, 8, 64, 64)    584         upsample_4[0][0]                 \n",
      "__________________________________________________________________________________________________\n",
      "upsample_5 (Upsample)           (None, 8, 64, 64)    0           conv2d_10[0][0]                  \n",
      "__________________________________________________________________________________________________\n",
      "merge_with_attention2 (MergeWit (None, 8, 64, 64)    56          conv2d_11[0][0]                  \n",
      "                                                                 conv2d_12[0][0]                  \n",
      "                                                                 conv2d_13[0][0]                  \n",
      "                                                                 conv2d_14[0][0]                  \n",
      "                                                                 conv2d_15[0][0]                  \n",
      "                                                                 conv2d_16[0][0]                  \n",
      "                                                                 upsample_5[0][0]                 \n",
      "__________________________________________________________________________________________________\n",
      "conv2d_17 (Conv2D)              (None, 16, 64, 64)   1168        merge_with_attention2[0][0]      \n",
      "__________________________________________________________________________________________________\n",
      "conv2d_18 (Conv2D)              (None, 5, 64, 64)    725         conv2d_17[0][0]                  \n",
      "__________________________________________________________________________________________________\n",
      "conv2d_19 (Conv2D)              (None, 1, 64, 64)    46          conv2d_18[0][0]                  \n",
      "==================================================================================================\n",
      "Total params: 12,357\n",
      "Trainable params: 12,357\n",
      "Non-trainable params: 0\n",
      "__________________________________________________________________________________________________\n"
     ]
    }
   ],
   "source": [
    "a.summary()"
   ]
  }
 ],
 "metadata": {
  "kernelspec": {
   "display_name": "Python 3",
   "language": "python",
   "name": "python3"
  },
  "language_info": {
   "codemirror_mode": {
    "name": "ipython",
    "version": 3
   },
   "file_extension": ".py",
   "mimetype": "text/x-python",
   "name": "python",
   "nbconvert_exporter": "python",
   "pygments_lexer": "ipython3",
   "version": "3.7.3"
  }
 },
 "nbformat": 4,
 "nbformat_minor": 2
}
