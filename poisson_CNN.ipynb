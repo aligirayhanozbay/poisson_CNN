{
 "cells": [
  {
   "cell_type": "code",
   "execution_count": 1,
   "metadata": {},
   "outputs": [
    {
     "ename": "ModuleNotFoundError",
     "evalue": "No module named 'Boundary'",
     "output_type": "error",
     "traceback": [
      "\u001b[0;31m---------------------------------------------------------------------------\u001b[0m",
      "\u001b[0;31mModuleNotFoundError\u001b[0m                       Traceback (most recent call last)",
      "\u001b[0;32m<ipython-input-1-b1085eca71e6>\u001b[0m in \u001b[0;36m<module>\u001b[0;34m\u001b[0m\n\u001b[1;32m      6\u001b[0m \u001b[0;32mimport\u001b[0m \u001b[0mmatplotlib\u001b[0m\u001b[0;34m.\u001b[0m\u001b[0mpyplot\u001b[0m \u001b[0;32mas\u001b[0m \u001b[0mplt\u001b[0m\u001b[0;34m\u001b[0m\u001b[0;34m\u001b[0m\u001b[0m\n\u001b[1;32m      7\u001b[0m \u001b[0;32mfrom\u001b[0m \u001b[0mmpl_toolkits\u001b[0m\u001b[0;34m.\u001b[0m\u001b[0mmplot3d\u001b[0m \u001b[0;32mimport\u001b[0m \u001b[0mAxes3D\u001b[0m\u001b[0;34m\u001b[0m\u001b[0;34m\u001b[0m\u001b[0m\n\u001b[0;32m----> 8\u001b[0;31m \u001b[0;32mfrom\u001b[0m \u001b[0mBoundary\u001b[0m \u001b[0;32mimport\u001b[0m \u001b[0mBoundary1D\u001b[0m\u001b[0;34m\u001b[0m\u001b[0;34m\u001b[0m\u001b[0m\n\u001b[0m\u001b[1;32m      9\u001b[0m \u001b[0;32mfrom\u001b[0m \u001b[0mcollections\u001b[0m\u001b[0;34m.\u001b[0m\u001b[0mabc\u001b[0m \u001b[0;32mimport\u001b[0m \u001b[0mIterable\u001b[0m\u001b[0;34m\u001b[0m\u001b[0;34m\u001b[0m\u001b[0m\n\u001b[1;32m     10\u001b[0m \u001b[0;32mimport\u001b[0m \u001b[0mitertools\u001b[0m\u001b[0;34m\u001b[0m\u001b[0;34m\u001b[0m\u001b[0m\n",
      "\u001b[0;31mModuleNotFoundError\u001b[0m: No module named 'Boundary'"
     ]
    }
   ],
   "source": [
    "import numpy as np\n",
    "import tensorflow as tf\n",
    "from tensorflow.keras.models import Model\n",
    "from tensorflow.keras.layers import Input, Dense, Conv2D, Flatten, Conv2DTranspose\n",
    "import tensorflow.contrib.eager as tfe\n",
    "import matplotlib.pyplot as plt\n",
    "from mpl_toolkits.mplot3d import Axes3D\n",
    "from Boundary import Boundary1D\n",
    "from collections.abc import Iterable\n",
    "import itertools\n",
    "from multiprocessing import Pool as ThreadPool\n",
    "opts = tf.GPUOptions(per_process_gpu_memory_fraction=0.95)\n",
    "conf = tf.ConfigProto(gpu_options=opts)\n",
    "tfe.enable_eager_execution(config=conf)"
   ]
  },
  {
   "cell_type": "code",
   "execution_count": null,
   "metadata": {},
   "outputs": [],
   "source": [
    "'''CURRENTLY ONLY WORKS FOR SQUARE DOMAINS!!!!'''\n",
    "\n",
    "def poisson_matrix(m,n):\n",
    "    m = m-2\n",
    "    n = n-2\n",
    "    \n",
    "    D = np.zeros((m,m), dtype = np.float64)\n",
    "    i,j = np.indices(D.shape)\n",
    "    D[i==j] = 4.0\n",
    "    D[i==j-1] = -1.0\n",
    "    D[i==j+1] = -1.0\n",
    "    \n",
    "    S = -np.eye(D.shape[0], dtype = np.float64)\n",
    "    \n",
    "    P = np.zeros((m*n,m*n), dtype = np.float64)\n",
    "    ind = np.arange(0,m*(n+1), m)\n",
    "    \n",
    "    for i in range(len(ind)-1):\n",
    "        P[ind[i]:ind[i+1], ind[i]:ind[i+1]] = D\n",
    "        try:\n",
    "            P[ind[i+1]:ind[i+2], ind[i]:ind[i+1]] = S\n",
    "        except:\n",
    "            pass\n",
    "        try:\n",
    "            P[ind[i-1]:ind[i], ind[i]:ind[i+1]] = S\n",
    "        except:\n",
    "            pass\n",
    "    return P\n",
    "\n",
    "def poisson_RHS(F, boundaries = None, h = None):\n",
    "    if boundaries == None and h == None:\n",
    "        boundaries = F[1]\n",
    "        h = F[2]\n",
    "        F = F[0]\n",
    "    \n",
    "    F = -h**2 * F\n",
    "    F[...,1:-1,1] = F[...,1:-1,1] + np.array(boundaries['top'])[1:-1]\n",
    "    F[...,1:-1,-2] = F[...,1:-1,-2] + np.array(boundaries['bottom'])[1:-1]\n",
    "    F[...,1,1:-1] = F[...,1,1:-1] + np.array(boundaries['left'])[1:-1]\n",
    "    F[...,-2,1:-1] = F[...,-2,1:-1] + np.array(boundaries['right'])[1:-1]\n",
    "    \n",
    "    return F[...,1:-1,1:-1].reshape(list(F[...,1:-1,1:-1].shape[:-2]) + [np.prod(F[...,1:-1,1:-1].shape[-2:])])\n",
    "# import pdb\n",
    "# def generate_dataset(batch_size, n, h, boundaries, n_batches = 1):\n",
    "#     lhs = tf.constant(poisson_matrix(n,n), dtype=tf.float32)\n",
    "#     lhs_chol = tf.linalg.cholesky(lhs)\n",
    "    \n",
    "#     F = np.random.rand(n_batches,batch_size,n,n)\n",
    "#     pool = ThreadPool(n_batches)\n",
    "#     #pdb.set_trace()\n",
    "#     rhs = tf.transpose(tf.constant(pool.map(poisson_RHS, zip(np.split(F,n_batches), itertools.repeat(boundaries), itertools.repeat(h))), dtype=tf.float32), (0,2,3,1))\n",
    "\n",
    "#     soln = tf.linalg.cholesky_solve(tf.to_float(tf.transpose(tf.reshape(tf.tile(lhs_chol, [n_batches,batch_size]), (n_batches, lhs_chol.shape[0], batch_size, lhs_chol.shape[1])), (0,2,1,3))), rhs) #find better way that doesnt require replication of LHS matrix\n",
    "    \n",
    "#     return soln, F\n",
    "    \n",
    "    \n",
    "def generate_dataset(batch_size, n, h, boundaries, n_batches = 1, rhs_range = [-1,1]):\n",
    "    lhs = tf.constant(poisson_matrix(n,n), dtype=tf.float64)\n",
    "    lhs_chol = tf.linalg.cholesky(lhs)\n",
    "    \n",
    "    def chol(r):\n",
    "        return tf.linalg.cholesky_solve(lhs_chol, tf.transpose(tf.stack([r])))\n",
    "    \n",
    "    @tf.contrib.eager.defun\n",
    "    def chol_solve(rhs_arr):\n",
    "        return tf.map_fn(chol, rhs)\n",
    "    \n",
    "    F = (rhs_range[1] - rhs_range[0])*np.random.rand(n_batches*batch_size,n,n) + rhs_range[0]\n",
    "    pool = ThreadPool(n_batches)\n",
    "    #pdb.set_trace()\n",
    "    rhs = tf.concat(pool.map(poisson_RHS, zip(np.split(F,n_batches), itertools.repeat(boundaries), itertools.repeat(h))), axis=0)\n",
    "    \n",
    "    soln = np.zeros((n_batches * batch_size, n, n), dtype = np.float64)\n",
    "    soln[...,:,0] = boundaries['top']\n",
    "    soln[...,:,-1] = boundaries['bottom']\n",
    "    soln[...,0,:] = boundaries['left']\n",
    "    soln[...,-1,:] = boundaries['right']\n",
    "    soln[:,1:-1,1:-1] = tf.reshape(chol_solve(rhs), (n_batches * batch_size, n-2, n-2))\n",
    "    #soln = chol_solve(rhs)\n",
    "    \n",
    "    #return tf.reshape(soln, (n_batches, batch_size, lhs_chol.shape[0])), tf.reshape(F, (n_batches, batch_size, F.shape[-2], F.shape[-1]))\n",
    "    return tf.reshape(soln, (n_batches*batch_size, 1, soln.shape[-2], soln.shape[-1])), tf.reshape(F, (n_batches*batch_size, 1, F.shape[-2], F.shape[-1]))\n",
    "\n",
    "#def L2loss(y_true, y_pred, domain = []):   "
   ]
  },
  {
   "cell_type": "code",
   "execution_count": 3,
   "metadata": {},
   "outputs": [],
   "source": [
    "ntest = 64\n",
    "h = 0.05\n",
    "boundary_top = Boundary1D('Dirichlet', [(0,ntest*h),(ntest*h,ntest*h)], orientation='clockwise', RHS_function=lambda t: t-t, boundary_rhs_is_parametric=True)\n",
    "boundary_right = Boundary1D('Dirichlet', [(ntest*h,ntest*h),(ntest*h,0)], orientation='clockwise', RHS_function=lambda t: t-t, boundary_rhs_is_parametric=True)\n",
    "boundary_bottom = Boundary1D('Dirichlet', [(ntest*h,0),(0,0)], orientation='clockwise', RHS_function=lambda t: t-t, boundary_rhs_is_parametric=True)\n",
    "boundary_left = Boundary1D('Dirichlet', [(0,0),(0,ntest*h)], orientation='clockwise', RHS_function=lambda t: t-t, boundary_rhs_is_parametric=True)"
   ]
  },
  {
   "cell_type": "code",
   "execution_count": 47,
   "metadata": {},
   "outputs": [
    {
     "name": "stdout",
     "output_type": "stream",
     "text": [
      "Generation of training data took 329.5939884185791 seconds\n"
     ]
    }
   ],
   "source": [
    "import time\n",
    "t0 = time.time()\n",
    "soln,F = generate_dataset(batch_size=1000, n = ntest, h = h, n_batches=10, boundaries={'top': boundary_top.RHS_evaluate(np.linspace(boundary_top.t.min(),boundary_top.t.max(),ntest)), 'right': boundary_right.RHS_evaluate(np.linspace(boundary_right.t.min(),boundary_right.t.max(),ntest)), 'bottom': boundary_bottom.RHS_evaluate(np.linspace(boundary_bottom.t.min(),boundary_bottom.t.max(),ntest)), 'left': boundary_left.RHS_evaluate(np.linspace(boundary_left.t.min(),boundary_left.t.max(),ntest))})\n",
    "t1 = time.time()\n",
    "print('Generation of training data took ' + str(t1-t0) + ' seconds')"
   ]
  },
  {
   "cell_type": "code",
   "execution_count": 70,
   "metadata": {},
   "outputs": [
    {
     "name": "stdout",
     "output_type": "stream",
     "text": [
      "tf.Tensor(-0.1433197935365761, shape=(), dtype=float64)\n",
      "tf.Tensor(-0.14331979353658042, shape=(), dtype=float64)\n",
      "tf.Tensor(0.01269727413928109, shape=(), dtype=float64)\n"
     ]
    }
   ],
   "source": [
    "i = np.random.randint(1,ntest-2)\n",
    "j = np.random.randint(1,ntest-2)\n",
    "p = np.random.randint(0,soln.shape[0]-1)\n",
    "print((-4 * soln[p,0,i,j] + soln[p,0,i,j-1] + soln[p,0,i-1,j] + soln[p,0,i+1,j] + soln[p,0,i,j+1])/(h**2))\n",
    "print(F[p,0,i,j])\n",
    "print(soln[p,0,i,j])"
   ]
  },
  {
   "cell_type": "code",
   "execution_count": 49,
   "metadata": {},
   "outputs": [],
   "source": [
    "shuffle_size = 100000\n",
    "batch_size = 1000\n",
    "dataset = tf.data.Dataset.from_tensor_slices((F,soln)).shuffle(shuffle_size).batch(batch_size)"
   ]
  },
  {
   "cell_type": "code",
   "execution_count": 55,
   "metadata": {},
   "outputs": [],
   "source": [
    "input0 = Input(shape=(1,ntest,ntest,))\n",
    "conv1 = Conv2D(filters = 256, kernel_size = 8, strides=4, activation=tf.nn.relu, data_format='channels_first', padding='same')(input0)\n",
    "conv2 = Conv2D(filters = 512, kernel_size = 4, strides=2, activation=tf.nn.relu, data_format='channels_first', padding='same')(conv1)\n",
    "conv3 = Conv2D(filters = 1024, kernel_size = 2, strides=2, activation=tf.nn.relu, data_format='channels_first', padding='same')(conv2)\n",
    "deconv1 = Conv2DTranspose(filters = 512, kernel_size = 2, strides = 2, activation=tf.nn.relu, data_format='channels_first', padding='same')(conv3)\n",
    "deconv2 = Conv2DTranspose(filters = 256, kernel_size = 4, strides = 2, activation=tf.nn.relu, data_format='channels_first', padding='same')(deconv1)\n",
    "deconv3 = Conv2DTranspose(filters = 1, kernel_size = 8, strides = 4, activation=tf.nn.tanh, data_format='channels_first', padding='same')(deconv2)"
   ]
  },
  {
   "cell_type": "code",
   "execution_count": 56,
   "metadata": {},
   "outputs": [
    {
     "name": "stdout",
     "output_type": "stream",
     "text": [
      "_________________________________________________________________\n",
      "Layer (type)                 Output Shape              Param #   \n",
      "=================================================================\n",
      "input_8 (InputLayer)         (None, 1, 64, 64)         0         \n",
      "_________________________________________________________________\n",
      "conv2d_21 (Conv2D)           (None, 256, 16, 16)       16640     \n",
      "_________________________________________________________________\n",
      "conv2d_22 (Conv2D)           (None, 512, 8, 8)         2097664   \n",
      "_________________________________________________________________\n",
      "conv2d_23 (Conv2D)           (None, 1024, 4, 4)        2098176   \n",
      "_________________________________________________________________\n",
      "conv2d_transpose_21 (Conv2DT (None, 512, 8, 8)         2097664   \n",
      "_________________________________________________________________\n",
      "conv2d_transpose_22 (Conv2DT (None, 256, 16, 16)       2097408   \n",
      "_________________________________________________________________\n",
      "conv2d_transpose_23 (Conv2DT (None, 1, 64, 64)         16385     \n",
      "=================================================================\n",
      "Total params: 8,423,937\n",
      "Trainable params: 8,423,937\n",
      "Non-trainable params: 0\n",
      "_________________________________________________________________\n"
     ]
    }
   ],
   "source": [
    "a = Model(input0,deconv3)\n",
    "a.compile(optimizer = tf.train.AdamOptimizer(learning_rate=1e-5), loss = tf.losses.huber_loss, metrics = ['accuracy'])\n",
    "a.summary()"
   ]
  },
  {
   "cell_type": "code",
   "execution_count": 64,
   "metadata": {},
   "outputs": [
    {
     "name": "stdout",
     "output_type": "stream",
     "text": [
      "0 0.01553125\n",
      "10 0.015171875\n",
      "0 0.015875\n",
      "10 0.016015625\n",
      "0 0.015046875\n",
      "10 0.014765625\n",
      "0 0.016296875\n",
      "10 0.01603125\n",
      "0 0.0158125\n",
      "10 0.015328125\n"
     ]
    }
   ],
   "source": [
    "epochs = 5\n",
    "for epoch in range(epochs):\n",
    "    for (batch, (inputs, labels)) in enumerate(dataset):\n",
    "        loss, accuracy = a.train_on_batch(inputs,labels)\n",
    "        \n",
    "        if batch%10 == 0:\n",
    "            print(batch, accuracy)"
   ]
  },
  {
   "cell_type": "code",
   "execution_count": 58,
   "metadata": {},
   "outputs": [
    {
     "name": "stdout",
     "output_type": "stream",
     "text": [
      "Epoch 1/4\n",
      "5/5 [==============================] - 9s 2s/step - loss: 1.7992e-05 - acc: 0.0155\n",
      "Epoch 2/4\n",
      "5/5 [==============================] - 8s 2s/step - loss: 1.7982e-05 - acc: 0.0157\n",
      "Epoch 3/4\n",
      "5/5 [==============================] - 8s 2s/step - loss: 1.7678e-05 - acc: 0.0155\n",
      "Epoch 4/4\n",
      "5/5 [==============================] - 8s 2s/step - loss: 1.7707e-05 - acc: 0.0150\n"
     ]
    },
    {
     "data": {
      "text/plain": [
       "<tensorflow.python.keras.callbacks.History at 0x2b0f9f922940>"
      ]
     },
     "execution_count": 58,
     "metadata": {},
     "output_type": "execute_result"
    }
   ],
   "source": [
    "a.fit(dataset, steps_per_epoch=5, epochs=4)"
   ]
  },
  {
   "cell_type": "code",
   "execution_count": 63,
   "metadata": {},
   "outputs": [
    {
     "data": {
      "image/png": "[encoded data removed]",
      "text/plain": [
       "<Figure size 432x288 with 2 Axes>"
      ]
     },
     "metadata": {
      "needs_background": "light"
     },
     "output_type": "display_data"
    }
   ],
   "source": [
    "y, x = np.meshgrid(np.linspace(0, ntest*h, ntest), np.linspace(0, ntest*h, ntest))\n",
    "#z = a.predict(tf.expand_dims(F[0,...], axis=0))[0,0,...]\n",
    "z = soln[0,0,...]\n",
    "#z = a.predict(tf.expand_dims(F[0,...], axis=0))[0,0,...] - soln[0,0,...]\n",
    "z_min, z_max = -np.abs(z).max(), np.abs(z).max()\n",
    "fig, ax = plt.subplots()\n",
    "c = ax.pcolormesh(x, y, z, cmap='RdBu', vmin=z_min, vmax=z_max)\n",
    "ax.set_title('pcolormesh')\n",
    "ax.axis([x.min(), x.max(), y.min(), y.max()])\n",
    "fig.colorbar(c, ax=ax)\n",
    "\n",
    "plt.show()"
   ]
  },
  {
   "cell_type": "code",
   "execution_count": 63,
   "metadata": {},
   "outputs": [
    {
     "name": "stdout",
     "output_type": "stream",
     "text": [
      "(1000, 1, 64, 64)\n"
     ]
    }
   ],
   "source": [
    "print(s.shape)"
   ]
  },
  {
   "cell_type": "code",
   "execution_count": 65,
   "metadata": {},
   "outputs": [
    {
     "data": {
      "text/plain": [
       "<tf.Tensor: id=24319, shape=(), dtype=float32, numpy=0.33316737>"
      ]
     },
     "execution_count": 65,
     "metadata": {},
     "output_type": "execute_result"
    }
   ],
   "source": [
    "tf.losses.mean_squared_error(F[0,...], s)"
   ]
  },
  {
   "cell_type": "code",
   "execution_count": 79,
   "metadata": {},
   "outputs": [
    {
     "name": "stdout",
     "output_type": "stream",
     "text": [
      "_________________________________________________________________\n",
      "Layer (type)                 Output Shape              Param #   \n",
      "=================================================================\n",
      "input_12 (InputLayer)        (None, 1, 64, 64)         0         \n",
      "_________________________________________________________________\n",
      "conv2d_31 (Conv2D)           (None, 256, 16, 16)       16640     \n",
      "_________________________________________________________________\n",
      "conv2d_32 (Conv2D)           (None, 512, 8, 8)         2097664   \n",
      "_________________________________________________________________\n",
      "conv2d_33 (Conv2D)           (None, 1024, 4, 4)        2098176   \n",
      "_________________________________________________________________\n",
      "conv2d_transpose_30 (Conv2DT (None, 512, 8, 8)         2097664   \n",
      "_________________________________________________________________\n",
      "conv2d_transpose_31 (Conv2DT (None, 256, 16, 16)       2097408   \n",
      "_________________________________________________________________\n",
      "conv2d_transpose_32 (Conv2DT (None, 1, 64, 64)         16385     \n",
      "=================================================================\n",
      "Total params: 8,423,937\n",
      "Trainable params: 8,423,937\n",
      "Non-trainable params: 0\n",
      "_________________________________________________________________\n"
     ]
    }
   ],
   "source": [
    "a.summary()"
   ]
  },
  {
   "cell_type": "code",
   "execution_count": 93,
   "metadata": {},
   "outputs": [
    {
     "data": {
      "text/plain": [
       "TensorShape([Dimension(4000), Dimension(1), Dimension(64), Dimension(64)])"
      ]
     },
     "execution_count": 93,
     "metadata": {},
     "output_type": "execute_result"
    }
   ],
   "source": [
    "F.shape"
   ]
  },
  {
   "cell_type": "code",
   "execution_count": 19,
   "metadata": {},
   "outputs": [
    {
     "data": {
      "text/plain": [
       "TensorShape([Dimension(4000), Dimension(1), Dimension(64), Dimension(64)])"
      ]
     },
     "execution_count": 19,
     "metadata": {},
     "output_type": "execute_result"
    }
   ],
   "source": [
    "F.shape"
   ]
  },
  {
   "cell_type": "code",
   "execution_count": 36,
   "metadata": {},
   "outputs": [
    {
     "data": {
      "text/plain": [
       "0.9995546650716034"
      ]
     },
     "execution_count": 36,
     "metadata": {},
     "output_type": "execute_result"
    }
   ],
   "source": [
    "np.max(F[0,0,...])"
   ]
  },
  {
   "cell_type": "code",
   "execution_count": 107,
   "metadata": {},
   "outputs": [
    {
     "data": {
      "text/plain": [
       "(TensorShape([Dimension(None), Dimension(1), Dimension(64), Dimension(64)]),\n",
       " TensorShape([Dimension(None), Dimension(1), Dimension(64), Dimension(64)]))"
      ]
     },
     "execution_count": 107,
     "metadata": {},
     "output_type": "execute_result"
    }
   ],
   "source": [
    "dataset.output_shapes"
   ]
  },
  {
   "cell_type": "code",
   "execution_count": null,
   "metadata": {},
   "outputs": [],
   "source": []
  }
 ],
 "metadata": {
  "kernelspec": {
   "display_name": "py3.6",
   "language": "python",
   "name": "py3.6"
  },
  "language_info": {
   "codemirror_mode": {
    "name": "ipython",
    "version": 3
   },
   "file_extension": ".py",
   "mimetype": "text/x-python",
   "name": "python",
   "nbconvert_exporter": "python",
   "pygments_lexer": "ipython3",
   "version": "3.6.7"
  }
 },
 "nbformat": 4,
 "nbformat_minor": 2
}
