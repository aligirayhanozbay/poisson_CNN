{
 "cells": [
  {
   "cell_type": "code",
   "execution_count": 1,
   "metadata": {},
   "outputs": [],
   "source": [
    "import numpy as np\n",
    "import tensorflow as tf\n",
    "from tensorflow.keras.models import Model\n",
    "from tensorflow.keras.layers import Input, Dense, Conv2D, Flatten, Conv2DTranspose, AveragePooling2D, Add, Reshape\n",
    "from scipy.interpolate import RectBivariateSpline\n",
    "import tensorflow.contrib.eager as tfe\n",
    "import matplotlib.pyplot as plt\n",
    "from mpl_toolkits.mplot3d import Axes3D\n",
    "from Boundary import Boundary1D\n",
    "from MergeWithAttention import MergeWithAttention2\n",
    "from Upsample import Upsample\n",
    "from collections.abc import Iterable\n",
    "import itertools, h5py\n",
    "from multiprocessing import Pool as ThreadPool\n",
    "from Lp_integral_norm import Lp_integral_norm\n",
    "opts = tf.GPUOptions(per_process_gpu_memory_fraction=0.95)\n",
    "conf = tf.ConfigProto(gpu_options=opts)\n",
    "tfe.enable_eager_execution(config=conf)\n",
    "tf.keras.backend.set_floatx('float64')"
   ]
  },
  {
   "cell_type": "code",
   "execution_count": 2,
   "metadata": {},
   "outputs": [],
   "source": [
    "ntest = 64\n",
    "h = 0.05\n",
    "folder = 'dataset_' + str(ntest)\n",
    "boundary_top = Boundary1D('Dirichlet', [(0,ntest*h),(ntest*h,ntest*h)], orientation='clockwise', RHS_function=lambda t: t-t, boundary_rhs_is_parametric=True)\n",
    "boundary_right = Boundary1D('Dirichlet', [(ntest*h,ntest*h),(ntest*h,0)], orientation='clockwise', RHS_function=lambda t: t-t, boundary_rhs_is_parametric=True)\n",
    "boundary_bottom = Boundary1D('Dirichlet', [(ntest*h,0),(0,0)], orientation='clockwise', RHS_function=lambda t: t-t, boundary_rhs_is_parametric=True)\n",
    "boundary_left = Boundary1D('Dirichlet', [(0,0),(0,ntest*h)], orientation='clockwise', RHS_function=lambda t: t-t, boundary_rhs_is_parametric=True)"
   ]
  },
  {
   "cell_type": "code",
   "execution_count": 3,
   "metadata": {},
   "outputs": [],
   "source": [
    "for i in range(0,5):\n",
    "    with h5py.File(folder + '/range_-1_1/dataset' + str(i) + '_-11.h5', 'r') as hf:\n",
    "        F = np.array(hf.get('F'), dtype = np.float64)\n",
    "        soln = np.array(hf.get('soln'), dtype = np.float64)\n",
    "        try:\n",
    "            train_data = train_data.concatenate(tf.data.Dataset.from_tensor_slices((F,soln)))\n",
    "        except:\n",
    "            train_data = tf.data.Dataset.from_tensor_slices((F,soln))"
   ]
  },
  {
   "cell_type": "code",
   "execution_count": 3,
   "metadata": {},
   "outputs": [],
   "source": [
    "for i in range(5,6):\n",
    "    with h5py.File(folder + '/range_-1_1/dataset' + str(i) + '_-11.h5', 'r') as hf:\n",
    "        F = np.array(hf.get('F'), dtype = np.float64)\n",
    "        soln = np.array(hf.get('soln'), dtype = np.float64)\n",
    "        try:\n",
    "            valid_data = valid_data.concatenate(tf.data.Dataset.from_tensor_slices((F,soln)))\n",
    "        except:\n",
    "            valid_data = tf.data.Dataset.from_tensor_slices((F,soln))"
   ]
  },
  {
   "cell_type": "code",
   "execution_count": null,
   "metadata": {},
   "outputs": [],
   "source": [
    "# with h5py.File('dataset' + str(8) + '.h5', 'r') as hf:\n",
    "#         F_valid = np.array(hf.get('F'), dtype = np.float64)\n",
    "#         soln_valid = np.array(hf.get('soln'), dtype = np.float64)"
   ]
  },
  {
   "cell_type": "code",
   "execution_count": 4,
   "metadata": {},
   "outputs": [],
   "source": [
    "shuffle_size = 100000\n",
    "batch_size = 200\n",
    "#train_data = train_data.shuffle(shuffle_size).batch(batch_size)\n",
    "valid_data = valid_data.shuffle(shuffle_size).batch(batch_size)\n",
    "del F, soln"
   ]
  },
  {
   "cell_type": "code",
   "execution_count": 3,
   "metadata": {},
   "outputs": [],
   "source": [
    "#stable model\n",
    "input_0 = Input(shape=(1,ntest,ntest,))\n",
    "conv_1_0 = Conv2D(filters = 5, kernel_size = 3, activation=tf.nn.leaky_relu, data_format='channels_first', padding='same')(input_0)\n",
    "\n",
    "conv_2_0 = Conv2D(filters = 16, kernel_size = 3, activation=tf.nn.leaky_relu, data_format='channels_first', padding='same')(conv_1_0)\n",
    "pool_2_0 = AveragePooling2D(data_format = 'channels_first')(conv_2_0)\n",
    "pool_2_1 = AveragePooling2D(data_format = 'channels_first')(pool_2_0)\n",
    "pool_2_2 = AveragePooling2D(data_format = 'channels_first')(pool_2_1)\n",
    "pool_2_3 = AveragePooling2D(data_format = 'channels_first')(pool_2_2)\n",
    "pool_2_4 = AveragePooling2D(data_format = 'channels_first')(pool_2_3)\n",
    "pool_2_5 = AveragePooling2D(data_format = 'channels_first')(pool_2_4)\n",
    "pool_2_6 = AveragePooling2D(data_format = 'channels_first')(pool_2_5)\n",
    "\n",
    "conv_3_0 = Conv2D(filters = 8, kernel_size = 3, activation=tf.nn.leaky_relu, data_format = 'channels_first', padding='same')(conv_2_0)\n",
    "conv_3_1 = Conv2D(filters = 8, kernel_size = 3, activation=tf.nn.leaky_relu, data_format = 'channels_first', padding='same')(pool_2_0)\n",
    "conv_3_2 = Conv2D(filters = 8, kernel_size = 3, activation=tf.nn.leaky_relu, data_format = 'channels_first', padding='same')(pool_2_1)\n",
    "conv_3_3 = Conv2D(filters = 8, kernel_size = 3, activation=tf.nn.leaky_relu, data_format = 'channels_first', padding='same')(pool_2_2)\n",
    "conv_3_4 = Conv2D(filters = 8, kernel_size = 3, activation=tf.nn.leaky_relu, data_format = 'channels_first', padding='same')(pool_2_3)\n",
    "conv_3_5 = Conv2D(filters = 8, kernel_size = 1, activation=tf.nn.leaky_relu, data_format = 'channels_first', padding='same')(pool_2_4)\n",
    "conv_3_6 = Conv2D(filters = 8, kernel_size = 1, activation=tf.nn.leaky_relu, data_format = 'channels_first', padding='same')(pool_2_5)\n",
    "#conv_3_7 = Conv2D(filters = 8, kernel_size = 1, activation=tf.nn.leaky_relu, data_format = 'channels_first', padding='same')(pool_2_6)\n",
    "\n",
    "upsample_3_1 = Upsample(resize_method=tf.image.ResizeMethod.BICUBIC)(conv_3_1)\n",
    "upsample_3_2 = Upsample(4, resize_method=tf.image.ResizeMethod.BICUBIC)(conv_3_2)\n",
    "upsample_3_3 = Upsample(8, resize_method=tf.image.ResizeMethod.BICUBIC)(conv_3_3)\n",
    "upsample_3_4 = Upsample(16, resize_method=tf.image.ResizeMethod.BICUBIC)(conv_3_4)\n",
    "upsample_3_5 = Upsample(32, resize_method=tf.image.ResizeMethod.BILINEAR)(conv_3_5)\n",
    "upsample_3_6 = Upsample(64, resize_method=tf.image.ResizeMethod.NEAREST_NEIGHBOR)(conv_3_6)\n",
    "#upsample_3_7 = Upsample(128, resize_method=tf.image.ResizeMethod.NEAREST_NEIGHBOR)(conv_3_7)\n",
    "\n",
    "conv_4_0 = Conv2D(filters = 8, kernel_size = 3, activation=tf.nn.leaky_relu, data_format = 'channels_first', padding='same')(conv_3_0)\n",
    "conv_4_1 = Conv2D(filters = 8, kernel_size = 3, activation=tf.nn.leaky_relu, data_format = 'channels_first', padding='same')(upsample_3_1)\n",
    "conv_4_2 = Conv2D(filters = 8, kernel_size = 3, activation=tf.nn.leaky_relu, data_format = 'channels_first', padding='same')(upsample_3_2)\n",
    "conv_4_3 = Conv2D(filters = 8, kernel_size = 3, activation=tf.nn.leaky_relu, data_format = 'channels_first', padding='same')(upsample_3_3)\n",
    "conv_4_4 = Conv2D(filters = 8, kernel_size = 3, activation=tf.nn.leaky_relu, data_format = 'channels_first', padding='same')(upsample_3_4)\n",
    "conv_4_5 = Conv2D(filters = 8, kernel_size = 3, activation=tf.nn.leaky_relu, data_format = 'channels_first', padding='same')(upsample_3_5)\n",
    "#conv_4_6 = Conv2D(filters = 8, kernel_size = 3, activation=tf.nn.leaky_relu, data_format = 'channels_first', padding='same')(upsample_3_6)\n",
    "\n",
    "#merge_4_0 = MergeWithAttention2()([conv_4_0, conv_4_1, conv_4_2, conv_4_3, conv_4_4, conv_4_5, conv_4_6, upsample_3_7])\n",
    "merge_4_0 = MergeWithAttention2()([conv_4_0, conv_4_1, conv_4_2, conv_4_3, conv_4_4, conv_4_5, upsample_3_6])#, upsample_3_7])\n",
    "\n",
    "conv_5_0 = Conv2D(filters = 16, kernel_size = 3, activation = tf.nn.leaky_relu, data_format = 'channels_first', padding='same')(merge_4_0)\n",
    "\n",
    "conv_5_1 = Conv2D(filters = 5, kernel_size = 3, activation = tf.nn.leaky_relu, data_format = 'channels_first', padding='same')(conv_5_0)\n",
    "#final_activation = tf.keras.layers.PReLU()(conv_5_1)\n",
    "conv_6_0 = Conv2D(filters = 1, kernel_size = 3, activation='linear', data_format = 'channels_first', padding='same')(conv_5_1)#(final_activation)\n",
    "\n",
    "a = Model(input_0, conv_6_0)\n",
    "#a.load_weights(folder + '/model_stable.h5') - for [0,1]# - 1.3% mae\n",
    "a.load_weights(folder + '/model_stable_-11.h5')# - 4% mae"
   ]
  },
  {
   "cell_type": "code",
   "execution_count": null,
   "metadata": {},
   "outputs": [],
   "source": [
    "#how to train this - start with lr = 1e-2, switch to lr = 1e-4/1e-5 later on, keep mse component to 1e+1. use large no. of steps per epoch.\n",
    "a.compile(optimizer = tf.train.AdamOptimizer(learning_rate=1e-4), loss = Lp_integral_norm((ntest,ntest), [0,ntest*h,0,ntest*h], n_quadpts=20, quadpts_randomization=2, p=2, mse_component_weight = 1e+1), metrics = ['mse','mae'])\n",
    "#a.compile(optimizer = tf.train.AdamOptimizer(learning_rate=1e-2), loss = 'mse', metrics = ['mae'])\n",
    "\n",
    "a.summary()"
   ]
  },
  {
   "cell_type": "code",
   "execution_count": null,
   "metadata": {},
   "outputs": [],
   "source": [
    "while True:\n",
    "    a.fit(train_data, steps_per_epoch=50, epochs=20, validation_data=valid_data, validation_steps=2)"
   ]
  },
  {
   "cell_type": "code",
   "execution_count": null,
   "metadata": {},
   "outputs": [],
   "source": [
    "a.save_weights(folder + '/model_stable_-11.h5')"
   ]
  },
  {
   "cell_type": "code",
   "execution_count": 6,
   "metadata": {},
   "outputs": [],
   "source": [
    "#testing model\n",
    "input_0 = Input(shape=(1,ntest,ntest,))\n",
    "conv_1_0 = Conv2D(filters = 5, kernel_size = 3, activation=tf.nn.leaky_relu, data_format='channels_first', padding='same')(input_0)\n",
    "\n",
    "conv_2_0 = Conv2D(filters = 16, kernel_size = 3, activation=tf.nn.leaky_relu, data_format='channels_first', padding='same')(conv_1_0)\n",
    "pool_2_0 = AveragePooling2D(data_format = 'channels_first')(conv_2_0)\n",
    "pool_2_1 = AveragePooling2D(data_format = 'channels_first')(pool_2_0)\n",
    "pool_2_2 = AveragePooling2D(data_format = 'channels_first')(pool_2_1)\n",
    "pool_2_3 = AveragePooling2D(data_format = 'channels_first')(pool_2_2)\n",
    "pool_2_4 = AveragePooling2D(data_format = 'channels_first')(pool_2_3)\n",
    "pool_2_5 = AveragePooling2D(data_format = 'channels_first')(pool_2_4)\n",
    "pool_2_6 = AveragePooling2D(data_format = 'channels_first')(pool_2_5)\n",
    "\n",
    "conv_3_0 = Conv2D(filters = 8, kernel_size = 3, activation=tf.nn.leaky_relu, data_format = 'channels_first', padding='same')(conv_2_0)\n",
    "conv_3_1 = Conv2D(filters = 8, kernel_size = 3, activation=tf.nn.leaky_relu, data_format = 'channels_first', padding='same')(pool_2_0)\n",
    "conv_3_2 = Conv2D(filters = 8, kernel_size = 3, activation=tf.nn.leaky_relu, data_format = 'channels_first', padding='same')(pool_2_1)\n",
    "conv_3_3 = Conv2D(filters = 8, kernel_size = 3, activation=tf.nn.leaky_relu, data_format = 'channels_first', padding='same')(pool_2_2)\n",
    "conv_3_4 = Conv2D(filters = 8, kernel_size = 3, activation=tf.nn.leaky_relu, data_format = 'channels_first', padding='same')(pool_2_3)\n",
    "conv_3_5 = Conv2D(filters = 8, kernel_size = 1, activation=tf.nn.leaky_relu, data_format = 'channels_first', padding='same')(pool_2_4)\n",
    "conv_3_6 = Conv2D(filters = 8, kernel_size = 1, activation=tf.nn.leaky_relu, data_format = 'channels_first', padding='same')(pool_2_5)\n",
    "#conv_3_7 = Conv2D(filters = 8, kernel_size = 1, activation=tf.nn.leaky_relu, data_format = 'channels_first', padding='same')(pool_2_6)\n",
    "\n",
    "upsample_3_1 = Upsample(2, resize_method=tf.image.ResizeMethod.BILINEAR)(conv_3_1)\n",
    "upsample_3_2 = Upsample(4, resize_method=tf.image.ResizeMethod.BILINEAR)(conv_3_2)\n",
    "upsample_3_3 = Upsample(8, resize_method=tf.image.ResizeMethod.BILINEAR)(conv_3_3)\n",
    "upsample_3_4 = Upsample(16, resize_method=tf.image.ResizeMethod.BILINEAR)(conv_3_4)\n",
    "upsample_3_5 = Upsample(32, resize_method=tf.image.ResizeMethod.BILINEAR)(conv_3_5)\n",
    "upsample_3_6 = Upsample(64, resize_method=tf.image.ResizeMethod.NEAREST_NEIGHBOR)(conv_3_6)\n",
    "\n",
    "\n",
    "conv_4_0 = Conv2D(filters = 8, kernel_size = 3, activation=tf.nn.leaky_relu, data_format = 'channels_first', padding='same')(conv_3_0)\n",
    "conv_4_1 = Conv2D(filters = 8, kernel_size = 3, activation=tf.nn.leaky_relu, data_format = 'channels_first', padding='same')(upsample_3_1)\n",
    "conv_4_2 = Conv2D(filters = 8, kernel_size = 3, activation=tf.nn.leaky_relu, data_format = 'channels_first', padding='same')(upsample_3_2)\n",
    "conv_4_3 = Conv2D(filters = 8, kernel_size = 3, activation=tf.nn.leaky_relu, data_format = 'channels_first', padding='same')(upsample_3_3)\n",
    "conv_4_4 = Conv2D(filters = 8, kernel_size = 3, activation=tf.nn.leaky_relu, data_format = 'channels_first', padding='same')(upsample_3_4)\n",
    "conv_4_5 = Conv2D(filters = 8, kernel_size = 3, activation=tf.nn.leaky_relu, data_format = 'channels_first', padding='same')(upsample_3_5)\n",
    "#conv_4_6 = Conv2D(filters = 8, kernel_size = 3, activation=tf.nn.leaky_relu, data_format = 'channels_first', padding='same')(upsample_3_6)\n",
    "\n",
    "\n",
    "#merge_4_0 = MergeWithAttention2()([conv_4_0, conv_4_1, conv_4_2, conv_4_3, conv_4_4, conv_4_5, conv_4_6, upsample_3_7])\n",
    "merge_4_0 = MergeWithAttention2()([conv_4_0, conv_4_1, conv_4_2, conv_4_3, conv_4_4, conv_4_5, upsample_3_6])#, upsample_3_7])\n",
    "\n",
    "conv_5_0 = Conv2D(filters = 16, kernel_size = 3, activation = tf.nn.leaky_relu, data_format = 'channels_first', padding='same')(merge_4_0)\n",
    "\n",
    "conv_5_1 = Conv2D(filters = 5, kernel_size = 3, activation = tf.nn.leaky_relu, data_format = 'channels_first', padding='same')(conv_5_0)\n",
    "#final_activation = tf.keras.layers.PReLU()(conv_5_1)\n",
    "conv_6_0 = Conv2D(filters = 1, kernel_size = 3, activation='linear', data_format = 'channels_first', padding='same')(conv_5_1)\n",
    "\n",
    "conv_7_0 = Conv2D(filters = 1, kernel_size = 1, activation=tf.nn.tanh, data_format = 'channels_first', padding = 'same')(conv_5_1)\n",
    "prelu_7_0 = tf.keras.layers.PReLU()(conv_6_0)\n",
    "merge_7_0 = tf.keras.layers.Multiply()([conv_7_0, prelu_7_0])\n",
    "\n",
    "b = Model(input_0, merge_7_0)"
   ]
  },
  {
   "cell_type": "code",
   "execution_count": 62,
   "metadata": {},
   "outputs": [],
   "source": [
    "b.compile(optimizer = tf.train.AdamOptimizer(learning_rate=5e-6), loss = Lp_integral_norm((64,64), domain = [0,ntest*h,0,ntest*h], n_quadpts = 20, quadpts_randomization = 2, mse_component_weight = 1e+1), metrics = ['mse','mae'])\n",
    "#b.summary()"
   ]
  },
  {
   "cell_type": "code",
   "execution_count": null,
   "metadata": {},
   "outputs": [],
   "source": [
    "from IPython.display import clear_output\n",
    "while True:\n",
    "    b.fit(train_data, steps_per_epoch=50, epochs=20, validation_data=valid_data, validation_steps=3)\n",
    "    clear_output(wait = True)"
   ]
  },
  {
   "cell_type": "code",
   "execution_count": 59,
   "metadata": {},
   "outputs": [],
   "source": [
    "b.save_weights(folder + '/model_test_prelutanh_-11.h5')"
   ]
  },
  {
   "cell_type": "code",
   "execution_count": 39,
   "metadata": {},
   "outputs": [
    {
     "data": {
      "image/png": "[encoded data removed]",
      "text/plain": [
       "<Figure size 432x288 with 2 Axes>"
      ]
     },
     "metadata": {
      "needs_background": "light"
     },
     "output_type": "display_data"
    }
   ],
   "source": [
    "#plotting\n",
    "#p = valid_data.make_one_shot_iterator().get_next()\n",
    "#p = [rhses,solns]\n",
    "#p_r = np.random.randint(0,batch_size)\n",
    "y, x = np.meshgrid(np.linspace(0, ntest*h, ntest), np.linspace(0, ntest*h, ntest))\n",
    "z = a.predict(tf.expand_dims(p[0][p_r,...], axis=0))[0,0,...]\n",
    "#z = p[1][p_r,0,...]\n",
    "#z = soln_chol[p_r,0,...]\n",
    "#z = generate_random_RHS(10, n_controlpts=10, n_outputpts=64)[4,:,:]\n",
    "#z = a.predict(tf.expand_dims(p[0][p_r,...], axis=0))[0,0,...] - p[1][p_r,0,...]\n",
    "z_min, z_max = -np.abs(z).max(), np.abs(z).max()\n",
    "fig, ax = plt.subplots()\n",
    "c = ax.pcolormesh(x, y, z, cmap='RdBu', vmin=z_min, vmax=z_max)\n",
    "ax.set_title('neural network')\n",
    "ax.axis([x.min(), x.max(), y.min(), y.max()])\n",
    "fig.colorbar(c, ax=ax)\n",
    "\n",
    "plt.show()"
   ]
  },
  {
   "cell_type": "code",
   "execution_count": 8,
   "metadata": {},
   "outputs": [
    {
     "data": {
      "text/plain": [
       "<tf.Tensor: id=3175, shape=(), dtype=float64, numpy=0.04554283009035297>"
      ]
     },
     "execution_count": 8,
     "metadata": {},
     "output_type": "execute_result"
    }
   ],
   "source": [
    "#mean % error\n",
    "tf.reduce_mean(tf.abs(a.predict(p[0][...]) - p[1][...]))/tf.reduce_mean(tf.abs(p[1][...]))"
   ]
  },
  {
   "cell_type": "code",
   "execution_count": null,
   "metadata": {},
   "outputs": [],
   "source": [
    "#dummy model to test memory/compute time scaling when doing inference\n",
    "ntest2 = 160\n",
    "input_0 = Input(shape=(1,ntest2,ntest2,))\n",
    "conv_1_0 = Conv2D(filters = 5, kernel_size = 3, activation=tf.nn.leaky_relu, data_format='channels_first', padding='same')(input_0)\n",
    "\n",
    "conv_2_0 = Conv2D(filters = 8, kernel_size = 3, activation=tf.nn.leaky_relu, data_format='channels_first', padding='same')(conv_1_0)\n",
    "pool_2_0 = AveragePooling2D(data_format = 'channels_first')(conv_2_0)\n",
    "pool_2_1 = AveragePooling2D(data_format = 'channels_first')(pool_2_0)\n",
    "pool_2_2 = AveragePooling2D(data_format = 'channels_first')(pool_2_1)\n",
    "pool_2_3 = AveragePooling2D(pool_size=(4,4), data_format = 'channels_first')(pool_2_2)\n",
    "\n",
    "conv_3_0 = Conv2D(filters = 8, kernel_size = 3, activation=tf.nn.leaky_relu, data_format = 'channels_first', padding='same')(conv_2_0)\n",
    "conv_3_1 = Conv2D(filters = 8, kernel_size = 3, activation=tf.nn.leaky_relu, data_format = 'channels_first', padding='same')(pool_2_0)\n",
    "conv_3_2 = Conv2D(filters = 8, kernel_size = 3, activation=tf.nn.leaky_relu, data_format = 'channels_first', padding='same')(pool_2_1)\n",
    "conv_3_3 = Conv2D(filters = 8, kernel_size = 3, activation=tf.nn.leaky_relu, data_format = 'channels_first', padding='same')(pool_2_2)\n",
    "conv_3_4 = Conv2D(filters = 8, kernel_size = 1, activation=tf.nn.leaky_relu, data_format = 'channels_first', padding='same')(pool_2_3)\n",
    "upsample_3_1 = Upsample()(conv_3_1)\n",
    "upsample_3_2 = Upsample(4)(conv_3_2)\n",
    "upsample_3_3 = Upsample(8)(conv_3_3)\n",
    "upsample_3_4 = Upsample(32)(conv_3_4)\n",
    "merge_3_0 = Add()([conv_3_0, upsample_3_1, upsample_3_2, upsample_3_3, upsample_3_4])\n",
    "\n",
    "conv_4_0 = Conv2D(filters = 8, kernel_size = 1, activation = tf.nn.leaky_relu, data_format = 'channels_first', padding='same')(merge_3_0)\n",
    "\n",
    "conv_5_0 = Conv2D(filters = 1, kernel_size = 1, activation = tf.nn.leaky_relu, data_format = 'channels_first', padding='same')(conv_4_0)\n",
    "final_activation = tf.keras.layers.PReLU()(conv_5_0)\n",
    "c = Model(input_0, final_activation)"
   ]
  },
  {
   "cell_type": "code",
   "execution_count": null,
   "metadata": {},
   "outputs": [],
   "source": [
    "#neural network computation time\n",
    "import time\n",
    "g = tf.random.uniform((1,1,ntest2,ntest2),dtype=tf.float64)\n",
    "t0 = time.time()\n",
    "c.predict_on_batch(g)\n",
    "t1 = time.time()\n",
    "print(t1-t0)"
   ]
  },
  {
   "cell_type": "code",
   "execution_count": null,
   "metadata": {},
   "outputs": [],
   "source": [
    "#Cholesky decomposition computation time (time taken to do the decomposition not incl.)\n",
    "import time\n",
    "f = np.random.rand(1,1,ntest,ntest)\n",
    "lhs = tf.constant(poisson_matrix(ntest,ntest), dtype=tf.float64)\n",
    "lhs_chol = tf.expand_dims(tf.linalg.cholesky(lhs), axis=0)\n",
    "boundaries = {'top': boundary_top.RHS_evaluate(np.linspace(boundary_top.t.min(),boundary_top.t.max(),ntest)), 'right': boundary_right.RHS_evaluate(np.linspace(boundary_right.t.min(),boundary_right.t.max(),ntest)), 'bottom': boundary_bottom.RHS_evaluate(np.linspace(boundary_bottom.t.min(),boundary_bottom.t.max(),ntest)), 'left': boundary_left.RHS_evaluate(np.linspace(boundary_left.t.min(),boundary_left.t.max(),ntest))}\n",
    "t0 = time.time()\n",
    "rhs = tf.transpose(poisson_RHS((f,boundaries,h)),(0,2,1))\n",
    "tf.linalg.cholesky_solve(lhs_chol, rhs)\n",
    "t1 = time.time()\n",
    "print(t1-t0)"
   ]
  },
  {
   "cell_type": "code",
   "execution_count": null,
   "metadata": {},
   "outputs": [],
   "source": [
    "#successive overrelaxation\n",
    "f = np.random.rand(1,1,ntest2,ntest2)\n",
    "lhs = poisson_matrix(ntest2,ntest2)\n",
    "L = np.tril(lhs, k=1)\n",
    "D = np.diag(lhs) * np.eye(L.shape[0])\n",
    "Dinv = (np.diag(lhs)**-1) * np.eye(L.shape[0])\n",
    "U = np.triu(lhs, k=1)\n",
    "omega = 1.85\n",
    "gamma = 1\n",
    "P = tf.linalg.inv(tf.matmul(tf.matmul((D/omega + L),1/(2-omega) * Dinv),(D/omega + U)))\n",
    "xk = tf.random.uniform([L.shape[0],1], dtype=tf.float64)\n",
    "t0 = time.time()\n",
    "b = tf.squeeze(tf.transpose(poisson_RHS((f,boundaries,h)),(2,0,1)),axis = 2)\n",
    "eq_lhs = tf.matmul(lhs,xk)\n",
    "residual = eq_lhs - b\n",
    "while tf.reduce_sum(residual**2)>1e-3:\n",
    "    #print('Residual: ' + str(tf.reduce_sum(residual**2)))\n",
    "    xk = xk - gamma * tf.matmul(P,residual)\n",
    "    eq_lhs = tf.matmul(lhs,xk)\n",
    "    residual = eq_lhs - b\n",
    "t1 = time.time()\n",
    "print(t1-t0)"
   ]
  },
  {
   "cell_type": "code",
   "execution_count": null,
   "metadata": {},
   "outputs": [],
   "source": [
    "mod1 = Model(input_0, merge_3_0)\n",
    "mod2 = Model(input_0, merge_test)"
   ]
  },
  {
   "cell_type": "code",
   "execution_count": null,
   "metadata": {},
   "outputs": [],
   "source": [
    "timeit mod2.predict_on_batch(p[0])"
   ]
  },
  {
   "cell_type": "code",
   "execution_count": null,
   "metadata": {},
   "outputs": [],
   "source": [
    "timeit b.predict_on_batch(tf.expand_dims(p[0][0,...],axis=0))"
   ]
  },
  {
   "cell_type": "code",
   "execution_count": null,
   "metadata": {},
   "outputs": [],
   "source": [
    "ex = generate_random_RHS(1, n_controlpts = 10, n_outputpts = 64, s = 5, domain = [0,ntest*h,0,ntest*h])\n",
    "print(tf.reduce_min(ex))"
   ]
  },
  {
   "cell_type": "code",
   "execution_count": null,
   "metadata": {},
   "outputs": [],
   "source": [
    "#cll = conv_laplacian_loss((ntest,ntest),h)\n",
    "cll(b.predict(tf.ones((1,1,ntest,ntest), dtype=tf.keras.backend.floatx())),tf.ones((1,1,ntest,ntest), dtype=tf.keras.backend.floatx()))"
   ]
  },
  {
   "cell_type": "code",
   "execution_count": null,
   "metadata": {},
   "outputs": [],
   "source": [
    "#p = valid_data.make_one_shot_iterator().get_next()\n",
    "p_r = np.random.randint(0,batch_size)\n",
    "f = p[0][p_r,0,...]\n",
    "lower_bound = tf.reduce_min(f)\n",
    "upper_bound = tf.reduce_max(f)\n",
    "alpha = upper_bound-lower_bound\n",
    "d = lower_bound\n",
    "g = (f-d)/alpha\n",
    "print(tf.reduce_max(g))\n",
    "\n",
    "q = b.predict(tf.ones((1,1,ntest,ntest), dtype=tf.keras.backend.floatx()))\n",
    "s = b.predict(tf.expand_dims(tf.expand_dims(g, axis=0),axis=0))\n",
    "#alpha * s[0,0,...] + d * q[0,0,...]"
   ]
  },
  {
   "cell_type": "code",
   "execution_count": null,
   "metadata": {},
   "outputs": [],
   "source": [
    "#plotting\n",
    "# p = valid_data.make_one_shot_iterator().get_next()\n",
    "# p_r = np.random.randint(0,batch_size)\n",
    "y, x = np.meshgrid(np.linspace(0, ntest*h, ntest), np.linspace(0, ntest*h, ntest))\n",
    "z = p[1][p_r,0,...]\n",
    "z = alpha * s[0,0,...] + d * q[0,0,...]\n",
    "#z = q[0,0,...]\n",
    "#z = generate_random_RHS(10, n_controlpts=10, n_outputpts=64)[4,:,:]\n",
    "#z = alpha * s[0,0,...] + d * q[0,0,...] - p[1][p_r,0,...]\n",
    "z_min, z_max = -np.abs(z).max(), np.abs(z).max()\n",
    "fig, ax = plt.subplots()\n",
    "c = ax.pcolormesh(x, y, z, cmap='RdBu', vmin=z_min, vmax=z_max)\n",
    "ax.set_title('error')\n",
    "ax.axis([x.min(), x.max(), y.min(), y.max()])\n",
    "fig.colorbar(c, ax=ax)\n",
    "\n",
    "plt.show()"
   ]
  },
  {
   "cell_type": "code",
   "execution_count": 70,
   "metadata": {},
   "outputs": [],
   "source": []
  },
  {
   "cell_type": "code",
   "execution_count": 4,
   "metadata": {},
   "outputs": [],
   "source": [
    "from generate_analytical_soln import generate_analytical_solution_homogeneous_bc"
   ]
  },
  {
   "cell_type": "code",
   "execution_count": 52,
   "metadata": {},
   "outputs": [],
   "source": [
    "s = tf.stack([generate_analytical_solution_homogeneous_bc(rhs = 'random', domain = [ntest*h,ntest*h], nmodes=(16,16), output_shape=(64,64), max_random_magnitude=1.0) for n in range(200)])\n",
    "rhses = tf.expand_dims(s[:,0,...],axis=1)\n",
    "solns = tf.expand_dims(s[:,1,...],axis=1)"
   ]
  },
  {
   "cell_type": "code",
   "execution_count": 53,
   "metadata": {},
   "outputs": [],
   "source": [
    "from generate_dataset import poisson_matrix, poisson_RHS\n",
    "pm = poisson_matrix(ntest,ntest)\n",
    "pm_chol = tf.linalg.cholesky(pm)\n",
    "boundaries = {'top': boundary_top.RHS_evaluate(np.linspace(boundary_top.t.min(),boundary_top.t.max(),ntest)), 'right': boundary_right.RHS_evaluate(np.linspace(boundary_right.t.min(),boundary_right.t.max(),ntest)), 'bottom': boundary_bottom.RHS_evaluate(np.linspace(boundary_bottom.t.min(),boundary_bottom.t.max(),ntest)), 'left': boundary_left.RHS_evaluate(np.linspace(boundary_left.t.min(),boundary_left.t.max(),ntest))}\n",
    "rhs_vectors = tf.transpose(tf.squeeze(poisson_RHS([np.array(rhses), boundaries, h])), (1,0))\n",
    "from scipy.linalg import cho_solve\n",
    "soln_chol = np.zeros((200, 1, ntest, ntest), dtype = np.float64)\n",
    "soln_chol[...,:,0] = boundaries['top']\n",
    "soln_chol[...,:,-1] = boundaries['bottom']\n",
    "soln_chol[...,0,:] = boundaries['left']\n",
    "soln_chol[...,-1,:] = boundaries['right']\n",
    "soln_chol[...,1:-1,1:-1] = tf.expand_dims(tf.transpose(tf.reshape(cho_solve((np.array(pm_chol),True), rhs_vectors), (ntest-2, ntest-2, 200)),(2,0,1)),axis=1)"
   ]
  },
  {
   "cell_type": "code",
   "execution_count": 59,
   "metadata": {},
   "outputs": [
    {
     "name": "stdout",
     "output_type": "stream",
     "text": [
      "tf.Tensor(0.00018690334, shape=(), dtype=float32)\n",
      "tf.Tensor(2.9413111e-05, shape=(), dtype=float32)\n",
      "tf.Tensor(0.01069928433029463, shape=(), dtype=float64)\n",
      "tf.Tensor(0.003996059548515832, shape=(), dtype=float64)\n"
     ]
    }
   ],
   "source": [
    "print(tf.losses.mean_squared_error(solns, a(rhses)))\n",
    "print(tf.losses.mean_squared_error(solns, soln_chol))\n",
    "\n",
    "print(tf.reduce_mean(tf.keras.losses.mean_absolute_error(solns, a(rhses))))\n",
    "print(tf.reduce_mean(tf.keras.losses.mean_absolute_error(solns, soln_chol)))"
   ]
  },
  {
   "cell_type": "code",
   "execution_count": 57,
   "metadata": {},
   "outputs": [
    {
     "data": {
      "text/plain": [
       "<tf.Tensor: id=73570, shape=(), dtype=float64, numpy=-0.5555955536627951>"
      ]
     },
     "execution_count": 57,
     "metadata": {},
     "output_type": "execute_result"
    }
   ],
   "source": [
    "tf.reduce_min(solns)"
   ]
  },
  {
   "cell_type": "code",
   "execution_count": 42,
   "metadata": {},
   "outputs": [],
   "source": [
    "class integrator_nd:\n",
    "    def __init__(self, domain = [0,1,0,1], n_quadpts = 20):\n",
    "        ndims = len(domain)//2\n",
    "        quadrature_x, quadrature_w = tuple([np.polynomial.legendre.leggauss(n_quadpts)[i].astype(np.float64) for i in range(2)]) #quadrature weights and points\n",
    "        c = np.array([np.array(0.5*(domain[n+1] - domain[n]),dtype=np.float64) for n in range(0,len(domain),2)]) #scaling coefficients - for handling domains other than [-1,1] x [-1,1]\n",
    "        d = np.array([np.array(0.5*(domain[n+1] + domain[n]),dtype=np.float64) for n in range(0,len(domain),2)])\n",
    "        self.quadpts = tf.constant(np.apply_along_axis(lambda x: x + d, 0, np.einsum('i...,i->i...',np.array(np.meshgrid(*list(itertools.repeat(quadrature_x,ndims)),indexing = 'xy')),c)).transpose(list(np.arange(1,ndims+1)) + [0]),dtype = tf.float64)\n",
    "    \n",
    "        self.quadweights = np.prod(c)*quadrature_w\n",
    "    \n",
    "        for i in range(1,ndims):\n",
    "            self.quadweights = np.tensordot(self.quadweights,quadrature_w,axes=0)\n",
    "                                      \n",
    "    def __call__(self, f):\n",
    "        fi = f(*tf.unstack(self.quadpts, axis = -1))\n",
    "        return tf.reduce_sum(tf.multiply(self.quadweights,fi))\n",
    "\n",
    "def mode_coeff_calculation_multiprocessing_wrapper(args):\n",
    "    F = args[0]\n",
    "    domain_volume = args[1]\n",
    "    mplus1_pi_over_L = args[2]\n",
    "    integrator = args[3]\n",
    "    two_to_the_power_ndims = args[4]\n",
    "    \n",
    "    coefficients = []\n",
    "    for i in range(int(mplus1_pi_over_L.shape[0])):\n",
    "        integrand = lambda *vars: F(*vars) * tf.reduce_prod(tf.sin(np.einsum('i...,i->i...',np.stack(vars),mplus1_pi_over_L[i])),axis=0)\n",
    "        coefficients.append(-integrator(integrand) * tf.cast(two_to_the_power_ndims,tf.float64) / (tf.cast(domain_volume,tf.float64) * tf.reduce_sum(tf.square(mplus1_pi_over_L[i]))))\n",
    "    \n",
    "    return tf.constant(np.array(coefficients), dtype = tf.float64)\n",
    "\n",
    "def generate_analytical_solution_homogeneous_bc(rhs = 'random', output_shape = (64,64), nmodes = (16,16), domain = [1,1], random_function_bounds = [-1,1], ndims = 2, n_threads = 16, rhs_return = True, max_random_magnitude = np.inf):\n",
    "    #solution strategy as outlined in\n",
    "    #https://en.wikiversity.org/wiki/Partial_differential_equations/Poisson_Equation#Solution_to_Case_with_4_Homogeneous_Boundary_Conditions\n",
    "\n",
    "    coords = [np.linspace(0,domain[i], output_shape[i]) for i in range(len(output_shape))] #Evaluate coordinates along each axis\n",
    "    coord_meshes = np.array(np.meshgrid(*coords)) #Create meshgrid\n",
    "    ndims = len(domain) #No of dims of function\n",
    "    mode_permutations = np.array(list(itertools.product(*[np.arange(nmodes[i]) for i in range(len(nmodes))]))) #Every permutation of Fourier modes along different axes possible\n",
    "    mplus1_pi_over_L = np.einsum('j,ij->ij',1/np.array(domain),(mode_permutations + 1)*np.pi) #compute (m_i+1)*pi/L_i\n",
    "    sine_vals = np.prod(np.sin(np.einsum('ij,j...->ij...', mplus1_pi_over_L, coord_meshes)),axis=1) #sin((m_1+1)*pi*x_1/L_1) * ... * sin((m_n+1)*pi*x_n/L_n))\n",
    "    \n",
    "    if rhs == 'random': #Generate random Fourier coefficients for a random RHS\n",
    "        #For an n dimensional RHS function F(x_1,...x_n) = \\sum_{m_1,...,m_n} (A_{m_1,...,m_n} * sin((m_1+1)*pi*x_1/L_1) * ... * sin((m_n+1)*pi*x_n/L_n))\n",
    "        #\\int_0^{L_n} ... \\int_0^{L_1} F * sin((m_1+1)*pi*x_1/L_1) * ... * sin((m_n+1)*pi*x_n/L_n) dx_1 ... dx_n = A*L_1*...*L_n/2^n\n",
    "        #Thus the solution to the Poisson equation \\nabla^2 u = F will be u = a_{m_1,...,m_n} * sin((m_1+1)*pi*x_1/L_1) * ... * sin((m_n+1)*pi*x_n/L_n))\n",
    "        #where a_{m_1,...,m_n} = -A_{m_1,...,m_n} * /(((m_1+1)*pi/L_1)^2+...+((m_n+1)*pi/L_n)^2)\n",
    "        rhs_function_coeffs = tf.multiply(2*tf.random.uniform(tf.stack([mode_permutations.shape[0]]),dtype = tf.float64)-1,tf.exp(-tf.reduce_sum(tf.cast(mode_permutations, tf.float64),axis=1))) #Random RHS function Fourier coefficients\n",
    "        soln_function_coeffs = -tf.divide(rhs_function_coeffs, tf.reduce_sum(tf.square(mplus1_pi_over_L),axis=1)) #Random solution Fourier coefficients\n",
    "        \n",
    "        rhs = np.einsum('i,i...->...', rhs_function_coeffs, sine_vals)\n",
    "        soln = np.einsum('i,i...->...', soln_function_coeffs, sine_vals)\n",
    "        #import pdb\n",
    "        #pdb.set_trace()\n",
    "        if max_random_magnitude != np.inf:\n",
    "            scaling_factor = max_random_magnitude/tf.reduce_max(tf.abs(rhs))\n",
    "            rhs = rhs * scaling_factor\n",
    "            soln = soln * scaling_factor\n",
    "            \n",
    "        if rhs_return:\n",
    "            return rhs, soln\n",
    "        else:\n",
    "            return soln\n",
    "        \n",
    "    elif callable(rhs):\n",
    "        if np.prod(nmodes) % n_threads != 0:\n",
    "            raise(ValueError('n_threads must divide reduce_prod(nmodes)'))\n",
    "        \n",
    "        pool = ThreadPool(n_threads) \n",
    "        full_domain = np.zeros((len(domain)*2)) #add lower bound 0s to domain argument for compatibility with integrate_nd\n",
    "        full_domain[1::2] += np.array(domain)\n",
    "        \n",
    "        itg = integrator_nd(domain = full_domain)\n",
    "        \n",
    "        soln_function_coeffs = tf.concat(list(map(mode_coeff_calculation_multiprocessing_wrapper, zip(itertools.repeat(rhs,n_threads), itertools.repeat(tf.reduce_prod(domain),n_threads), tf.split(mplus1_pi_over_L, n_threads, axis=0), itertools.repeat(itg,n_threads), itertools.repeat(2**ndims,n_threads)))),axis=0)\n",
    "        \n",
    "        if rhs_return:\n",
    "            return rhs(*coord_meshes), np.einsum('i,i...->...', soln_function_coeffs, sine_vals)\n",
    "        else:\n",
    "            return np.einsum('i,i...->...', soln_function_coeffs, sine_vals)\n",
    "    else:\n",
    "        raise(TypeError('rhs must either be a callable function to be evaluated or random'))"
   ]
  }
 ],
 "metadata": {
  "kernelspec": {
   "display_name": "py3.6",
   "language": "python",
   "name": "py3.6"
  },
  "language_info": {
   "codemirror_mode": {
    "name": "ipython",
    "version": 3
   },
   "file_extension": ".py",
   "mimetype": "text/x-python",
   "name": "python",
   "nbconvert_exporter": "python",
   "pygments_lexer": "ipython3",
   "version": "3.6.7"
  }
 },
 "nbformat": 4,
 "nbformat_minor": 2
}
