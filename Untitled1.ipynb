{
 "cells": [
  {
   "cell_type": "code",
   "execution_count": 1,
   "metadata": {},
   "outputs": [],
   "source": [
    "import tensorflow as tf\n",
    "import numpy as np\n",
    "import copy\n",
    "tf.keras.backend.set_floatx('float64')"
   ]
  },
  {
   "cell_type": "code",
   "execution_count": null,
   "metadata": {},
   "outputs": [],
   "source": [
    "class SpatialPyramidPool(tf.keras.layers.Layer):\n",
    "    def __init__(self, levels, data_format = 'channels_first', pooling_type = 'AVG' ,**kwargs):\n",
    "        super().__init__(**kwargs)\n",
    "        self.maxdims = 3\n",
    "        self.data_format = data_format\n",
    "        self.pooling_type = pooling_type\n",
    "        self.levels = levels\n",
    "        #self.data_format = data_format\n",
    "        self.ndims = None\n",
    "        #check if all SPP levels have the same number of dimensions, fix dimensions along which only ints were given\n",
    "        level_dimensionalities = []\n",
    "        for level in self.levels:\n",
    "            try:\n",
    "                level_dimensionalities.append(len(level))\n",
    "            except:\n",
    "                level_dimensionalities.append(0)\n",
    "        level_dimensionalities = np.array(level_dimensionalities)\n",
    "        if np.all(level_dimensionalities == 0):\n",
    "            print('Spatial Pyramid Pooling Layer Warning: Input dimensionality can not be inferred. This can negatively impact performance.')\n",
    "            return    \n",
    "        elif np.any(level_dimensionalities[level_dimensionalities!=0] != level_dimensionalities[level_dimensionalities !=0][0]):\n",
    "            raise(ValueError('Dimension number mismatch in the provided level output shapes'))\n",
    "        else:\n",
    "            self.ndims = level_dimensionalities[level_dimensionalities != 0][0]\n",
    "            for i in range(len(self.levels)):\n",
    "                if isinstance(self.levels[i], int):\n",
    "                    s = int(self.levels[i])\n",
    "                    self.levels[i] = [s for i in range(self.ndims)]\n",
    "            if self.ndims > self.maxdims:\n",
    "                raise(ValueError('ndims must be between 1 and ' + str(self.maxdims)))\n",
    "            elif self.data_format == 'channels_first':\n",
    "                self.data_format = 'NC' + 'DHW'[(self.maxdims-self.ndims):]\n",
    "            else:\n",
    "                self.data_format = 'N' + 'DHW'[(self.maxdims-self.ndims):] + 'C'\n",
    "\n",
    "    def call(self, inp):\n",
    "        if self.ndims == None: #build the pooling levels based on input shape if not already determined\n",
    "            ndims = len(inp.shape) - 2\n",
    "            levels = []\n",
    "            for i in range(len(self.levels)):\n",
    "                s = int(self.levels[i])\n",
    "                levels.append([s for i in range(ndims)])\n",
    "            if ndims > self.maxdims:\n",
    "                raise(ValueError('ndims must be between 1 and ' + str(self.maxdims)))\n",
    "            elif self.data_format == 'channels_first':\n",
    "                data_format = 'NC' + 'DHW'[(self.maxdims-ndims):]\n",
    "            else:\n",
    "                data_format = 'N' + 'DHW'[(self.maxdims-ndims):] + 'C'\n",
    "        else:\n",
    "            data_format = self.data_format\n",
    "            levels = self.levels\n",
    "            ndims = self.ndims\n",
    "\n",
    "        for i in range(len(levels)):\n",
    "            if self.data_format == 'channels_first':\n",
    "                windowshape = [inp.shape[2+k]//levels[i][k] for k in range(ndims)]\n",
    "            else:\n",
    "                windowshape = [inp.shape[1+k]//levels[i][k] for k in range(ndims)]\n",
    "            #print(windowshape)\n",
    "            try:\n",
    "                print(out.shape)\n",
    "                out = tf.concat([out, tf.reshape(tf.nn.pool(inp, window_shape=windowshape, strides=windowshape, pooling_type=self.pooling_type, padding = 'VALID', data_format=data_format), [-1])],0)\n",
    "            except:\n",
    "                out = tf.reshape(tf.nn.pool(inp, window_shape=windowshape, strides=windowshape, pooling_type=self.pooling_type, padding = 'VALID', data_format=data_format), [-1])\n",
    "        return out\n",
    "        #for level in levels:\n",
    "        #return tf.nn.pool(inp, windowshape)"
   ]
  },
  {
   "cell_type": "code",
   "execution_count": null,
   "metadata": {},
   "outputs": [],
   "source": [
    "a = SpatialPyramidPool([3,4,5])\n",
    "print(a(tf.random.uniform((1,1,20,20))))"
   ]
  },
  {
   "cell_type": "code",
   "execution_count": null,
   "metadata": {},
   "outputs": [],
   "source": [
    "nx = 316\n",
    "ny = 258\n",
    "testinp = tf.random.uniform((1,1,nx,ny))\n",
    "outputshape = (4,4)\n",
    "windowshape = (nx//outputshape[0], ny//outputshape[1])\n",
    "tf.nn.pool(testinp, window_shape=windowshape, strides = windowshape, pooling_type='AVG', padding='VALID', data_format='NCHW')"
   ]
  },
  {
   "cell_type": "code",
   "execution_count": 2,
   "metadata": {},
   "outputs": [],
   "source": [
    "npts = [64,64]\n",
    "testinp = tf.random.uniform([1,1]+npts)\n",
    "outputshape = (3,3)\n",
    "windowshape = [tf.math.ceil(npts[i]/outputshape[i]) for i in range(len(npts))]\n",
    "#print(windowshape)\n",
    "#print(tf.nn.pool(testinp, window_shape=windowshape, strides = windowshape, pooling_type='AVG', padding='SAME', data_format='NCHW'))"
   ]
  },
  {
   "cell_type": "code",
   "execution_count": null,
   "metadata": {},
   "outputs": [],
   "source": []
  },
  {
   "cell_type": "code",
   "execution_count": 2,
   "metadata": {},
   "outputs": [],
   "source": [
    "from Homogeneous_Poisson_NN import Homogeneous_Poisson_NN_3\n",
    "mod = Homogeneous_Poisson_NN_3()"
   ]
  },
  {
   "cell_type": "code",
   "execution_count": 3,
   "metadata": {},
   "outputs": [
    {
     "name": "stdout",
     "output_type": "stream",
     "text": [
      "(3, 8, 64, 64)\n",
      "(3, 2160)\n"
     ]
    },
    {
     "data": {
      "text/plain": [
       "<tf.Variable 'homogeneous__poisson_nn_3/Variable:0' shape=(3, 1, 64, 64) dtype=float64, numpy=\n",
       "array([[[[ 0.00000000e+00,  0.00000000e+00,  0.00000000e+00, ...,\n",
       "           0.00000000e+00,  0.00000000e+00,  0.00000000e+00],\n",
       "         [ 0.00000000e+00,  4.08022966e-01, -1.10282320e+00, ...,\n",
       "          -2.57415936e+00, -2.65418614e+00,  1.63980596e-15],\n",
       "         [ 0.00000000e+00,  6.97369835e-01, -1.61352941e+00, ...,\n",
       "          -2.91351594e+00, -3.26294424e+00, -2.51771090e-15],\n",
       "         ...,\n",
       "         [ 0.00000000e+00,  5.82672213e-01, -6.77348893e-01, ...,\n",
       "          -5.53987949e-01, -1.36006486e+00, -6.66825860e-15],\n",
       "         [ 0.00000000e+00,  1.66034478e+00,  5.32380383e-01, ...,\n",
       "          -2.18873529e+00, -2.50686167e+00, -3.98824431e-15],\n",
       "         [ 0.00000000e+00,  6.98603345e-15,  1.01651385e-14, ...,\n",
       "          -1.02388967e-14, -1.12610462e-14, -1.96386598e-29]]],\n",
       "\n",
       "\n",
       "       [[[ 0.00000000e+00,  0.00000000e+00,  0.00000000e+00, ...,\n",
       "           0.00000000e+00,  0.00000000e+00,  0.00000000e+00],\n",
       "         [ 0.00000000e+00,  2.01638928e-01, -7.78646748e-01, ...,\n",
       "          -1.44874185e+00, -1.50666600e+00,  1.07030480e-15],\n",
       "         [ 0.00000000e+00,  3.92675647e-01, -1.05375597e+00, ...,\n",
       "          -1.63407534e+00, -1.84183835e+00, -9.70683827e-16],\n",
       "         ...,\n",
       "         [ 0.00000000e+00,  3.85249783e-01, -2.57883426e-01, ...,\n",
       "          -4.20964612e-01, -8.01262632e-01, -4.01130226e-15],\n",
       "         [ 0.00000000e+00,  9.80886751e-01,  4.63886805e-01, ...,\n",
       "          -1.33569126e+00, -1.43023869e+00, -2.28922886e-15],\n",
       "         [ 0.00000000e+00,  4.13879152e-15,  6.53412738e-15, ...,\n",
       "          -5.39965857e-15, -5.85971645e-15, -1.32339538e-29]]],\n",
       "\n",
       "\n",
       "       [[[ 0.00000000e+00,  0.00000000e+00,  0.00000000e+00, ...,\n",
       "           0.00000000e+00,  0.00000000e+00,  0.00000000e+00],\n",
       "         [ 0.00000000e+00,  7.20376648e-01, -1.89088906e+00, ...,\n",
       "          -4.96980597e+00, -5.04150395e+00,  3.08913222e-15],\n",
       "         [ 0.00000000e+00,  1.26141159e+00, -2.87942569e+00, ...,\n",
       "          -5.60594238e+00, -6.21713810e+00, -5.49848851e-15],\n",
       "         ...,\n",
       "         [ 0.00000000e+00,  1.06436668e+00, -1.41442546e+00, ...,\n",
       "          -8.38689960e-01, -2.51021270e+00, -1.28117579e-14],\n",
       "         [ 0.00000000e+00,  3.18034164e+00,  8.21619982e-01, ...,\n",
       "          -4.11621356e+00, -4.85719992e+00, -8.41447960e-15],\n",
       "         [ 0.00000000e+00,  1.28105014e-14,  1.81983023e-14, ...,\n",
       "          -2.11036897e-14, -2.32021691e-14, -3.88570874e-29]]]])>"
      ]
     },
     "execution_count": 3,
     "metadata": {},
     "output_type": "execute_result"
    }
   ],
   "source": [
    "mod([tf.random.uniform((3,1,64,64), dtype = tf.keras.backend.floatx()), tf.random.uniform((3,1), dtype = tf.keras.backend.floatx())])"
   ]
  },
  {
   "cell_type": "code",
   "execution_count": null,
   "metadata": {},
   "outputs": [],
   "source": [
    "((3*tf.random.uniform((5,5)))//tf.random.uniform((5,5))).shape+2"
   ]
  }
 ],
 "metadata": {
  "kernelspec": {
   "display_name": "Python 3",
   "language": "python",
   "name": "python3"
  },
  "language_info": {
   "codemirror_mode": {
    "name": "ipython",
    "version": 3
   },
   "file_extension": ".py",
   "mimetype": "text/x-python",
   "name": "python",
   "nbconvert_exporter": "python",
   "pygments_lexer": "ipython3",
   "version": "3.7.3"
  }
 },
 "nbformat": 4,
 "nbformat_minor": 2
}
